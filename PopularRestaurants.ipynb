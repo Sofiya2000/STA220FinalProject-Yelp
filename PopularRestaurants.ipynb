{
 "cells": [
  {
   "cell_type": "code",
   "execution_count": 1,
   "metadata": {},
   "outputs": [],
   "source": [
    "import warnings\n",
    "warnings.filterwarnings('ignore')"
   ]
  },
  {
   "cell_type": "code",
   "execution_count": 11,
   "metadata": {},
   "outputs": [],
   "source": [
    "import pandas as pd"
   ]
  },
  {
   "cell_type": "code",
   "execution_count": 2,
   "metadata": {},
   "outputs": [],
   "source": [
    "import requests\n",
    "import json\n",
    "from lxml import html as lx\n",
    "import requests\n",
    "from lxml import html as lx\n",
    "from bs4 import BeautifulSoup\n",
    "import time"
   ]
  },
  {
   "cell_type": "code",
   "execution_count": 3,
   "metadata": {},
   "outputs": [],
   "source": [
    "def top(response):\n",
    "    restaurants = response['businesses']\n",
    "    sorted_restaurants = sorted(restaurants, key=lambda x: (x['review_count'], x['rating']), reverse=True)\n",
    "    num_to_retrieve = min(50, len(sorted_restaurants))\n",
    "    top_restaurants = sorted_restaurants[::num_to_retrieve]\n",
    "    return top_restaurants"
   ]
  },
  {
   "cell_type": "code",
   "execution_count": 4,
   "metadata": {},
   "outputs": [],
   "source": [
    "api_key = \"4tKFUKIdj27BpSP-iUAUaJe7je2yLymKRDLjxDszvZHhckF_JPMJG21w6ubt5t0fk3tWpSSlk3tzZ8Olm_v0TV54JOU0dxF4S3U5CAvTiQGZHmKz_9_zziu8jT7tZXYx\""
   ]
  },
  {
   "cell_type": "code",
   "execution_count": 6,
   "metadata": {},
   "outputs": [],
   "source": [
    "# function without pagination\n",
    "\n",
    "all_cuisine_resturant_data = []\n",
    "locations = [\"New York City, NY\", \"Queens, NY\", 'Los Angeles, CA', 'San Francisco, CA', 'Chicago, IL', 'Houston, TX', 'Philadelphia, PA', 'Phoenix, AZ', 'San Antonio, TX', 'San Diego, CA', 'Dallas, TX', 'San Jose, CA', 'Austin, TX', 'Jacksonville, FL', 'Indianapolis, IN', 'Columbus, OH', 'Fort Worth, TX', 'Charlotte, NC', 'Seattle, WA', 'Denver, CO', 'El Paso, TX', 'Detroit, MI', 'Washington, DC', 'Boston, MA', 'Memphis, TN', 'Nashville, TN', 'Portland, OR', 'Oklahoma City, OK', 'Las Vegas, NV', 'Baltimore, MD', 'Louisville, KY', 'Milwaukee, WI', 'Albuquerque, NM', 'Tucson, AZ', 'Fresno, CA', 'Sacramento, CA', 'Kansas City, MO', 'Long Beach, CA', 'Mesa, AZ', 'Atlanta, GA', 'Colorado Springs, CO', 'Virginia Beach, VA', 'Raleigh, NC', 'Omaha, NE', 'Miami, FL', 'Oakland, CA', 'Minneapolis, MN', 'Tulsa, OK', 'Wichita, KS', 'New Orleans, LA', 'Arlington, TX']\n",
    "desired_categories = [\"indpak\", \"italian\", \"mexican\", \"chinese\", \"japanese\"]\n",
    "for location in locations:\n",
    "    for category in desired_categories:\n",
    "        try:\n",
    "            url = \"https://api.yelp.com/v3/businesses/search\"\n",
    "            headers = {\"accept\": \"application/json\", 'Authorization': f'Bearer {api_key}'}\n",
    "            params = {\n",
    "                \"location\": {location},\n",
    "                \"term\": \"restaurants\",  # Example term for searching restaurants\n",
    "                \"categories\": {category}\n",
    "            }\n",
    "            response = requests.get(url, headers=headers, params=params)\n",
    "            restaurants_data = response.json()\n",
    "            top_restaurants = top(restaurants_data)\n",
    "            all_cuisine_resturant_data.append(top_restaurants)\n",
    "        except:\n",
    "            print(f\"Could not Fetch data for {category}, {location}\")"
   ]
  },
  {
   "cell_type": "code",
   "execution_count": 7,
   "metadata": {},
   "outputs": [
    {
     "data": {
      "text/plain": [
       "255"
      ]
     },
     "execution_count": 7,
     "metadata": {},
     "output_type": "execute_result"
    }
   ],
   "source": [
    "len(all_cuisine_resturant_data)"
   ]
  },
  {
   "cell_type": "code",
   "execution_count": 8,
   "metadata": {},
   "outputs": [],
   "source": [
    "# #trying for one location\n",
    "# import requests\n",
    "# url = \"https://api.yelp.com/v3/businesses/search\"\n",
    "# headers = {\"accept\": \"application/json\", 'Authorization': f'Bearer {api_key}'}\n",
    "# params = {\n",
    "#     \"location\": \"Long Beach, CA\",\n",
    "#     \"term\": \"restaurants\",  # Example term for searching restaurants\n",
    "#     \"categories\": \"chinese\"\n",
    "# }\n",
    "# response = requests.get(url, headers=headers, params=params)\n",
    "# restaurants_data = response.json()\n",
    "# restaurants_data"
   ]
  },
  {
   "cell_type": "markdown",
   "metadata": {},
   "source": [
    "USING PAGINATION"
   ]
  },
  {
   "cell_type": "code",
   "execution_count": 9,
   "metadata": {},
   "outputs": [],
   "source": [
    "# def fetch_restaurants(api_key, location, category, offset=0, limit=50):\n",
    "#     url = \"https://api.yelp.com/v3/businesses/search\"\n",
    "#     headers = {\"accept\": \"application/json\", 'Authorization': f'Bearer {api_key}'}\n",
    "#     params = {\n",
    "#         \"location\": location,\n",
    "#         \"term\": \"restaurants\",\n",
    "#         \"categories\": category,\n",
    "#         \"offset\": offset,\n",
    "#         \"limit\": limit\n",
    "#     }\n",
    "#     response = requests.get(url, headers=headers, params=params)\n",
    "#     if response.status_code == 200:\n",
    "#         return response.json()\n",
    "#     else:\n",
    "#         response.raise_for_status()\n"
   ]
  },
  {
   "cell_type": "code",
   "execution_count": 22,
   "metadata": {},
   "outputs": [],
   "source": [
    "# def fetch_all_restaurants(api_key, locations, categories):\n",
    "#     all_cuisine_restaurant_data = []\n",
    "#     for location in locations:\n",
    "#         for category in categories:\n",
    "#             offset = 0\n",
    "#             limit =    # Set the desired number of results per request\n",
    "#             try:\n",
    "#                 while True:\n",
    "#                     print(f\"Fetching data for {category} in {location}, offset={offset}\")\n",
    "#                     restaurants_data = fetch_restaurants(api_key, location, category, offset=offset, limit=limit)\n",
    "                    \n",
    "#                     if not restaurants_data['businesses']:\n",
    "#                         break  # No more results to fetch\n",
    "                    \n",
    "#                     top_restaurants = top(restaurants_data)\n",
    "#                     all_cuisine_restaurant_data.append(top_restaurants)\n",
    "                    \n",
    "#                     offset += limit  # Move to the next set of results\n",
    "#                     time.sleep(5)\n",
    "#             except Exception as e:\n",
    "#                 print(f\"Could not fetch data for {category}, {location}. Error: {e}\")\n",
    "#     return all_cuisine_restaurant_data"
   ]
  },
  {
   "cell_type": "code",
   "execution_count": 10,
   "metadata": {},
   "outputs": [],
   "source": [
    "# locations = [\"New York City, NY\", \"Queens, NY\", 'Los Angeles, CA', 'San Francisco, CA', 'Chicago, IL', 'Houston, TX', 'Philadelphia, PA', 'Phoenix, AZ', 'San Antonio, TX', 'San Diego, CA', 'Dallas, TX', 'San Jose, CA', 'Austin, TX', 'Jacksonville, FL', 'Indianapolis, IN', 'Columbus, OH', 'Fort Worth, TX', 'Charlotte, NC', 'Seattle, WA', 'Denver, CO', 'El Paso, TX', 'Detroit, MI', 'Washington, DC', 'Boston, MA', 'Memphis, TN', 'Nashville, TN', 'Portland, OR', 'Oklahoma City, OK', 'Las Vegas, NV', 'Baltimore, MD', 'Louisville, KY', 'Milwaukee, WI', 'Albuquerque, NM', 'Tucson, AZ', 'Fresno, CA', 'Sacramento, CA', 'Kansas City, MO', 'Long Beach, CA', 'Mesa, AZ', 'Atlanta, GA', 'Colorado Springs, CO', 'Virginia Beach, VA', 'Raleigh, NC', 'Omaha, NE', 'Miami, FL', 'Oakland, CA', 'Minneapolis, MN', 'Tulsa, OK', 'Wichita, KS', 'New Orleans, LA', 'Arlington, TX']\n",
    "# desired_categories = [\"indpak\", \"italian\", \"mexican\", \"chinese\", \"japanese\"]\n",
    "# all_data1 = fetch_all_restaurants(api_key, locations, desired_categories)"
   ]
  },
  {
   "cell_type": "code",
   "execution_count": 13,
   "metadata": {},
   "outputs": [
    {
     "name": "stdout",
     "output_type": "stream",
     "text": [
      "Combined data saved to '/Users/apoorvashete/Desktop/STA220FinalProject-Yelp/restaurants_data/popular_restaurants.csv'\n"
     ]
    }
   ],
   "source": [
    "# Combine all data into a single DataFrame\n",
    "combined_df = pd.concat([pd.DataFrame(data) for data in all_cuisine_resturant_data], ignore_index=True)\n",
    "# Save the DataFrame to a CSV file\n",
    "output_csv_path = \"/Users/apoorvashete/Desktop/STA220FinalProject-Yelp/restaurants_data/popular_restaurants.csv\"\n",
    "combined_df.to_csv(output_csv_path, index=False)\n",
    "print(f\"Combined data saved to '{output_csv_path}'\")"
   ]
  },
  {
   "cell_type": "code",
   "execution_count": 14,
   "metadata": {},
   "outputs": [
    {
     "data": {
      "text/plain": [
       "(255, 16)"
      ]
     },
     "execution_count": 14,
     "metadata": {},
     "output_type": "execute_result"
    }
   ],
   "source": [
    "combined_df.shape"
   ]
  },
  {
   "cell_type": "code",
   "execution_count": null,
   "metadata": {},
   "outputs": [],
   "source": []
  }
 ],
 "metadata": {
  "kernelspec": {
   "display_name": "Python 3",
   "language": "python",
   "name": "python3"
  },
  "language_info": {
   "codemirror_mode": {
    "name": "ipython",
    "version": 3
   },
   "file_extension": ".py",
   "mimetype": "text/x-python",
   "name": "python",
   "nbconvert_exporter": "python",
   "pygments_lexer": "ipython3",
   "version": "3.9.6"
  }
 },
 "nbformat": 4,
 "nbformat_minor": 2
}
