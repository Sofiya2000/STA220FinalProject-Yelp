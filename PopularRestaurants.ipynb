{
 "cells": [
  {
   "cell_type": "markdown",
   "metadata": {},
   "source": [
    "In this notebook we have collected the data for the selected categories and the selected locations. But we have sorted the resturants as per the reviews and ratings and selected only the top 15 restaurants for every category and location "
   ]
  },
  {
   "cell_type": "code",
   "execution_count": 1,
   "metadata": {},
   "outputs": [],
   "source": [
    "import warnings\n",
    "warnings.filterwarnings('ignore')"
   ]
  },
  {
   "cell_type": "code",
   "execution_count": 11,
   "metadata": {},
   "outputs": [],
   "source": [
    "import pandas as pd"
   ]
  },
  {
   "cell_type": "code",
   "execution_count": 2,
   "metadata": {},
   "outputs": [],
   "source": [
    "import requests\n",
    "import json\n",
    "from lxml import html as lx\n",
    "import requests\n",
    "from lxml import html as lx\n",
    "from bs4 import BeautifulSoup\n",
    "import time"
   ]
  },
  {
   "cell_type": "code",
   "execution_count": 3,
   "metadata": {},
   "outputs": [],
   "source": [
    "def top(response):\n",
    "    restaurants = response['businesses']\n",
    "    sorted_restaurants = sorted(restaurants, key=lambda x: (x['review_count'], x['rating']), reverse=True)\n",
    "    num_to_retrieve = min(50, len(sorted_restaurants))\n",
    "    top_restaurants = sorted_restaurants[::num_to_retrieve]\n",
    "    return top_restaurants"
   ]
  },
  {
   "cell_type": "code",
   "execution_count": null,
   "metadata": {},
   "outputs": [],
   "source": [
    "#storing the API key\n",
    "def get_api_key(keyfile):\n",
    "    with open(keyfile) as fh:\n",
    "        return fh.readline().strip('\\n')"
   ]
  },
  {
   "cell_type": "code",
   "execution_count": 4,
   "metadata": {},
   "outputs": [],
   "source": [
    "api_key = get_api_key('keys/yelp.txt')"
   ]
  },
  {
   "cell_type": "code",
   "execution_count": 6,
   "metadata": {},
   "outputs": [],
   "source": [
    "# function without pagination\n",
    "\n",
    "all_cuisine_resturant_data = []\n",
    "locations = [\"New York City, NY\", \"Queens, NY\", 'Los Angeles, CA', 'San Francisco, CA', 'Chicago, IL', 'Houston, TX', 'Philadelphia, PA', 'Phoenix, AZ', 'San Antonio, TX', 'San Diego, CA', 'Dallas, TX', 'San Jose, CA', 'Austin, TX', 'Jacksonville, FL', 'Indianapolis, IN', 'Columbus, OH', 'Fort Worth, TX', 'Charlotte, NC', 'Seattle, WA', 'Denver, CO', 'El Paso, TX', 'Detroit, MI', 'Washington, DC', 'Boston, MA', 'Memphis, TN', 'Nashville, TN', 'Portland, OR', 'Oklahoma City, OK', 'Las Vegas, NV', 'Baltimore, MD', 'Louisville, KY', 'Milwaukee, WI', 'Albuquerque, NM', 'Tucson, AZ', 'Fresno, CA', 'Sacramento, CA', 'Kansas City, MO', 'Long Beach, CA', 'Mesa, AZ', 'Atlanta, GA', 'Colorado Springs, CO', 'Virginia Beach, VA', 'Raleigh, NC', 'Omaha, NE', 'Miami, FL', 'Oakland, CA', 'Minneapolis, MN', 'Tulsa, OK', 'Wichita, KS', 'New Orleans, LA', 'Arlington, TX']\n",
    "desired_categories = [\"indpak\", \"italian\", \"mexican\", \"chinese\", \"japanese\"]\n",
    "for location in locations:\n",
    "    for category in desired_categories:\n",
    "        try:\n",
    "            url = \"https://api.yelp.com/v3/businesses/search\"\n",
    "            headers = {\"accept\": \"application/json\", 'Authorization': f'Bearer {api_key}'}\n",
    "            params = {\n",
    "                \"location\": {location},\n",
    "                \"term\": \"restaurants\",  # Example term for searching restaurants\n",
    "                \"categories\": {category}\n",
    "            }\n",
    "            response = requests.get(url, headers=headers, params=params)\n",
    "            restaurants_data = response.json()\n",
    "            top_restaurants = top(restaurants_data)\n",
    "            all_cuisine_resturant_data.append(top_restaurants)\n",
    "        except:\n",
    "            print(f\"Could not Fetch data for {category}, {location}\")"
   ]
  },
  {
   "cell_type": "code",
   "execution_count": 7,
   "metadata": {},
   "outputs": [
    {
     "data": {
      "text/plain": [
       "255"
      ]
     },
     "execution_count": 7,
     "metadata": {},
     "output_type": "execute_result"
    }
   ],
   "source": [
    "len(all_cuisine_resturant_data)"
   ]
  },
  {
   "cell_type": "code",
   "execution_count": 13,
   "metadata": {},
   "outputs": [
    {
     "name": "stdout",
     "output_type": "stream",
     "text": [
      "Combined data saved to '/Users/apoorvashete/Desktop/STA220FinalProject-Yelp/restaurants_data/popular_restaurants.csv'\n"
     ]
    }
   ],
   "source": [
    "# Combine all data into a single DataFrame\n",
    "combined_df = pd.concat([pd.DataFrame(data) for data in all_cuisine_resturant_data], ignore_index=True)\n",
    "# Save the DataFrame to a CSV file\n",
    "output_csv_path = \"/Users/apoorvashete/Desktop/STA220FinalProject-Yelp/restaurants_data/popular_restaurants.csv\"\n",
    "combined_df.to_csv(output_csv_path, index=False)\n",
    "print(f\"Combined data saved to '{output_csv_path}'\")"
   ]
  },
  {
   "cell_type": "code",
   "execution_count": 14,
   "metadata": {},
   "outputs": [
    {
     "data": {
      "text/plain": [
       "(255, 16)"
      ]
     },
     "execution_count": 14,
     "metadata": {},
     "output_type": "execute_result"
    }
   ],
   "source": [
    "combined_df.shape"
   ]
  },
  {
   "cell_type": "code",
   "execution_count": null,
   "metadata": {},
   "outputs": [],
   "source": []
  }
 ],
 "metadata": {
  "kernelspec": {
   "display_name": "Python 3",
   "language": "python",
   "name": "python3"
  },
  "language_info": {
   "codemirror_mode": {
    "name": "ipython",
    "version": 3
   },
   "file_extension": ".py",
   "mimetype": "text/x-python",
   "name": "python",
   "nbconvert_exporter": "python",
   "pygments_lexer": "ipython3",
   "version": "3.9.6"
  }
 },
 "nbformat": 4,
 "nbformat_minor": 2
}
