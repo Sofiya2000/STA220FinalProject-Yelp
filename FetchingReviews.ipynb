{
 "cells": [
  {
   "cell_type": "markdown",
   "metadata": {},
   "source": [
    "Intially, the reviews data that is used is the data fetched using the Yelp reviews API endpoint. This API however only returns the top 3 reviews sorted using yelp_sort for every restuarant provided the business id. Extracting information and perfoming analysis on this data is not very useful. So we proceeded to extract the reviews for every resturant in the list of our selected retaurants (as per locations and categories) from the Yelp website. This notebook has the code for extracting the Reviews for each restuarnt from the Yelp website."
   ]
  },
  {
   "cell_type": "code",
   "execution_count": 1,
   "metadata": {},
   "outputs": [],
   "source": [
    "import warnings\n",
    "warnings.filterwarnings('ignore')"
   ]
  },
  {
   "cell_type": "code",
   "execution_count": 2,
   "metadata": {},
   "outputs": [],
   "source": [
    "import requests\n",
    "from bs4 import BeautifulSoup\n",
    "from urllib.parse import urljoin\n",
    "from tqdm import tqdm\n",
    "import json\n",
    "import matplotlib.pyplot as plt\n",
    "import matplotlib.pyplot as plt\n",
    "from matplotlib.patches import Patch\n",
    "import numpy as np\n",
    "import re"
   ]
  },
  {
   "cell_type": "code",
   "execution_count": 3,
   "metadata": {},
   "outputs": [],
   "source": [
    "#retrieving all listed world entities\n",
    "from selenium import webdriver\n",
    "from selenium.webdriver.common.by import By\n",
    "from selenium.webdriver.chrome.service import Service\n",
    "from webdriver_manager.chrome import ChromeDriverManager\n",
    "from selenium.common.exceptions import TimeoutException\n",
    "from selenium.webdriver.support.ui import WebDriverWait\n",
    "from selenium.webdriver.support import expected_conditions as EC\n",
    "import string\n",
    "import time\n",
    "import requests\n",
    "from lxml import html\n",
    "from bs4 import BeautifulSoup\n",
    "from tqdm import tqdm\n",
    "import json\n",
    "import pandas as pd\n",
    "import re\n",
    "import json"
   ]
  },
  {
   "cell_type": "code",
   "execution_count": 4,
   "metadata": {},
   "outputs": [],
   "source": [
    "from tqdm import tqdm\n",
    "import time  # Import time to simulate scraping time"
   ]
  },
  {
   "cell_type": "code",
   "execution_count": 5,
   "metadata": {},
   "outputs": [
    {
     "data": {
      "text/html": [
       "<div>\n",
       "<style scoped>\n",
       "    .dataframe tbody tr th:only-of-type {\n",
       "        vertical-align: middle;\n",
       "    }\n",
       "\n",
       "    .dataframe tbody tr th {\n",
       "        vertical-align: top;\n",
       "    }\n",
       "\n",
       "    .dataframe thead th {\n",
       "        text-align: right;\n",
       "    }\n",
       "</style>\n",
       "<table border=\"1\" class=\"dataframe\">\n",
       "  <thead>\n",
       "    <tr style=\"text-align: right;\">\n",
       "      <th></th>\n",
       "      <th>id</th>\n",
       "      <th>alias</th>\n",
       "      <th>name</th>\n",
       "      <th>image_url</th>\n",
       "      <th>is_closed</th>\n",
       "      <th>url</th>\n",
       "      <th>review_count</th>\n",
       "      <th>categories</th>\n",
       "      <th>rating</th>\n",
       "      <th>coordinates</th>\n",
       "      <th>transactions</th>\n",
       "      <th>price</th>\n",
       "      <th>location</th>\n",
       "      <th>phone</th>\n",
       "      <th>display_phone</th>\n",
       "      <th>distance</th>\n",
       "    </tr>\n",
       "  </thead>\n",
       "  <tbody>\n",
       "    <tr>\n",
       "      <th>0</th>\n",
       "      <td>SP4bvMvxel_UPdof_er3HA</td>\n",
       "      <td>taco-mahal-new-york</td>\n",
       "      <td>Taco Mahal</td>\n",
       "      <td>https://s3-media2.fl.yelpcdn.com/bphoto/wo7f5l...</td>\n",
       "      <td>False</td>\n",
       "      <td>https://www.yelp.com/biz/taco-mahal-new-york?a...</td>\n",
       "      <td>886</td>\n",
       "      <td>[{'alias': 'indpak', 'title': 'Indian'}, {'ali...</td>\n",
       "      <td>4.4</td>\n",
       "      <td>{'latitude': 40.73235768476899, 'longitude': -...</td>\n",
       "      <td>['delivery', 'pickup']</td>\n",
       "      <td>$$</td>\n",
       "      <td>{'address1': '73 7th Ave S', 'address2': '', '...</td>\n",
       "      <td>16467191553</td>\n",
       "      <td>(646) 719-1553</td>\n",
       "      <td>3077.683720</td>\n",
       "    </tr>\n",
       "    <tr>\n",
       "      <th>1</th>\n",
       "      <td>16ZnHpuaaBt92XWeJHCC5A</td>\n",
       "      <td>olio-e-più-new-york-7</td>\n",
       "      <td>Olio e Più</td>\n",
       "      <td>https://s3-media4.fl.yelpcdn.com/bphoto/CUpPgz...</td>\n",
       "      <td>False</td>\n",
       "      <td>https://www.yelp.com/biz/olio-e-pi%C3%B9-new-y...</td>\n",
       "      <td>5393</td>\n",
       "      <td>[{'alias': 'pizza', 'title': 'Pizza'}, {'alias...</td>\n",
       "      <td>4.5</td>\n",
       "      <td>{'latitude': 40.733798036104304, 'longitude': ...</td>\n",
       "      <td>['delivery', 'pickup']</td>\n",
       "      <td>$$</td>\n",
       "      <td>{'address1': '3 Greenwich Ave', 'address2': No...</td>\n",
       "      <td>12122436546</td>\n",
       "      <td>(212) 243-6546</td>\n",
       "      <td>3175.697940</td>\n",
       "    </tr>\n",
       "    <tr>\n",
       "      <th>2</th>\n",
       "      <td>NOh24SMS6k4pzNv8Ds7KDg</td>\n",
       "      <td>cafe-habana-new-york-4</td>\n",
       "      <td>Cafe Habana</td>\n",
       "      <td>https://s3-media3.fl.yelpcdn.com/bphoto/cUHxmL...</td>\n",
       "      <td>False</td>\n",
       "      <td>https://www.yelp.com/biz/cafe-habana-new-york-...</td>\n",
       "      <td>3311</td>\n",
       "      <td>[{'alias': 'cuban', 'title': 'Cuban'}, {'alias...</td>\n",
       "      <td>4.0</td>\n",
       "      <td>{'latitude': 40.72293, 'longitude': -73.99419}</td>\n",
       "      <td>['pickup', 'delivery']</td>\n",
       "      <td>$$</td>\n",
       "      <td>{'address1': '17 Prince St', 'address2': '', '...</td>\n",
       "      <td>12126252001</td>\n",
       "      <td>(212) 625-2001</td>\n",
       "      <td>1933.430593</td>\n",
       "    </tr>\n",
       "    <tr>\n",
       "      <th>3</th>\n",
       "      <td>0CjK3esfpFcxIopebzjFxA</td>\n",
       "      <td>joes-shanghai-new-york-2</td>\n",
       "      <td>Joe's Shanghai</td>\n",
       "      <td>https://s3-media2.fl.yelpcdn.com/bphoto/ORdfWy...</td>\n",
       "      <td>False</td>\n",
       "      <td>https://www.yelp.com/biz/joes-shanghai-new-yor...</td>\n",
       "      <td>7327</td>\n",
       "      <td>[{'alias': 'shanghainese', 'title': 'Shanghain...</td>\n",
       "      <td>3.8</td>\n",
       "      <td>{'latitude': 40.7156608, 'longitude': -73.9967...</td>\n",
       "      <td>['pickup', 'delivery']</td>\n",
       "      <td>$$</td>\n",
       "      <td>{'address1': '46 Bowery St', 'address2': '', '...</td>\n",
       "      <td>12122338888</td>\n",
       "      <td>(212) 233-8888</td>\n",
       "      <td>1143.405792</td>\n",
       "    </tr>\n",
       "    <tr>\n",
       "      <th>4</th>\n",
       "      <td>FlZ1zdVEKWv7dwqm8Uw8-w</td>\n",
       "      <td>raku-new-york-7</td>\n",
       "      <td>Raku</td>\n",
       "      <td>https://s3-media4.fl.yelpcdn.com/bphoto/GEbZnH...</td>\n",
       "      <td>False</td>\n",
       "      <td>https://www.yelp.com/biz/raku-new-york-7?adjus...</td>\n",
       "      <td>1635</td>\n",
       "      <td>[{'alias': 'japanese', 'title': 'Japanese'}, {...</td>\n",
       "      <td>4.5</td>\n",
       "      <td>{'latitude': 40.7264988089246, 'longitude': -7...</td>\n",
       "      <td>['pickup', 'delivery']</td>\n",
       "      <td>$$</td>\n",
       "      <td>{'address1': '342 E 6th St', 'address2': '', '...</td>\n",
       "      <td>12122281324</td>\n",
       "      <td>(212) 228-1324</td>\n",
       "      <td>2416.602715</td>\n",
       "    </tr>\n",
       "    <tr>\n",
       "      <th>...</th>\n",
       "      <td>...</td>\n",
       "      <td>...</td>\n",
       "      <td>...</td>\n",
       "      <td>...</td>\n",
       "      <td>...</td>\n",
       "      <td>...</td>\n",
       "      <td>...</td>\n",
       "      <td>...</td>\n",
       "      <td>...</td>\n",
       "      <td>...</td>\n",
       "      <td>...</td>\n",
       "      <td>...</td>\n",
       "      <td>...</td>\n",
       "      <td>...</td>\n",
       "      <td>...</td>\n",
       "      <td>...</td>\n",
       "    </tr>\n",
       "    <tr>\n",
       "      <th>250</th>\n",
       "      <td>NL2gOp0p7D3_YNI3eZfbPw</td>\n",
       "      <td>india-grill-arlington-2</td>\n",
       "      <td>India Grill</td>\n",
       "      <td>https://s3-media3.fl.yelpcdn.com/bphoto/4pRlXd...</td>\n",
       "      <td>False</td>\n",
       "      <td>https://www.yelp.com/biz/india-grill-arlington...</td>\n",
       "      <td>622</td>\n",
       "      <td>[{'alias': 'indpak', 'title': 'Indian'}]</td>\n",
       "      <td>4.2</td>\n",
       "      <td>{'latitude': 32.68123, 'longitude': -97.11371}</td>\n",
       "      <td>['pickup', 'delivery']</td>\n",
       "      <td>$$</td>\n",
       "      <td>{'address1': '3900 Chaney Dr', 'address2': 'St...</td>\n",
       "      <td>18174689150</td>\n",
       "      <td>(817) 468-9150</td>\n",
       "      <td>3294.696270</td>\n",
       "    </tr>\n",
       "    <tr>\n",
       "      <th>251</th>\n",
       "      <td>v6xe2MRwStuwxPH2SH89ag</td>\n",
       "      <td>italian-cafe-irving</td>\n",
       "      <td>Italian Cafe</td>\n",
       "      <td>https://s3-media2.fl.yelpcdn.com/bphoto/c9_hmX...</td>\n",
       "      <td>False</td>\n",
       "      <td>https://www.yelp.com/biz/italian-cafe-irving?a...</td>\n",
       "      <td>470</td>\n",
       "      <td>[{'alias': 'italian', 'title': 'Italian'}]</td>\n",
       "      <td>3.9</td>\n",
       "      <td>{'latitude': 32.865059007048, 'longitude': -96...</td>\n",
       "      <td>['pickup', 'delivery']</td>\n",
       "      <td>$$</td>\n",
       "      <td>{'address1': '387 E Las Colinas Blvd', 'addres...</td>\n",
       "      <td>19724010216</td>\n",
       "      <td>(972) 401-0216</td>\n",
       "      <td>24275.084419</td>\n",
       "    </tr>\n",
       "    <tr>\n",
       "      <th>252</th>\n",
       "      <td>QtCs9kugi0cs4x_O1QDaPg</td>\n",
       "      <td>hugos-invitados-irving</td>\n",
       "      <td>Hugo's Invitados</td>\n",
       "      <td>https://s3-media1.fl.yelpcdn.com/bphoto/uRsSLs...</td>\n",
       "      <td>False</td>\n",
       "      <td>https://www.yelp.com/biz/hugos-invitados-irvin...</td>\n",
       "      <td>929</td>\n",
       "      <td>[{'alias': 'seafood', 'title': 'Seafood'}, {'a...</td>\n",
       "      <td>4.3</td>\n",
       "      <td>{'latitude': 32.869753, 'longitude': -96.937645}</td>\n",
       "      <td>['pickup', 'delivery']</td>\n",
       "      <td>$$$</td>\n",
       "      <td>{'address1': \"5240 N O'Connor Blvd\", 'address2...</td>\n",
       "      <td>12144960590</td>\n",
       "      <td>(214) 496-0590</td>\n",
       "      <td>24574.172420</td>\n",
       "    </tr>\n",
       "    <tr>\n",
       "      <th>253</th>\n",
       "      <td>QXOIJVTUcXPN_2LOvevSxg</td>\n",
       "      <td>bethany-boba-tea-and-cafe-arlington</td>\n",
       "      <td>Bethany Boba Tea &amp; Cafe</td>\n",
       "      <td>https://s3-media1.fl.yelpcdn.com/bphoto/Rpip7o...</td>\n",
       "      <td>False</td>\n",
       "      <td>https://www.yelp.com/biz/bethany-boba-tea-and-...</td>\n",
       "      <td>719</td>\n",
       "      <td>[{'alias': 'chinese', 'title': 'Chinese'}, {'a...</td>\n",
       "      <td>3.9</td>\n",
       "      <td>{'latitude': 32.7213249, 'longitude': -97.1155...</td>\n",
       "      <td>['delivery']</td>\n",
       "      <td>$</td>\n",
       "      <td>{'address1': '705 W Park Row Dr', 'address2': ...</td>\n",
       "      <td>18174611245</td>\n",
       "      <td>(817) 461-1245</td>\n",
       "      <td>1330.808818</td>\n",
       "    </tr>\n",
       "    <tr>\n",
       "      <th>254</th>\n",
       "      <td>P0VziPp_DuKBol_YNKLqSw</td>\n",
       "      <td>mr-max-irving</td>\n",
       "      <td>Mr Max</td>\n",
       "      <td>https://s3-media2.fl.yelpcdn.com/bphoto/suPcxi...</td>\n",
       "      <td>False</td>\n",
       "      <td>https://www.yelp.com/biz/mr-max-irving?adjust_...</td>\n",
       "      <td>980</td>\n",
       "      <td>[{'alias': 'sushi', 'title': 'Sushi Bars'}, {'...</td>\n",
       "      <td>4.6</td>\n",
       "      <td>{'latitude': 32.848083, 'longitude': -96.9920651}</td>\n",
       "      <td>['delivery', 'pickup']</td>\n",
       "      <td>$$</td>\n",
       "      <td>{'address1': '3028 N Belt Line Rd', 'address2'...</td>\n",
       "      <td>19722558889</td>\n",
       "      <td>(972) 255-8889</td>\n",
       "      <td>19466.941145</td>\n",
       "    </tr>\n",
       "  </tbody>\n",
       "</table>\n",
       "<p>255 rows × 16 columns</p>\n",
       "</div>"
      ],
      "text/plain": [
       "                         id                                alias  \\\n",
       "0    SP4bvMvxel_UPdof_er3HA                  taco-mahal-new-york   \n",
       "1    16ZnHpuaaBt92XWeJHCC5A                olio-e-più-new-york-7   \n",
       "2    NOh24SMS6k4pzNv8Ds7KDg               cafe-habana-new-york-4   \n",
       "3    0CjK3esfpFcxIopebzjFxA             joes-shanghai-new-york-2   \n",
       "4    FlZ1zdVEKWv7dwqm8Uw8-w                      raku-new-york-7   \n",
       "..                      ...                                  ...   \n",
       "250  NL2gOp0p7D3_YNI3eZfbPw              india-grill-arlington-2   \n",
       "251  v6xe2MRwStuwxPH2SH89ag                  italian-cafe-irving   \n",
       "252  QtCs9kugi0cs4x_O1QDaPg               hugos-invitados-irving   \n",
       "253  QXOIJVTUcXPN_2LOvevSxg  bethany-boba-tea-and-cafe-arlington   \n",
       "254  P0VziPp_DuKBol_YNKLqSw                        mr-max-irving   \n",
       "\n",
       "                        name  \\\n",
       "0                 Taco Mahal   \n",
       "1                 Olio e Più   \n",
       "2                Cafe Habana   \n",
       "3             Joe's Shanghai   \n",
       "4                       Raku   \n",
       "..                       ...   \n",
       "250              India Grill   \n",
       "251             Italian Cafe   \n",
       "252         Hugo's Invitados   \n",
       "253  Bethany Boba Tea & Cafe   \n",
       "254                   Mr Max   \n",
       "\n",
       "                                             image_url  is_closed  \\\n",
       "0    https://s3-media2.fl.yelpcdn.com/bphoto/wo7f5l...      False   \n",
       "1    https://s3-media4.fl.yelpcdn.com/bphoto/CUpPgz...      False   \n",
       "2    https://s3-media3.fl.yelpcdn.com/bphoto/cUHxmL...      False   \n",
       "3    https://s3-media2.fl.yelpcdn.com/bphoto/ORdfWy...      False   \n",
       "4    https://s3-media4.fl.yelpcdn.com/bphoto/GEbZnH...      False   \n",
       "..                                                 ...        ...   \n",
       "250  https://s3-media3.fl.yelpcdn.com/bphoto/4pRlXd...      False   \n",
       "251  https://s3-media2.fl.yelpcdn.com/bphoto/c9_hmX...      False   \n",
       "252  https://s3-media1.fl.yelpcdn.com/bphoto/uRsSLs...      False   \n",
       "253  https://s3-media1.fl.yelpcdn.com/bphoto/Rpip7o...      False   \n",
       "254  https://s3-media2.fl.yelpcdn.com/bphoto/suPcxi...      False   \n",
       "\n",
       "                                                   url  review_count  \\\n",
       "0    https://www.yelp.com/biz/taco-mahal-new-york?a...           886   \n",
       "1    https://www.yelp.com/biz/olio-e-pi%C3%B9-new-y...          5393   \n",
       "2    https://www.yelp.com/biz/cafe-habana-new-york-...          3311   \n",
       "3    https://www.yelp.com/biz/joes-shanghai-new-yor...          7327   \n",
       "4    https://www.yelp.com/biz/raku-new-york-7?adjus...          1635   \n",
       "..                                                 ...           ...   \n",
       "250  https://www.yelp.com/biz/india-grill-arlington...           622   \n",
       "251  https://www.yelp.com/biz/italian-cafe-irving?a...           470   \n",
       "252  https://www.yelp.com/biz/hugos-invitados-irvin...           929   \n",
       "253  https://www.yelp.com/biz/bethany-boba-tea-and-...           719   \n",
       "254  https://www.yelp.com/biz/mr-max-irving?adjust_...           980   \n",
       "\n",
       "                                            categories  rating  \\\n",
       "0    [{'alias': 'indpak', 'title': 'Indian'}, {'ali...     4.4   \n",
       "1    [{'alias': 'pizza', 'title': 'Pizza'}, {'alias...     4.5   \n",
       "2    [{'alias': 'cuban', 'title': 'Cuban'}, {'alias...     4.0   \n",
       "3    [{'alias': 'shanghainese', 'title': 'Shanghain...     3.8   \n",
       "4    [{'alias': 'japanese', 'title': 'Japanese'}, {...     4.5   \n",
       "..                                                 ...     ...   \n",
       "250           [{'alias': 'indpak', 'title': 'Indian'}]     4.2   \n",
       "251         [{'alias': 'italian', 'title': 'Italian'}]     3.9   \n",
       "252  [{'alias': 'seafood', 'title': 'Seafood'}, {'a...     4.3   \n",
       "253  [{'alias': 'chinese', 'title': 'Chinese'}, {'a...     3.9   \n",
       "254  [{'alias': 'sushi', 'title': 'Sushi Bars'}, {'...     4.6   \n",
       "\n",
       "                                           coordinates  \\\n",
       "0    {'latitude': 40.73235768476899, 'longitude': -...   \n",
       "1    {'latitude': 40.733798036104304, 'longitude': ...   \n",
       "2       {'latitude': 40.72293, 'longitude': -73.99419}   \n",
       "3    {'latitude': 40.7156608, 'longitude': -73.9967...   \n",
       "4    {'latitude': 40.7264988089246, 'longitude': -7...   \n",
       "..                                                 ...   \n",
       "250     {'latitude': 32.68123, 'longitude': -97.11371}   \n",
       "251  {'latitude': 32.865059007048, 'longitude': -96...   \n",
       "252   {'latitude': 32.869753, 'longitude': -96.937645}   \n",
       "253  {'latitude': 32.7213249, 'longitude': -97.1155...   \n",
       "254  {'latitude': 32.848083, 'longitude': -96.9920651}   \n",
       "\n",
       "               transactions price  \\\n",
       "0    ['delivery', 'pickup']    $$   \n",
       "1    ['delivery', 'pickup']    $$   \n",
       "2    ['pickup', 'delivery']    $$   \n",
       "3    ['pickup', 'delivery']    $$   \n",
       "4    ['pickup', 'delivery']    $$   \n",
       "..                      ...   ...   \n",
       "250  ['pickup', 'delivery']    $$   \n",
       "251  ['pickup', 'delivery']    $$   \n",
       "252  ['pickup', 'delivery']   $$$   \n",
       "253            ['delivery']     $   \n",
       "254  ['delivery', 'pickup']    $$   \n",
       "\n",
       "                                              location        phone  \\\n",
       "0    {'address1': '73 7th Ave S', 'address2': '', '...  16467191553   \n",
       "1    {'address1': '3 Greenwich Ave', 'address2': No...  12122436546   \n",
       "2    {'address1': '17 Prince St', 'address2': '', '...  12126252001   \n",
       "3    {'address1': '46 Bowery St', 'address2': '', '...  12122338888   \n",
       "4    {'address1': '342 E 6th St', 'address2': '', '...  12122281324   \n",
       "..                                                 ...          ...   \n",
       "250  {'address1': '3900 Chaney Dr', 'address2': 'St...  18174689150   \n",
       "251  {'address1': '387 E Las Colinas Blvd', 'addres...  19724010216   \n",
       "252  {'address1': \"5240 N O'Connor Blvd\", 'address2...  12144960590   \n",
       "253  {'address1': '705 W Park Row Dr', 'address2': ...  18174611245   \n",
       "254  {'address1': '3028 N Belt Line Rd', 'address2'...  19722558889   \n",
       "\n",
       "      display_phone      distance  \n",
       "0    (646) 719-1553   3077.683720  \n",
       "1    (212) 243-6546   3175.697940  \n",
       "2    (212) 625-2001   1933.430593  \n",
       "3    (212) 233-8888   1143.405792  \n",
       "4    (212) 228-1324   2416.602715  \n",
       "..              ...           ...  \n",
       "250  (817) 468-9150   3294.696270  \n",
       "251  (972) 401-0216  24275.084419  \n",
       "252  (214) 496-0590  24574.172420  \n",
       "253  (817) 461-1245   1330.808818  \n",
       "254  (972) 255-8889  19466.941145  \n",
       "\n",
       "[255 rows x 16 columns]"
      ]
     },
     "execution_count": 5,
     "metadata": {},
     "output_type": "execute_result"
    }
   ],
   "source": [
    "file_path = '/Users/apoorvashete/Desktop/STA220FinalProject-Yelp/restaurants_data/popular_restaurants.csv'\n",
    "popular_restaurants_df = pd.read_csv(file_path)\n",
    "popular_restaurants_df"
   ]
  },
  {
   "cell_type": "code",
   "execution_count": 18,
   "metadata": {},
   "outputs": [
    {
     "data": {
      "text/html": [
       "<div>\n",
       "<style scoped>\n",
       "    .dataframe tbody tr th:only-of-type {\n",
       "        vertical-align: middle;\n",
       "    }\n",
       "\n",
       "    .dataframe tbody tr th {\n",
       "        vertical-align: top;\n",
       "    }\n",
       "\n",
       "    .dataframe thead th {\n",
       "        text-align: right;\n",
       "    }\n",
       "</style>\n",
       "<table border=\"1\" class=\"dataframe\">\n",
       "  <thead>\n",
       "    <tr style=\"text-align: right;\">\n",
       "      <th></th>\n",
       "      <th>url</th>\n",
       "      <th>id</th>\n",
       "    </tr>\n",
       "  </thead>\n",
       "  <tbody>\n",
       "    <tr>\n",
       "      <th>0</th>\n",
       "      <td>https://www.yelp.com/biz/taco-mahal-new-york?a...</td>\n",
       "      <td>SP4bvMvxel_UPdof_er3HA</td>\n",
       "    </tr>\n",
       "    <tr>\n",
       "      <th>1</th>\n",
       "      <td>https://www.yelp.com/biz/olio-e-pi%C3%B9-new-y...</td>\n",
       "      <td>16ZnHpuaaBt92XWeJHCC5A</td>\n",
       "    </tr>\n",
       "    <tr>\n",
       "      <th>2</th>\n",
       "      <td>https://www.yelp.com/biz/cafe-habana-new-york-...</td>\n",
       "      <td>NOh24SMS6k4pzNv8Ds7KDg</td>\n",
       "    </tr>\n",
       "    <tr>\n",
       "      <th>3</th>\n",
       "      <td>https://www.yelp.com/biz/joes-shanghai-new-yor...</td>\n",
       "      <td>0CjK3esfpFcxIopebzjFxA</td>\n",
       "    </tr>\n",
       "    <tr>\n",
       "      <th>4</th>\n",
       "      <td>https://www.yelp.com/biz/raku-new-york-7?adjus...</td>\n",
       "      <td>FlZ1zdVEKWv7dwqm8Uw8-w</td>\n",
       "    </tr>\n",
       "    <tr>\n",
       "      <th>...</th>\n",
       "      <td>...</td>\n",
       "      <td>...</td>\n",
       "    </tr>\n",
       "    <tr>\n",
       "      <th>250</th>\n",
       "      <td>https://www.yelp.com/biz/india-grill-arlington...</td>\n",
       "      <td>NL2gOp0p7D3_YNI3eZfbPw</td>\n",
       "    </tr>\n",
       "    <tr>\n",
       "      <th>251</th>\n",
       "      <td>https://www.yelp.com/biz/italian-cafe-irving?a...</td>\n",
       "      <td>v6xe2MRwStuwxPH2SH89ag</td>\n",
       "    </tr>\n",
       "    <tr>\n",
       "      <th>252</th>\n",
       "      <td>https://www.yelp.com/biz/hugos-invitados-irvin...</td>\n",
       "      <td>QtCs9kugi0cs4x_O1QDaPg</td>\n",
       "    </tr>\n",
       "    <tr>\n",
       "      <th>253</th>\n",
       "      <td>https://www.yelp.com/biz/bethany-boba-tea-and-...</td>\n",
       "      <td>QXOIJVTUcXPN_2LOvevSxg</td>\n",
       "    </tr>\n",
       "    <tr>\n",
       "      <th>254</th>\n",
       "      <td>https://www.yelp.com/biz/mr-max-irving?adjust_...</td>\n",
       "      <td>P0VziPp_DuKBol_YNKLqSw</td>\n",
       "    </tr>\n",
       "  </tbody>\n",
       "</table>\n",
       "<p>255 rows × 2 columns</p>\n",
       "</div>"
      ],
      "text/plain": [
       "                                                   url                      id\n",
       "0    https://www.yelp.com/biz/taco-mahal-new-york?a...  SP4bvMvxel_UPdof_er3HA\n",
       "1    https://www.yelp.com/biz/olio-e-pi%C3%B9-new-y...  16ZnHpuaaBt92XWeJHCC5A\n",
       "2    https://www.yelp.com/biz/cafe-habana-new-york-...  NOh24SMS6k4pzNv8Ds7KDg\n",
       "3    https://www.yelp.com/biz/joes-shanghai-new-yor...  0CjK3esfpFcxIopebzjFxA\n",
       "4    https://www.yelp.com/biz/raku-new-york-7?adjus...  FlZ1zdVEKWv7dwqm8Uw8-w\n",
       "..                                                 ...                     ...\n",
       "250  https://www.yelp.com/biz/india-grill-arlington...  NL2gOp0p7D3_YNI3eZfbPw\n",
       "251  https://www.yelp.com/biz/italian-cafe-irving?a...  v6xe2MRwStuwxPH2SH89ag\n",
       "252  https://www.yelp.com/biz/hugos-invitados-irvin...  QtCs9kugi0cs4x_O1QDaPg\n",
       "253  https://www.yelp.com/biz/bethany-boba-tea-and-...  QXOIJVTUcXPN_2LOvevSxg\n",
       "254  https://www.yelp.com/biz/mr-max-irving?adjust_...  P0VziPp_DuKBol_YNKLqSw\n",
       "\n",
       "[255 rows x 2 columns]"
      ]
     },
     "execution_count": 18,
     "metadata": {},
     "output_type": "execute_result"
    }
   ],
   "source": [
    "#extracting links and corresponding business ids for every restaurant\n",
    "links_and_ids = popular_restaurants_df[['url', 'id']]\n",
    "links_and_ids"
   ]
  },
  {
   "cell_type": "code",
   "execution_count": 8,
   "metadata": {},
   "outputs": [
    {
     "data": {
      "text/plain": [
       "['https://www.yelp.com/biz/taco-mahal-new-york?adjust_creative=mUhtpg0LANTRd76OAeN1RQ&utm_campaign=yelp_api_v3&utm_medium=api_v3_business_search&utm_source=mUhtpg0LANTRd76OAeN1RQ',\n",
       " 'https://www.yelp.com/biz/olio-e-pi%C3%B9-new-york-7?adjust_creative=mUhtpg0LANTRd76OAeN1RQ&utm_campaign=yelp_api_v3&utm_medium=api_v3_business_search&utm_source=mUhtpg0LANTRd76OAeN1RQ',\n",
       " 'https://www.yelp.com/biz/cafe-habana-new-york-4?adjust_creative=mUhtpg0LANTRd76OAeN1RQ&utm_campaign=yelp_api_v3&utm_medium=api_v3_business_search&utm_source=mUhtpg0LANTRd76OAeN1RQ',\n",
       " 'https://www.yelp.com/biz/joes-shanghai-new-york-2?adjust_creative=mUhtpg0LANTRd76OAeN1RQ&utm_campaign=yelp_api_v3&utm_medium=api_v3_business_search&utm_source=mUhtpg0LANTRd76OAeN1RQ',\n",
       " 'https://www.yelp.com/biz/raku-new-york-7?adjust_creative=mUhtpg0LANTRd76OAeN1RQ&utm_campaign=yelp_api_v3&utm_medium=api_v3_business_search&utm_source=mUhtpg0LANTRd76OAeN1RQ',\n",
       " 'https://www.yelp.com/biz/himalayan-yak-jackson-heights?adjust_creative=mUhtpg0LANTRd76OAeN1RQ&utm_campaign=yelp_api_v3&utm_medium=api_v3_business_search&utm_source=mUhtpg0LANTRd76OAeN1RQ',\n",
       " 'https://www.yelp.com/biz/trattoria-l-incontro-astoria-6?adjust_creative=mUhtpg0LANTRd76OAeN1RQ&utm_campaign=yelp_api_v3&utm_medium=api_v3_business_search&utm_source=mUhtpg0LANTRd76OAeN1RQ',\n",
       " 'https://www.yelp.com/biz/casa-enrique-long-island-city?adjust_creative=mUhtpg0LANTRd76OAeN1RQ&utm_campaign=yelp_api_v3&utm_medium=api_v3_business_search&utm_source=mUhtpg0LANTRd76OAeN1RQ',\n",
       " 'https://www.yelp.com/biz/haidilao-hot-pot-flushing-flushing?adjust_creative=mUhtpg0LANTRd76OAeN1RQ&utm_campaign=yelp_api_v3&utm_medium=api_v3_business_search&utm_source=mUhtpg0LANTRd76OAeN1RQ',\n",
       " 'https://www.yelp.com/biz/akino-elmhurst?adjust_creative=mUhtpg0LANTRd76OAeN1RQ&utm_campaign=yelp_api_v3&utm_medium=api_v3_business_search&utm_source=mUhtpg0LANTRd76OAeN1RQ',\n",
       " 'https://www.yelp.com/biz/anarkali-indian-restaurant-los-angeles?adjust_creative=mUhtpg0LANTRd76OAeN1RQ&utm_campaign=yelp_api_v3&utm_medium=api_v3_business_search&utm_source=mUhtpg0LANTRd76OAeN1RQ',\n",
       " 'https://www.yelp.com/biz/bottega-louie-los-angeles?adjust_creative=mUhtpg0LANTRd76OAeN1RQ&utm_campaign=yelp_api_v3&utm_medium=api_v3_business_search&utm_source=mUhtpg0LANTRd76OAeN1RQ',\n",
       " 'https://www.yelp.com/biz/toca-madera-los-angeles-los-angeles?adjust_creative=mUhtpg0LANTRd76OAeN1RQ&utm_campaign=yelp_api_v3&utm_medium=api_v3_business_search&utm_source=mUhtpg0LANTRd76OAeN1RQ',\n",
       " 'https://www.yelp.com/biz/bao-dim-sum-house-los-angeles?adjust_creative=mUhtpg0LANTRd76OAeN1RQ&utm_campaign=yelp_api_v3&utm_medium=api_v3_business_search&utm_source=mUhtpg0LANTRd76OAeN1RQ',\n",
       " 'https://www.yelp.com/biz/slurpin-ramen-bar-la-los-angeles-2?adjust_creative=mUhtpg0LANTRd76OAeN1RQ&utm_campaign=yelp_api_v3&utm_medium=api_v3_business_search&utm_source=mUhtpg0LANTRd76OAeN1RQ',\n",
       " 'https://www.yelp.com/biz/pakwan-restaurant-16th-street-san-francisco?adjust_creative=mUhtpg0LANTRd76OAeN1RQ&utm_campaign=yelp_api_v3&utm_medium=api_v3_business_search&utm_source=mUhtpg0LANTRd76OAeN1RQ',\n",
       " 'https://www.yelp.com/biz/sotto-mare-san-francisco-4?adjust_creative=mUhtpg0LANTRd76OAeN1RQ&utm_campaign=yelp_api_v3&utm_medium=api_v3_business_search&utm_source=mUhtpg0LANTRd76OAeN1RQ',\n",
       " 'https://www.yelp.com/biz/el-farolito-san-francisco-2?adjust_creative=mUhtpg0LANTRd76OAeN1RQ&utm_campaign=yelp_api_v3&utm_medium=api_v3_business_search&utm_source=mUhtpg0LANTRd76OAeN1RQ',\n",
       " 'https://www.yelp.com/biz/san-tung-san-francisco-2?adjust_creative=mUhtpg0LANTRd76OAeN1RQ&utm_campaign=yelp_api_v3&utm_medium=api_v3_business_search&utm_source=mUhtpg0LANTRd76OAeN1RQ',\n",
       " 'https://www.yelp.com/biz/marufuku-ramen-san-francisco-5?adjust_creative=mUhtpg0LANTRd76OAeN1RQ&utm_campaign=yelp_api_v3&utm_medium=api_v3_business_search&utm_source=mUhtpg0LANTRd76OAeN1RQ',\n",
       " 'https://www.yelp.com/biz/cumin-chicago?adjust_creative=mUhtpg0LANTRd76OAeN1RQ&utm_campaign=yelp_api_v3&utm_medium=api_v3_business_search&utm_source=mUhtpg0LANTRd76OAeN1RQ',\n",
       " 'https://www.yelp.com/biz/eataly-chicago-chicago-6?adjust_creative=mUhtpg0LANTRd76OAeN1RQ&utm_campaign=yelp_api_v3&utm_medium=api_v3_business_search&utm_source=mUhtpg0LANTRd76OAeN1RQ',\n",
       " 'https://www.yelp.com/biz/del-seoul-chicago?adjust_creative=mUhtpg0LANTRd76OAeN1RQ&utm_campaign=yelp_api_v3&utm_medium=api_v3_business_search&utm_source=mUhtpg0LANTRd76OAeN1RQ',\n",
       " 'https://www.yelp.com/biz/minghin-cuisine-chicago-3?adjust_creative=mUhtpg0LANTRd76OAeN1RQ&utm_campaign=yelp_api_v3&utm_medium=api_v3_business_search&utm_source=mUhtpg0LANTRd76OAeN1RQ',\n",
       " 'https://www.yelp.com/biz/ramen-san-chicago?adjust_creative=mUhtpg0LANTRd76OAeN1RQ&utm_campaign=yelp_api_v3&utm_medium=api_v3_business_search&utm_source=mUhtpg0LANTRd76OAeN1RQ',\n",
       " 'https://www.yelp.com/biz/pondicheri-houston?adjust_creative=mUhtpg0LANTRd76OAeN1RQ&utm_campaign=yelp_api_v3&utm_medium=api_v3_business_search&utm_source=mUhtpg0LANTRd76OAeN1RQ',\n",
       " 'https://www.yelp.com/biz/north-italia-houston?adjust_creative=mUhtpg0LANTRd76OAeN1RQ&utm_campaign=yelp_api_v3&utm_medium=api_v3_business_search&utm_source=mUhtpg0LANTRd76OAeN1RQ',\n",
       " 'https://www.yelp.com/biz/la-calle-tacos-houston-16?adjust_creative=mUhtpg0LANTRd76OAeN1RQ&utm_campaign=yelp_api_v3&utm_medium=api_v3_business_search&utm_source=mUhtpg0LANTRd76OAeN1RQ',\n",
       " 'https://www.yelp.com/biz/fat-bao-houston?adjust_creative=mUhtpg0LANTRd76OAeN1RQ&utm_campaign=yelp_api_v3&utm_medium=api_v3_business_search&utm_source=mUhtpg0LANTRd76OAeN1RQ',\n",
       " 'https://www.yelp.com/biz/jinya-ramen-bar-houston-houston?adjust_creative=mUhtpg0LANTRd76OAeN1RQ&utm_campaign=yelp_api_v3&utm_medium=api_v3_business_search&utm_source=mUhtpg0LANTRd76OAeN1RQ',\n",
       " 'https://www.yelp.com/biz/veda-modern-indian-bistro-philadelphia-3?adjust_creative=mUhtpg0LANTRd76OAeN1RQ&utm_campaign=yelp_api_v3&utm_medium=api_v3_business_search&utm_source=mUhtpg0LANTRd76OAeN1RQ',\n",
       " 'https://www.yelp.com/biz/barbuzzo-philadelphia?adjust_creative=mUhtpg0LANTRd76OAeN1RQ&utm_campaign=yelp_api_v3&utm_medium=api_v3_business_search&utm_source=mUhtpg0LANTRd76OAeN1RQ',\n",
       " 'https://www.yelp.com/biz/el-vez-philadelphia?adjust_creative=mUhtpg0LANTRd76OAeN1RQ&utm_campaign=yelp_api_v3&utm_medium=api_v3_business_search&utm_source=mUhtpg0LANTRd76OAeN1RQ',\n",
       " 'https://www.yelp.com/biz/dim-sum-garden-philadelphia?adjust_creative=mUhtpg0LANTRd76OAeN1RQ&utm_campaign=yelp_api_v3&utm_medium=api_v3_business_search&utm_source=mUhtpg0LANTRd76OAeN1RQ',\n",
       " 'https://www.yelp.com/biz/morimoto-philadelphia?adjust_creative=mUhtpg0LANTRd76OAeN1RQ&utm_campaign=yelp_api_v3&utm_medium=api_v3_business_search&utm_source=mUhtpg0LANTRd76OAeN1RQ',\n",
       " 'https://www.yelp.com/biz/india-palace-phoenix-3?adjust_creative=mUhtpg0LANTRd76OAeN1RQ&utm_campaign=yelp_api_v3&utm_medium=api_v3_business_search&utm_source=mUhtpg0LANTRd76OAeN1RQ',\n",
       " 'https://www.yelp.com/biz/the-sicilian-butcher-phoenix-3?adjust_creative=mUhtpg0LANTRd76OAeN1RQ&utm_campaign=yelp_api_v3&utm_medium=api_v3_business_search&utm_source=mUhtpg0LANTRd76OAeN1RQ',\n",
       " 'https://www.yelp.com/biz/chino-bandido-phoenix-3?adjust_creative=mUhtpg0LANTRd76OAeN1RQ&utm_campaign=yelp_api_v3&utm_medium=api_v3_business_search&utm_source=mUhtpg0LANTRd76OAeN1RQ',\n",
       " 'https://www.yelp.com/biz/george-and-sons-asian-cuisine-phoenix?adjust_creative=mUhtpg0LANTRd76OAeN1RQ&utm_campaign=yelp_api_v3&utm_medium=api_v3_business_search&utm_source=mUhtpg0LANTRd76OAeN1RQ',\n",
       " 'https://www.yelp.com/biz/yutaka-japanese-restaurant-phoenix?adjust_creative=mUhtpg0LANTRd76OAeN1RQ&utm_campaign=yelp_api_v3&utm_medium=api_v3_business_search&utm_source=mUhtpg0LANTRd76OAeN1RQ',\n",
       " 'https://www.yelp.com/biz/india-palace-san-antonio?adjust_creative=mUhtpg0LANTRd76OAeN1RQ&utm_campaign=yelp_api_v3&utm_medium=api_v3_business_search&utm_source=mUhtpg0LANTRd76OAeN1RQ',\n",
       " 'https://www.yelp.com/biz/dough-pizzeria-napoletana-san-antonio?adjust_creative=mUhtpg0LANTRd76OAeN1RQ&utm_campaign=yelp_api_v3&utm_medium=api_v3_business_search&utm_source=mUhtpg0LANTRd76OAeN1RQ',\n",
       " 'https://www.yelp.com/biz/rosarios-comidamex-and-bar-san-antonio-2?adjust_creative=mUhtpg0LANTRd76OAeN1RQ&utm_campaign=yelp_api_v3&utm_medium=api_v3_business_search&utm_source=mUhtpg0LANTRd76OAeN1RQ',\n",
       " 'https://www.yelp.com/biz/kung-fu-noodle-%E5%8A%9F%E5%A4%AB%E9%9D%A2%E9%A6%86-san-antonio?adjust_creative=mUhtpg0LANTRd76OAeN1RQ&utm_campaign=yelp_api_v3&utm_medium=api_v3_business_search&utm_source=mUhtpg0LANTRd76OAeN1RQ',\n",
       " 'https://www.yelp.com/biz/wild-goji-restaurant-and-bar-san-antonio-3?adjust_creative=mUhtpg0LANTRd76OAeN1RQ&utm_campaign=yelp_api_v3&utm_medium=api_v3_business_search&utm_source=mUhtpg0LANTRd76OAeN1RQ',\n",
       " 'https://www.yelp.com/biz/tandoori-hut-san-diego-3?adjust_creative=mUhtpg0LANTRd76OAeN1RQ&utm_campaign=yelp_api_v3&utm_medium=api_v3_business_search&utm_source=mUhtpg0LANTRd76OAeN1RQ',\n",
       " 'https://www.yelp.com/biz/cucina-urbana-san-diego-4?adjust_creative=mUhtpg0LANTRd76OAeN1RQ&utm_campaign=yelp_api_v3&utm_medium=api_v3_business_search&utm_source=mUhtpg0LANTRd76OAeN1RQ',\n",
       " 'https://www.yelp.com/biz/coasterra-san-diego?adjust_creative=mUhtpg0LANTRd76OAeN1RQ&utm_campaign=yelp_api_v3&utm_medium=api_v3_business_search&utm_source=mUhtpg0LANTRd76OAeN1RQ',\n",
       " 'https://www.yelp.com/biz/steamy-piggy-san-diego-2?adjust_creative=mUhtpg0LANTRd76OAeN1RQ&utm_campaign=yelp_api_v3&utm_medium=api_v3_business_search&utm_source=mUhtpg0LANTRd76OAeN1RQ',\n",
       " 'https://www.yelp.com/biz/steamy-piggy-san-diego-2?adjust_creative=mUhtpg0LANTRd76OAeN1RQ&utm_campaign=yelp_api_v3&utm_medium=api_v3_business_search&utm_source=mUhtpg0LANTRd76OAeN1RQ',\n",
       " 'https://www.yelp.com/biz/roti-grill-dallas?adjust_creative=mUhtpg0LANTRd76OAeN1RQ&utm_campaign=yelp_api_v3&utm_medium=api_v3_business_search&utm_source=mUhtpg0LANTRd76OAeN1RQ',\n",
       " 'https://www.yelp.com/biz/monarch-dallas-2?adjust_creative=mUhtpg0LANTRd76OAeN1RQ&utm_campaign=yelp_api_v3&utm_medium=api_v3_business_search&utm_source=mUhtpg0LANTRd76OAeN1RQ',\n",
       " 'https://www.yelp.com/biz/meso-maya-comida-y-copas-dallas-4?adjust_creative=mUhtpg0LANTRd76OAeN1RQ&utm_campaign=yelp_api_v3&utm_medium=api_v3_business_search&utm_source=mUhtpg0LANTRd76OAeN1RQ',\n",
       " 'https://www.yelp.com/biz/monkey-king-noodle-dallas?adjust_creative=mUhtpg0LANTRd76OAeN1RQ&utm_campaign=yelp_api_v3&utm_medium=api_v3_business_search&utm_source=mUhtpg0LANTRd76OAeN1RQ',\n",
       " 'https://www.yelp.com/biz/uchi-dallas-5?adjust_creative=mUhtpg0LANTRd76OAeN1RQ&utm_campaign=yelp_api_v3&utm_medium=api_v3_business_search&utm_source=mUhtpg0LANTRd76OAeN1RQ',\n",
       " 'https://www.yelp.com/biz/sam-and-curry-san-jose?adjust_creative=mUhtpg0LANTRd76OAeN1RQ&utm_campaign=yelp_api_v3&utm_medium=api_v3_business_search&utm_source=mUhtpg0LANTRd76OAeN1RQ',\n",
       " 'https://www.yelp.com/biz/original-joes-san-jose-san-jose-4?adjust_creative=mUhtpg0LANTRd76OAeN1RQ&utm_campaign=yelp_api_v3&utm_medium=api_v3_business_search&utm_source=mUhtpg0LANTRd76OAeN1RQ',\n",
       " 'https://www.yelp.com/biz/luna-mexican-kitchen-the-alameda-san-jose?adjust_creative=mUhtpg0LANTRd76OAeN1RQ&utm_campaign=yelp_api_v3&utm_medium=api_v3_business_search&utm_source=mUhtpg0LANTRd76OAeN1RQ',\n",
       " 'https://www.yelp.com/biz/paiks-noodle-santa-clara-10?adjust_creative=mUhtpg0LANTRd76OAeN1RQ&utm_campaign=yelp_api_v3&utm_medium=api_v3_business_search&utm_source=mUhtpg0LANTRd76OAeN1RQ',\n",
       " 'https://www.yelp.com/biz/ramen-nagi-santa-clara?adjust_creative=mUhtpg0LANTRd76OAeN1RQ&utm_campaign=yelp_api_v3&utm_medium=api_v3_business_search&utm_source=mUhtpg0LANTRd76OAeN1RQ',\n",
       " 'https://www.yelp.com/biz/clay-pit-austin?adjust_creative=mUhtpg0LANTRd76OAeN1RQ&utm_campaign=yelp_api_v3&utm_medium=api_v3_business_search&utm_source=mUhtpg0LANTRd76OAeN1RQ',\n",
       " 'https://www.yelp.com/biz/red-ash-austin?adjust_creative=mUhtpg0LANTRd76OAeN1RQ&utm_campaign=yelp_api_v3&utm_medium=api_v3_business_search&utm_source=mUhtpg0LANTRd76OAeN1RQ',\n",
       " 'https://www.yelp.com/biz/juan-in-a-million-austin-2?adjust_creative=mUhtpg0LANTRd76OAeN1RQ&utm_campaign=yelp_api_v3&utm_medium=api_v3_business_search&utm_source=mUhtpg0LANTRd76OAeN1RQ',\n",
       " 'https://www.yelp.com/biz/1618-asian-fusion-austin?adjust_creative=mUhtpg0LANTRd76OAeN1RQ&utm_campaign=yelp_api_v3&utm_medium=api_v3_business_search&utm_source=mUhtpg0LANTRd76OAeN1RQ',\n",
       " 'https://www.yelp.com/biz/lucky-robot-austin?adjust_creative=mUhtpg0LANTRd76OAeN1RQ&utm_campaign=yelp_api_v3&utm_medium=api_v3_business_search&utm_source=mUhtpg0LANTRd76OAeN1RQ',\n",
       " 'https://www.yelp.com/biz/5th-element-jacksonville?adjust_creative=mUhtpg0LANTRd76OAeN1RQ&utm_campaign=yelp_api_v3&utm_medium=api_v3_business_search&utm_source=mUhtpg0LANTRd76OAeN1RQ',\n",
       " 'https://www.yelp.com/biz/carmines-pie-house-jacksonville?adjust_creative=mUhtpg0LANTRd76OAeN1RQ&utm_campaign=yelp_api_v3&utm_medium=api_v3_business_search&utm_source=mUhtpg0LANTRd76OAeN1RQ',\n",
       " 'https://www.yelp.com/biz/burrito-gallery-downtown-jacksonville-3?adjust_creative=mUhtpg0LANTRd76OAeN1RQ&utm_campaign=yelp_api_v3&utm_medium=api_v3_business_search&utm_source=mUhtpg0LANTRd76OAeN1RQ',\n",
       " 'https://www.yelp.com/biz/timwah-dim-sum-restaurant-jacksonville?adjust_creative=mUhtpg0LANTRd76OAeN1RQ&utm_campaign=yelp_api_v3&utm_medium=api_v3_business_search&utm_source=mUhtpg0LANTRd76OAeN1RQ',\n",
       " 'https://www.yelp.com/biz/domu-jacksonville?adjust_creative=mUhtpg0LANTRd76OAeN1RQ&utm_campaign=yelp_api_v3&utm_medium=api_v3_business_search&utm_source=mUhtpg0LANTRd76OAeN1RQ',\n",
       " 'https://www.yelp.com/biz/chapati-indianapolis-2?adjust_creative=mUhtpg0LANTRd76OAeN1RQ&utm_campaign=yelp_api_v3&utm_medium=api_v3_business_search&utm_source=mUhtpg0LANTRd76OAeN1RQ',\n",
       " 'https://www.yelp.com/biz/mama-carollas-indianapolis?adjust_creative=mUhtpg0LANTRd76OAeN1RQ&utm_campaign=yelp_api_v3&utm_medium=api_v3_business_search&utm_source=mUhtpg0LANTRd76OAeN1RQ',\n",
       " 'https://www.yelp.com/biz/nada-indianapolis?adjust_creative=mUhtpg0LANTRd76OAeN1RQ&utm_campaign=yelp_api_v3&utm_medium=api_v3_business_search&utm_source=mUhtpg0LANTRd76OAeN1RQ',\n",
       " 'https://www.yelp.com/biz/p-f-changs-indianapolis-4?adjust_creative=mUhtpg0LANTRd76OAeN1RQ&utm_campaign=yelp_api_v3&utm_medium=api_v3_business_search&utm_source=mUhtpg0LANTRd76OAeN1RQ',\n",
       " 'https://www.yelp.com/biz/ramen-ray-indianapolis?adjust_creative=mUhtpg0LANTRd76OAeN1RQ&utm_campaign=yelp_api_v3&utm_medium=api_v3_business_search&utm_source=mUhtpg0LANTRd76OAeN1RQ',\n",
       " 'https://www.yelp.com/biz/aab-india-restaurant-columbus-3?adjust_creative=mUhtpg0LANTRd76OAeN1RQ&utm_campaign=yelp_api_v3&utm_medium=api_v3_business_search&utm_source=mUhtpg0LANTRd76OAeN1RQ',\n",
       " 'https://www.yelp.com/biz/marcellas-columbus-7?adjust_creative=mUhtpg0LANTRd76OAeN1RQ&utm_campaign=yelp_api_v3&utm_medium=api_v3_business_search&utm_source=mUhtpg0LANTRd76OAeN1RQ',\n",
       " 'https://www.yelp.com/biz/los-guachos-taqueria-columbus?adjust_creative=mUhtpg0LANTRd76OAeN1RQ&utm_campaign=yelp_api_v3&utm_medium=api_v3_business_search&utm_source=mUhtpg0LANTRd76OAeN1RQ',\n",
       " 'https://www.yelp.com/biz/tais-asian-bistro-columbus?adjust_creative=mUhtpg0LANTRd76OAeN1RQ&utm_campaign=yelp_api_v3&utm_medium=api_v3_business_search&utm_source=mUhtpg0LANTRd76OAeN1RQ',\n",
       " 'https://www.yelp.com/biz/akai-hana-columbus?adjust_creative=mUhtpg0LANTRd76OAeN1RQ&utm_campaign=yelp_api_v3&utm_medium=api_v3_business_search&utm_source=mUhtpg0LANTRd76OAeN1RQ',\n",
       " 'https://www.yelp.com/biz/indian-kitchen-cuisine-of-india-haltom-city-4?adjust_creative=mUhtpg0LANTRd76OAeN1RQ&utm_campaign=yelp_api_v3&utm_medium=api_v3_business_search&utm_source=mUhtpg0LANTRd76OAeN1RQ',\n",
       " 'https://www.yelp.com/biz/cane-rosso-fort-worth?adjust_creative=mUhtpg0LANTRd76OAeN1RQ&utm_campaign=yelp_api_v3&utm_medium=api_v3_business_search&utm_source=mUhtpg0LANTRd76OAeN1RQ',\n",
       " 'https://www.yelp.com/biz/joe-t-garcias-fort-worth?adjust_creative=mUhtpg0LANTRd76OAeN1RQ&utm_campaign=yelp_api_v3&utm_medium=api_v3_business_search&utm_source=mUhtpg0LANTRd76OAeN1RQ',\n",
       " 'https://www.yelp.com/biz/my-lan-restaurant-haltom-city-3?adjust_creative=mUhtpg0LANTRd76OAeN1RQ&utm_campaign=yelp_api_v3&utm_medium=api_v3_business_search&utm_source=mUhtpg0LANTRd76OAeN1RQ',\n",
       " 'https://www.yelp.com/biz/blue-sushi-sake-grill-fort-worth?adjust_creative=mUhtpg0LANTRd76OAeN1RQ&utm_campaign=yelp_api_v3&utm_medium=api_v3_business_search&utm_source=mUhtpg0LANTRd76OAeN1RQ',\n",
       " 'https://www.yelp.com/biz/copper-modern-indian-cuisine-charlotte?adjust_creative=mUhtpg0LANTRd76OAeN1RQ&utm_campaign=yelp_api_v3&utm_medium=api_v3_business_search&utm_source=mUhtpg0LANTRd76OAeN1RQ',\n",
       " 'https://www.yelp.com/biz/mama-ricottas-charlotte-16?adjust_creative=mUhtpg0LANTRd76OAeN1RQ&utm_campaign=yelp_api_v3&utm_medium=api_v3_business_search&utm_source=mUhtpg0LANTRd76OAeN1RQ',\n",
       " 'https://www.yelp.com/biz/cabo-fish-taco-charlotte?adjust_creative=mUhtpg0LANTRd76OAeN1RQ&utm_campaign=yelp_api_v3&utm_medium=api_v3_business_search&utm_source=mUhtpg0LANTRd76OAeN1RQ',\n",
       " 'https://www.yelp.com/biz/the-dumpling-lady-charlotte?adjust_creative=mUhtpg0LANTRd76OAeN1RQ&utm_campaign=yelp_api_v3&utm_medium=api_v3_business_search&utm_source=mUhtpg0LANTRd76OAeN1RQ',\n",
       " 'https://www.yelp.com/biz/futo-buta-charlotte-3?adjust_creative=mUhtpg0LANTRd76OAeN1RQ&utm_campaign=yelp_api_v3&utm_medium=api_v3_business_search&utm_source=mUhtpg0LANTRd76OAeN1RQ',\n",
       " 'https://www.yelp.com/biz/nirmals-seattle?adjust_creative=mUhtpg0LANTRd76OAeN1RQ&utm_campaign=yelp_api_v3&utm_medium=api_v3_business_search&utm_source=mUhtpg0LANTRd76OAeN1RQ',\n",
       " 'https://www.yelp.com/biz/the-pink-door-seattle-4?adjust_creative=mUhtpg0LANTRd76OAeN1RQ&utm_campaign=yelp_api_v3&utm_medium=api_v3_business_search&utm_source=mUhtpg0LANTRd76OAeN1RQ',\n",
       " 'https://www.yelp.com/biz/tacos-chukis-seattle?adjust_creative=mUhtpg0LANTRd76OAeN1RQ&utm_campaign=yelp_api_v3&utm_medium=api_v3_business_search&utm_source=mUhtpg0LANTRd76OAeN1RQ',\n",
       " 'https://www.yelp.com/biz/din-tai-fung-seattle-14?adjust_creative=mUhtpg0LANTRd76OAeN1RQ&utm_campaign=yelp_api_v3&utm_medium=api_v3_business_search&utm_source=mUhtpg0LANTRd76OAeN1RQ',\n",
       " 'https://www.yelp.com/biz/japonessa-sushi-cocina-seattle?adjust_creative=mUhtpg0LANTRd76OAeN1RQ&utm_campaign=yelp_api_v3&utm_medium=api_v3_business_search&utm_source=mUhtpg0LANTRd76OAeN1RQ',\n",
       " 'https://www.yelp.com/biz/little-india-restaurant-and-bar-denver-10?adjust_creative=mUhtpg0LANTRd76OAeN1RQ&utm_campaign=yelp_api_v3&utm_medium=api_v3_business_search&utm_source=mUhtpg0LANTRd76OAeN1RQ',\n",
       " 'https://www.yelp.com/biz/osteria-marco-denver?adjust_creative=mUhtpg0LANTRd76OAeN1RQ&utm_campaign=yelp_api_v3&utm_medium=api_v3_business_search&utm_source=mUhtpg0LANTRd76OAeN1RQ',\n",
       " 'https://www.yelp.com/biz/la-loma-denver-denver?adjust_creative=mUhtpg0LANTRd76OAeN1RQ&utm_campaign=yelp_api_v3&utm_medium=api_v3_business_search&utm_source=mUhtpg0LANTRd76OAeN1RQ',\n",
       " 'https://www.yelp.com/biz/star-kitchen-denver?adjust_creative=mUhtpg0LANTRd76OAeN1RQ&utm_campaign=yelp_api_v3&utm_medium=api_v3_business_search&utm_source=mUhtpg0LANTRd76OAeN1RQ',\n",
       " 'https://www.yelp.com/biz/uncle-denver?adjust_creative=mUhtpg0LANTRd76OAeN1RQ&utm_campaign=yelp_api_v3&utm_medium=api_v3_business_search&utm_source=mUhtpg0LANTRd76OAeN1RQ',\n",
       " 'https://www.yelp.com/biz/india-palace-el-paso?adjust_creative=mUhtpg0LANTRd76OAeN1RQ&utm_campaign=yelp_api_v3&utm_medium=api_v3_business_search&utm_source=mUhtpg0LANTRd76OAeN1RQ',\n",
       " 'https://www.yelp.com/biz/trattoria-bella-sera-el-paso?adjust_creative=mUhtpg0LANTRd76OAeN1RQ&utm_campaign=yelp_api_v3&utm_medium=api_v3_business_search&utm_source=mUhtpg0LANTRd76OAeN1RQ',\n",
       " 'https://www.yelp.com/biz/l-and-j-cafe-el-paso?adjust_creative=mUhtpg0LANTRd76OAeN1RQ&utm_campaign=yelp_api_v3&utm_medium=api_v3_business_search&utm_source=mUhtpg0LANTRd76OAeN1RQ',\n",
       " 'https://www.yelp.com/biz/noodles-and-dumplings-el-paso?adjust_creative=mUhtpg0LANTRd76OAeN1RQ&utm_campaign=yelp_api_v3&utm_medium=api_v3_business_search&utm_source=mUhtpg0LANTRd76OAeN1RQ',\n",
       " 'https://www.yelp.com/biz/sushi-garden-el-paso?adjust_creative=mUhtpg0LANTRd76OAeN1RQ&utm_campaign=yelp_api_v3&utm_medium=api_v3_business_search&utm_source=mUhtpg0LANTRd76OAeN1RQ',\n",
       " 'https://www.yelp.com/biz/aladdin-sweets-and-cafe-hamtramck?adjust_creative=mUhtpg0LANTRd76OAeN1RQ&utm_campaign=yelp_api_v3&utm_medium=api_v3_business_search&utm_source=mUhtpg0LANTRd76OAeN1RQ',\n",
       " 'https://www.yelp.com/biz/supino-pizzeria-detroit?adjust_creative=mUhtpg0LANTRd76OAeN1RQ&utm_campaign=yelp_api_v3&utm_medium=api_v3_business_search&utm_source=mUhtpg0LANTRd76OAeN1RQ',\n",
       " 'https://www.yelp.com/biz/bakersfield-detroit?adjust_creative=mUhtpg0LANTRd76OAeN1RQ&utm_campaign=yelp_api_v3&utm_medium=api_v3_business_search&utm_source=mUhtpg0LANTRd76OAeN1RQ',\n",
       " 'https://www.yelp.com/biz/johnny-noodle-king-detroit?adjust_creative=mUhtpg0LANTRd76OAeN1RQ&utm_campaign=yelp_api_v3&utm_medium=api_v3_business_search&utm_source=mUhtpg0LANTRd76OAeN1RQ',\n",
       " 'https://www.yelp.com/biz/johnny-noodle-king-detroit?adjust_creative=mUhtpg0LANTRd76OAeN1RQ&utm_campaign=yelp_api_v3&utm_medium=api_v3_business_search&utm_source=mUhtpg0LANTRd76OAeN1RQ',\n",
       " 'https://www.yelp.com/biz/rasika-washington?adjust_creative=mUhtpg0LANTRd76OAeN1RQ&utm_campaign=yelp_api_v3&utm_medium=api_v3_business_search&utm_source=mUhtpg0LANTRd76OAeN1RQ',\n",
       " 'https://www.yelp.com/biz/il-canale-washington-2?adjust_creative=mUhtpg0LANTRd76OAeN1RQ&utm_campaign=yelp_api_v3&utm_medium=api_v3_business_search&utm_source=mUhtpg0LANTRd76OAeN1RQ',\n",
       " 'https://www.yelp.com/biz/district-taco-washington-6?adjust_creative=mUhtpg0LANTRd76OAeN1RQ&utm_campaign=yelp_api_v3&utm_medium=api_v3_business_search&utm_source=mUhtpg0LANTRd76OAeN1RQ',\n",
       " 'https://www.yelp.com/biz/da-hong-pao-washington?adjust_creative=mUhtpg0LANTRd76OAeN1RQ&utm_campaign=yelp_api_v3&utm_medium=api_v3_business_search&utm_source=mUhtpg0LANTRd76OAeN1RQ',\n",
       " 'https://www.yelp.com/biz/daikaya-ramen-shop-washington-2?adjust_creative=mUhtpg0LANTRd76OAeN1RQ&utm_campaign=yelp_api_v3&utm_medium=api_v3_business_search&utm_source=mUhtpg0LANTRd76OAeN1RQ',\n",
       " 'https://www.yelp.com/biz/punjabi-dhaba-cambridge?adjust_creative=mUhtpg0LANTRd76OAeN1RQ&utm_campaign=yelp_api_v3&utm_medium=api_v3_business_search&utm_source=mUhtpg0LANTRd76OAeN1RQ',\n",
       " 'https://www.yelp.com/biz/giacomos-ristorante-boston-boston?adjust_creative=mUhtpg0LANTRd76OAeN1RQ&utm_campaign=yelp_api_v3&utm_medium=api_v3_business_search&utm_source=mUhtpg0LANTRd76OAeN1RQ',\n",
       " 'https://www.yelp.com/biz/lolita-cocina-and-tequila-bar-boston-4?adjust_creative=mUhtpg0LANTRd76OAeN1RQ&utm_campaign=yelp_api_v3&utm_medium=api_v3_business_search&utm_source=mUhtpg0LANTRd76OAeN1RQ',\n",
       " 'https://www.yelp.com/biz/q-restaurant-boston?adjust_creative=mUhtpg0LANTRd76OAeN1RQ&utm_campaign=yelp_api_v3&utm_medium=api_v3_business_search&utm_source=mUhtpg0LANTRd76OAeN1RQ',\n",
       " 'https://www.yelp.com/biz/douzo-boston?adjust_creative=mUhtpg0LANTRd76OAeN1RQ&utm_campaign=yelp_api_v3&utm_medium=api_v3_business_search&utm_source=mUhtpg0LANTRd76OAeN1RQ',\n",
       " 'https://www.yelp.com/biz/india-palace-memphis?adjust_creative=mUhtpg0LANTRd76OAeN1RQ&utm_campaign=yelp_api_v3&utm_medium=api_v3_business_search&utm_source=mUhtpg0LANTRd76OAeN1RQ',\n",
       " 'https://www.yelp.com/biz/aldos-pizza-pies-downtown-memphis?adjust_creative=mUhtpg0LANTRd76OAeN1RQ&utm_campaign=yelp_api_v3&utm_medium=api_v3_business_search&utm_source=mUhtpg0LANTRd76OAeN1RQ',\n",
       " 'https://www.yelp.com/biz/elwoods-shack-memphis?adjust_creative=mUhtpg0LANTRd76OAeN1RQ&utm_campaign=yelp_api_v3&utm_medium=api_v3_business_search&utm_source=mUhtpg0LANTRd76OAeN1RQ',\n",
       " 'https://www.yelp.com/biz/mulan-asian-bistro-memphis?adjust_creative=mUhtpg0LANTRd76OAeN1RQ&utm_campaign=yelp_api_v3&utm_medium=api_v3_business_search&utm_source=mUhtpg0LANTRd76OAeN1RQ',\n",
       " 'https://www.yelp.com/biz/robata-ramen-and-yakitori-bar-memphis?adjust_creative=mUhtpg0LANTRd76OAeN1RQ&utm_campaign=yelp_api_v3&utm_medium=api_v3_business_search&utm_source=mUhtpg0LANTRd76OAeN1RQ',\n",
       " 'https://www.yelp.com/biz/chauhan-ale-and-masala-house-nashville?adjust_creative=mUhtpg0LANTRd76OAeN1RQ&utm_campaign=yelp_api_v3&utm_medium=api_v3_business_search&utm_source=mUhtpg0LANTRd76OAeN1RQ',\n",
       " 'https://www.yelp.com/biz/city-house-nashville?adjust_creative=mUhtpg0LANTRd76OAeN1RQ&utm_campaign=yelp_api_v3&utm_medium=api_v3_business_search&utm_source=mUhtpg0LANTRd76OAeN1RQ',\n",
       " 'https://www.yelp.com/biz/bartaco-nashville-nashville?adjust_creative=mUhtpg0LANTRd76OAeN1RQ&utm_campaign=yelp_api_v3&utm_medium=api_v3_business_search&utm_source=mUhtpg0LANTRd76OAeN1RQ',\n",
       " 'https://www.yelp.com/biz/the-smiling-elephant-nashville?adjust_creative=mUhtpg0LANTRd76OAeN1RQ&utm_campaign=yelp_api_v3&utm_medium=api_v3_business_search&utm_source=mUhtpg0LANTRd76OAeN1RQ',\n",
       " 'https://www.yelp.com/biz/two-ten-jack-nashville?adjust_creative=mUhtpg0LANTRd76OAeN1RQ&utm_campaign=yelp_api_v3&utm_medium=api_v3_business_search&utm_source=mUhtpg0LANTRd76OAeN1RQ',\n",
       " 'https://www.yelp.com/biz/bollywood-theater-portland?adjust_creative=mUhtpg0LANTRd76OAeN1RQ&utm_campaign=yelp_api_v3&utm_medium=api_v3_business_search&utm_source=mUhtpg0LANTRd76OAeN1RQ',\n",
       " 'https://www.yelp.com/biz/grassa-portland?adjust_creative=mUhtpg0LANTRd76OAeN1RQ&utm_campaign=yelp_api_v3&utm_medium=api_v3_business_search&utm_source=mUhtpg0LANTRd76OAeN1RQ',\n",
       " 'https://www.yelp.com/biz/g%C3%BCero-portland?adjust_creative=mUhtpg0LANTRd76OAeN1RQ&utm_campaign=yelp_api_v3&utm_medium=api_v3_business_search&utm_source=mUhtpg0LANTRd76OAeN1RQ',\n",
       " 'https://www.yelp.com/biz/duck-house-chinese-restaurant-portland?adjust_creative=mUhtpg0LANTRd76OAeN1RQ&utm_campaign=yelp_api_v3&utm_medium=api_v3_business_search&utm_source=mUhtpg0LANTRd76OAeN1RQ',\n",
       " 'https://www.yelp.com/biz/afuri-izakaya-portland?adjust_creative=mUhtpg0LANTRd76OAeN1RQ&utm_campaign=yelp_api_v3&utm_medium=api_v3_business_search&utm_source=mUhtpg0LANTRd76OAeN1RQ',\n",
       " 'https://www.yelp.com/biz/sheesh-mahal-oklahoma-city?adjust_creative=mUhtpg0LANTRd76OAeN1RQ&utm_campaign=yelp_api_v3&utm_medium=api_v3_business_search&utm_source=mUhtpg0LANTRd76OAeN1RQ',\n",
       " 'https://www.yelp.com/biz/picasso-on-paseo-oklahoma-city?adjust_creative=mUhtpg0LANTRd76OAeN1RQ&utm_campaign=yelp_api_v3&utm_medium=api_v3_business_search&utm_source=mUhtpg0LANTRd76OAeN1RQ',\n",
       " 'https://www.yelp.com/biz/barrios-fine-mexican-dishes-oklahoma-city?adjust_creative=mUhtpg0LANTRd76OAeN1RQ&utm_campaign=yelp_api_v3&utm_medium=api_v3_business_search&utm_source=mUhtpg0LANTRd76OAeN1RQ',\n",
       " 'https://www.yelp.com/biz/grand-house-asian-bistro-oklahoma-city?adjust_creative=mUhtpg0LANTRd76OAeN1RQ&utm_campaign=yelp_api_v3&utm_medium=api_v3_business_search&utm_source=mUhtpg0LANTRd76OAeN1RQ',\n",
       " 'https://www.yelp.com/biz/tamashii-ramen-oklahoma-city?adjust_creative=mUhtpg0LANTRd76OAeN1RQ&utm_campaign=yelp_api_v3&utm_medium=api_v3_business_search&utm_source=mUhtpg0LANTRd76OAeN1RQ',\n",
       " 'https://www.yelp.com/biz/mt-everest-indias-cuisine-las-vegas-2?adjust_creative=mUhtpg0LANTRd76OAeN1RQ&utm_campaign=yelp_api_v3&utm_medium=api_v3_business_search&utm_source=mUhtpg0LANTRd76OAeN1RQ',\n",
       " 'https://www.yelp.com/biz/buddy-vs-ristorante-las-vegas-3?adjust_creative=mUhtpg0LANTRd76OAeN1RQ&utm_campaign=yelp_api_v3&utm_medium=api_v3_business_search&utm_source=mUhtpg0LANTRd76OAeN1RQ',\n",
       " 'https://www.yelp.com/biz/nacho-daddy-las-vegas-7?adjust_creative=mUhtpg0LANTRd76OAeN1RQ&utm_campaign=yelp_api_v3&utm_medium=api_v3_business_search&utm_source=mUhtpg0LANTRd76OAeN1RQ',\n",
       " 'https://www.yelp.com/biz/shang-artisan-noodle-las-vegas-8?adjust_creative=mUhtpg0LANTRd76OAeN1RQ&utm_campaign=yelp_api_v3&utm_medium=api_v3_business_search&utm_source=mUhtpg0LANTRd76OAeN1RQ',\n",
       " 'https://www.yelp.com/biz/gangnam-asian-bbq-dining-las-vegas-2?adjust_creative=mUhtpg0LANTRd76OAeN1RQ&utm_campaign=yelp_api_v3&utm_medium=api_v3_business_search&utm_source=mUhtpg0LANTRd76OAeN1RQ',\n",
       " 'https://www.yelp.com/biz/namaste-baltimore-baltimore?adjust_creative=mUhtpg0LANTRd76OAeN1RQ&utm_campaign=yelp_api_v3&utm_medium=api_v3_business_search&utm_source=mUhtpg0LANTRd76OAeN1RQ',\n",
       " 'https://www.yelp.com/biz/amiccis-baltimore?adjust_creative=mUhtpg0LANTRd76OAeN1RQ&utm_campaign=yelp_api_v3&utm_medium=api_v3_business_search&utm_source=mUhtpg0LANTRd76OAeN1RQ',\n",
       " 'https://www.yelp.com/biz/clavel-baltimore?adjust_creative=mUhtpg0LANTRd76OAeN1RQ&utm_campaign=yelp_api_v3&utm_medium=api_v3_business_search&utm_source=mUhtpg0LANTRd76OAeN1RQ',\n",
       " 'https://www.yelp.com/biz/ja-kum-sung-glen-burnie?adjust_creative=mUhtpg0LANTRd76OAeN1RQ&utm_campaign=yelp_api_v3&utm_medium=api_v3_business_search&utm_source=mUhtpg0LANTRd76OAeN1RQ',\n",
       " 'https://www.yelp.com/biz/shoyou-sushi-baltimore?adjust_creative=mUhtpg0LANTRd76OAeN1RQ&utm_campaign=yelp_api_v3&utm_medium=api_v3_business_search&utm_source=mUhtpg0LANTRd76OAeN1RQ',\n",
       " 'https://www.yelp.com/biz/shalimar-indian-restaurant-louisville?adjust_creative=mUhtpg0LANTRd76OAeN1RQ&utm_campaign=yelp_api_v3&utm_medium=api_v3_business_search&utm_source=mUhtpg0LANTRd76OAeN1RQ',\n",
       " 'https://www.yelp.com/biz/the-old-spaghetti-factory-louisville?adjust_creative=mUhtpg0LANTRd76OAeN1RQ&utm_campaign=yelp_api_v3&utm_medium=api_v3_business_search&utm_source=mUhtpg0LANTRd76OAeN1RQ',\n",
       " 'https://www.yelp.com/biz/mayan-cafe-louisville?adjust_creative=mUhtpg0LANTRd76OAeN1RQ&utm_campaign=yelp_api_v3&utm_medium=api_v3_business_search&utm_source=mUhtpg0LANTRd76OAeN1RQ',\n",
       " 'https://www.yelp.com/biz/simply-thai-louisville?adjust_creative=mUhtpg0LANTRd76OAeN1RQ&utm_campaign=yelp_api_v3&utm_medium=api_v3_business_search&utm_source=mUhtpg0LANTRd76OAeN1RQ',\n",
       " 'https://www.yelp.com/biz/dragon-kings-daughter-louisville?adjust_creative=mUhtpg0LANTRd76OAeN1RQ&utm_campaign=yelp_api_v3&utm_medium=api_v3_business_search&utm_source=mUhtpg0LANTRd76OAeN1RQ',\n",
       " 'https://www.yelp.com/biz/india-garden-wauwatosa?adjust_creative=mUhtpg0LANTRd76OAeN1RQ&utm_campaign=yelp_api_v3&utm_medium=api_v3_business_search&utm_source=mUhtpg0LANTRd76OAeN1RQ',\n",
       " 'https://www.yelp.com/biz/onesto-milwaukee?adjust_creative=mUhtpg0LANTRd76OAeN1RQ&utm_campaign=yelp_api_v3&utm_medium=api_v3_business_search&utm_source=mUhtpg0LANTRd76OAeN1RQ',\n",
       " 'https://www.yelp.com/biz/caf%C3%A9-coraz%C3%B3n-milwaukee-3?adjust_creative=mUhtpg0LANTRd76OAeN1RQ&utm_campaign=yelp_api_v3&utm_medium=api_v3_business_search&utm_source=mUhtpg0LANTRd76OAeN1RQ',\n",
       " 'https://www.yelp.com/biz/dandan-milwaukee?adjust_creative=mUhtpg0LANTRd76OAeN1RQ&utm_campaign=yelp_api_v3&utm_medium=api_v3_business_search&utm_source=mUhtpg0LANTRd76OAeN1RQ',\n",
       " 'https://www.yelp.com/biz/kyoto-greenfield?adjust_creative=mUhtpg0LANTRd76OAeN1RQ&utm_campaign=yelp_api_v3&utm_medium=api_v3_business_search&utm_source=mUhtpg0LANTRd76OAeN1RQ',\n",
       " 'https://www.yelp.com/biz/curry-leaf-albuquerque?adjust_creative=mUhtpg0LANTRd76OAeN1RQ&utm_campaign=yelp_api_v3&utm_medium=api_v3_business_search&utm_source=mUhtpg0LANTRd76OAeN1RQ',\n",
       " 'https://www.yelp.com/biz/farina-pizzeria-and-wine-bar-albuquerque-2?adjust_creative=mUhtpg0LANTRd76OAeN1RQ&utm_campaign=yelp_api_v3&utm_medium=api_v3_business_search&utm_source=mUhtpg0LANTRd76OAeN1RQ',\n",
       " 'https://www.yelp.com/biz/the-original-cocina-azul-mountain-albuquerque?adjust_creative=mUhtpg0LANTRd76OAeN1RQ&utm_campaign=yelp_api_v3&utm_medium=api_v3_business_search&utm_source=mUhtpg0LANTRd76OAeN1RQ',\n",
       " 'https://www.yelp.com/biz/fan-tang-albuquerque?adjust_creative=mUhtpg0LANTRd76OAeN1RQ&utm_campaign=yelp_api_v3&utm_medium=api_v3_business_search&utm_source=mUhtpg0LANTRd76OAeN1RQ',\n",
       " 'https://www.yelp.com/biz/o-ramen-and-curry-house-albuquerque?adjust_creative=mUhtpg0LANTRd76OAeN1RQ&utm_campaign=yelp_api_v3&utm_medium=api_v3_business_search&utm_source=mUhtpg0LANTRd76OAeN1RQ',\n",
       " 'https://www.yelp.com/biz/saffron-indian-bistro-oro-valley?adjust_creative=mUhtpg0LANTRd76OAeN1RQ&utm_campaign=yelp_api_v3&utm_medium=api_v3_business_search&utm_source=mUhtpg0LANTRd76OAeN1RQ',\n",
       " 'https://www.yelp.com/biz/north-italia-tucson?adjust_creative=mUhtpg0LANTRd76OAeN1RQ&utm_campaign=yelp_api_v3&utm_medium=api_v3_business_search&utm_source=mUhtpg0LANTRd76OAeN1RQ',\n",
       " 'https://www.yelp.com/biz/charro-steak-and-del-rey-tucson?adjust_creative=mUhtpg0LANTRd76OAeN1RQ&utm_campaign=yelp_api_v3&utm_medium=api_v3_business_search&utm_source=mUhtpg0LANTRd76OAeN1RQ',\n",
       " 'https://www.yelp.com/biz/jun-dynasty-chinese-restaurant-tucson-2?adjust_creative=mUhtpg0LANTRd76OAeN1RQ&utm_campaign=yelp_api_v3&utm_medium=api_v3_business_search&utm_source=mUhtpg0LANTRd76OAeN1RQ',\n",
       " 'https://www.yelp.com/biz/obon-sushi-bar-ramen-tucson-2?adjust_creative=mUhtpg0LANTRd76OAeN1RQ&utm_campaign=yelp_api_v3&utm_medium=api_v3_business_search&utm_source=mUhtpg0LANTRd76OAeN1RQ',\n",
       " 'https://www.yelp.com/biz/indian-kebab-palace-fresno?adjust_creative=mUhtpg0LANTRd76OAeN1RQ&utm_campaign=yelp_api_v3&utm_medium=api_v3_business_search&utm_source=mUhtpg0LANTRd76OAeN1RQ',\n",
       " 'https://www.yelp.com/biz/the-annex-kitchen-fresno-2?adjust_creative=mUhtpg0LANTRd76OAeN1RQ&utm_campaign=yelp_api_v3&utm_medium=api_v3_business_search&utm_source=mUhtpg0LANTRd76OAeN1RQ',\n",
       " 'https://www.yelp.com/biz/el-patio-restaurant-fresno?adjust_creative=mUhtpg0LANTRd76OAeN1RQ&utm_campaign=yelp_api_v3&utm_medium=api_v3_business_search&utm_source=mUhtpg0LANTRd76OAeN1RQ',\n",
       " 'https://www.yelp.com/biz/noodle-q-home-style-fresh-noodles-fresno-3?adjust_creative=mUhtpg0LANTRd76OAeN1RQ&utm_campaign=yelp_api_v3&utm_medium=api_v3_business_search&utm_source=mUhtpg0LANTRd76OAeN1RQ',\n",
       " 'https://www.yelp.com/biz/hino-oishi-fresno?adjust_creative=mUhtpg0LANTRd76OAeN1RQ&utm_campaign=yelp_api_v3&utm_medium=api_v3_business_search&utm_source=mUhtpg0LANTRd76OAeN1RQ',\n",
       " 'https://www.yelp.com/biz/bombay-bar-and-grill-sacramento?adjust_creative=mUhtpg0LANTRd76OAeN1RQ&utm_campaign=yelp_api_v3&utm_medium=api_v3_business_search&utm_source=mUhtpg0LANTRd76OAeN1RQ',\n",
       " 'https://www.yelp.com/biz/paesanos-sacramento?adjust_creative=mUhtpg0LANTRd76OAeN1RQ&utm_campaign=yelp_api_v3&utm_medium=api_v3_business_search&utm_source=mUhtpg0LANTRd76OAeN1RQ',\n",
       " 'https://www.yelp.com/biz/tres-hermanas-sacramento-4?adjust_creative=mUhtpg0LANTRd76OAeN1RQ&utm_campaign=yelp_api_v3&utm_medium=api_v3_business_search&utm_source=mUhtpg0LANTRd76OAeN1RQ',\n",
       " 'https://www.yelp.com/biz/yue-huang-sacramento-2?adjust_creative=mUhtpg0LANTRd76OAeN1RQ&utm_campaign=yelp_api_v3&utm_medium=api_v3_business_search&utm_source=mUhtpg0LANTRd76OAeN1RQ',\n",
       " 'https://www.yelp.com/biz/ramen-house-ryujin-sacramento?adjust_creative=mUhtpg0LANTRd76OAeN1RQ&utm_campaign=yelp_api_v3&utm_medium=api_v3_business_search&utm_source=mUhtpg0LANTRd76OAeN1RQ',\n",
       " 'https://www.yelp.com/biz/moti-mahal-kansas-city-2?adjust_creative=mUhtpg0LANTRd76OAeN1RQ&utm_campaign=yelp_api_v3&utm_medium=api_v3_business_search&utm_source=mUhtpg0LANTRd76OAeN1RQ',\n",
       " 'https://www.yelp.com/biz/lidias-kansas-city?adjust_creative=mUhtpg0LANTRd76OAeN1RQ&utm_campaign=yelp_api_v3&utm_medium=api_v3_business_search&utm_source=mUhtpg0LANTRd76OAeN1RQ',\n",
       " 'https://www.yelp.com/biz/mission-taco-joint-east-crossroads-kansas-city-3?adjust_creative=mUhtpg0LANTRd76OAeN1RQ&utm_campaign=yelp_api_v3&utm_medium=api_v3_business_search&utm_source=mUhtpg0LANTRd76OAeN1RQ',\n",
       " 'https://www.yelp.com/biz/boru-asian-eatery-kansas-city?adjust_creative=mUhtpg0LANTRd76OAeN1RQ&utm_campaign=yelp_api_v3&utm_medium=api_v3_business_search&utm_source=mUhtpg0LANTRd76OAeN1RQ',\n",
       " 'https://www.yelp.com/biz/blue-sushi-sake-grill-westwood?adjust_creative=mUhtpg0LANTRd76OAeN1RQ&utm_campaign=yelp_api_v3&utm_medium=api_v3_business_search&utm_source=mUhtpg0LANTRd76OAeN1RQ',\n",
       " 'https://www.yelp.com/biz/india-restaurant-la-habra-la-habra-3?adjust_creative=mUhtpg0LANTRd76OAeN1RQ&utm_campaign=yelp_api_v3&utm_medium=api_v3_business_search&utm_source=mUhtpg0LANTRd76OAeN1RQ',\n",
       " 'https://www.yelp.com/biz/spaghettini-seal-beach?adjust_creative=mUhtpg0LANTRd76OAeN1RQ&utm_campaign=yelp_api_v3&utm_medium=api_v3_business_search&utm_source=mUhtpg0LANTRd76OAeN1RQ',\n",
       " 'https://www.yelp.com/biz/padre-long-beach-2?adjust_creative=mUhtpg0LANTRd76OAeN1RQ&utm_campaign=yelp_api_v3&utm_medium=api_v3_business_search&utm_source=mUhtpg0LANTRd76OAeN1RQ',\n",
       " 'https://www.yelp.com/biz/nomad-asian-bistro-long-beach?adjust_creative=mUhtpg0LANTRd76OAeN1RQ&utm_campaign=yelp_api_v3&utm_medium=api_v3_business_search&utm_source=mUhtpg0LANTRd76OAeN1RQ',\n",
       " 'https://www.yelp.com/biz/i-luv-sushi-lakewood?adjust_creative=mUhtpg0LANTRd76OAeN1RQ&utm_campaign=yelp_api_v3&utm_medium=api_v3_business_search&utm_source=mUhtpg0LANTRd76OAeN1RQ',\n",
       " 'https://www.yelp.com/biz/india-oven-mesa?adjust_creative=mUhtpg0LANTRd76OAeN1RQ&utm_campaign=yelp_api_v3&utm_medium=api_v3_business_search&utm_source=mUhtpg0LANTRd76OAeN1RQ',\n",
       " 'https://www.yelp.com/biz/red-white-and-brew-mesa?adjust_creative=mUhtpg0LANTRd76OAeN1RQ&utm_campaign=yelp_api_v3&utm_medium=api_v3_business_search&utm_source=mUhtpg0LANTRd76OAeN1RQ',\n",
       " 'https://www.yelp.com/biz/joyride-taco-house-gilbert-4?adjust_creative=mUhtpg0LANTRd76OAeN1RQ&utm_campaign=yelp_api_v3&utm_medium=api_v3_business_search&utm_source=mUhtpg0LANTRd76OAeN1RQ',\n",
       " 'https://www.yelp.com/biz/singing-pandas-asian-restaurant-and-bar-chandler?adjust_creative=mUhtpg0LANTRd76OAeN1RQ&utm_campaign=yelp_api_v3&utm_medium=api_v3_business_search&utm_source=mUhtpg0LANTRd76OAeN1RQ',\n",
       " 'https://www.yelp.com/biz/osaka-japanese-steakhouse-mesa-3?adjust_creative=mUhtpg0LANTRd76OAeN1RQ&utm_campaign=yelp_api_v3&utm_medium=api_v3_business_search&utm_source=mUhtpg0LANTRd76OAeN1RQ',\n",
       " 'https://www.yelp.com/biz/chai-pani-decatur-2?adjust_creative=mUhtpg0LANTRd76OAeN1RQ&utm_campaign=yelp_api_v3&utm_medium=api_v3_business_search&utm_source=mUhtpg0LANTRd76OAeN1RQ',\n",
       " 'https://www.yelp.com/biz/amalfi-cucina-and-mercato-atlanta-4?adjust_creative=mUhtpg0LANTRd76OAeN1RQ&utm_campaign=yelp_api_v3&utm_medium=api_v3_business_search&utm_source=mUhtpg0LANTRd76OAeN1RQ',\n",
       " 'https://www.yelp.com/biz/alma-cocina-atlanta-atlanta?adjust_creative=mUhtpg0LANTRd76OAeN1RQ&utm_campaign=yelp_api_v3&utm_medium=api_v3_business_search&utm_source=mUhtpg0LANTRd76OAeN1RQ',\n",
       " 'https://www.yelp.com/biz/food-terminal-chamblee-2?adjust_creative=mUhtpg0LANTRd76OAeN1RQ&utm_campaign=yelp_api_v3&utm_medium=api_v3_business_search&utm_source=mUhtpg0LANTRd76OAeN1RQ',\n",
       " 'https://www.yelp.com/biz/eight-sushi-lounge-atlanta?adjust_creative=mUhtpg0LANTRd76OAeN1RQ&utm_campaign=yelp_api_v3&utm_medium=api_v3_business_search&utm_source=mUhtpg0LANTRd76OAeN1RQ',\n",
       " 'https://www.yelp.com/biz/little-nepal-indian-restaurant-and-bar-colorado-springs-6?adjust_creative=mUhtpg0LANTRd76OAeN1RQ&utm_campaign=yelp_api_v3&utm_medium=api_v3_business_search&utm_source=mUhtpg0LANTRd76OAeN1RQ',\n",
       " 'https://www.yelp.com/biz/paravicinis-italian-bistro-colorado-springs-4?adjust_creative=mUhtpg0LANTRd76OAeN1RQ&utm_campaign=yelp_api_v3&utm_medium=api_v3_business_search&utm_source=mUhtpg0LANTRd76OAeN1RQ',\n",
       " 'https://www.yelp.com/biz/crystal-park-cantina-manitou-springs?adjust_creative=mUhtpg0LANTRd76OAeN1RQ&utm_campaign=yelp_api_v3&utm_medium=api_v3_business_search&utm_source=mUhtpg0LANTRd76OAeN1RQ',\n",
       " 'https://www.yelp.com/biz/yellow-mountain-tea-house-colorado-springs?adjust_creative=mUhtpg0LANTRd76OAeN1RQ&utm_campaign=yelp_api_v3&utm_medium=api_v3_business_search&utm_source=mUhtpg0LANTRd76OAeN1RQ',\n",
       " 'https://www.yelp.com/biz/carlos-bistro-colorado-springs?adjust_creative=mUhtpg0LANTRd76OAeN1RQ&utm_campaign=yelp_api_v3&utm_medium=api_v3_business_search&utm_source=mUhtpg0LANTRd76OAeN1RQ',\n",
       " 'https://www.yelp.com/biz/masala-bites-virginia-beach?adjust_creative=mUhtpg0LANTRd76OAeN1RQ&utm_campaign=yelp_api_v3&utm_medium=api_v3_business_search&utm_source=mUhtpg0LANTRd76OAeN1RQ',\n",
       " 'https://www.yelp.com/biz/il-giardino-ristorante-virginia-beach?adjust_creative=mUhtpg0LANTRd76OAeN1RQ&utm_campaign=yelp_api_v3&utm_medium=api_v3_business_search&utm_source=mUhtpg0LANTRd76OAeN1RQ',\n",
       " 'https://www.yelp.com/biz/pelons-baja-grill-virginia-beach?adjust_creative=mUhtpg0LANTRd76OAeN1RQ&utm_campaign=yelp_api_v3&utm_medium=api_v3_business_search&utm_source=mUhtpg0LANTRd76OAeN1RQ',\n",
       " 'https://www.yelp.com/biz/judys-sichuan-cuisine-virginia-beach?adjust_creative=mUhtpg0LANTRd76OAeN1RQ&utm_campaign=yelp_api_v3&utm_medium=api_v3_business_search&utm_source=mUhtpg0LANTRd76OAeN1RQ',\n",
       " 'https://www.yelp.com/biz/sakura-sushi-bar-japanese-restaurant-virginia-beach?adjust_creative=mUhtpg0LANTRd76OAeN1RQ&utm_campaign=yelp_api_v3&utm_medium=api_v3_business_search&utm_source=mUhtpg0LANTRd76OAeN1RQ',\n",
       " 'https://www.yelp.com/biz/himalayan-range-nepali-restaurant-cary?adjust_creative=mUhtpg0LANTRd76OAeN1RQ&utm_campaign=yelp_api_v3&utm_medium=api_v3_business_search&utm_source=mUhtpg0LANTRd76OAeN1RQ',\n",
       " 'https://www.yelp.com/biz/gravy-raleigh?adjust_creative=mUhtpg0LANTRd76OAeN1RQ&utm_campaign=yelp_api_v3&utm_medium=api_v3_business_search&utm_source=mUhtpg0LANTRd76OAeN1RQ',\n",
       " 'https://www.yelp.com/biz/salt-and-lime-cabo-grill-raleigh?adjust_creative=mUhtpg0LANTRd76OAeN1RQ&utm_campaign=yelp_api_v3&utm_medium=api_v3_business_search&utm_source=mUhtpg0LANTRd76OAeN1RQ',\n",
       " 'https://www.yelp.com/biz/brewery-bhavana-raleigh?adjust_creative=mUhtpg0LANTRd76OAeN1RQ&utm_campaign=yelp_api_v3&utm_medium=api_v3_business_search&utm_source=mUhtpg0LANTRd76OAeN1RQ',\n",
       " 'https://www.yelp.com/biz/noodle-boulevard-cary-2?adjust_creative=mUhtpg0LANTRd76OAeN1RQ&utm_campaign=yelp_api_v3&utm_medium=api_v3_business_search&utm_source=mUhtpg0LANTRd76OAeN1RQ',\n",
       " 'https://www.yelp.com/biz/jaipur-restaurant-and-brewing-omaha?adjust_creative=mUhtpg0LANTRd76OAeN1RQ&utm_campaign=yelp_api_v3&utm_medium=api_v3_business_search&utm_source=mUhtpg0LANTRd76OAeN1RQ',\n",
       " 'https://www.yelp.com/biz/via-farina-omaha?adjust_creative=mUhtpg0LANTRd76OAeN1RQ&utm_campaign=yelp_api_v3&utm_medium=api_v3_business_search&utm_source=mUhtpg0LANTRd76OAeN1RQ',\n",
       " 'https://www.yelp.com/biz/hook-and-lime-omaha?adjust_creative=mUhtpg0LANTRd76OAeN1RQ&utm_campaign=yelp_api_v3&utm_medium=api_v3_business_search&utm_source=mUhtpg0LANTRd76OAeN1RQ',\n",
       " 'https://www.yelp.com/biz/three-happiness-express-omaha?adjust_creative=mUhtpg0LANTRd76OAeN1RQ&utm_campaign=yelp_api_v3&utm_medium=api_v3_business_search&utm_source=mUhtpg0LANTRd76OAeN1RQ',\n",
       " 'https://www.yelp.com/biz/blue-sushi-sake-grill-omaha?adjust_creative=mUhtpg0LANTRd76OAeN1RQ&utm_campaign=yelp_api_v3&utm_medium=api_v3_business_search&utm_source=mUhtpg0LANTRd76OAeN1RQ',\n",
       " 'https://www.yelp.com/biz/bombay-darbar-miami-3?adjust_creative=mUhtpg0LANTRd76OAeN1RQ&utm_campaign=yelp_api_v3&utm_medium=api_v3_business_search&utm_source=mUhtpg0LANTRd76OAeN1RQ',\n",
       " 'https://www.yelp.com/biz/crazy-about-you-miami-3?adjust_creative=mUhtpg0LANTRd76OAeN1RQ&utm_campaign=yelp_api_v3&utm_medium=api_v3_business_search&utm_source=mUhtpg0LANTRd76OAeN1RQ',\n",
       " 'https://www.yelp.com/biz/mi-rinconcito-mexicano-miami?adjust_creative=mUhtpg0LANTRd76OAeN1RQ&utm_campaign=yelp_api_v3&utm_medium=api_v3_business_search&utm_source=mUhtpg0LANTRd76OAeN1RQ',\n",
       " 'https://www.yelp.com/biz/kon-chau-restaurant-miami?adjust_creative=mUhtpg0LANTRd76OAeN1RQ&utm_campaign=yelp_api_v3&utm_medium=api_v3_business_search&utm_source=mUhtpg0LANTRd76OAeN1RQ',\n",
       " 'https://www.yelp.com/biz/gyu-kaku-japanese-bbq-miami?adjust_creative=mUhtpg0LANTRd76OAeN1RQ&utm_campaign=yelp_api_v3&utm_medium=api_v3_business_search&utm_source=mUhtpg0LANTRd76OAeN1RQ',\n",
       " 'https://www.yelp.com/biz/viks-chaat-berkeley?adjust_creative=mUhtpg0LANTRd76OAeN1RQ&utm_campaign=yelp_api_v3&utm_medium=api_v3_business_search&utm_source=mUhtpg0LANTRd76OAeN1RQ',\n",
       " 'https://www.yelp.com/biz/the-italian-homemade-company-san-francisco-8?adjust_creative=mUhtpg0LANTRd76OAeN1RQ&utm_campaign=yelp_api_v3&utm_medium=api_v3_business_search&utm_source=mUhtpg0LANTRd76OAeN1RQ',\n",
       " 'https://www.yelp.com/biz/cholita-linda-oakland?adjust_creative=mUhtpg0LANTRd76OAeN1RQ&utm_campaign=yelp_api_v3&utm_medium=api_v3_business_search&utm_source=mUhtpg0LANTRd76OAeN1RQ',\n",
       " 'https://www.yelp.com/biz/shandong-restaurant-oakland?adjust_creative=mUhtpg0LANTRd76OAeN1RQ&utm_campaign=yelp_api_v3&utm_medium=api_v3_business_search&utm_source=mUhtpg0LANTRd76OAeN1RQ',\n",
       " 'https://www.yelp.com/biz/marufuku-ramen-oakland-oakland-5?adjust_creative=mUhtpg0LANTRd76OAeN1RQ&utm_campaign=yelp_api_v3&utm_medium=api_v3_business_search&utm_source=mUhtpg0LANTRd76OAeN1RQ',\n",
       " 'https://www.yelp.com/biz/gorkha-palace-minneapolis?adjust_creative=mUhtpg0LANTRd76OAeN1RQ&utm_campaign=yelp_api_v3&utm_medium=api_v3_business_search&utm_source=mUhtpg0LANTRd76OAeN1RQ',\n",
       " 'https://www.yelp.com/biz/bar-la-grassa-minneapolis?adjust_creative=mUhtpg0LANTRd76OAeN1RQ&utm_campaign=yelp_api_v3&utm_medium=api_v3_business_search&utm_source=mUhtpg0LANTRd76OAeN1RQ',\n",
       " 'https://www.yelp.com/biz/sea-salt-eatery-minneapolis?adjust_creative=mUhtpg0LANTRd76OAeN1RQ&utm_campaign=yelp_api_v3&utm_medium=api_v3_business_search&utm_source=mUhtpg0LANTRd76OAeN1RQ',\n",
       " 'https://www.yelp.com/biz/shuang-cheng-restaurant-minneapolis?adjust_creative=mUhtpg0LANTRd76OAeN1RQ&utm_campaign=yelp_api_v3&utm_medium=api_v3_business_search&utm_source=mUhtpg0LANTRd76OAeN1RQ',\n",
       " 'https://www.yelp.com/biz/wakame-sushi-and-asian-bistro-minneapolis?adjust_creative=mUhtpg0LANTRd76OAeN1RQ&utm_campaign=yelp_api_v3&utm_medium=api_v3_business_search&utm_source=mUhtpg0LANTRd76OAeN1RQ',\n",
       " 'https://www.yelp.com/biz/india-palace-restaurant-tulsa?adjust_creative=mUhtpg0LANTRd76OAeN1RQ&utm_campaign=yelp_api_v3&utm_medium=api_v3_business_search&utm_source=mUhtpg0LANTRd76OAeN1RQ',\n",
       " 'https://www.yelp.com/biz/andolinis-pizzeria-cherry-street-tulsa-2?adjust_creative=mUhtpg0LANTRd76OAeN1RQ&utm_campaign=yelp_api_v3&utm_medium=api_v3_business_search&utm_source=mUhtpg0LANTRd76OAeN1RQ',\n",
       " 'https://www.yelp.com/biz/mother-road-market-tulsa?adjust_creative=mUhtpg0LANTRd76OAeN1RQ&utm_campaign=yelp_api_v3&utm_medium=api_v3_business_search&utm_source=mUhtpg0LANTRd76OAeN1RQ',\n",
       " 'https://www.yelp.com/biz/mandarin-taste-tulsa-4?adjust_creative=mUhtpg0LANTRd76OAeN1RQ&utm_campaign=yelp_api_v3&utm_medium=api_v3_business_search&utm_source=mUhtpg0LANTRd76OAeN1RQ',\n",
       " 'https://www.yelp.com/biz/jinya-ramen-bar-tulsa-tulsa?adjust_creative=mUhtpg0LANTRd76OAeN1RQ&utm_campaign=yelp_api_v3&utm_medium=api_v3_business_search&utm_source=mUhtpg0LANTRd76OAeN1RQ',\n",
       " 'https://www.yelp.com/biz/passage-to-india-wichita?adjust_creative=mUhtpg0LANTRd76OAeN1RQ&utm_campaign=yelp_api_v3&utm_medium=api_v3_business_search&utm_source=mUhtpg0LANTRd76OAeN1RQ',\n",
       " 'https://www.yelp.com/biz/bella-vita-bistro-wichita-2?adjust_creative=mUhtpg0LANTRd76OAeN1RQ&utm_campaign=yelp_api_v3&utm_medium=api_v3_business_search&utm_source=mUhtpg0LANTRd76OAeN1RQ',\n",
       " 'https://www.yelp.com/biz/river-city-brewing-wichita-4?adjust_creative=mUhtpg0LANTRd76OAeN1RQ&utm_campaign=yelp_api_v3&utm_medium=api_v3_business_search&utm_source=mUhtpg0LANTRd76OAeN1RQ',\n",
       " 'https://www.yelp.com/biz/p-f-changs-wichita-3?adjust_creative=mUhtpg0LANTRd76OAeN1RQ&utm_campaign=yelp_api_v3&utm_medium=api_v3_business_search&utm_source=mUhtpg0LANTRd76OAeN1RQ',\n",
       " 'https://www.yelp.com/biz/yokohama-ramen-joint-wichita?adjust_creative=mUhtpg0LANTRd76OAeN1RQ&utm_campaign=yelp_api_v3&utm_medium=api_v3_business_search&utm_source=mUhtpg0LANTRd76OAeN1RQ',\n",
       " 'https://www.yelp.com/biz/nirvana-indian-cuisine-new-orleans?adjust_creative=mUhtpg0LANTRd76OAeN1RQ&utm_campaign=yelp_api_v3&utm_medium=api_v3_business_search&utm_source=mUhtpg0LANTRd76OAeN1RQ',\n",
       " 'https://www.yelp.com/biz/domenica-new-orleans?adjust_creative=mUhtpg0LANTRd76OAeN1RQ&utm_campaign=yelp_api_v3&utm_medium=api_v3_business_search&utm_source=mUhtpg0LANTRd76OAeN1RQ',\n",
       " 'https://www.yelp.com/biz/the-rum-house-new-orleans?adjust_creative=mUhtpg0LANTRd76OAeN1RQ&utm_campaign=yelp_api_v3&utm_medium=api_v3_business_search&utm_source=mUhtpg0LANTRd76OAeN1RQ',\n",
       " 'https://www.yelp.com/biz/maypop-restaurant-new-orleans?adjust_creative=mUhtpg0LANTRd76OAeN1RQ&utm_campaign=yelp_api_v3&utm_medium=api_v3_business_search&utm_source=mUhtpg0LANTRd76OAeN1RQ',\n",
       " 'https://www.yelp.com/biz/hoshun-restaurant-new-orleans?adjust_creative=mUhtpg0LANTRd76OAeN1RQ&utm_campaign=yelp_api_v3&utm_medium=api_v3_business_search&utm_source=mUhtpg0LANTRd76OAeN1RQ',\n",
       " 'https://www.yelp.com/biz/india-grill-arlington-2?adjust_creative=mUhtpg0LANTRd76OAeN1RQ&utm_campaign=yelp_api_v3&utm_medium=api_v3_business_search&utm_source=mUhtpg0LANTRd76OAeN1RQ',\n",
       " 'https://www.yelp.com/biz/italian-cafe-irving?adjust_creative=mUhtpg0LANTRd76OAeN1RQ&utm_campaign=yelp_api_v3&utm_medium=api_v3_business_search&utm_source=mUhtpg0LANTRd76OAeN1RQ',\n",
       " 'https://www.yelp.com/biz/hugos-invitados-irving?adjust_creative=mUhtpg0LANTRd76OAeN1RQ&utm_campaign=yelp_api_v3&utm_medium=api_v3_business_search&utm_source=mUhtpg0LANTRd76OAeN1RQ',\n",
       " 'https://www.yelp.com/biz/bethany-boba-tea-and-cafe-arlington?adjust_creative=mUhtpg0LANTRd76OAeN1RQ&utm_campaign=yelp_api_v3&utm_medium=api_v3_business_search&utm_source=mUhtpg0LANTRd76OAeN1RQ',\n",
       " 'https://www.yelp.com/biz/mr-max-irving?adjust_creative=mUhtpg0LANTRd76OAeN1RQ&utm_campaign=yelp_api_v3&utm_medium=api_v3_business_search&utm_source=mUhtpg0LANTRd76OAeN1RQ']"
      ]
     },
     "execution_count": 8,
     "metadata": {},
     "output_type": "execute_result"
    }
   ],
   "source": [
    "#extracting links of all restaurants\n",
    "restaurant_urls = popular_restaurants_df['url'].tolist()\n",
    "restaurant_urls"
   ]
  },
  {
   "cell_type": "code",
   "execution_count": 22,
   "metadata": {},
   "outputs": [],
   "source": [
    "# Function to scrape data from a given page URL\n",
    "def scrape_page(url, business_id):\n",
    "    result = []\n",
    "\n",
    "    response = requests.get(url)\n",
    "    soup = BeautifulSoup(response.text, 'html.parser')\n",
    "\n",
    "    li_class = soup.find_all('li', class_='css-1q2nwpv')\n",
    "\n",
    "    for li in li_class:\n",
    "        # Initialize variables\n",
    "        date_text = ''\n",
    "        review_text = ''\n",
    "        rating = ''\n",
    "        \n",
    "        # Date\n",
    "        date_span = li.find('span', class_='css-chan6m')\n",
    "        if date_span:\n",
    "            date_text = date_span.text.strip()\n",
    "\n",
    "        # Review text\n",
    "        review_text_span = li.find('span', class_='raw__09f24__T4Ezm')\n",
    "        if review_text_span:\n",
    "            review_text = review_text_span.text.strip()\n",
    "\n",
    "        # Rating\n",
    "        rating_div = li.find('div', class_='css-14g69b3')\n",
    "        if rating_div:\n",
    "            rating = rating_div.get('aria-label')\n",
    "\n",
    "        # Check if all three elements are found before appending to the result list\n",
    "        if date_text and review_text and rating:\n",
    "            result.append({\n",
    "                'Date': date_text,\n",
    "                'Review Text': review_text,\n",
    "                'Rating': rating, \n",
    "                'Business ID': business_id\n",
    "            })\n",
    "\n",
    "    return result"
   ]
  },
  {
   "cell_type": "code",
   "execution_count": 23,
   "metadata": {},
   "outputs": [],
   "source": [
    "# Function to navigate to the next page\n",
    "def navigate_to_next_page(driver):\n",
    "    # button for going to the next page\n",
    "    #navigation-button-container__09f24__SvcBh css-1qn0b6x--> next page button class \n",
    "    try:\n",
    "        button = WebDriverWait(driver, 10).until(\n",
    "            EC.presence_of_element_located((By.XPATH, \"/html/body/yelp-react-root/div[1]/div[6]/div/div[1]/div[1]/main/div[3]/div/section/div[2]/div[5]/div[1]/div/div[11]\"))\n",
    "        )\n",
    "        button.click()\n",
    "    except TimeoutException:\n",
    "        print(\"Timed out waiting for the button to be present.\")"
   ]
  },
  {
   "cell_type": "code",
   "execution_count": 30,
   "metadata": {},
   "outputs": [],
   "source": [
    "# Install or update ChromeDriver\n",
    "ChromeDriverManager().install()\n",
    "driver = webdriver.Chrome()"
   ]
  },
  {
   "cell_type": "code",
   "execution_count": 17,
   "metadata": {},
   "outputs": [
    {
     "name": "stdout",
     "output_type": "stream",
     "text": [
      "Scraped data from page 1\n",
      "Scraped data from page 2\n",
      "Scraped data from page 3\n",
      "Scraped data from page 4\n",
      "Scraped data from page 5\n"
     ]
    }
   ],
   "source": [
    "# #trying fucntions for the first link\n",
    "# # Main code\n",
    "# url= restaurant_urls[0] # Replace with your actual base URL\n",
    "# num_pages = 5\n",
    "# result_for_link_1 = []\n",
    "\n",
    "# #initialise the driver\n",
    "# driver.set_page_load_timeout(20)\n",
    "# try:\n",
    "#     driver.get(url)\n",
    "# except TimeoutException:\n",
    "#     driver.execute_script(\"window.stop();\")\n",
    "\n",
    "# for page_number in range(1, 6):\n",
    "#     scrape_result = scrape_page(url)\n",
    "#     print(f\"Scraped data from page {page_number}\")\n",
    "#     result_for_link_1.extend(scrape_result)\n",
    "#     # Navigate to the next page\n",
    "#     navigate_to_next_page(driver)\n",
    "#     url = driver.current_url\n",
    "\n",
    "# # Quit the WebDriver when done\n",
    "# driver.quit()"
   ]
  },
  {
   "cell_type": "code",
   "execution_count": 13,
   "metadata": {},
   "outputs": [
    {
     "name": "stderr",
     "output_type": "stream",
     "text": [
      "Scraping Restaurants:   0%|          | 0/255 [00:00<?, ?it/s]"
     ]
    },
    {
     "name": "stdout",
     "output_type": "stream",
     "text": [
      "Scraped data from page 1\n",
      "Scraped data from page 2\n",
      "Scraped data from page 3\n",
      "Scraped data from page 4\n",
      "Scraped data from page 5\n"
     ]
    },
    {
     "name": "stderr",
     "output_type": "stream",
     "text": [
      "Scraping Restaurants:   0%|          | 1/255 [00:29<2:06:53, 29.97s/it]"
     ]
    },
    {
     "name": "stdout",
     "output_type": "stream",
     "text": [
      "\n",
      "Results fetched for URL https://www.yelp.com/biz/taco-mahal-new-york?adjust_creative=mUhtpg0LANTRd76OAeN1RQ&utm_campaign=yelp_api_v3&utm_medium=api_v3_business_search&utm_source=mUhtpg0LANTRd76OAeN1RQ&start=40:\n",
      "Scraped data from page 1\n",
      "Scraped data from page 2\n",
      "Scraped data from page 3\n",
      "Scraped data from page 4\n",
      "Scraped data from page 5\n"
     ]
    },
    {
     "name": "stderr",
     "output_type": "stream",
     "text": [
      "Scraping Restaurants:   1%|          | 2/255 [00:54<1:53:03, 26.81s/it]"
     ]
    },
    {
     "name": "stdout",
     "output_type": "stream",
     "text": [
      "\n",
      "Results fetched for URL https://www.yelp.com/biz/olio-e-pi%C3%B9-new-york-7?adjust_creative=mUhtpg0LANTRd76OAeN1RQ&utm_campaign=yelp_api_v3&utm_medium=api_v3_business_search&utm_source=mUhtpg0LANTRd76OAeN1RQ&start=40:\n",
      "Scraped data from page 1\n",
      "Scraped data from page 2\n",
      "Scraped data from page 3\n",
      "Scraped data from page 4\n",
      "Scraped data from page 5\n"
     ]
    },
    {
     "name": "stderr",
     "output_type": "stream",
     "text": [
      "Scraping Restaurants:   1%|          | 3/255 [01:21<1:53:15, 26.97s/it]"
     ]
    },
    {
     "name": "stdout",
     "output_type": "stream",
     "text": [
      "\n",
      "Results fetched for URL https://www.yelp.com/biz/cafe-habana-new-york-4?adjust_creative=mUhtpg0LANTRd76OAeN1RQ&utm_campaign=yelp_api_v3&utm_medium=api_v3_business_search&utm_source=mUhtpg0LANTRd76OAeN1RQ&start=40:\n",
      "Scraped data from page 1\n",
      "Scraped data from page 2\n",
      "Scraped data from page 3\n",
      "Scraped data from page 4\n",
      "Scraped data from page 5\n"
     ]
    },
    {
     "name": "stderr",
     "output_type": "stream",
     "text": [
      "Scraping Restaurants:   2%|▏         | 4/255 [01:48<1:52:41, 26.94s/it]"
     ]
    },
    {
     "name": "stdout",
     "output_type": "stream",
     "text": [
      "\n",
      "Results fetched for URL https://www.yelp.com/biz/joes-shanghai-new-york-2?adjust_creative=mUhtpg0LANTRd76OAeN1RQ&utm_campaign=yelp_api_v3&utm_medium=api_v3_business_search&utm_source=mUhtpg0LANTRd76OAeN1RQ&start=40:\n",
      "Scraped data from page 1\n",
      "Scraped data from page 2\n",
      "Scraped data from page 3\n",
      "Scraped data from page 4\n",
      "Scraped data from page 5\n"
     ]
    },
    {
     "name": "stderr",
     "output_type": "stream",
     "text": [
      "Scraping Restaurants:   2%|▏         | 5/255 [02:12<1:47:44, 25.86s/it]"
     ]
    },
    {
     "name": "stdout",
     "output_type": "stream",
     "text": [
      "\n",
      "Results fetched for URL https://www.yelp.com/biz/raku-new-york-7?adjust_creative=mUhtpg0LANTRd76OAeN1RQ&utm_campaign=yelp_api_v3&utm_medium=api_v3_business_search&utm_source=mUhtpg0LANTRd76OAeN1RQ&start=40:\n",
      "Scraped data from page 1\n",
      "Scraped data from page 2\n",
      "Scraped data from page 3\n",
      "Scraped data from page 4\n",
      "Scraped data from page 5\n"
     ]
    },
    {
     "name": "stderr",
     "output_type": "stream",
     "text": [
      "Scraping Restaurants:   2%|▏         | 6/255 [02:39<1:48:38, 26.18s/it]"
     ]
    },
    {
     "name": "stdout",
     "output_type": "stream",
     "text": [
      "\n",
      "Results fetched for URL https://www.yelp.com/biz/himalayan-yak-jackson-heights?adjust_creative=mUhtpg0LANTRd76OAeN1RQ&utm_campaign=yelp_api_v3&utm_medium=api_v3_business_search&utm_source=mUhtpg0LANTRd76OAeN1RQ&start=40:\n",
      "Scraped data from page 1\n",
      "Scraped data from page 2\n",
      "Scraped data from page 3\n",
      "Scraped data from page 4\n",
      "Scraped data from page 5\n"
     ]
    },
    {
     "name": "stderr",
     "output_type": "stream",
     "text": [
      "Scraping Restaurants:   3%|▎         | 7/255 [03:06<1:49:15, 26.43s/it]"
     ]
    },
    {
     "name": "stdout",
     "output_type": "stream",
     "text": [
      "\n",
      "Results fetched for URL https://www.yelp.com/biz/trattoria-l-incontro-astoria-6?adjust_creative=mUhtpg0LANTRd76OAeN1RQ&utm_campaign=yelp_api_v3&utm_medium=api_v3_business_search&utm_source=mUhtpg0LANTRd76OAeN1RQ&start=40:\n",
      "Scraped data from page 1\n",
      "Scraped data from page 2\n",
      "Scraped data from page 3\n",
      "Scraped data from page 4\n",
      "Scraped data from page 5\n"
     ]
    },
    {
     "name": "stderr",
     "output_type": "stream",
     "text": [
      "Scraping Restaurants:   3%|▎         | 8/255 [03:33<1:50:24, 26.82s/it]"
     ]
    },
    {
     "name": "stdout",
     "output_type": "stream",
     "text": [
      "\n",
      "Results fetched for URL https://www.yelp.com/biz/casa-enrique-long-island-city?adjust_creative=mUhtpg0LANTRd76OAeN1RQ&utm_campaign=yelp_api_v3&utm_medium=api_v3_business_search&utm_source=mUhtpg0LANTRd76OAeN1RQ&start=40:\n",
      "Scraped data from page 1\n",
      "Scraped data from page 2\n",
      "Scraped data from page 3\n",
      "Scraped data from page 4\n",
      "Scraped data from page 5\n"
     ]
    },
    {
     "name": "stderr",
     "output_type": "stream",
     "text": [
      "Scraping Restaurants:   4%|▎         | 9/255 [04:01<1:50:15, 26.89s/it]"
     ]
    },
    {
     "name": "stdout",
     "output_type": "stream",
     "text": [
      "\n",
      "Results fetched for URL https://www.yelp.com/biz/haidilao-hot-pot-flushing-flushing?adjust_creative=mUhtpg0LANTRd76OAeN1RQ&utm_campaign=yelp_api_v3&utm_medium=api_v3_business_search&utm_source=mUhtpg0LANTRd76OAeN1RQ&start=40:\n",
      "Scraped data from page 1\n",
      "Scraped data from page 2\n",
      "Scraped data from page 3\n",
      "Scraped data from page 4\n",
      "Scraped data from page 5\n"
     ]
    },
    {
     "name": "stderr",
     "output_type": "stream",
     "text": [
      "Scraping Restaurants:   4%|▍         | 10/255 [04:25<1:46:47, 26.15s/it]"
     ]
    },
    {
     "name": "stdout",
     "output_type": "stream",
     "text": [
      "\n",
      "Results fetched for URL https://www.yelp.com/biz/akino-elmhurst?adjust_creative=mUhtpg0LANTRd76OAeN1RQ&utm_campaign=yelp_api_v3&utm_medium=api_v3_business_search&utm_source=mUhtpg0LANTRd76OAeN1RQ&start=40:\n",
      "Scraped data from page 1\n",
      "Scraped data from page 2\n",
      "Scraped data from page 3\n",
      "Scraped data from page 4\n",
      "Scraped data from page 5\n"
     ]
    },
    {
     "name": "stderr",
     "output_type": "stream",
     "text": [
      "Scraping Restaurants:   4%|▍         | 11/255 [04:51<1:45:33, 25.96s/it]"
     ]
    },
    {
     "name": "stdout",
     "output_type": "stream",
     "text": [
      "\n",
      "Results fetched for URL https://www.yelp.com/biz/anarkali-indian-restaurant-los-angeles?adjust_creative=mUhtpg0LANTRd76OAeN1RQ&utm_campaign=yelp_api_v3&utm_medium=api_v3_business_search&utm_source=mUhtpg0LANTRd76OAeN1RQ&start=40:\n",
      "Scraped data from page 1\n",
      "Scraped data from page 2\n",
      "Scraped data from page 3\n",
      "Scraped data from page 4\n",
      "Scraped data from page 5\n"
     ]
    },
    {
     "name": "stderr",
     "output_type": "stream",
     "text": [
      "Scraping Restaurants:   5%|▍         | 12/255 [05:20<1:49:08, 26.95s/it]"
     ]
    },
    {
     "name": "stdout",
     "output_type": "stream",
     "text": [
      "\n",
      "Results fetched for URL https://www.yelp.com/biz/bottega-louie-los-angeles?adjust_creative=mUhtpg0LANTRd76OAeN1RQ&utm_campaign=yelp_api_v3&utm_medium=api_v3_business_search&utm_source=mUhtpg0LANTRd76OAeN1RQ&start=40:\n",
      "Scraped data from page 1\n",
      "Scraped data from page 2\n",
      "Scraped data from page 3\n",
      "Scraped data from page 4\n",
      "Scraped data from page 5\n"
     ]
    },
    {
     "name": "stderr",
     "output_type": "stream",
     "text": [
      "Scraping Restaurants:   5%|▌         | 13/255 [05:48<1:50:50, 27.48s/it]"
     ]
    },
    {
     "name": "stdout",
     "output_type": "stream",
     "text": [
      "\n",
      "Results fetched for URL https://www.yelp.com/biz/toca-madera-los-angeles-los-angeles?adjust_creative=mUhtpg0LANTRd76OAeN1RQ&utm_campaign=yelp_api_v3&utm_medium=api_v3_business_search&utm_source=mUhtpg0LANTRd76OAeN1RQ&start=40:\n",
      "Scraped data from page 1\n",
      "Scraped data from page 2\n",
      "Scraped data from page 3\n",
      "Scraped data from page 4\n",
      "Scraped data from page 5\n"
     ]
    },
    {
     "name": "stderr",
     "output_type": "stream",
     "text": [
      "Scraping Restaurants:   5%|▌         | 14/255 [06:14<1:48:12, 26.94s/it]"
     ]
    },
    {
     "name": "stdout",
     "output_type": "stream",
     "text": [
      "\n",
      "Results fetched for URL https://www.yelp.com/biz/bao-dim-sum-house-los-angeles?adjust_creative=mUhtpg0LANTRd76OAeN1RQ&utm_campaign=yelp_api_v3&utm_medium=api_v3_business_search&utm_source=mUhtpg0LANTRd76OAeN1RQ&start=40:\n",
      "Scraped data from page 1\n",
      "Scraped data from page 2\n",
      "Scraped data from page 3\n",
      "Scraped data from page 4\n",
      "Scraped data from page 5\n"
     ]
    },
    {
     "name": "stderr",
     "output_type": "stream",
     "text": [
      "Scraping Restaurants:   6%|▌         | 15/255 [06:41<1:47:57, 26.99s/it]"
     ]
    },
    {
     "name": "stdout",
     "output_type": "stream",
     "text": [
      "\n",
      "Results fetched for URL https://www.yelp.com/biz/slurpin-ramen-bar-la-los-angeles-2?adjust_creative=mUhtpg0LANTRd76OAeN1RQ&utm_campaign=yelp_api_v3&utm_medium=api_v3_business_search&utm_source=mUhtpg0LANTRd76OAeN1RQ&start=40:\n",
      "Scraped data from page 1\n",
      "Scraped data from page 2\n",
      "Scraped data from page 3\n",
      "Scraped data from page 4\n",
      "Scraped data from page 5\n"
     ]
    },
    {
     "name": "stderr",
     "output_type": "stream",
     "text": [
      "Scraping Restaurants:   6%|▋         | 16/255 [07:06<1:44:44, 26.29s/it]"
     ]
    },
    {
     "name": "stdout",
     "output_type": "stream",
     "text": [
      "\n",
      "Results fetched for URL https://www.yelp.com/biz/pakwan-restaurant-16th-street-san-francisco?adjust_creative=mUhtpg0LANTRd76OAeN1RQ&utm_campaign=yelp_api_v3&utm_medium=api_v3_business_search&utm_source=mUhtpg0LANTRd76OAeN1RQ&start=40:\n",
      "Scraped data from page 1\n",
      "Scraped data from page 2\n",
      "Scraped data from page 3\n",
      "Scraped data from page 4\n",
      "Scraped data from page 5\n"
     ]
    },
    {
     "name": "stderr",
     "output_type": "stream",
     "text": [
      "Scraping Restaurants:   7%|▋         | 17/255 [07:33<1:45:11, 26.52s/it]"
     ]
    },
    {
     "name": "stdout",
     "output_type": "stream",
     "text": [
      "\n",
      "Results fetched for URL https://www.yelp.com/biz/sotto-mare-san-francisco-4?adjust_creative=mUhtpg0LANTRd76OAeN1RQ&utm_campaign=yelp_api_v3&utm_medium=api_v3_business_search&utm_source=mUhtpg0LANTRd76OAeN1RQ&start=40:\n",
      "Scraped data from page 1\n",
      "Scraped data from page 2\n",
      "Scraped data from page 3\n",
      "Scraped data from page 4\n",
      "Scraped data from page 5\n"
     ]
    },
    {
     "name": "stderr",
     "output_type": "stream",
     "text": [
      "Scraping Restaurants:   7%|▋         | 18/255 [07:59<1:44:34, 26.47s/it]"
     ]
    },
    {
     "name": "stdout",
     "output_type": "stream",
     "text": [
      "\n",
      "Results fetched for URL https://www.yelp.com/biz/el-farolito-san-francisco-2?adjust_creative=mUhtpg0LANTRd76OAeN1RQ&utm_campaign=yelp_api_v3&utm_medium=api_v3_business_search&utm_source=mUhtpg0LANTRd76OAeN1RQ&start=40:\n",
      "Scraped data from page 1\n",
      "Scraped data from page 2\n",
      "Scraped data from page 3\n",
      "Scraped data from page 4\n",
      "Scraped data from page 5\n"
     ]
    },
    {
     "name": "stderr",
     "output_type": "stream",
     "text": [
      "Scraping Restaurants:   7%|▋         | 19/255 [08:27<1:45:44, 26.88s/it]"
     ]
    },
    {
     "name": "stdout",
     "output_type": "stream",
     "text": [
      "\n",
      "Results fetched for URL https://www.yelp.com/biz/san-tung-san-francisco-2?adjust_creative=mUhtpg0LANTRd76OAeN1RQ&utm_campaign=yelp_api_v3&utm_medium=api_v3_business_search&utm_source=mUhtpg0LANTRd76OAeN1RQ&start=40:\n",
      "Scraped data from page 1\n",
      "Scraped data from page 2\n",
      "Scraped data from page 3\n",
      "Scraped data from page 4\n",
      "Scraped data from page 5\n"
     ]
    },
    {
     "name": "stderr",
     "output_type": "stream",
     "text": [
      "Scraping Restaurants:   8%|▊         | 20/255 [08:55<1:46:50, 27.28s/it]"
     ]
    },
    {
     "name": "stdout",
     "output_type": "stream",
     "text": [
      "\n",
      "Results fetched for URL https://www.yelp.com/biz/marufuku-ramen-san-francisco-5?adjust_creative=mUhtpg0LANTRd76OAeN1RQ&utm_campaign=yelp_api_v3&utm_medium=api_v3_business_search&utm_source=mUhtpg0LANTRd76OAeN1RQ&start=40:\n",
      "Scraped data from page 1\n",
      "Scraped data from page 2\n",
      "Scraped data from page 3\n",
      "Scraped data from page 4\n",
      "Scraped data from page 5\n"
     ]
    },
    {
     "name": "stderr",
     "output_type": "stream",
     "text": [
      "Scraping Restaurants:   8%|▊         | 21/255 [09:20<1:43:11, 26.46s/it]"
     ]
    },
    {
     "name": "stdout",
     "output_type": "stream",
     "text": [
      "\n",
      "Results fetched for URL https://www.yelp.com/biz/cumin-chicago?adjust_creative=mUhtpg0LANTRd76OAeN1RQ&utm_campaign=yelp_api_v3&utm_medium=api_v3_business_search&utm_source=mUhtpg0LANTRd76OAeN1RQ&start=40:\n",
      "Scraped data from page 1\n",
      "Scraped data from page 2\n",
      "Scraped data from page 3\n",
      "Scraped data from page 4\n",
      "Scraped data from page 5\n"
     ]
    },
    {
     "name": "stderr",
     "output_type": "stream",
     "text": [
      "Scraping Restaurants:   9%|▊         | 22/255 [09:45<1:40:55, 25.99s/it]"
     ]
    },
    {
     "name": "stdout",
     "output_type": "stream",
     "text": [
      "\n",
      "Results fetched for URL https://www.yelp.com/biz/eataly-chicago-chicago-6?adjust_creative=mUhtpg0LANTRd76OAeN1RQ&utm_campaign=yelp_api_v3&utm_medium=api_v3_business_search&utm_source=mUhtpg0LANTRd76OAeN1RQ&start=40:\n",
      "Scraped data from page 1\n",
      "Scraped data from page 2\n",
      "Scraped data from page 3\n",
      "Scraped data from page 4\n",
      "Scraped data from page 5\n"
     ]
    },
    {
     "name": "stderr",
     "output_type": "stream",
     "text": [
      "Scraping Restaurants:   9%|▉         | 23/255 [10:09<1:38:11, 25.39s/it]"
     ]
    },
    {
     "name": "stdout",
     "output_type": "stream",
     "text": [
      "\n",
      "Results fetched for URL https://www.yelp.com/biz/del-seoul-chicago?adjust_creative=mUhtpg0LANTRd76OAeN1RQ&utm_campaign=yelp_api_v3&utm_medium=api_v3_business_search&utm_source=mUhtpg0LANTRd76OAeN1RQ&start=40:\n",
      "Scraped data from page 1\n",
      "Scraped data from page 2\n",
      "Scraped data from page 3\n",
      "Scraped data from page 4\n",
      "Scraped data from page 5\n"
     ]
    },
    {
     "name": "stderr",
     "output_type": "stream",
     "text": [
      "Scraping Restaurants:   9%|▉         | 24/255 [10:34<1:37:36, 25.35s/it]"
     ]
    },
    {
     "name": "stdout",
     "output_type": "stream",
     "text": [
      "\n",
      "Results fetched for URL https://www.yelp.com/biz/minghin-cuisine-chicago-3?adjust_creative=mUhtpg0LANTRd76OAeN1RQ&utm_campaign=yelp_api_v3&utm_medium=api_v3_business_search&utm_source=mUhtpg0LANTRd76OAeN1RQ&start=40:\n",
      "Scraped data from page 1\n",
      "Scraped data from page 2\n",
      "Scraped data from page 3\n",
      "Scraped data from page 4\n",
      "Scraped data from page 5\n"
     ]
    },
    {
     "name": "stderr",
     "output_type": "stream",
     "text": [
      "Scraping Restaurants:  10%|▉         | 25/255 [11:00<1:37:22, 25.40s/it]"
     ]
    },
    {
     "name": "stdout",
     "output_type": "stream",
     "text": [
      "\n",
      "Results fetched for URL https://www.yelp.com/biz/ramen-san-chicago?adjust_creative=mUhtpg0LANTRd76OAeN1RQ&utm_campaign=yelp_api_v3&utm_medium=api_v3_business_search&utm_source=mUhtpg0LANTRd76OAeN1RQ&start=40:\n",
      "Scraped data from page 1\n",
      "Scraped data from page 2\n",
      "Scraped data from page 3\n",
      "Scraped data from page 4\n",
      "Scraped data from page 5\n"
     ]
    },
    {
     "name": "stderr",
     "output_type": "stream",
     "text": [
      "Scraping Restaurants:  10%|█         | 26/255 [11:27<1:39:47, 26.15s/it]"
     ]
    },
    {
     "name": "stdout",
     "output_type": "stream",
     "text": [
      "\n",
      "Results fetched for URL https://www.yelp.com/biz/pondicheri-houston?adjust_creative=mUhtpg0LANTRd76OAeN1RQ&utm_campaign=yelp_api_v3&utm_medium=api_v3_business_search&utm_source=mUhtpg0LANTRd76OAeN1RQ&start=40:\n",
      "Scraped data from page 1\n",
      "Scraped data from page 2\n",
      "Scraped data from page 3\n",
      "Scraped data from page 4\n",
      "Scraped data from page 5\n"
     ]
    },
    {
     "name": "stderr",
     "output_type": "stream",
     "text": [
      "Scraping Restaurants:  11%|█         | 27/255 [11:52<1:36:57, 25.51s/it]"
     ]
    },
    {
     "name": "stdout",
     "output_type": "stream",
     "text": [
      "\n",
      "Results fetched for URL https://www.yelp.com/biz/north-italia-houston?adjust_creative=mUhtpg0LANTRd76OAeN1RQ&utm_campaign=yelp_api_v3&utm_medium=api_v3_business_search&utm_source=mUhtpg0LANTRd76OAeN1RQ&start=40:\n",
      "Scraped data from page 1\n",
      "Scraped data from page 2\n",
      "Scraped data from page 3\n",
      "Scraped data from page 4\n",
      "Scraped data from page 5\n"
     ]
    },
    {
     "name": "stderr",
     "output_type": "stream",
     "text": [
      "Scraping Restaurants:  11%|█         | 28/255 [12:17<1:36:48, 25.59s/it]"
     ]
    },
    {
     "name": "stdout",
     "output_type": "stream",
     "text": [
      "\n",
      "Results fetched for URL https://www.yelp.com/biz/la-calle-tacos-houston-16?adjust_creative=mUhtpg0LANTRd76OAeN1RQ&utm_campaign=yelp_api_v3&utm_medium=api_v3_business_search&utm_source=mUhtpg0LANTRd76OAeN1RQ&start=40:\n",
      "Scraped data from page 1\n",
      "Scraped data from page 2\n",
      "Scraped data from page 3\n",
      "Scraped data from page 4\n",
      "Scraped data from page 5\n"
     ]
    },
    {
     "name": "stderr",
     "output_type": "stream",
     "text": [
      "Scraping Restaurants:  11%|█▏        | 29/255 [12:45<1:38:54, 26.26s/it]"
     ]
    },
    {
     "name": "stdout",
     "output_type": "stream",
     "text": [
      "\n",
      "Results fetched for URL https://www.yelp.com/biz/fat-bao-houston?adjust_creative=mUhtpg0LANTRd76OAeN1RQ&utm_campaign=yelp_api_v3&utm_medium=api_v3_business_search&utm_source=mUhtpg0LANTRd76OAeN1RQ&start=40:\n",
      "Scraped data from page 1\n",
      "Scraped data from page 2\n",
      "Scraped data from page 3\n",
      "Scraped data from page 4\n",
      "Scraped data from page 5\n"
     ]
    },
    {
     "name": "stderr",
     "output_type": "stream",
     "text": [
      "Scraping Restaurants:  12%|█▏        | 30/255 [13:11<1:37:35, 26.03s/it]"
     ]
    },
    {
     "name": "stdout",
     "output_type": "stream",
     "text": [
      "\n",
      "Results fetched for URL https://www.yelp.com/biz/jinya-ramen-bar-houston-houston?adjust_creative=mUhtpg0LANTRd76OAeN1RQ&utm_campaign=yelp_api_v3&utm_medium=api_v3_business_search&utm_source=mUhtpg0LANTRd76OAeN1RQ&start=40:\n",
      "Scraped data from page 1\n",
      "Scraped data from page 2\n",
      "Scraped data from page 3\n",
      "Scraped data from page 4\n",
      "Scraped data from page 5\n"
     ]
    },
    {
     "name": "stderr",
     "output_type": "stream",
     "text": [
      "Scraping Restaurants:  12%|█▏        | 31/255 [13:36<1:36:50, 25.94s/it]"
     ]
    },
    {
     "name": "stdout",
     "output_type": "stream",
     "text": [
      "\n",
      "Results fetched for URL https://www.yelp.com/biz/veda-modern-indian-bistro-philadelphia-3?adjust_creative=mUhtpg0LANTRd76OAeN1RQ&utm_campaign=yelp_api_v3&utm_medium=api_v3_business_search&utm_source=mUhtpg0LANTRd76OAeN1RQ&start=40:\n",
      "Scraped data from page 1\n",
      "Scraped data from page 2\n",
      "Scraped data from page 3\n",
      "Scraped data from page 4\n",
      "Scraped data from page 5\n"
     ]
    },
    {
     "name": "stderr",
     "output_type": "stream",
     "text": [
      "Scraping Restaurants:  13%|█▎        | 32/255 [14:03<1:37:08, 26.14s/it]"
     ]
    },
    {
     "name": "stdout",
     "output_type": "stream",
     "text": [
      "\n",
      "Results fetched for URL https://www.yelp.com/biz/barbuzzo-philadelphia?adjust_creative=mUhtpg0LANTRd76OAeN1RQ&utm_campaign=yelp_api_v3&utm_medium=api_v3_business_search&utm_source=mUhtpg0LANTRd76OAeN1RQ&start=40:\n",
      "Scraped data from page 1\n",
      "Scraped data from page 2\n",
      "Scraped data from page 3\n",
      "Scraped data from page 4\n",
      "Scraped data from page 5\n"
     ]
    },
    {
     "name": "stderr",
     "output_type": "stream",
     "text": [
      "Scraping Restaurants:  13%|█▎        | 33/255 [14:29<1:36:50, 26.17s/it]"
     ]
    },
    {
     "name": "stdout",
     "output_type": "stream",
     "text": [
      "\n",
      "Results fetched for URL https://www.yelp.com/biz/el-vez-philadelphia?adjust_creative=mUhtpg0LANTRd76OAeN1RQ&utm_campaign=yelp_api_v3&utm_medium=api_v3_business_search&utm_source=mUhtpg0LANTRd76OAeN1RQ&start=40:\n",
      "Scraped data from page 1\n",
      "Scraped data from page 2\n",
      "Scraped data from page 3\n",
      "Scraped data from page 4\n",
      "Scraped data from page 5\n"
     ]
    },
    {
     "name": "stderr",
     "output_type": "stream",
     "text": [
      "Scraping Restaurants:  13%|█▎        | 34/255 [14:58<1:38:57, 26.87s/it]"
     ]
    },
    {
     "name": "stdout",
     "output_type": "stream",
     "text": [
      "\n",
      "Results fetched for URL https://www.yelp.com/biz/dim-sum-garden-philadelphia?adjust_creative=mUhtpg0LANTRd76OAeN1RQ&utm_campaign=yelp_api_v3&utm_medium=api_v3_business_search&utm_source=mUhtpg0LANTRd76OAeN1RQ&start=40:\n",
      "Scraped data from page 1\n",
      "Scraped data from page 2\n",
      "Scraped data from page 3\n",
      "Scraped data from page 4\n",
      "Scraped data from page 5\n"
     ]
    },
    {
     "name": "stderr",
     "output_type": "stream",
     "text": [
      "Scraping Restaurants:  14%|█▎        | 35/255 [15:24<1:38:07, 26.76s/it]"
     ]
    },
    {
     "name": "stdout",
     "output_type": "stream",
     "text": [
      "\n",
      "Results fetched for URL https://www.yelp.com/biz/morimoto-philadelphia?adjust_creative=mUhtpg0LANTRd76OAeN1RQ&utm_campaign=yelp_api_v3&utm_medium=api_v3_business_search&utm_source=mUhtpg0LANTRd76OAeN1RQ&start=40:\n",
      "Scraped data from page 1\n",
      "Scraped data from page 2\n",
      "Scraped data from page 3\n",
      "Scraped data from page 4\n",
      "Scraped data from page 5\n"
     ]
    },
    {
     "name": "stderr",
     "output_type": "stream",
     "text": [
      "Scraping Restaurants:  14%|█▍        | 36/255 [15:48<1:34:18, 25.84s/it]"
     ]
    },
    {
     "name": "stdout",
     "output_type": "stream",
     "text": [
      "\n",
      "Results fetched for URL https://www.yelp.com/biz/india-palace-phoenix-3?adjust_creative=mUhtpg0LANTRd76OAeN1RQ&utm_campaign=yelp_api_v3&utm_medium=api_v3_business_search&utm_source=mUhtpg0LANTRd76OAeN1RQ&start=40:\n",
      "Scraped data from page 1\n",
      "Scraped data from page 2\n",
      "Scraped data from page 3\n",
      "Scraped data from page 4\n",
      "Scraped data from page 5\n"
     ]
    },
    {
     "name": "stderr",
     "output_type": "stream",
     "text": [
      "Scraping Restaurants:  15%|█▍        | 37/255 [16:15<1:35:38, 26.32s/it]"
     ]
    },
    {
     "name": "stdout",
     "output_type": "stream",
     "text": [
      "\n",
      "Results fetched for URL https://www.yelp.com/biz/the-sicilian-butcher-phoenix-3?adjust_creative=mUhtpg0LANTRd76OAeN1RQ&utm_campaign=yelp_api_v3&utm_medium=api_v3_business_search&utm_source=mUhtpg0LANTRd76OAeN1RQ&start=40:\n",
      "Scraped data from page 1\n",
      "Scraped data from page 2\n",
      "Scraped data from page 3\n",
      "Scraped data from page 4\n",
      "Scraped data from page 5\n"
     ]
    },
    {
     "name": "stderr",
     "output_type": "stream",
     "text": [
      "Scraping Restaurants:  15%|█▍        | 38/255 [16:41<1:34:25, 26.11s/it]"
     ]
    },
    {
     "name": "stdout",
     "output_type": "stream",
     "text": [
      "\n",
      "Results fetched for URL https://www.yelp.com/biz/chino-bandido-phoenix-3?adjust_creative=mUhtpg0LANTRd76OAeN1RQ&utm_campaign=yelp_api_v3&utm_medium=api_v3_business_search&utm_source=mUhtpg0LANTRd76OAeN1RQ&start=40:\n",
      "Scraped data from page 1\n",
      "Scraped data from page 2\n",
      "Scraped data from page 3\n",
      "Scraped data from page 4\n",
      "Scraped data from page 5\n"
     ]
    },
    {
     "name": "stderr",
     "output_type": "stream",
     "text": [
      "Scraping Restaurants:  15%|█▌        | 39/255 [17:08<1:35:11, 26.44s/it]"
     ]
    },
    {
     "name": "stdout",
     "output_type": "stream",
     "text": [
      "\n",
      "Results fetched for URL https://www.yelp.com/biz/george-and-sons-asian-cuisine-phoenix?adjust_creative=mUhtpg0LANTRd76OAeN1RQ&utm_campaign=yelp_api_v3&utm_medium=api_v3_business_search&utm_source=mUhtpg0LANTRd76OAeN1RQ&start=40:\n",
      "Scraped data from page 1\n",
      "Scraped data from page 2\n",
      "Scraped data from page 3\n",
      "Scraped data from page 4\n",
      "Scraped data from page 5\n"
     ]
    },
    {
     "name": "stderr",
     "output_type": "stream",
     "text": [
      "Scraping Restaurants:  16%|█▌        | 40/255 [17:33<1:33:32, 26.10s/it]"
     ]
    },
    {
     "name": "stdout",
     "output_type": "stream",
     "text": [
      "\n",
      "Results fetched for URL https://www.yelp.com/biz/yutaka-japanese-restaurant-phoenix?adjust_creative=mUhtpg0LANTRd76OAeN1RQ&utm_campaign=yelp_api_v3&utm_medium=api_v3_business_search&utm_source=mUhtpg0LANTRd76OAeN1RQ&start=40:\n",
      "Scraped data from page 1\n",
      "Scraped data from page 2\n",
      "Scraped data from page 3\n",
      "Scraped data from page 4\n",
      "Scraped data from page 5\n"
     ]
    },
    {
     "name": "stderr",
     "output_type": "stream",
     "text": [
      "Scraping Restaurants:  16%|█▌        | 41/255 [17:59<1:32:17, 25.88s/it]"
     ]
    },
    {
     "name": "stdout",
     "output_type": "stream",
     "text": [
      "\n",
      "Results fetched for URL https://www.yelp.com/biz/india-palace-san-antonio?adjust_creative=mUhtpg0LANTRd76OAeN1RQ&utm_campaign=yelp_api_v3&utm_medium=api_v3_business_search&utm_source=mUhtpg0LANTRd76OAeN1RQ&start=40:\n",
      "Scraped data from page 1\n",
      "Scraped data from page 2\n",
      "Scraped data from page 3\n",
      "Scraped data from page 4\n",
      "Scraped data from page 5\n"
     ]
    },
    {
     "name": "stderr",
     "output_type": "stream",
     "text": [
      "Scraping Restaurants:  16%|█▋        | 42/255 [18:23<1:30:03, 25.37s/it]"
     ]
    },
    {
     "name": "stdout",
     "output_type": "stream",
     "text": [
      "\n",
      "Results fetched for URL https://www.yelp.com/biz/dough-pizzeria-napoletana-san-antonio?adjust_creative=mUhtpg0LANTRd76OAeN1RQ&utm_campaign=yelp_api_v3&utm_medium=api_v3_business_search&utm_source=mUhtpg0LANTRd76OAeN1RQ&start=40:\n",
      "Scraped data from page 1\n",
      "Scraped data from page 2\n",
      "Scraped data from page 3\n",
      "Scraped data from page 4\n",
      "Scraped data from page 5\n"
     ]
    },
    {
     "name": "stderr",
     "output_type": "stream",
     "text": [
      "Scraping Restaurants:  17%|█▋        | 43/255 [18:52<1:33:01, 26.33s/it]"
     ]
    },
    {
     "name": "stdout",
     "output_type": "stream",
     "text": [
      "\n",
      "Results fetched for URL https://www.yelp.com/biz/rosarios-comidamex-and-bar-san-antonio-2?adjust_creative=mUhtpg0LANTRd76OAeN1RQ&utm_campaign=yelp_api_v3&utm_medium=api_v3_business_search&utm_source=mUhtpg0LANTRd76OAeN1RQ&start=40:\n",
      "Scraped data from page 1\n",
      "Scraped data from page 2\n",
      "Scraped data from page 3\n",
      "Scraped data from page 4\n",
      "Scraped data from page 5\n"
     ]
    },
    {
     "name": "stderr",
     "output_type": "stream",
     "text": [
      "Scraping Restaurants:  17%|█▋        | 44/255 [19:18<1:32:47, 26.39s/it]"
     ]
    },
    {
     "name": "stdout",
     "output_type": "stream",
     "text": [
      "\n",
      "Results fetched for URL https://www.yelp.com/biz/kung-fu-noodle-%E5%8A%9F%E5%A4%AB%E9%9D%A2%E9%A6%86-san-antonio?adjust_creative=mUhtpg0LANTRd76OAeN1RQ&utm_campaign=yelp_api_v3&utm_medium=api_v3_business_search&utm_source=mUhtpg0LANTRd76OAeN1RQ&start=40:\n",
      "Scraped data from page 1\n",
      "Scraped data from page 2\n",
      "Scraped data from page 3\n",
      "Scraped data from page 4\n",
      "Scraped data from page 5\n"
     ]
    },
    {
     "name": "stderr",
     "output_type": "stream",
     "text": [
      "Scraping Restaurants:  18%|█▊        | 45/255 [19:43<1:31:06, 26.03s/it]"
     ]
    },
    {
     "name": "stdout",
     "output_type": "stream",
     "text": [
      "\n",
      "Results fetched for URL https://www.yelp.com/biz/wild-goji-restaurant-and-bar-san-antonio-3?adjust_creative=mUhtpg0LANTRd76OAeN1RQ&utm_campaign=yelp_api_v3&utm_medium=api_v3_business_search&utm_source=mUhtpg0LANTRd76OAeN1RQ&start=40:\n",
      "Scraped data from page 1\n",
      "Scraped data from page 2\n",
      "Scraped data from page 3\n",
      "Scraped data from page 4\n",
      "Scraped data from page 5\n"
     ]
    },
    {
     "name": "stderr",
     "output_type": "stream",
     "text": [
      "Scraping Restaurants:  18%|█▊        | 46/255 [20:10<1:31:26, 26.25s/it]"
     ]
    },
    {
     "name": "stdout",
     "output_type": "stream",
     "text": [
      "\n",
      "Results fetched for URL https://www.yelp.com/biz/tandoori-hut-san-diego-3?adjust_creative=mUhtpg0LANTRd76OAeN1RQ&utm_campaign=yelp_api_v3&utm_medium=api_v3_business_search&utm_source=mUhtpg0LANTRd76OAeN1RQ&start=40:\n",
      "Scraped data from page 1\n",
      "Scraped data from page 2\n",
      "Scraped data from page 3\n",
      "Scraped data from page 4\n",
      "Scraped data from page 5\n"
     ]
    },
    {
     "name": "stderr",
     "output_type": "stream",
     "text": [
      "Scraping Restaurants:  18%|█▊        | 47/255 [20:38<1:32:55, 26.81s/it]"
     ]
    },
    {
     "name": "stdout",
     "output_type": "stream",
     "text": [
      "\n",
      "Results fetched for URL https://www.yelp.com/biz/cucina-urbana-san-diego-4?adjust_creative=mUhtpg0LANTRd76OAeN1RQ&utm_campaign=yelp_api_v3&utm_medium=api_v3_business_search&utm_source=mUhtpg0LANTRd76OAeN1RQ&start=40:\n",
      "Scraped data from page 1\n",
      "Scraped data from page 2\n",
      "Scraped data from page 3\n",
      "Scraped data from page 4\n",
      "Scraped data from page 5\n"
     ]
    },
    {
     "name": "stderr",
     "output_type": "stream",
     "text": [
      "Scraping Restaurants:  19%|█▉        | 48/255 [21:03<1:30:13, 26.15s/it]"
     ]
    },
    {
     "name": "stdout",
     "output_type": "stream",
     "text": [
      "\n",
      "Results fetched for URL https://www.yelp.com/biz/coasterra-san-diego?adjust_creative=mUhtpg0LANTRd76OAeN1RQ&utm_campaign=yelp_api_v3&utm_medium=api_v3_business_search&utm_source=mUhtpg0LANTRd76OAeN1RQ&start=40:\n",
      "Scraped data from page 1\n",
      "Scraped data from page 2\n",
      "Scraped data from page 3\n",
      "Scraped data from page 4\n",
      "Scraped data from page 5\n"
     ]
    },
    {
     "name": "stderr",
     "output_type": "stream",
     "text": [
      "Scraping Restaurants:  19%|█▉        | 49/255 [21:30<1:30:38, 26.40s/it]"
     ]
    },
    {
     "name": "stdout",
     "output_type": "stream",
     "text": [
      "\n",
      "Results fetched for URL https://www.yelp.com/biz/steamy-piggy-san-diego-2?adjust_creative=mUhtpg0LANTRd76OAeN1RQ&utm_campaign=yelp_api_v3&utm_medium=api_v3_business_search&utm_source=mUhtpg0LANTRd76OAeN1RQ&start=40:\n",
      "Scraped data from page 1\n",
      "Scraped data from page 2\n",
      "Scraped data from page 3\n",
      "Scraped data from page 4\n",
      "Scraped data from page 5\n"
     ]
    },
    {
     "name": "stderr",
     "output_type": "stream",
     "text": [
      "Scraping Restaurants:  20%|█▉        | 50/255 [21:58<1:32:10, 26.98s/it]"
     ]
    },
    {
     "name": "stdout",
     "output_type": "stream",
     "text": [
      "\n",
      "Results fetched for URL https://www.yelp.com/biz/steamy-piggy-san-diego-2?adjust_creative=mUhtpg0LANTRd76OAeN1RQ&utm_campaign=yelp_api_v3&utm_medium=api_v3_business_search&utm_source=mUhtpg0LANTRd76OAeN1RQ&start=40:\n",
      "Scraped data from page 1\n",
      "Scraped data from page 2\n",
      "Scraped data from page 3\n",
      "Scraped data from page 4\n",
      "Scraped data from page 5\n"
     ]
    },
    {
     "name": "stderr",
     "output_type": "stream",
     "text": [
      "Scraping Restaurants:  20%|██        | 51/255 [22:25<1:32:01, 27.07s/it]"
     ]
    },
    {
     "name": "stdout",
     "output_type": "stream",
     "text": [
      "\n",
      "Results fetched for URL https://www.yelp.com/biz/roti-grill-dallas?adjust_creative=mUhtpg0LANTRd76OAeN1RQ&utm_campaign=yelp_api_v3&utm_medium=api_v3_business_search&utm_source=mUhtpg0LANTRd76OAeN1RQ&start=40:\n",
      "Scraped data from page 1\n",
      "Scraped data from page 2\n",
      "Scraped data from page 3\n",
      "Scraped data from page 4\n",
      "Scraped data from page 5\n"
     ]
    },
    {
     "name": "stderr",
     "output_type": "stream",
     "text": [
      "Scraping Restaurants:  20%|██        | 52/255 [23:08<1:47:05, 31.65s/it]"
     ]
    },
    {
     "name": "stdout",
     "output_type": "stream",
     "text": [
      "\n",
      "Results fetched for URL https://www.yelp.com/biz/monarch-dallas-2?adjust_creative=mUhtpg0LANTRd76OAeN1RQ&utm_campaign=yelp_api_v3&utm_medium=api_v3_business_search&utm_source=mUhtpg0LANTRd76OAeN1RQ&start=40:\n",
      "Scraped data from page 1\n",
      "Scraped data from page 2\n",
      "Scraped data from page 3\n",
      "Scraped data from page 4\n",
      "Scraped data from page 5\n"
     ]
    },
    {
     "name": "stderr",
     "output_type": "stream",
     "text": [
      "Scraping Restaurants:  21%|██        | 53/255 [23:36<1:43:32, 30.75s/it]"
     ]
    },
    {
     "name": "stdout",
     "output_type": "stream",
     "text": [
      "\n",
      "Results fetched for URL https://www.yelp.com/biz/meso-maya-comida-y-copas-dallas-4?adjust_creative=mUhtpg0LANTRd76OAeN1RQ&utm_campaign=yelp_api_v3&utm_medium=api_v3_business_search&utm_source=mUhtpg0LANTRd76OAeN1RQ&start=40:\n",
      "Scraped data from page 1\n",
      "Scraped data from page 2\n",
      "Scraped data from page 3\n",
      "Scraped data from page 4\n",
      "Scraped data from page 5\n"
     ]
    },
    {
     "name": "stderr",
     "output_type": "stream",
     "text": [
      "Scraping Restaurants:  21%|██        | 54/255 [24:03<1:39:02, 29.56s/it]"
     ]
    },
    {
     "name": "stdout",
     "output_type": "stream",
     "text": [
      "\n",
      "Results fetched for URL https://www.yelp.com/biz/monkey-king-noodle-dallas?adjust_creative=mUhtpg0LANTRd76OAeN1RQ&utm_campaign=yelp_api_v3&utm_medium=api_v3_business_search&utm_source=mUhtpg0LANTRd76OAeN1RQ&start=40:\n",
      "Scraped data from page 1\n",
      "Scraped data from page 2\n",
      "Scraped data from page 3\n",
      "Scraped data from page 4\n",
      "Scraped data from page 5\n"
     ]
    },
    {
     "name": "stderr",
     "output_type": "stream",
     "text": [
      "Scraping Restaurants:  22%|██▏       | 55/255 [24:29<1:35:09, 28.55s/it]"
     ]
    },
    {
     "name": "stdout",
     "output_type": "stream",
     "text": [
      "\n",
      "Results fetched for URL https://www.yelp.com/biz/uchi-dallas-5?adjust_creative=mUhtpg0LANTRd76OAeN1RQ&utm_campaign=yelp_api_v3&utm_medium=api_v3_business_search&utm_source=mUhtpg0LANTRd76OAeN1RQ&start=40:\n",
      "Scraped data from page 1\n",
      "Scraped data from page 2\n",
      "Scraped data from page 3\n",
      "Scraped data from page 4\n",
      "Scraped data from page 5\n"
     ]
    },
    {
     "name": "stderr",
     "output_type": "stream",
     "text": [
      "Scraping Restaurants:  22%|██▏       | 56/255 [24:58<1:34:21, 28.45s/it]"
     ]
    },
    {
     "name": "stdout",
     "output_type": "stream",
     "text": [
      "\n",
      "Results fetched for URL https://www.yelp.com/biz/sam-and-curry-san-jose?adjust_creative=mUhtpg0LANTRd76OAeN1RQ&utm_campaign=yelp_api_v3&utm_medium=api_v3_business_search&utm_source=mUhtpg0LANTRd76OAeN1RQ&start=40:\n",
      "Scraped data from page 1\n",
      "Scraped data from page 2\n",
      "Scraped data from page 3\n",
      "Scraped data from page 4\n",
      "Scraped data from page 5\n"
     ]
    },
    {
     "name": "stderr",
     "output_type": "stream",
     "text": [
      "Scraping Restaurants:  22%|██▏       | 57/255 [25:23<1:30:46, 27.51s/it]"
     ]
    },
    {
     "name": "stdout",
     "output_type": "stream",
     "text": [
      "\n",
      "Results fetched for URL https://www.yelp.com/biz/original-joes-san-jose-san-jose-4?adjust_creative=mUhtpg0LANTRd76OAeN1RQ&utm_campaign=yelp_api_v3&utm_medium=api_v3_business_search&utm_source=mUhtpg0LANTRd76OAeN1RQ&start=40:\n",
      "Scraped data from page 1\n",
      "Scraped data from page 2\n",
      "Scraped data from page 3\n",
      "Scraped data from page 4\n",
      "Scraped data from page 5\n"
     ]
    },
    {
     "name": "stderr",
     "output_type": "stream",
     "text": [
      "Scraping Restaurants:  23%|██▎       | 58/255 [25:51<1:31:01, 27.72s/it]"
     ]
    },
    {
     "name": "stdout",
     "output_type": "stream",
     "text": [
      "\n",
      "Results fetched for URL https://www.yelp.com/biz/luna-mexican-kitchen-the-alameda-san-jose?adjust_creative=mUhtpg0LANTRd76OAeN1RQ&utm_campaign=yelp_api_v3&utm_medium=api_v3_business_search&utm_source=mUhtpg0LANTRd76OAeN1RQ&start=40:\n",
      "Scraped data from page 1\n",
      "Scraped data from page 2\n",
      "Scraped data from page 3\n",
      "Scraped data from page 4\n",
      "Scraped data from page 5\n"
     ]
    },
    {
     "name": "stderr",
     "output_type": "stream",
     "text": [
      "Scraping Restaurants:  23%|██▎       | 59/255 [26:15<1:27:13, 26.70s/it]"
     ]
    },
    {
     "name": "stdout",
     "output_type": "stream",
     "text": [
      "\n",
      "Results fetched for URL https://www.yelp.com/biz/paiks-noodle-santa-clara-10?adjust_creative=mUhtpg0LANTRd76OAeN1RQ&utm_campaign=yelp_api_v3&utm_medium=api_v3_business_search&utm_source=mUhtpg0LANTRd76OAeN1RQ&start=40:\n",
      "Scraped data from page 1\n",
      "Scraped data from page 2\n",
      "Scraped data from page 3\n",
      "Scraped data from page 4\n",
      "Scraped data from page 5\n"
     ]
    },
    {
     "name": "stderr",
     "output_type": "stream",
     "text": [
      "Scraping Restaurants:  24%|██▎       | 60/255 [26:42<1:27:03, 26.79s/it]"
     ]
    },
    {
     "name": "stdout",
     "output_type": "stream",
     "text": [
      "\n",
      "Results fetched for URL https://www.yelp.com/biz/ramen-nagi-santa-clara?adjust_creative=mUhtpg0LANTRd76OAeN1RQ&utm_campaign=yelp_api_v3&utm_medium=api_v3_business_search&utm_source=mUhtpg0LANTRd76OAeN1RQ&start=40:\n",
      "Scraped data from page 1\n",
      "Scraped data from page 2\n",
      "Scraped data from page 3\n",
      "Scraped data from page 4\n",
      "Scraped data from page 5\n"
     ]
    },
    {
     "name": "stderr",
     "output_type": "stream",
     "text": [
      "Scraping Restaurants:  24%|██▍       | 61/255 [27:09<1:26:41, 26.81s/it]"
     ]
    },
    {
     "name": "stdout",
     "output_type": "stream",
     "text": [
      "\n",
      "Results fetched for URL https://www.yelp.com/biz/clay-pit-austin?adjust_creative=mUhtpg0LANTRd76OAeN1RQ&utm_campaign=yelp_api_v3&utm_medium=api_v3_business_search&utm_source=mUhtpg0LANTRd76OAeN1RQ&start=40:\n",
      "Scraped data from page 1\n",
      "Scraped data from page 2\n",
      "Scraped data from page 3\n",
      "Scraped data from page 4\n",
      "Scraped data from page 5\n"
     ]
    },
    {
     "name": "stderr",
     "output_type": "stream",
     "text": [
      "Scraping Restaurants:  24%|██▍       | 62/255 [27:35<1:24:51, 26.38s/it]"
     ]
    },
    {
     "name": "stdout",
     "output_type": "stream",
     "text": [
      "\n",
      "Results fetched for URL https://www.yelp.com/biz/red-ash-austin?adjust_creative=mUhtpg0LANTRd76OAeN1RQ&utm_campaign=yelp_api_v3&utm_medium=api_v3_business_search&utm_source=mUhtpg0LANTRd76OAeN1RQ&start=40:\n",
      "Scraped data from page 1\n",
      "Scraped data from page 2\n",
      "Scraped data from page 3\n",
      "Scraped data from page 4\n",
      "Scraped data from page 5\n"
     ]
    },
    {
     "name": "stderr",
     "output_type": "stream",
     "text": [
      "Scraping Restaurants:  25%|██▍       | 63/255 [28:01<1:24:04, 26.27s/it]"
     ]
    },
    {
     "name": "stdout",
     "output_type": "stream",
     "text": [
      "\n",
      "Results fetched for URL https://www.yelp.com/biz/juan-in-a-million-austin-2?adjust_creative=mUhtpg0LANTRd76OAeN1RQ&utm_campaign=yelp_api_v3&utm_medium=api_v3_business_search&utm_source=mUhtpg0LANTRd76OAeN1RQ&start=40:\n",
      "Scraped data from page 1\n",
      "Scraped data from page 2\n",
      "Scraped data from page 3\n",
      "Scraped data from page 4\n",
      "Scraped data from page 5\n"
     ]
    },
    {
     "name": "stderr",
     "output_type": "stream",
     "text": [
      "Scraping Restaurants:  25%|██▌       | 64/255 [28:30<1:26:29, 27.17s/it]"
     ]
    },
    {
     "name": "stdout",
     "output_type": "stream",
     "text": [
      "\n",
      "Results fetched for URL https://www.yelp.com/biz/1618-asian-fusion-austin?adjust_creative=mUhtpg0LANTRd76OAeN1RQ&utm_campaign=yelp_api_v3&utm_medium=api_v3_business_search&utm_source=mUhtpg0LANTRd76OAeN1RQ&start=40:\n",
      "Scraped data from page 1\n",
      "Scraped data from page 2\n",
      "Scraped data from page 3\n",
      "Scraped data from page 4\n",
      "Scraped data from page 5\n"
     ]
    },
    {
     "name": "stderr",
     "output_type": "stream",
     "text": [
      "Scraping Restaurants:  25%|██▌       | 65/255 [28:55<1:23:49, 26.47s/it]"
     ]
    },
    {
     "name": "stdout",
     "output_type": "stream",
     "text": [
      "\n",
      "Results fetched for URL https://www.yelp.com/biz/lucky-robot-austin?adjust_creative=mUhtpg0LANTRd76OAeN1RQ&utm_campaign=yelp_api_v3&utm_medium=api_v3_business_search&utm_source=mUhtpg0LANTRd76OAeN1RQ&start=40:\n",
      "Scraped data from page 1\n",
      "Scraped data from page 2\n",
      "Scraped data from page 3\n",
      "Scraped data from page 4\n",
      "Scraped data from page 5\n"
     ]
    },
    {
     "name": "stderr",
     "output_type": "stream",
     "text": [
      "Scraping Restaurants:  26%|██▌       | 66/255 [29:22<1:24:08, 26.71s/it]"
     ]
    },
    {
     "name": "stdout",
     "output_type": "stream",
     "text": [
      "\n",
      "Results fetched for URL https://www.yelp.com/biz/5th-element-jacksonville?adjust_creative=mUhtpg0LANTRd76OAeN1RQ&utm_campaign=yelp_api_v3&utm_medium=api_v3_business_search&utm_source=mUhtpg0LANTRd76OAeN1RQ&start=40:\n",
      "Scraped data from page 1\n",
      "Scraped data from page 2\n",
      "Scraped data from page 3\n",
      "Scraped data from page 4\n",
      "Scraped data from page 5\n"
     ]
    },
    {
     "name": "stderr",
     "output_type": "stream",
     "text": [
      "Scraping Restaurants:  26%|██▋       | 67/255 [29:48<1:23:09, 26.54s/it]"
     ]
    },
    {
     "name": "stdout",
     "output_type": "stream",
     "text": [
      "\n",
      "Results fetched for URL https://www.yelp.com/biz/carmines-pie-house-jacksonville?adjust_creative=mUhtpg0LANTRd76OAeN1RQ&utm_campaign=yelp_api_v3&utm_medium=api_v3_business_search&utm_source=mUhtpg0LANTRd76OAeN1RQ&start=40:\n",
      "Scraped data from page 1\n",
      "Scraped data from page 2\n",
      "Scraped data from page 3\n",
      "Scraped data from page 4\n",
      "Scraped data from page 5\n"
     ]
    },
    {
     "name": "stderr",
     "output_type": "stream",
     "text": [
      "Scraping Restaurants:  27%|██▋       | 68/255 [30:15<1:23:19, 26.73s/it]"
     ]
    },
    {
     "name": "stdout",
     "output_type": "stream",
     "text": [
      "\n",
      "Results fetched for URL https://www.yelp.com/biz/burrito-gallery-downtown-jacksonville-3?adjust_creative=mUhtpg0LANTRd76OAeN1RQ&utm_campaign=yelp_api_v3&utm_medium=api_v3_business_search&utm_source=mUhtpg0LANTRd76OAeN1RQ&start=40:\n",
      "Scraped data from page 1\n",
      "Scraped data from page 2\n",
      "Scraped data from page 3\n",
      "Scraped data from page 4\n",
      "Scraped data from page 5\n"
     ]
    },
    {
     "name": "stderr",
     "output_type": "stream",
     "text": [
      "Scraping Restaurants:  27%|██▋       | 69/255 [30:41<1:21:56, 26.43s/it]"
     ]
    },
    {
     "name": "stdout",
     "output_type": "stream",
     "text": [
      "\n",
      "Results fetched for URL https://www.yelp.com/biz/timwah-dim-sum-restaurant-jacksonville?adjust_creative=mUhtpg0LANTRd76OAeN1RQ&utm_campaign=yelp_api_v3&utm_medium=api_v3_business_search&utm_source=mUhtpg0LANTRd76OAeN1RQ&start=40:\n",
      "Scraped data from page 1\n",
      "Scraped data from page 2\n",
      "Scraped data from page 3\n",
      "Scraped data from page 4\n",
      "Scraped data from page 5\n"
     ]
    },
    {
     "name": "stderr",
     "output_type": "stream",
     "text": [
      "Scraping Restaurants:  27%|██▋       | 70/255 [31:09<1:23:06, 26.96s/it]"
     ]
    },
    {
     "name": "stdout",
     "output_type": "stream",
     "text": [
      "\n",
      "Results fetched for URL https://www.yelp.com/biz/domu-jacksonville?adjust_creative=mUhtpg0LANTRd76OAeN1RQ&utm_campaign=yelp_api_v3&utm_medium=api_v3_business_search&utm_source=mUhtpg0LANTRd76OAeN1RQ&start=40:\n",
      "Scraped data from page 1\n",
      "Scraped data from page 2\n",
      "Scraped data from page 3\n",
      "Scraped data from page 4\n",
      "Scraped data from page 5\n"
     ]
    },
    {
     "name": "stderr",
     "output_type": "stream",
     "text": [
      "Scraping Restaurants:  28%|██▊       | 71/255 [31:38<1:23:54, 27.36s/it]"
     ]
    },
    {
     "name": "stdout",
     "output_type": "stream",
     "text": [
      "\n",
      "Results fetched for URL https://www.yelp.com/biz/chapati-indianapolis-2?adjust_creative=mUhtpg0LANTRd76OAeN1RQ&utm_campaign=yelp_api_v3&utm_medium=api_v3_business_search&utm_source=mUhtpg0LANTRd76OAeN1RQ&start=40:\n",
      "Scraped data from page 1\n",
      "Scraped data from page 2\n",
      "Scraped data from page 3\n",
      "Scraped data from page 4\n",
      "Scraped data from page 5\n"
     ]
    },
    {
     "name": "stderr",
     "output_type": "stream",
     "text": [
      "Scraping Restaurants:  28%|██▊       | 72/255 [32:05<1:23:31, 27.39s/it]"
     ]
    },
    {
     "name": "stdout",
     "output_type": "stream",
     "text": [
      "\n",
      "Results fetched for URL https://www.yelp.com/biz/mama-carollas-indianapolis?adjust_creative=mUhtpg0LANTRd76OAeN1RQ&utm_campaign=yelp_api_v3&utm_medium=api_v3_business_search&utm_source=mUhtpg0LANTRd76OAeN1RQ&start=40:\n",
      "Scraped data from page 1\n",
      "Scraped data from page 2\n",
      "Scraped data from page 3\n",
      "Scraped data from page 4\n",
      "Scraped data from page 5\n"
     ]
    },
    {
     "name": "stderr",
     "output_type": "stream",
     "text": [
      "Scraping Restaurants:  29%|██▊       | 73/255 [32:31<1:22:09, 27.08s/it]"
     ]
    },
    {
     "name": "stdout",
     "output_type": "stream",
     "text": [
      "\n",
      "Results fetched for URL https://www.yelp.com/biz/nada-indianapolis?adjust_creative=mUhtpg0LANTRd76OAeN1RQ&utm_campaign=yelp_api_v3&utm_medium=api_v3_business_search&utm_source=mUhtpg0LANTRd76OAeN1RQ&start=40:\n",
      "Scraped data from page 1\n",
      "Scraped data from page 2\n",
      "Scraped data from page 3\n",
      "Scraped data from page 4\n",
      "Scraped data from page 5\n"
     ]
    },
    {
     "name": "stderr",
     "output_type": "stream",
     "text": [
      "Scraping Restaurants:  29%|██▉       | 74/255 [32:57<1:20:20, 26.63s/it]"
     ]
    },
    {
     "name": "stdout",
     "output_type": "stream",
     "text": [
      "\n",
      "Results fetched for URL https://www.yelp.com/biz/p-f-changs-indianapolis-4?adjust_creative=mUhtpg0LANTRd76OAeN1RQ&utm_campaign=yelp_api_v3&utm_medium=api_v3_business_search&utm_source=mUhtpg0LANTRd76OAeN1RQ&start=40:\n",
      "Scraped data from page 1\n",
      "Scraped data from page 2\n",
      "Scraped data from page 3\n",
      "Scraped data from page 4\n",
      "Scraped data from page 5\n"
     ]
    },
    {
     "name": "stderr",
     "output_type": "stream",
     "text": [
      "Scraping Restaurants:  29%|██▉       | 75/255 [33:21<1:17:08, 25.72s/it]"
     ]
    },
    {
     "name": "stdout",
     "output_type": "stream",
     "text": [
      "\n",
      "Results fetched for URL https://www.yelp.com/biz/ramen-ray-indianapolis?adjust_creative=mUhtpg0LANTRd76OAeN1RQ&utm_campaign=yelp_api_v3&utm_medium=api_v3_business_search&utm_source=mUhtpg0LANTRd76OAeN1RQ&start=40:\n",
      "Scraped data from page 1\n",
      "Scraped data from page 2\n",
      "Scraped data from page 3\n",
      "Scraped data from page 4\n",
      "Scraped data from page 5\n"
     ]
    },
    {
     "name": "stderr",
     "output_type": "stream",
     "text": [
      "Scraping Restaurants:  30%|██▉       | 76/255 [33:49<1:19:11, 26.55s/it]"
     ]
    },
    {
     "name": "stdout",
     "output_type": "stream",
     "text": [
      "\n",
      "Results fetched for URL https://www.yelp.com/biz/aab-india-restaurant-columbus-3?adjust_creative=mUhtpg0LANTRd76OAeN1RQ&utm_campaign=yelp_api_v3&utm_medium=api_v3_business_search&utm_source=mUhtpg0LANTRd76OAeN1RQ&start=40:\n",
      "Scraped data from page 1\n",
      "Scraped data from page 2\n",
      "Scraped data from page 3\n",
      "Scraped data from page 4\n",
      "Scraped data from page 5\n"
     ]
    },
    {
     "name": "stderr",
     "output_type": "stream",
     "text": [
      "Scraping Restaurants:  30%|███       | 77/255 [34:14<1:17:41, 26.19s/it]"
     ]
    },
    {
     "name": "stdout",
     "output_type": "stream",
     "text": [
      "\n",
      "Results fetched for URL https://www.yelp.com/biz/marcellas-columbus-7?adjust_creative=mUhtpg0LANTRd76OAeN1RQ&utm_campaign=yelp_api_v3&utm_medium=api_v3_business_search&utm_source=mUhtpg0LANTRd76OAeN1RQ&start=40:\n",
      "Scraped data from page 1\n",
      "Scraped data from page 2\n",
      "Scraped data from page 3\n",
      "Scraped data from page 4\n",
      "Scraped data from page 5\n"
     ]
    },
    {
     "name": "stderr",
     "output_type": "stream",
     "text": [
      "Scraping Restaurants:  31%|███       | 78/255 [34:40<1:16:58, 26.09s/it]"
     ]
    },
    {
     "name": "stdout",
     "output_type": "stream",
     "text": [
      "\n",
      "Results fetched for URL https://www.yelp.com/biz/los-guachos-taqueria-columbus?adjust_creative=mUhtpg0LANTRd76OAeN1RQ&utm_campaign=yelp_api_v3&utm_medium=api_v3_business_search&utm_source=mUhtpg0LANTRd76OAeN1RQ&start=40:\n",
      "Scraped data from page 1\n",
      "Scraped data from page 2\n",
      "Scraped data from page 3\n",
      "Scraped data from page 4\n",
      "Scraped data from page 5\n"
     ]
    },
    {
     "name": "stderr",
     "output_type": "stream",
     "text": [
      "Scraping Restaurants:  31%|███       | 79/255 [35:08<1:17:38, 26.47s/it]"
     ]
    },
    {
     "name": "stdout",
     "output_type": "stream",
     "text": [
      "\n",
      "Results fetched for URL https://www.yelp.com/biz/tais-asian-bistro-columbus?adjust_creative=mUhtpg0LANTRd76OAeN1RQ&utm_campaign=yelp_api_v3&utm_medium=api_v3_business_search&utm_source=mUhtpg0LANTRd76OAeN1RQ&start=40:\n",
      "Scraped data from page 1\n",
      "Scraped data from page 2\n",
      "Scraped data from page 3\n",
      "Scraped data from page 4\n",
      "Scraped data from page 5\n"
     ]
    },
    {
     "name": "stderr",
     "output_type": "stream",
     "text": [
      "Scraping Restaurants:  31%|███▏      | 80/255 [35:34<1:17:08, 26.45s/it]"
     ]
    },
    {
     "name": "stdout",
     "output_type": "stream",
     "text": [
      "\n",
      "Results fetched for URL https://www.yelp.com/biz/akai-hana-columbus?adjust_creative=mUhtpg0LANTRd76OAeN1RQ&utm_campaign=yelp_api_v3&utm_medium=api_v3_business_search&utm_source=mUhtpg0LANTRd76OAeN1RQ&start=40:\n",
      "Scraped data from page 1\n",
      "Scraped data from page 2\n",
      "Scraped data from page 3\n",
      "Scraped data from page 4\n",
      "Scraped data from page 5\n"
     ]
    },
    {
     "name": "stderr",
     "output_type": "stream",
     "text": [
      "Scraping Restaurants:  32%|███▏      | 81/255 [36:00<1:16:21, 26.33s/it]"
     ]
    },
    {
     "name": "stdout",
     "output_type": "stream",
     "text": [
      "\n",
      "Results fetched for URL https://www.yelp.com/biz/indian-kitchen-cuisine-of-india-haltom-city-4?adjust_creative=mUhtpg0LANTRd76OAeN1RQ&utm_campaign=yelp_api_v3&utm_medium=api_v3_business_search&utm_source=mUhtpg0LANTRd76OAeN1RQ&start=40:\n",
      "Scraped data from page 1\n",
      "Scraped data from page 2\n",
      "Scraped data from page 3\n",
      "Scraped data from page 4\n",
      "Scraped data from page 5\n"
     ]
    },
    {
     "name": "stderr",
     "output_type": "stream",
     "text": [
      "Scraping Restaurants:  32%|███▏      | 82/255 [36:26<1:15:14, 26.09s/it]"
     ]
    },
    {
     "name": "stdout",
     "output_type": "stream",
     "text": [
      "\n",
      "Results fetched for URL https://www.yelp.com/biz/cane-rosso-fort-worth?adjust_creative=mUhtpg0LANTRd76OAeN1RQ&utm_campaign=yelp_api_v3&utm_medium=api_v3_business_search&utm_source=mUhtpg0LANTRd76OAeN1RQ&start=40:\n",
      "Scraped data from page 1\n",
      "Scraped data from page 2\n",
      "Scraped data from page 3\n",
      "Scraped data from page 4\n",
      "Scraped data from page 5\n"
     ]
    },
    {
     "name": "stderr",
     "output_type": "stream",
     "text": [
      "Scraping Restaurants:  33%|███▎      | 83/255 [36:52<1:15:14, 26.25s/it]"
     ]
    },
    {
     "name": "stdout",
     "output_type": "stream",
     "text": [
      "\n",
      "Results fetched for URL https://www.yelp.com/biz/joe-t-garcias-fort-worth?adjust_creative=mUhtpg0LANTRd76OAeN1RQ&utm_campaign=yelp_api_v3&utm_medium=api_v3_business_search&utm_source=mUhtpg0LANTRd76OAeN1RQ&start=40:\n",
      "Scraped data from page 1\n",
      "Scraped data from page 2\n",
      "Scraped data from page 3\n",
      "Scraped data from page 4\n",
      "Scraped data from page 5\n"
     ]
    },
    {
     "name": "stderr",
     "output_type": "stream",
     "text": [
      "Scraping Restaurants:  33%|███▎      | 84/255 [37:21<1:17:22, 27.15s/it]"
     ]
    },
    {
     "name": "stdout",
     "output_type": "stream",
     "text": [
      "\n",
      "Results fetched for URL https://www.yelp.com/biz/my-lan-restaurant-haltom-city-3?adjust_creative=mUhtpg0LANTRd76OAeN1RQ&utm_campaign=yelp_api_v3&utm_medium=api_v3_business_search&utm_source=mUhtpg0LANTRd76OAeN1RQ&start=40:\n",
      "Scraped data from page 1\n",
      "Scraped data from page 2\n",
      "Scraped data from page 3\n",
      "Scraped data from page 4\n",
      "Scraped data from page 5\n"
     ]
    },
    {
     "name": "stderr",
     "output_type": "stream",
     "text": [
      "Scraping Restaurants:  33%|███▎      | 85/255 [37:50<1:18:07, 27.57s/it]"
     ]
    },
    {
     "name": "stdout",
     "output_type": "stream",
     "text": [
      "\n",
      "Results fetched for URL https://www.yelp.com/biz/blue-sushi-sake-grill-fort-worth?adjust_creative=mUhtpg0LANTRd76OAeN1RQ&utm_campaign=yelp_api_v3&utm_medium=api_v3_business_search&utm_source=mUhtpg0LANTRd76OAeN1RQ&start=40:\n",
      "Scraped data from page 1\n",
      "Scraped data from page 2\n",
      "Scraped data from page 3\n",
      "Scraped data from page 4\n",
      "Scraped data from page 5\n"
     ]
    },
    {
     "name": "stderr",
     "output_type": "stream",
     "text": [
      "Scraping Restaurants:  34%|███▎      | 86/255 [38:19<1:18:37, 27.91s/it]"
     ]
    },
    {
     "name": "stdout",
     "output_type": "stream",
     "text": [
      "\n",
      "Results fetched for URL https://www.yelp.com/biz/copper-modern-indian-cuisine-charlotte?adjust_creative=mUhtpg0LANTRd76OAeN1RQ&utm_campaign=yelp_api_v3&utm_medium=api_v3_business_search&utm_source=mUhtpg0LANTRd76OAeN1RQ&start=40:\n",
      "Scraped data from page 1\n",
      "Scraped data from page 2\n",
      "Scraped data from page 3\n",
      "Scraped data from page 4\n",
      "Scraped data from page 5\n"
     ]
    },
    {
     "name": "stderr",
     "output_type": "stream",
     "text": [
      "Scraping Restaurants:  34%|███▍      | 87/255 [38:46<1:17:19, 27.62s/it]"
     ]
    },
    {
     "name": "stdout",
     "output_type": "stream",
     "text": [
      "\n",
      "Results fetched for URL https://www.yelp.com/biz/mama-ricottas-charlotte-16?adjust_creative=mUhtpg0LANTRd76OAeN1RQ&utm_campaign=yelp_api_v3&utm_medium=api_v3_business_search&utm_source=mUhtpg0LANTRd76OAeN1RQ&start=40:\n",
      "Scraped data from page 1\n",
      "Scraped data from page 2\n",
      "Scraped data from page 3\n",
      "Scraped data from page 4\n",
      "Scraped data from page 5\n"
     ]
    },
    {
     "name": "stderr",
     "output_type": "stream",
     "text": [
      "Scraping Restaurants:  35%|███▍      | 88/255 [39:13<1:17:00, 27.67s/it]"
     ]
    },
    {
     "name": "stdout",
     "output_type": "stream",
     "text": [
      "\n",
      "Results fetched for URL https://www.yelp.com/biz/cabo-fish-taco-charlotte?adjust_creative=mUhtpg0LANTRd76OAeN1RQ&utm_campaign=yelp_api_v3&utm_medium=api_v3_business_search&utm_source=mUhtpg0LANTRd76OAeN1RQ&start=40:\n",
      "Scraped data from page 1\n",
      "Scraped data from page 2\n",
      "Scraped data from page 3\n",
      "Scraped data from page 4\n",
      "Scraped data from page 5\n"
     ]
    },
    {
     "name": "stderr",
     "output_type": "stream",
     "text": [
      "Scraping Restaurants:  35%|███▍      | 89/255 [39:41<1:16:44, 27.74s/it]"
     ]
    },
    {
     "name": "stdout",
     "output_type": "stream",
     "text": [
      "\n",
      "Results fetched for URL https://www.yelp.com/biz/the-dumpling-lady-charlotte?adjust_creative=mUhtpg0LANTRd76OAeN1RQ&utm_campaign=yelp_api_v3&utm_medium=api_v3_business_search&utm_source=mUhtpg0LANTRd76OAeN1RQ&start=40:\n",
      "Scraped data from page 1\n",
      "Scraped data from page 2\n",
      "Scraped data from page 3\n",
      "Scraped data from page 4\n",
      "Scraped data from page 5\n"
     ]
    },
    {
     "name": "stderr",
     "output_type": "stream",
     "text": [
      "Scraping Restaurants:  35%|███▌      | 90/255 [40:08<1:15:04, 27.30s/it]"
     ]
    },
    {
     "name": "stdout",
     "output_type": "stream",
     "text": [
      "\n",
      "Results fetched for URL https://www.yelp.com/biz/futo-buta-charlotte-3?adjust_creative=mUhtpg0LANTRd76OAeN1RQ&utm_campaign=yelp_api_v3&utm_medium=api_v3_business_search&utm_source=mUhtpg0LANTRd76OAeN1RQ&start=40:\n",
      "Scraped data from page 1\n",
      "Scraped data from page 2\n",
      "Scraped data from page 3\n",
      "Scraped data from page 4\n",
      "Scraped data from page 5\n"
     ]
    },
    {
     "name": "stderr",
     "output_type": "stream",
     "text": [
      "Scraping Restaurants:  36%|███▌      | 91/255 [40:38<1:17:16, 28.27s/it]"
     ]
    },
    {
     "name": "stdout",
     "output_type": "stream",
     "text": [
      "\n",
      "Results fetched for URL https://www.yelp.com/biz/nirmals-seattle?adjust_creative=mUhtpg0LANTRd76OAeN1RQ&utm_campaign=yelp_api_v3&utm_medium=api_v3_business_search&utm_source=mUhtpg0LANTRd76OAeN1RQ&start=40:\n",
      "Scraped data from page 1\n",
      "Scraped data from page 2\n",
      "Scraped data from page 3\n",
      "Scraped data from page 4\n",
      "Scraped data from page 5\n"
     ]
    },
    {
     "name": "stderr",
     "output_type": "stream",
     "text": [
      "Scraping Restaurants:  36%|███▌      | 92/255 [41:08<1:18:06, 28.75s/it]"
     ]
    },
    {
     "name": "stdout",
     "output_type": "stream",
     "text": [
      "\n",
      "Results fetched for URL https://www.yelp.com/biz/the-pink-door-seattle-4?adjust_creative=mUhtpg0LANTRd76OAeN1RQ&utm_campaign=yelp_api_v3&utm_medium=api_v3_business_search&utm_source=mUhtpg0LANTRd76OAeN1RQ&start=40:\n",
      "Scraped data from page 1\n",
      "Scraped data from page 2\n",
      "Scraped data from page 3\n",
      "Scraped data from page 4\n",
      "Scraped data from page 5\n"
     ]
    },
    {
     "name": "stderr",
     "output_type": "stream",
     "text": [
      "Scraping Restaurants:  36%|███▋      | 93/255 [41:34<1:15:37, 28.01s/it]"
     ]
    },
    {
     "name": "stdout",
     "output_type": "stream",
     "text": [
      "\n",
      "Results fetched for URL https://www.yelp.com/biz/tacos-chukis-seattle?adjust_creative=mUhtpg0LANTRd76OAeN1RQ&utm_campaign=yelp_api_v3&utm_medium=api_v3_business_search&utm_source=mUhtpg0LANTRd76OAeN1RQ&start=40:\n",
      "Scraped data from page 1\n",
      "Scraped data from page 2\n",
      "Scraped data from page 3\n",
      "Scraped data from page 4\n",
      "Scraped data from page 5\n"
     ]
    },
    {
     "name": "stderr",
     "output_type": "stream",
     "text": [
      "Scraping Restaurants:  37%|███▋      | 94/255 [42:03<1:16:03, 28.35s/it]"
     ]
    },
    {
     "name": "stdout",
     "output_type": "stream",
     "text": [
      "\n",
      "Results fetched for URL https://www.yelp.com/biz/din-tai-fung-seattle-14?adjust_creative=mUhtpg0LANTRd76OAeN1RQ&utm_campaign=yelp_api_v3&utm_medium=api_v3_business_search&utm_source=mUhtpg0LANTRd76OAeN1RQ&start=40:\n",
      "Scraped data from page 1\n",
      "Scraped data from page 2\n",
      "Scraped data from page 3\n",
      "Scraped data from page 4\n",
      "Scraped data from page 5\n"
     ]
    },
    {
     "name": "stderr",
     "output_type": "stream",
     "text": [
      "Scraping Restaurants:  37%|███▋      | 95/255 [42:29<1:13:17, 27.48s/it]"
     ]
    },
    {
     "name": "stdout",
     "output_type": "stream",
     "text": [
      "\n",
      "Results fetched for URL https://www.yelp.com/biz/japonessa-sushi-cocina-seattle?adjust_creative=mUhtpg0LANTRd76OAeN1RQ&utm_campaign=yelp_api_v3&utm_medium=api_v3_business_search&utm_source=mUhtpg0LANTRd76OAeN1RQ&start=40:\n",
      "Scraped data from page 1\n",
      "Scraped data from page 2\n",
      "Scraped data from page 3\n",
      "Scraped data from page 4\n",
      "Scraped data from page 5\n"
     ]
    },
    {
     "name": "stderr",
     "output_type": "stream",
     "text": [
      "Scraping Restaurants:  38%|███▊      | 96/255 [42:56<1:12:43, 27.45s/it]"
     ]
    },
    {
     "name": "stdout",
     "output_type": "stream",
     "text": [
      "\n",
      "Results fetched for URL https://www.yelp.com/biz/little-india-restaurant-and-bar-denver-10?adjust_creative=mUhtpg0LANTRd76OAeN1RQ&utm_campaign=yelp_api_v3&utm_medium=api_v3_business_search&utm_source=mUhtpg0LANTRd76OAeN1RQ&start=40:\n",
      "Scraped data from page 1\n",
      "Scraped data from page 2\n",
      "Scraped data from page 3\n",
      "Scraped data from page 4\n",
      "Scraped data from page 5\n"
     ]
    },
    {
     "name": "stderr",
     "output_type": "stream",
     "text": [
      "Scraping Restaurants:  38%|███▊      | 97/255 [43:23<1:11:38, 27.20s/it]"
     ]
    },
    {
     "name": "stdout",
     "output_type": "stream",
     "text": [
      "\n",
      "Results fetched for URL https://www.yelp.com/biz/osteria-marco-denver?adjust_creative=mUhtpg0LANTRd76OAeN1RQ&utm_campaign=yelp_api_v3&utm_medium=api_v3_business_search&utm_source=mUhtpg0LANTRd76OAeN1RQ&start=40:\n",
      "Scraped data from page 1\n",
      "Scraped data from page 2\n",
      "Scraped data from page 3\n",
      "Scraped data from page 4\n",
      "Scraped data from page 5\n"
     ]
    },
    {
     "name": "stderr",
     "output_type": "stream",
     "text": [
      "Scraping Restaurants:  38%|███▊      | 98/255 [43:53<1:13:27, 28.08s/it]"
     ]
    },
    {
     "name": "stdout",
     "output_type": "stream",
     "text": [
      "\n",
      "Results fetched for URL https://www.yelp.com/biz/la-loma-denver-denver?adjust_creative=mUhtpg0LANTRd76OAeN1RQ&utm_campaign=yelp_api_v3&utm_medium=api_v3_business_search&utm_source=mUhtpg0LANTRd76OAeN1RQ&start=40:\n",
      "Scraped data from page 1\n",
      "Scraped data from page 2\n",
      "Scraped data from page 3\n",
      "Scraped data from page 4\n",
      "Scraped data from page 5\n"
     ]
    },
    {
     "name": "stderr",
     "output_type": "stream",
     "text": [
      "Scraping Restaurants:  39%|███▉      | 99/255 [44:20<1:12:09, 27.75s/it]"
     ]
    },
    {
     "name": "stdout",
     "output_type": "stream",
     "text": [
      "\n",
      "Results fetched for URL https://www.yelp.com/biz/star-kitchen-denver?adjust_creative=mUhtpg0LANTRd76OAeN1RQ&utm_campaign=yelp_api_v3&utm_medium=api_v3_business_search&utm_source=mUhtpg0LANTRd76OAeN1RQ&start=40:\n",
      "Scraped data from page 1\n",
      "Scraped data from page 2\n",
      "Scraped data from page 3\n",
      "Scraped data from page 4\n",
      "Scraped data from page 5\n"
     ]
    },
    {
     "name": "stderr",
     "output_type": "stream",
     "text": [
      "Scraping Restaurants:  39%|███▉      | 100/255 [44:46<1:10:08, 27.15s/it]"
     ]
    },
    {
     "name": "stdout",
     "output_type": "stream",
     "text": [
      "\n",
      "Results fetched for URL https://www.yelp.com/biz/uncle-denver?adjust_creative=mUhtpg0LANTRd76OAeN1RQ&utm_campaign=yelp_api_v3&utm_medium=api_v3_business_search&utm_source=mUhtpg0LANTRd76OAeN1RQ&start=40:\n",
      "Scraped data from page 1\n",
      "Scraped data from page 2\n",
      "Scraped data from page 3\n",
      "Scraped data from page 4\n",
      "Scraped data from page 5\n"
     ]
    },
    {
     "name": "stderr",
     "output_type": "stream",
     "text": [
      "Scraping Restaurants:  40%|███▉      | 101/255 [45:12<1:08:56, 26.86s/it]"
     ]
    },
    {
     "name": "stdout",
     "output_type": "stream",
     "text": [
      "\n",
      "Results fetched for URL https://www.yelp.com/biz/india-palace-el-paso?adjust_creative=mUhtpg0LANTRd76OAeN1RQ&utm_campaign=yelp_api_v3&utm_medium=api_v3_business_search&utm_source=mUhtpg0LANTRd76OAeN1RQ&start=40:\n",
      "Scraped data from page 1\n",
      "Scraped data from page 2\n",
      "Scraped data from page 3\n",
      "Scraped data from page 4\n",
      "Scraped data from page 5\n"
     ]
    },
    {
     "name": "stderr",
     "output_type": "stream",
     "text": [
      "Scraping Restaurants:  40%|████      | 102/255 [45:39<1:08:21, 26.81s/it]"
     ]
    },
    {
     "name": "stdout",
     "output_type": "stream",
     "text": [
      "\n",
      "Results fetched for URL https://www.yelp.com/biz/trattoria-bella-sera-el-paso?adjust_creative=mUhtpg0LANTRd76OAeN1RQ&utm_campaign=yelp_api_v3&utm_medium=api_v3_business_search&utm_source=mUhtpg0LANTRd76OAeN1RQ&start=40:\n",
      "Scraped data from page 1\n",
      "Scraped data from page 2\n",
      "Scraped data from page 3\n",
      "Scraped data from page 4\n",
      "Scraped data from page 5\n"
     ]
    },
    {
     "name": "stderr",
     "output_type": "stream",
     "text": [
      "Scraping Restaurants:  40%|████      | 103/255 [46:03<1:06:03, 26.08s/it]"
     ]
    },
    {
     "name": "stdout",
     "output_type": "stream",
     "text": [
      "\n",
      "Results fetched for URL https://www.yelp.com/biz/l-and-j-cafe-el-paso?adjust_creative=mUhtpg0LANTRd76OAeN1RQ&utm_campaign=yelp_api_v3&utm_medium=api_v3_business_search&utm_source=mUhtpg0LANTRd76OAeN1RQ&start=40:\n",
      "Scraped data from page 1\n",
      "Timed out waiting for the button to be present.\n",
      "Scraped data from page 2\n",
      "Timed out waiting for the button to be present.\n",
      "Scraped data from page 3\n",
      "Timed out waiting for the button to be present.\n",
      "Scraped data from page 4\n",
      "Timed out waiting for the button to be present.\n",
      "Scraped data from page 5\n"
     ]
    },
    {
     "name": "stderr",
     "output_type": "stream",
     "text": [
      "Scraping Restaurants:  41%|████      | 104/255 [47:18<1:42:54, 40.89s/it]"
     ]
    },
    {
     "name": "stdout",
     "output_type": "stream",
     "text": [
      "Timed out waiting for the button to be present.\n",
      "\n",
      "Results fetched for URL https://www.yelp.com/biz/noodles-and-dumplings-el-paso?adjust_creative=mUhtpg0LANTRd76OAeN1RQ&utm_campaign=yelp_api_v3&utm_medium=api_v3_business_search&utm_source=mUhtpg0LANTRd76OAeN1RQ:\n",
      "Scraped data from page 1\n",
      "Scraped data from page 2\n",
      "Scraped data from page 3\n",
      "Scraped data from page 4\n",
      "Scraped data from page 5\n"
     ]
    },
    {
     "name": "stderr",
     "output_type": "stream",
     "text": [
      "Scraping Restaurants:  41%|████      | 105/255 [47:45<1:31:05, 36.44s/it]"
     ]
    },
    {
     "name": "stdout",
     "output_type": "stream",
     "text": [
      "\n",
      "Results fetched for URL https://www.yelp.com/biz/sushi-garden-el-paso?adjust_creative=mUhtpg0LANTRd76OAeN1RQ&utm_campaign=yelp_api_v3&utm_medium=api_v3_business_search&utm_source=mUhtpg0LANTRd76OAeN1RQ&start=40:\n",
      "Scraped data from page 1\n",
      "Scraped data from page 2\n",
      "Scraped data from page 3\n",
      "Scraped data from page 4\n",
      "Scraped data from page 5\n"
     ]
    },
    {
     "name": "stderr",
     "output_type": "stream",
     "text": [
      "Scraping Restaurants:  42%|████▏     | 106/255 [48:10<1:22:35, 33.26s/it]"
     ]
    },
    {
     "name": "stdout",
     "output_type": "stream",
     "text": [
      "\n",
      "Results fetched for URL https://www.yelp.com/biz/aladdin-sweets-and-cafe-hamtramck?adjust_creative=mUhtpg0LANTRd76OAeN1RQ&utm_campaign=yelp_api_v3&utm_medium=api_v3_business_search&utm_source=mUhtpg0LANTRd76OAeN1RQ&start=40:\n",
      "Scraped data from page 1\n",
      "Scraped data from page 2\n",
      "Scraped data from page 3\n",
      "Scraped data from page 4\n",
      "Scraped data from page 5\n"
     ]
    },
    {
     "name": "stderr",
     "output_type": "stream",
     "text": [
      "Scraping Restaurants:  42%|████▏     | 107/255 [48:38<1:17:36, 31.47s/it]"
     ]
    },
    {
     "name": "stdout",
     "output_type": "stream",
     "text": [
      "\n",
      "Results fetched for URL https://www.yelp.com/biz/supino-pizzeria-detroit?adjust_creative=mUhtpg0LANTRd76OAeN1RQ&utm_campaign=yelp_api_v3&utm_medium=api_v3_business_search&utm_source=mUhtpg0LANTRd76OAeN1RQ&start=40:\n",
      "Scraped data from page 1\n",
      "Scraped data from page 2\n",
      "Scraped data from page 3\n",
      "Scraped data from page 4\n",
      "Scraped data from page 5\n"
     ]
    },
    {
     "name": "stderr",
     "output_type": "stream",
     "text": [
      "Scraping Restaurants:  42%|████▏     | 108/255 [49:05<1:13:59, 30.20s/it]"
     ]
    },
    {
     "name": "stdout",
     "output_type": "stream",
     "text": [
      "\n",
      "Results fetched for URL https://www.yelp.com/biz/bakersfield-detroit?adjust_creative=mUhtpg0LANTRd76OAeN1RQ&utm_campaign=yelp_api_v3&utm_medium=api_v3_business_search&utm_source=mUhtpg0LANTRd76OAeN1RQ&start=40:\n",
      "Scraped data from page 1\n",
      "Scraped data from page 2\n",
      "Scraped data from page 3\n",
      "Scraped data from page 4\n",
      "Scraped data from page 5\n"
     ]
    },
    {
     "name": "stderr",
     "output_type": "stream",
     "text": [
      "Scraping Restaurants:  43%|████▎     | 109/255 [49:32<1:11:23, 29.34s/it]"
     ]
    },
    {
     "name": "stdout",
     "output_type": "stream",
     "text": [
      "\n",
      "Results fetched for URL https://www.yelp.com/biz/johnny-noodle-king-detroit?adjust_creative=mUhtpg0LANTRd76OAeN1RQ&utm_campaign=yelp_api_v3&utm_medium=api_v3_business_search&utm_source=mUhtpg0LANTRd76OAeN1RQ&start=40:\n",
      "Scraped data from page 1\n",
      "Scraped data from page 2\n",
      "Scraped data from page 3\n",
      "Scraped data from page 4\n",
      "Scraped data from page 5\n"
     ]
    },
    {
     "name": "stderr",
     "output_type": "stream",
     "text": [
      "Scraping Restaurants:  43%|████▎     | 110/255 [49:59<1:08:40, 28.42s/it]"
     ]
    },
    {
     "name": "stdout",
     "output_type": "stream",
     "text": [
      "\n",
      "Results fetched for URL https://www.yelp.com/biz/johnny-noodle-king-detroit?adjust_creative=mUhtpg0LANTRd76OAeN1RQ&utm_campaign=yelp_api_v3&utm_medium=api_v3_business_search&utm_source=mUhtpg0LANTRd76OAeN1RQ&start=40:\n",
      "Scraped data from page 1\n",
      "Scraped data from page 2\n",
      "Scraped data from page 3\n",
      "Scraped data from page 4\n",
      "Scraped data from page 5\n"
     ]
    },
    {
     "name": "stderr",
     "output_type": "stream",
     "text": [
      "Scraping Restaurants:  44%|████▎     | 111/255 [50:26<1:07:43, 28.22s/it]"
     ]
    },
    {
     "name": "stdout",
     "output_type": "stream",
     "text": [
      "\n",
      "Results fetched for URL https://www.yelp.com/biz/rasika-washington?adjust_creative=mUhtpg0LANTRd76OAeN1RQ&utm_campaign=yelp_api_v3&utm_medium=api_v3_business_search&utm_source=mUhtpg0LANTRd76OAeN1RQ&start=40:\n",
      "Scraped data from page 1\n",
      "Scraped data from page 2\n",
      "Scraped data from page 3\n",
      "Scraped data from page 4\n",
      "Scraped data from page 5\n"
     ]
    },
    {
     "name": "stderr",
     "output_type": "stream",
     "text": [
      "Scraping Restaurants:  44%|████▍     | 112/255 [50:54<1:07:01, 28.12s/it]"
     ]
    },
    {
     "name": "stdout",
     "output_type": "stream",
     "text": [
      "\n",
      "Results fetched for URL https://www.yelp.com/biz/il-canale-washington-2?adjust_creative=mUhtpg0LANTRd76OAeN1RQ&utm_campaign=yelp_api_v3&utm_medium=api_v3_business_search&utm_source=mUhtpg0LANTRd76OAeN1RQ&start=40:\n",
      "Scraped data from page 1\n",
      "Scraped data from page 2\n",
      "Scraped data from page 3\n",
      "Scraped data from page 4\n",
      "Scraped data from page 5\n"
     ]
    },
    {
     "name": "stderr",
     "output_type": "stream",
     "text": [
      "Scraping Restaurants:  44%|████▍     | 113/255 [51:25<1:08:30, 28.94s/it]"
     ]
    },
    {
     "name": "stdout",
     "output_type": "stream",
     "text": [
      "\n",
      "Results fetched for URL https://www.yelp.com/biz/district-taco-washington-6?adjust_creative=mUhtpg0LANTRd76OAeN1RQ&utm_campaign=yelp_api_v3&utm_medium=api_v3_business_search&utm_source=mUhtpg0LANTRd76OAeN1RQ&start=40:\n",
      "Scraped data from page 1\n",
      "Scraped data from page 2\n",
      "Scraped data from page 3\n",
      "Scraped data from page 4\n",
      "Scraped data from page 5\n"
     ]
    },
    {
     "name": "stderr",
     "output_type": "stream",
     "text": [
      "Scraping Restaurants:  45%|████▍     | 114/255 [51:52<1:06:54, 28.47s/it]"
     ]
    },
    {
     "name": "stdout",
     "output_type": "stream",
     "text": [
      "\n",
      "Results fetched for URL https://www.yelp.com/biz/da-hong-pao-washington?adjust_creative=mUhtpg0LANTRd76OAeN1RQ&utm_campaign=yelp_api_v3&utm_medium=api_v3_business_search&utm_source=mUhtpg0LANTRd76OAeN1RQ&start=40:\n",
      "Scraped data from page 1\n",
      "Scraped data from page 2\n",
      "Scraped data from page 3\n",
      "Scraped data from page 4\n",
      "Scraped data from page 5\n"
     ]
    },
    {
     "name": "stderr",
     "output_type": "stream",
     "text": [
      "Scraping Restaurants:  45%|████▌     | 115/255 [52:21<1:06:44, 28.60s/it]"
     ]
    },
    {
     "name": "stdout",
     "output_type": "stream",
     "text": [
      "\n",
      "Results fetched for URL https://www.yelp.com/biz/daikaya-ramen-shop-washington-2?adjust_creative=mUhtpg0LANTRd76OAeN1RQ&utm_campaign=yelp_api_v3&utm_medium=api_v3_business_search&utm_source=mUhtpg0LANTRd76OAeN1RQ&start=40:\n",
      "Scraped data from page 1\n",
      "Scraped data from page 2\n",
      "Scraped data from page 3\n",
      "Scraped data from page 4\n",
      "Scraped data from page 5\n"
     ]
    },
    {
     "name": "stderr",
     "output_type": "stream",
     "text": [
      "Scraping Restaurants:  45%|████▌     | 116/255 [52:49<1:05:41, 28.36s/it]"
     ]
    },
    {
     "name": "stdout",
     "output_type": "stream",
     "text": [
      "\n",
      "Results fetched for URL https://www.yelp.com/biz/punjabi-dhaba-cambridge?adjust_creative=mUhtpg0LANTRd76OAeN1RQ&utm_campaign=yelp_api_v3&utm_medium=api_v3_business_search&utm_source=mUhtpg0LANTRd76OAeN1RQ&start=40:\n",
      "Scraped data from page 1\n",
      "Scraped data from page 2\n",
      "Scraped data from page 3\n",
      "Scraped data from page 4\n",
      "Scraped data from page 5\n"
     ]
    },
    {
     "name": "stderr",
     "output_type": "stream",
     "text": [
      "Scraping Restaurants:  46%|████▌     | 117/255 [53:20<1:06:42, 29.00s/it]"
     ]
    },
    {
     "name": "stdout",
     "output_type": "stream",
     "text": [
      "\n",
      "Results fetched for URL https://www.yelp.com/biz/giacomos-ristorante-boston-boston?adjust_creative=mUhtpg0LANTRd76OAeN1RQ&utm_campaign=yelp_api_v3&utm_medium=api_v3_business_search&utm_source=mUhtpg0LANTRd76OAeN1RQ&start=40:\n",
      "Scraped data from page 1\n",
      "Scraped data from page 2\n",
      "Scraped data from page 3\n",
      "Scraped data from page 4\n",
      "Scraped data from page 5\n"
     ]
    },
    {
     "name": "stderr",
     "output_type": "stream",
     "text": [
      "Scraping Restaurants:  46%|████▋     | 118/255 [53:46<1:04:42, 28.34s/it]"
     ]
    },
    {
     "name": "stdout",
     "output_type": "stream",
     "text": [
      "\n",
      "Results fetched for URL https://www.yelp.com/biz/lolita-cocina-and-tequila-bar-boston-4?adjust_creative=mUhtpg0LANTRd76OAeN1RQ&utm_campaign=yelp_api_v3&utm_medium=api_v3_business_search&utm_source=mUhtpg0LANTRd76OAeN1RQ&start=40:\n",
      "Scraped data from page 1\n",
      "Scraped data from page 2\n",
      "Scraped data from page 3\n",
      "Scraped data from page 4\n",
      "Scraped data from page 5\n"
     ]
    },
    {
     "name": "stderr",
     "output_type": "stream",
     "text": [
      "Scraping Restaurants:  47%|████▋     | 119/255 [54:13<1:02:56, 27.77s/it]"
     ]
    },
    {
     "name": "stdout",
     "output_type": "stream",
     "text": [
      "\n",
      "Results fetched for URL https://www.yelp.com/biz/q-restaurant-boston?adjust_creative=mUhtpg0LANTRd76OAeN1RQ&utm_campaign=yelp_api_v3&utm_medium=api_v3_business_search&utm_source=mUhtpg0LANTRd76OAeN1RQ&start=40:\n",
      "Scraped data from page 1\n",
      "Scraped data from page 2\n",
      "Scraped data from page 3\n",
      "Scraped data from page 4\n",
      "Scraped data from page 5\n"
     ]
    },
    {
     "name": "stderr",
     "output_type": "stream",
     "text": [
      "Scraping Restaurants:  47%|████▋     | 120/255 [54:39<1:01:31, 27.35s/it]"
     ]
    },
    {
     "name": "stdout",
     "output_type": "stream",
     "text": [
      "\n",
      "Results fetched for URL https://www.yelp.com/biz/douzo-boston?adjust_creative=mUhtpg0LANTRd76OAeN1RQ&utm_campaign=yelp_api_v3&utm_medium=api_v3_business_search&utm_source=mUhtpg0LANTRd76OAeN1RQ&start=40:\n",
      "Scraped data from page 1\n",
      "Scraped data from page 2\n",
      "Scraped data from page 3\n",
      "Scraped data from page 4\n",
      "Scraped data from page 5\n"
     ]
    },
    {
     "name": "stderr",
     "output_type": "stream",
     "text": [
      "Scraping Restaurants:  47%|████▋     | 121/255 [55:06<1:00:41, 27.17s/it]"
     ]
    },
    {
     "name": "stdout",
     "output_type": "stream",
     "text": [
      "\n",
      "Results fetched for URL https://www.yelp.com/biz/india-palace-memphis?adjust_creative=mUhtpg0LANTRd76OAeN1RQ&utm_campaign=yelp_api_v3&utm_medium=api_v3_business_search&utm_source=mUhtpg0LANTRd76OAeN1RQ&start=40:\n",
      "Scraped data from page 1\n",
      "Scraped data from page 2\n",
      "Scraped data from page 3\n",
      "Scraped data from page 4\n",
      "Scraped data from page 5\n"
     ]
    },
    {
     "name": "stderr",
     "output_type": "stream",
     "text": [
      "Scraping Restaurants:  48%|████▊     | 122/255 [55:32<59:17, 26.75s/it]  "
     ]
    },
    {
     "name": "stdout",
     "output_type": "stream",
     "text": [
      "\n",
      "Results fetched for URL https://www.yelp.com/biz/aldos-pizza-pies-downtown-memphis?adjust_creative=mUhtpg0LANTRd76OAeN1RQ&utm_campaign=yelp_api_v3&utm_medium=api_v3_business_search&utm_source=mUhtpg0LANTRd76OAeN1RQ&start=40:\n",
      "Scraped data from page 1\n",
      "Scraped data from page 2\n",
      "Scraped data from page 3\n",
      "Scraped data from page 4\n",
      "Scraped data from page 5\n"
     ]
    },
    {
     "name": "stderr",
     "output_type": "stream",
     "text": [
      "Scraping Restaurants:  48%|████▊     | 123/255 [55:59<58:56, 26.79s/it]"
     ]
    },
    {
     "name": "stdout",
     "output_type": "stream",
     "text": [
      "\n",
      "Results fetched for URL https://www.yelp.com/biz/elwoods-shack-memphis?adjust_creative=mUhtpg0LANTRd76OAeN1RQ&utm_campaign=yelp_api_v3&utm_medium=api_v3_business_search&utm_source=mUhtpg0LANTRd76OAeN1RQ&start=40:\n",
      "Scraped data from page 1\n",
      "Scraped data from page 2\n",
      "Scraped data from page 3\n",
      "Scraped data from page 4\n",
      "Scraped data from page 5\n"
     ]
    },
    {
     "name": "stderr",
     "output_type": "stream",
     "text": [
      "Scraping Restaurants:  49%|████▊     | 124/255 [56:25<58:33, 26.82s/it]"
     ]
    },
    {
     "name": "stdout",
     "output_type": "stream",
     "text": [
      "\n",
      "Results fetched for URL https://www.yelp.com/biz/mulan-asian-bistro-memphis?adjust_creative=mUhtpg0LANTRd76OAeN1RQ&utm_campaign=yelp_api_v3&utm_medium=api_v3_business_search&utm_source=mUhtpg0LANTRd76OAeN1RQ&start=40:\n",
      "Scraped data from page 1\n",
      "Scraped data from page 2\n",
      "Scraped data from page 3\n",
      "Scraped data from page 4\n",
      "Scraped data from page 5\n"
     ]
    },
    {
     "name": "stderr",
     "output_type": "stream",
     "text": [
      "Scraping Restaurants:  49%|████▉     | 125/255 [56:51<57:18, 26.45s/it]"
     ]
    },
    {
     "name": "stdout",
     "output_type": "stream",
     "text": [
      "\n",
      "Results fetched for URL https://www.yelp.com/biz/robata-ramen-and-yakitori-bar-memphis?adjust_creative=mUhtpg0LANTRd76OAeN1RQ&utm_campaign=yelp_api_v3&utm_medium=api_v3_business_search&utm_source=mUhtpg0LANTRd76OAeN1RQ&start=40:\n",
      "Scraped data from page 1\n",
      "Scraped data from page 2\n",
      "Scraped data from page 3\n",
      "Scraped data from page 4\n",
      "Scraped data from page 5\n"
     ]
    },
    {
     "name": "stderr",
     "output_type": "stream",
     "text": [
      "Scraping Restaurants:  49%|████▉     | 126/255 [57:19<57:48, 26.89s/it]"
     ]
    },
    {
     "name": "stdout",
     "output_type": "stream",
     "text": [
      "\n",
      "Results fetched for URL https://www.yelp.com/biz/chauhan-ale-and-masala-house-nashville?adjust_creative=mUhtpg0LANTRd76OAeN1RQ&utm_campaign=yelp_api_v3&utm_medium=api_v3_business_search&utm_source=mUhtpg0LANTRd76OAeN1RQ&start=40:\n",
      "Scraped data from page 1\n",
      "Scraped data from page 2\n",
      "Scraped data from page 3\n",
      "Scraped data from page 4\n",
      "Scraped data from page 5\n"
     ]
    },
    {
     "name": "stderr",
     "output_type": "stream",
     "text": [
      "Scraping Restaurants:  50%|████▉     | 127/255 [57:45<56:50, 26.64s/it]"
     ]
    },
    {
     "name": "stdout",
     "output_type": "stream",
     "text": [
      "\n",
      "Results fetched for URL https://www.yelp.com/biz/city-house-nashville?adjust_creative=mUhtpg0LANTRd76OAeN1RQ&utm_campaign=yelp_api_v3&utm_medium=api_v3_business_search&utm_source=mUhtpg0LANTRd76OAeN1RQ&start=40:\n",
      "Scraped data from page 1\n",
      "Scraped data from page 2\n",
      "Scraped data from page 3\n",
      "Scraped data from page 4\n",
      "Scraped data from page 5\n"
     ]
    },
    {
     "name": "stderr",
     "output_type": "stream",
     "text": [
      "Scraping Restaurants:  50%|█████     | 128/255 [58:11<55:50, 26.38s/it]"
     ]
    },
    {
     "name": "stdout",
     "output_type": "stream",
     "text": [
      "\n",
      "Results fetched for URL https://www.yelp.com/biz/bartaco-nashville-nashville?adjust_creative=mUhtpg0LANTRd76OAeN1RQ&utm_campaign=yelp_api_v3&utm_medium=api_v3_business_search&utm_source=mUhtpg0LANTRd76OAeN1RQ&start=40:\n",
      "Scraped data from page 1\n",
      "Scraped data from page 2\n",
      "Scraped data from page 3\n",
      "Scraped data from page 4\n",
      "Scraped data from page 5\n"
     ]
    },
    {
     "name": "stderr",
     "output_type": "stream",
     "text": [
      "Scraping Restaurants:  51%|█████     | 129/255 [58:39<56:25, 26.87s/it]"
     ]
    },
    {
     "name": "stdout",
     "output_type": "stream",
     "text": [
      "\n",
      "Results fetched for URL https://www.yelp.com/biz/the-smiling-elephant-nashville?adjust_creative=mUhtpg0LANTRd76OAeN1RQ&utm_campaign=yelp_api_v3&utm_medium=api_v3_business_search&utm_source=mUhtpg0LANTRd76OAeN1RQ&start=40:\n",
      "Scraped data from page 1\n",
      "Scraped data from page 2\n",
      "Scraped data from page 3\n",
      "Scraped data from page 4\n",
      "Scraped data from page 5\n"
     ]
    },
    {
     "name": "stderr",
     "output_type": "stream",
     "text": [
      "Scraping Restaurants:  51%|█████     | 130/255 [59:06<56:07, 26.94s/it]"
     ]
    },
    {
     "name": "stdout",
     "output_type": "stream",
     "text": [
      "\n",
      "Results fetched for URL https://www.yelp.com/biz/two-ten-jack-nashville?adjust_creative=mUhtpg0LANTRd76OAeN1RQ&utm_campaign=yelp_api_v3&utm_medium=api_v3_business_search&utm_source=mUhtpg0LANTRd76OAeN1RQ&start=40:\n",
      "Scraped data from page 1\n",
      "Scraped data from page 2\n",
      "Scraped data from page 3\n",
      "Scraped data from page 4\n",
      "Scraped data from page 5\n"
     ]
    },
    {
     "name": "stderr",
     "output_type": "stream",
     "text": [
      "Scraping Restaurants:  51%|█████▏    | 131/255 [59:34<56:03, 27.12s/it]"
     ]
    },
    {
     "name": "stdout",
     "output_type": "stream",
     "text": [
      "\n",
      "Results fetched for URL https://www.yelp.com/biz/bollywood-theater-portland?adjust_creative=mUhtpg0LANTRd76OAeN1RQ&utm_campaign=yelp_api_v3&utm_medium=api_v3_business_search&utm_source=mUhtpg0LANTRd76OAeN1RQ&start=40:\n",
      "Scraped data from page 1\n",
      "Scraped data from page 2\n",
      "Scraped data from page 3\n",
      "Scraped data from page 4\n",
      "Scraped data from page 5\n"
     ]
    },
    {
     "name": "stderr",
     "output_type": "stream",
     "text": [
      "Scraping Restaurants:  52%|█████▏    | 132/255 [1:00:01<55:47, 27.22s/it]"
     ]
    },
    {
     "name": "stdout",
     "output_type": "stream",
     "text": [
      "\n",
      "Results fetched for URL https://www.yelp.com/biz/grassa-portland?adjust_creative=mUhtpg0LANTRd76OAeN1RQ&utm_campaign=yelp_api_v3&utm_medium=api_v3_business_search&utm_source=mUhtpg0LANTRd76OAeN1RQ&start=40:\n",
      "Scraped data from page 1\n",
      "Scraped data from page 2\n",
      "Scraped data from page 3\n",
      "Scraped data from page 4\n",
      "Timed out waiting for the button to be present.\n",
      "Scraped data from page 5\n"
     ]
    },
    {
     "name": "stderr",
     "output_type": "stream",
     "text": [
      "Scraping Restaurants:  52%|█████▏    | 133/255 [1:00:50<1:08:21, 33.62s/it]"
     ]
    },
    {
     "name": "stdout",
     "output_type": "stream",
     "text": [
      "Timed out waiting for the button to be present.\n",
      "\n",
      "Results fetched for URL https://www.yelp.com/biz/g%C3%BCero-portland?adjust_creative=mUhtpg0LANTRd76OAeN1RQ&utm_campaign=yelp_api_v3&utm_medium=api_v3_business_search&utm_source=mUhtpg0LANTRd76OAeN1RQ&start=20:\n",
      "Scraped data from page 1\n",
      "Scraped data from page 2\n",
      "Scraped data from page 3\n",
      "Scraped data from page 4\n",
      "Scraped data from page 5\n"
     ]
    },
    {
     "name": "stderr",
     "output_type": "stream",
     "text": [
      "Scraping Restaurants:  53%|█████▎    | 134/255 [1:01:17<1:04:11, 31.83s/it]"
     ]
    },
    {
     "name": "stdout",
     "output_type": "stream",
     "text": [
      "\n",
      "Results fetched for URL https://www.yelp.com/biz/duck-house-chinese-restaurant-portland?adjust_creative=mUhtpg0LANTRd76OAeN1RQ&utm_campaign=yelp_api_v3&utm_medium=api_v3_business_search&utm_source=mUhtpg0LANTRd76OAeN1RQ&start=40:\n",
      "Scraped data from page 1\n",
      "Scraped data from page 2\n",
      "Scraped data from page 3\n",
      "Scraped data from page 4\n",
      "Scraped data from page 5\n"
     ]
    },
    {
     "name": "stderr",
     "output_type": "stream",
     "text": [
      "Scraping Restaurants:  53%|█████▎    | 135/255 [1:01:46<1:01:40, 30.84s/it]"
     ]
    },
    {
     "name": "stdout",
     "output_type": "stream",
     "text": [
      "\n",
      "Results fetched for URL https://www.yelp.com/biz/afuri-izakaya-portland?adjust_creative=mUhtpg0LANTRd76OAeN1RQ&utm_campaign=yelp_api_v3&utm_medium=api_v3_business_search&utm_source=mUhtpg0LANTRd76OAeN1RQ&start=40:\n",
      "Scraped data from page 1\n",
      "Scraped data from page 2\n",
      "Scraped data from page 3\n",
      "Scraped data from page 4\n",
      "Scraped data from page 5\n"
     ]
    },
    {
     "name": "stderr",
     "output_type": "stream",
     "text": [
      "Scraping Restaurants:  53%|█████▎    | 136/255 [1:02:11<58:09, 29.32s/it]  "
     ]
    },
    {
     "name": "stdout",
     "output_type": "stream",
     "text": [
      "\n",
      "Results fetched for URL https://www.yelp.com/biz/sheesh-mahal-oklahoma-city?adjust_creative=mUhtpg0LANTRd76OAeN1RQ&utm_campaign=yelp_api_v3&utm_medium=api_v3_business_search&utm_source=mUhtpg0LANTRd76OAeN1RQ&start=40:\n",
      "Scraped data from page 1\n",
      "Scraped data from page 2\n",
      "Scraped data from page 3\n",
      "Scraped data from page 4\n",
      "Scraped data from page 5\n"
     ]
    },
    {
     "name": "stderr",
     "output_type": "stream",
     "text": [
      "Scraping Restaurants:  54%|█████▎    | 137/255 [1:02:39<56:51, 28.91s/it]"
     ]
    },
    {
     "name": "stdout",
     "output_type": "stream",
     "text": [
      "\n",
      "Results fetched for URL https://www.yelp.com/biz/picasso-on-paseo-oklahoma-city?adjust_creative=mUhtpg0LANTRd76OAeN1RQ&utm_campaign=yelp_api_v3&utm_medium=api_v3_business_search&utm_source=mUhtpg0LANTRd76OAeN1RQ&start=40:\n",
      "Scraped data from page 1\n",
      "Scraped data from page 2\n",
      "Scraped data from page 3\n",
      "Scraped data from page 4\n",
      "Scraped data from page 5\n"
     ]
    },
    {
     "name": "stderr",
     "output_type": "stream",
     "text": [
      "Scraping Restaurants:  54%|█████▍    | 138/255 [1:03:04<54:02, 27.71s/it]"
     ]
    },
    {
     "name": "stdout",
     "output_type": "stream",
     "text": [
      "\n",
      "Results fetched for URL https://www.yelp.com/biz/barrios-fine-mexican-dishes-oklahoma-city?adjust_creative=mUhtpg0LANTRd76OAeN1RQ&utm_campaign=yelp_api_v3&utm_medium=api_v3_business_search&utm_source=mUhtpg0LANTRd76OAeN1RQ&start=40:\n",
      "Scraped data from page 1\n",
      "Scraped data from page 2\n",
      "Scraped data from page 3\n",
      "Scraped data from page 4\n",
      "Scraped data from page 5\n"
     ]
    },
    {
     "name": "stderr",
     "output_type": "stream",
     "text": [
      "Scraping Restaurants:  55%|█████▍    | 139/255 [1:03:31<52:51, 27.34s/it]"
     ]
    },
    {
     "name": "stdout",
     "output_type": "stream",
     "text": [
      "\n",
      "Results fetched for URL https://www.yelp.com/biz/grand-house-asian-bistro-oklahoma-city?adjust_creative=mUhtpg0LANTRd76OAeN1RQ&utm_campaign=yelp_api_v3&utm_medium=api_v3_business_search&utm_source=mUhtpg0LANTRd76OAeN1RQ&start=40:\n",
      "Scraped data from page 1\n",
      "Scraped data from page 2\n",
      "Scraped data from page 3\n",
      "Scraped data from page 4\n",
      "Scraped data from page 5\n"
     ]
    },
    {
     "name": "stderr",
     "output_type": "stream",
     "text": [
      "Scraping Restaurants:  55%|█████▍    | 140/255 [1:03:58<52:11, 27.23s/it]"
     ]
    },
    {
     "name": "stdout",
     "output_type": "stream",
     "text": [
      "\n",
      "Results fetched for URL https://www.yelp.com/biz/tamashii-ramen-oklahoma-city?adjust_creative=mUhtpg0LANTRd76OAeN1RQ&utm_campaign=yelp_api_v3&utm_medium=api_v3_business_search&utm_source=mUhtpg0LANTRd76OAeN1RQ&start=40:\n",
      "Scraped data from page 1\n",
      "Scraped data from page 2\n",
      "Scraped data from page 3\n",
      "Scraped data from page 4\n",
      "Scraped data from page 5\n"
     ]
    },
    {
     "name": "stderr",
     "output_type": "stream",
     "text": [
      "Scraping Restaurants:  55%|█████▌    | 141/255 [1:04:24<51:13, 26.96s/it]"
     ]
    },
    {
     "name": "stdout",
     "output_type": "stream",
     "text": [
      "\n",
      "Results fetched for URL https://www.yelp.com/biz/mt-everest-indias-cuisine-las-vegas-2?adjust_creative=mUhtpg0LANTRd76OAeN1RQ&utm_campaign=yelp_api_v3&utm_medium=api_v3_business_search&utm_source=mUhtpg0LANTRd76OAeN1RQ&start=40:\n",
      "Scraped data from page 1\n",
      "Scraped data from page 2\n",
      "Scraped data from page 3\n",
      "Scraped data from page 4\n",
      "Scraped data from page 5\n"
     ]
    },
    {
     "name": "stderr",
     "output_type": "stream",
     "text": [
      "Scraping Restaurants:  56%|█████▌    | 142/255 [1:04:51<51:00, 27.08s/it]"
     ]
    },
    {
     "name": "stdout",
     "output_type": "stream",
     "text": [
      "\n",
      "Results fetched for URL https://www.yelp.com/biz/buddy-vs-ristorante-las-vegas-3?adjust_creative=mUhtpg0LANTRd76OAeN1RQ&utm_campaign=yelp_api_v3&utm_medium=api_v3_business_search&utm_source=mUhtpg0LANTRd76OAeN1RQ&start=40:\n",
      "Scraped data from page 1\n",
      "Scraped data from page 2\n",
      "Scraped data from page 3\n",
      "Scraped data from page 4\n",
      "Scraped data from page 5\n"
     ]
    },
    {
     "name": "stderr",
     "output_type": "stream",
     "text": [
      "Scraping Restaurants:  56%|█████▌    | 143/255 [1:05:19<50:54, 27.27s/it]"
     ]
    },
    {
     "name": "stdout",
     "output_type": "stream",
     "text": [
      "\n",
      "Results fetched for URL https://www.yelp.com/biz/nacho-daddy-las-vegas-7?adjust_creative=mUhtpg0LANTRd76OAeN1RQ&utm_campaign=yelp_api_v3&utm_medium=api_v3_business_search&utm_source=mUhtpg0LANTRd76OAeN1RQ&start=40:\n",
      "Scraped data from page 1\n",
      "Scraped data from page 2\n",
      "Scraped data from page 3\n",
      "Scraped data from page 4\n",
      "Scraped data from page 5\n"
     ]
    },
    {
     "name": "stderr",
     "output_type": "stream",
     "text": [
      "Scraping Restaurants:  56%|█████▋    | 144/255 [1:05:47<50:54, 27.52s/it]"
     ]
    },
    {
     "name": "stdout",
     "output_type": "stream",
     "text": [
      "\n",
      "Results fetched for URL https://www.yelp.com/biz/shang-artisan-noodle-las-vegas-8?adjust_creative=mUhtpg0LANTRd76OAeN1RQ&utm_campaign=yelp_api_v3&utm_medium=api_v3_business_search&utm_source=mUhtpg0LANTRd76OAeN1RQ&start=40:\n",
      "Scraped data from page 1\n",
      "Scraped data from page 2\n",
      "Scraped data from page 3\n",
      "Scraped data from page 4\n",
      "Scraped data from page 5\n"
     ]
    },
    {
     "name": "stderr",
     "output_type": "stream",
     "text": [
      "Scraping Restaurants:  57%|█████▋    | 145/255 [1:06:17<51:56, 28.33s/it]"
     ]
    },
    {
     "name": "stdout",
     "output_type": "stream",
     "text": [
      "\n",
      "Results fetched for URL https://www.yelp.com/biz/gangnam-asian-bbq-dining-las-vegas-2?adjust_creative=mUhtpg0LANTRd76OAeN1RQ&utm_campaign=yelp_api_v3&utm_medium=api_v3_business_search&utm_source=mUhtpg0LANTRd76OAeN1RQ&start=40:\n",
      "Scraped data from page 1\n",
      "Scraped data from page 2\n",
      "Scraped data from page 3\n",
      "Scraped data from page 4\n",
      "Scraped data from page 5\n"
     ]
    },
    {
     "name": "stderr",
     "output_type": "stream",
     "text": [
      "Scraping Restaurants:  57%|█████▋    | 146/255 [1:06:42<49:38, 27.33s/it]"
     ]
    },
    {
     "name": "stdout",
     "output_type": "stream",
     "text": [
      "\n",
      "Results fetched for URL https://www.yelp.com/biz/namaste-baltimore-baltimore?adjust_creative=mUhtpg0LANTRd76OAeN1RQ&utm_campaign=yelp_api_v3&utm_medium=api_v3_business_search&utm_source=mUhtpg0LANTRd76OAeN1RQ&start=40:\n",
      "Scraped data from page 1\n",
      "Scraped data from page 2\n",
      "Scraped data from page 3\n",
      "Scraped data from page 4\n",
      "Scraped data from page 5\n"
     ]
    },
    {
     "name": "stderr",
     "output_type": "stream",
     "text": [
      "Scraping Restaurants:  58%|█████▊    | 147/255 [1:07:09<48:36, 27.01s/it]"
     ]
    },
    {
     "name": "stdout",
     "output_type": "stream",
     "text": [
      "\n",
      "Results fetched for URL https://www.yelp.com/biz/amiccis-baltimore?adjust_creative=mUhtpg0LANTRd76OAeN1RQ&utm_campaign=yelp_api_v3&utm_medium=api_v3_business_search&utm_source=mUhtpg0LANTRd76OAeN1RQ&start=40:\n",
      "Scraped data from page 1\n",
      "Scraped data from page 2\n",
      "Scraped data from page 3\n",
      "Scraped data from page 4\n",
      "Scraped data from page 5\n"
     ]
    },
    {
     "name": "stderr",
     "output_type": "stream",
     "text": [
      "Scraping Restaurants:  58%|█████▊    | 148/255 [1:07:33<46:55, 26.31s/it]"
     ]
    },
    {
     "name": "stdout",
     "output_type": "stream",
     "text": [
      "\n",
      "Results fetched for URL https://www.yelp.com/biz/clavel-baltimore?adjust_creative=mUhtpg0LANTRd76OAeN1RQ&utm_campaign=yelp_api_v3&utm_medium=api_v3_business_search&utm_source=mUhtpg0LANTRd76OAeN1RQ&start=40:\n",
      "Scraped data from page 1\n",
      "Scraped data from page 2\n",
      "Scraped data from page 3\n",
      "Scraped data from page 4\n",
      "Scraped data from page 5\n"
     ]
    },
    {
     "name": "stderr",
     "output_type": "stream",
     "text": [
      "Scraping Restaurants:  58%|█████▊    | 149/255 [1:07:59<46:20, 26.23s/it]"
     ]
    },
    {
     "name": "stdout",
     "output_type": "stream",
     "text": [
      "\n",
      "Results fetched for URL https://www.yelp.com/biz/ja-kum-sung-glen-burnie?adjust_creative=mUhtpg0LANTRd76OAeN1RQ&utm_campaign=yelp_api_v3&utm_medium=api_v3_business_search&utm_source=mUhtpg0LANTRd76OAeN1RQ&start=40:\n",
      "Scraped data from page 1\n",
      "Scraped data from page 2\n",
      "Scraped data from page 3\n",
      "Scraped data from page 4\n",
      "Scraped data from page 5\n"
     ]
    },
    {
     "name": "stderr",
     "output_type": "stream",
     "text": [
      "Scraping Restaurants:  59%|█████▉    | 150/255 [1:08:25<45:34, 26.05s/it]"
     ]
    },
    {
     "name": "stdout",
     "output_type": "stream",
     "text": [
      "\n",
      "Results fetched for URL https://www.yelp.com/biz/shoyou-sushi-baltimore?adjust_creative=mUhtpg0LANTRd76OAeN1RQ&utm_campaign=yelp_api_v3&utm_medium=api_v3_business_search&utm_source=mUhtpg0LANTRd76OAeN1RQ&start=40:\n",
      "Scraped data from page 1\n",
      "Scraped data from page 2\n",
      "Scraped data from page 3\n",
      "Scraped data from page 4\n",
      "Scraped data from page 5\n"
     ]
    },
    {
     "name": "stderr",
     "output_type": "stream",
     "text": [
      "Scraping Restaurants:  59%|█████▉    | 151/255 [1:08:53<45:56, 26.50s/it]"
     ]
    },
    {
     "name": "stdout",
     "output_type": "stream",
     "text": [
      "\n",
      "Results fetched for URL https://www.yelp.com/biz/shalimar-indian-restaurant-louisville?adjust_creative=mUhtpg0LANTRd76OAeN1RQ&utm_campaign=yelp_api_v3&utm_medium=api_v3_business_search&utm_source=mUhtpg0LANTRd76OAeN1RQ&start=40:\n",
      "Scraped data from page 1\n",
      "Scraped data from page 2\n",
      "Scraped data from page 3\n",
      "Scraped data from page 4\n",
      "Scraped data from page 5\n"
     ]
    },
    {
     "name": "stderr",
     "output_type": "stream",
     "text": [
      "Scraping Restaurants:  60%|█████▉    | 152/255 [1:09:17<44:17, 25.80s/it]"
     ]
    },
    {
     "name": "stdout",
     "output_type": "stream",
     "text": [
      "\n",
      "Results fetched for URL https://www.yelp.com/biz/the-old-spaghetti-factory-louisville?adjust_creative=mUhtpg0LANTRd76OAeN1RQ&utm_campaign=yelp_api_v3&utm_medium=api_v3_business_search&utm_source=mUhtpg0LANTRd76OAeN1RQ&start=40:\n",
      "Scraped data from page 1\n",
      "Scraped data from page 2\n",
      "Scraped data from page 3\n",
      "Scraped data from page 4\n",
      "Scraped data from page 5\n"
     ]
    },
    {
     "name": "stderr",
     "output_type": "stream",
     "text": [
      "Scraping Restaurants:  60%|██████    | 153/255 [1:09:43<44:09, 25.97s/it]"
     ]
    },
    {
     "name": "stdout",
     "output_type": "stream",
     "text": [
      "\n",
      "Results fetched for URL https://www.yelp.com/biz/mayan-cafe-louisville?adjust_creative=mUhtpg0LANTRd76OAeN1RQ&utm_campaign=yelp_api_v3&utm_medium=api_v3_business_search&utm_source=mUhtpg0LANTRd76OAeN1RQ&start=40:\n",
      "Scraped data from page 1\n",
      "Scraped data from page 2\n",
      "Scraped data from page 3\n",
      "Scraped data from page 4\n",
      "Scraped data from page 5\n"
     ]
    },
    {
     "name": "stderr",
     "output_type": "stream",
     "text": [
      "Scraping Restaurants:  60%|██████    | 154/255 [1:10:09<43:39, 25.93s/it]"
     ]
    },
    {
     "name": "stdout",
     "output_type": "stream",
     "text": [
      "\n",
      "Results fetched for URL https://www.yelp.com/biz/simply-thai-louisville?adjust_creative=mUhtpg0LANTRd76OAeN1RQ&utm_campaign=yelp_api_v3&utm_medium=api_v3_business_search&utm_source=mUhtpg0LANTRd76OAeN1RQ&start=40:\n",
      "Scraped data from page 1\n",
      "Scraped data from page 2\n",
      "Scraped data from page 3\n",
      "Scraped data from page 4\n",
      "Scraped data from page 5\n"
     ]
    },
    {
     "name": "stderr",
     "output_type": "stream",
     "text": [
      "Scraping Restaurants:  61%|██████    | 155/255 [1:10:36<43:58, 26.38s/it]"
     ]
    },
    {
     "name": "stdout",
     "output_type": "stream",
     "text": [
      "\n",
      "Results fetched for URL https://www.yelp.com/biz/dragon-kings-daughter-louisville?adjust_creative=mUhtpg0LANTRd76OAeN1RQ&utm_campaign=yelp_api_v3&utm_medium=api_v3_business_search&utm_source=mUhtpg0LANTRd76OAeN1RQ&start=40:\n",
      "Scraped data from page 1\n",
      "Scraped data from page 2\n",
      "Scraped data from page 3\n",
      "Scraped data from page 4\n",
      "Scraped data from page 5\n"
     ]
    },
    {
     "name": "stderr",
     "output_type": "stream",
     "text": [
      "Scraping Restaurants:  61%|██████    | 156/255 [1:11:05<44:25, 26.93s/it]"
     ]
    },
    {
     "name": "stdout",
     "output_type": "stream",
     "text": [
      "\n",
      "Results fetched for URL https://www.yelp.com/biz/india-garden-wauwatosa?adjust_creative=mUhtpg0LANTRd76OAeN1RQ&utm_campaign=yelp_api_v3&utm_medium=api_v3_business_search&utm_source=mUhtpg0LANTRd76OAeN1RQ&start=40:\n",
      "Scraped data from page 1\n",
      "Scraped data from page 2\n",
      "Scraped data from page 3\n",
      "Scraped data from page 4\n",
      "Scraped data from page 5\n"
     ]
    },
    {
     "name": "stderr",
     "output_type": "stream",
     "text": [
      "Scraping Restaurants:  62%|██████▏   | 157/255 [1:11:33<44:46, 27.41s/it]"
     ]
    },
    {
     "name": "stdout",
     "output_type": "stream",
     "text": [
      "\n",
      "Results fetched for URL https://www.yelp.com/biz/onesto-milwaukee?adjust_creative=mUhtpg0LANTRd76OAeN1RQ&utm_campaign=yelp_api_v3&utm_medium=api_v3_business_search&utm_source=mUhtpg0LANTRd76OAeN1RQ&start=40:\n",
      "Scraped data from page 1\n",
      "Scraped data from page 2\n",
      "Scraped data from page 3\n",
      "Scraped data from page 4\n",
      "Scraped data from page 5\n"
     ]
    },
    {
     "name": "stderr",
     "output_type": "stream",
     "text": [
      "Scraping Restaurants:  62%|██████▏   | 158/255 [1:12:00<44:00, 27.22s/it]"
     ]
    },
    {
     "name": "stdout",
     "output_type": "stream",
     "text": [
      "\n",
      "Results fetched for URL https://www.yelp.com/biz/caf%C3%A9-coraz%C3%B3n-milwaukee-3?adjust_creative=mUhtpg0LANTRd76OAeN1RQ&utm_campaign=yelp_api_v3&utm_medium=api_v3_business_search&utm_source=mUhtpg0LANTRd76OAeN1RQ&start=40:\n",
      "Scraped data from page 1\n",
      "Scraped data from page 2\n",
      "Scraped data from page 3\n",
      "Scraped data from page 4\n",
      "Scraped data from page 5\n"
     ]
    },
    {
     "name": "stderr",
     "output_type": "stream",
     "text": [
      "Scraping Restaurants:  62%|██████▏   | 159/255 [1:12:36<47:37, 29.77s/it]"
     ]
    },
    {
     "name": "stdout",
     "output_type": "stream",
     "text": [
      "\n",
      "Results fetched for URL https://www.yelp.com/biz/dandan-milwaukee?adjust_creative=mUhtpg0LANTRd76OAeN1RQ&utm_campaign=yelp_api_v3&utm_medium=api_v3_business_search&utm_source=mUhtpg0LANTRd76OAeN1RQ&start=40:\n",
      "Scraped data from page 1\n",
      "Scraped data from page 2\n",
      "Scraped data from page 3\n",
      "Scraped data from page 4\n",
      "Scraped data from page 5\n"
     ]
    },
    {
     "name": "stderr",
     "output_type": "stream",
     "text": [
      "Scraping Restaurants:  63%|██████▎   | 160/255 [1:13:03<46:07, 29.13s/it]"
     ]
    },
    {
     "name": "stdout",
     "output_type": "stream",
     "text": [
      "\n",
      "Results fetched for URL https://www.yelp.com/biz/kyoto-greenfield?adjust_creative=mUhtpg0LANTRd76OAeN1RQ&utm_campaign=yelp_api_v3&utm_medium=api_v3_business_search&utm_source=mUhtpg0LANTRd76OAeN1RQ&start=40:\n",
      "Scraped data from page 1\n",
      "Scraped data from page 2\n",
      "Scraped data from page 3\n",
      "Scraped data from page 4\n",
      "Scraped data from page 5\n"
     ]
    },
    {
     "name": "stderr",
     "output_type": "stream",
     "text": [
      "Scraping Restaurants:  63%|██████▎   | 161/255 [1:13:30<44:25, 28.36s/it]"
     ]
    },
    {
     "name": "stdout",
     "output_type": "stream",
     "text": [
      "\n",
      "Results fetched for URL https://www.yelp.com/biz/curry-leaf-albuquerque?adjust_creative=mUhtpg0LANTRd76OAeN1RQ&utm_campaign=yelp_api_v3&utm_medium=api_v3_business_search&utm_source=mUhtpg0LANTRd76OAeN1RQ&start=40:\n",
      "Scraped data from page 1\n",
      "Scraped data from page 2\n",
      "Scraped data from page 3\n",
      "Scraped data from page 4\n",
      "Scraped data from page 5\n"
     ]
    },
    {
     "name": "stderr",
     "output_type": "stream",
     "text": [
      "Scraping Restaurants:  64%|██████▎   | 162/255 [1:13:56<43:05, 27.80s/it]"
     ]
    },
    {
     "name": "stdout",
     "output_type": "stream",
     "text": [
      "\n",
      "Results fetched for URL https://www.yelp.com/biz/farina-pizzeria-and-wine-bar-albuquerque-2?adjust_creative=mUhtpg0LANTRd76OAeN1RQ&utm_campaign=yelp_api_v3&utm_medium=api_v3_business_search&utm_source=mUhtpg0LANTRd76OAeN1RQ&start=40:\n",
      "Scraped data from page 1\n",
      "Scraped data from page 2\n",
      "Scraped data from page 3\n",
      "Scraped data from page 4\n",
      "Scraped data from page 5\n"
     ]
    },
    {
     "name": "stderr",
     "output_type": "stream",
     "text": [
      "Scraping Restaurants:  64%|██████▍   | 163/255 [1:14:22<41:36, 27.14s/it]"
     ]
    },
    {
     "name": "stdout",
     "output_type": "stream",
     "text": [
      "\n",
      "Results fetched for URL https://www.yelp.com/biz/the-original-cocina-azul-mountain-albuquerque?adjust_creative=mUhtpg0LANTRd76OAeN1RQ&utm_campaign=yelp_api_v3&utm_medium=api_v3_business_search&utm_source=mUhtpg0LANTRd76OAeN1RQ&start=40:\n",
      "Scraped data from page 1\n",
      "Scraped data from page 2\n",
      "Scraped data from page 3\n",
      "Scraped data from page 4\n",
      "Scraped data from page 5\n"
     ]
    },
    {
     "name": "stderr",
     "output_type": "stream",
     "text": [
      "Scraping Restaurants:  64%|██████▍   | 164/255 [1:14:53<42:43, 28.17s/it]"
     ]
    },
    {
     "name": "stdout",
     "output_type": "stream",
     "text": [
      "\n",
      "Results fetched for URL https://www.yelp.com/biz/fan-tang-albuquerque?adjust_creative=mUhtpg0LANTRd76OAeN1RQ&utm_campaign=yelp_api_v3&utm_medium=api_v3_business_search&utm_source=mUhtpg0LANTRd76OAeN1RQ&start=40:\n",
      "Scraped data from page 1\n",
      "Scraped data from page 2\n",
      "Scraped data from page 3\n",
      "Scraped data from page 4\n",
      "Scraped data from page 5\n"
     ]
    },
    {
     "name": "stderr",
     "output_type": "stream",
     "text": [
      "Scraping Restaurants:  65%|██████▍   | 165/255 [1:15:18<41:03, 27.38s/it]"
     ]
    },
    {
     "name": "stdout",
     "output_type": "stream",
     "text": [
      "\n",
      "Results fetched for URL https://www.yelp.com/biz/o-ramen-and-curry-house-albuquerque?adjust_creative=mUhtpg0LANTRd76OAeN1RQ&utm_campaign=yelp_api_v3&utm_medium=api_v3_business_search&utm_source=mUhtpg0LANTRd76OAeN1RQ&start=40:\n",
      "Scraped data from page 1\n",
      "Scraped data from page 2\n",
      "Scraped data from page 3\n",
      "Scraped data from page 4\n",
      "Scraped data from page 5\n"
     ]
    },
    {
     "name": "stderr",
     "output_type": "stream",
     "text": [
      "Scraping Restaurants:  65%|██████▌   | 166/255 [1:15:47<41:16, 27.83s/it]"
     ]
    },
    {
     "name": "stdout",
     "output_type": "stream",
     "text": [
      "\n",
      "Results fetched for URL https://www.yelp.com/biz/saffron-indian-bistro-oro-valley?adjust_creative=mUhtpg0LANTRd76OAeN1RQ&utm_campaign=yelp_api_v3&utm_medium=api_v3_business_search&utm_source=mUhtpg0LANTRd76OAeN1RQ&start=40:\n",
      "Scraped data from page 1\n",
      "Scraped data from page 2\n",
      "Scraped data from page 3\n",
      "Scraped data from page 4\n",
      "Scraped data from page 5\n"
     ]
    },
    {
     "name": "stderr",
     "output_type": "stream",
     "text": [
      "Scraping Restaurants:  65%|██████▌   | 167/255 [1:16:11<39:09, 26.70s/it]"
     ]
    },
    {
     "name": "stdout",
     "output_type": "stream",
     "text": [
      "\n",
      "Results fetched for URL https://www.yelp.com/biz/north-italia-tucson?adjust_creative=mUhtpg0LANTRd76OAeN1RQ&utm_campaign=yelp_api_v3&utm_medium=api_v3_business_search&utm_source=mUhtpg0LANTRd76OAeN1RQ&start=40:\n",
      "Scraped data from page 1\n",
      "Scraped data from page 2\n",
      "Scraped data from page 3\n",
      "Scraped data from page 4\n",
      "Scraped data from page 5\n"
     ]
    },
    {
     "name": "stderr",
     "output_type": "stream",
     "text": [
      "Scraping Restaurants:  66%|██████▌   | 168/255 [1:16:39<39:23, 27.17s/it]"
     ]
    },
    {
     "name": "stdout",
     "output_type": "stream",
     "text": [
      "\n",
      "Results fetched for URL https://www.yelp.com/biz/charro-steak-and-del-rey-tucson?adjust_creative=mUhtpg0LANTRd76OAeN1RQ&utm_campaign=yelp_api_v3&utm_medium=api_v3_business_search&utm_source=mUhtpg0LANTRd76OAeN1RQ&start=40:\n",
      "Scraped data from page 1\n",
      "Scraped data from page 2\n",
      "Scraped data from page 3\n",
      "Scraped data from page 4\n",
      "Scraped data from page 5\n"
     ]
    },
    {
     "name": "stderr",
     "output_type": "stream",
     "text": [
      "Scraping Restaurants:  66%|██████▋   | 169/255 [1:17:07<39:00, 27.21s/it]"
     ]
    },
    {
     "name": "stdout",
     "output_type": "stream",
     "text": [
      "\n",
      "Results fetched for URL https://www.yelp.com/biz/jun-dynasty-chinese-restaurant-tucson-2?adjust_creative=mUhtpg0LANTRd76OAeN1RQ&utm_campaign=yelp_api_v3&utm_medium=api_v3_business_search&utm_source=mUhtpg0LANTRd76OAeN1RQ&start=40:\n",
      "Scraped data from page 1\n",
      "Scraped data from page 2\n",
      "Scraped data from page 3\n",
      "Scraped data from page 4\n",
      "Scraped data from page 5\n"
     ]
    },
    {
     "name": "stderr",
     "output_type": "stream",
     "text": [
      "Scraping Restaurants:  67%|██████▋   | 170/255 [1:17:34<38:32, 27.21s/it]"
     ]
    },
    {
     "name": "stdout",
     "output_type": "stream",
     "text": [
      "\n",
      "Results fetched for URL https://www.yelp.com/biz/obon-sushi-bar-ramen-tucson-2?adjust_creative=mUhtpg0LANTRd76OAeN1RQ&utm_campaign=yelp_api_v3&utm_medium=api_v3_business_search&utm_source=mUhtpg0LANTRd76OAeN1RQ&start=40:\n",
      "Scraped data from page 1\n",
      "Scraped data from page 2\n",
      "Scraped data from page 3\n",
      "Scraped data from page 4\n",
      "Scraped data from page 5\n"
     ]
    },
    {
     "name": "stderr",
     "output_type": "stream",
     "text": [
      "Scraping Restaurants:  67%|██████▋   | 171/255 [1:18:00<37:48, 27.01s/it]"
     ]
    },
    {
     "name": "stdout",
     "output_type": "stream",
     "text": [
      "\n",
      "Results fetched for URL https://www.yelp.com/biz/indian-kebab-palace-fresno?adjust_creative=mUhtpg0LANTRd76OAeN1RQ&utm_campaign=yelp_api_v3&utm_medium=api_v3_business_search&utm_source=mUhtpg0LANTRd76OAeN1RQ&start=40:\n",
      "Scraped data from page 1\n",
      "Scraped data from page 2\n",
      "Scraped data from page 3\n",
      "Scraped data from page 4\n",
      "Scraped data from page 5\n"
     ]
    },
    {
     "name": "stderr",
     "output_type": "stream",
     "text": [
      "Scraping Restaurants:  67%|██████▋   | 172/255 [1:18:28<37:27, 27.08s/it]"
     ]
    },
    {
     "name": "stdout",
     "output_type": "stream",
     "text": [
      "\n",
      "Results fetched for URL https://www.yelp.com/biz/the-annex-kitchen-fresno-2?adjust_creative=mUhtpg0LANTRd76OAeN1RQ&utm_campaign=yelp_api_v3&utm_medium=api_v3_business_search&utm_source=mUhtpg0LANTRd76OAeN1RQ&start=40:\n",
      "Scraped data from page 1\n",
      "Scraped data from page 2\n",
      "Scraped data from page 3\n",
      "Scraped data from page 4\n",
      "Scraped data from page 5\n"
     ]
    },
    {
     "name": "stderr",
     "output_type": "stream",
     "text": [
      "Scraping Restaurants:  68%|██████▊   | 173/255 [1:18:54<36:52, 26.98s/it]"
     ]
    },
    {
     "name": "stdout",
     "output_type": "stream",
     "text": [
      "\n",
      "Results fetched for URL https://www.yelp.com/biz/el-patio-restaurant-fresno?adjust_creative=mUhtpg0LANTRd76OAeN1RQ&utm_campaign=yelp_api_v3&utm_medium=api_v3_business_search&utm_source=mUhtpg0LANTRd76OAeN1RQ&start=40:\n",
      "Scraped data from page 1\n",
      "Scraped data from page 2\n",
      "Scraped data from page 3\n",
      "Scraped data from page 4\n",
      "Scraped data from page 5\n"
     ]
    },
    {
     "name": "stderr",
     "output_type": "stream",
     "text": [
      "Scraping Restaurants:  68%|██████▊   | 174/255 [1:19:20<35:59, 26.66s/it]"
     ]
    },
    {
     "name": "stdout",
     "output_type": "stream",
     "text": [
      "\n",
      "Results fetched for URL https://www.yelp.com/biz/noodle-q-home-style-fresh-noodles-fresno-3?adjust_creative=mUhtpg0LANTRd76OAeN1RQ&utm_campaign=yelp_api_v3&utm_medium=api_v3_business_search&utm_source=mUhtpg0LANTRd76OAeN1RQ&start=40:\n",
      "Scraped data from page 1\n",
      "Scraped data from page 2\n",
      "Scraped data from page 3\n",
      "Scraped data from page 4\n",
      "Scraped data from page 5\n"
     ]
    },
    {
     "name": "stderr",
     "output_type": "stream",
     "text": [
      "Scraping Restaurants:  69%|██████▊   | 175/255 [1:19:47<35:43, 26.80s/it]"
     ]
    },
    {
     "name": "stdout",
     "output_type": "stream",
     "text": [
      "\n",
      "Results fetched for URL https://www.yelp.com/biz/hino-oishi-fresno?adjust_creative=mUhtpg0LANTRd76OAeN1RQ&utm_campaign=yelp_api_v3&utm_medium=api_v3_business_search&utm_source=mUhtpg0LANTRd76OAeN1RQ&start=40:\n",
      "Scraped data from page 1\n",
      "Scraped data from page 2\n",
      "Scraped data from page 3\n",
      "Scraped data from page 4\n",
      "Scraped data from page 5\n"
     ]
    },
    {
     "name": "stderr",
     "output_type": "stream",
     "text": [
      "Scraping Restaurants:  69%|██████▉   | 176/255 [1:20:13<34:44, 26.38s/it]"
     ]
    },
    {
     "name": "stdout",
     "output_type": "stream",
     "text": [
      "\n",
      "Results fetched for URL https://www.yelp.com/biz/bombay-bar-and-grill-sacramento?adjust_creative=mUhtpg0LANTRd76OAeN1RQ&utm_campaign=yelp_api_v3&utm_medium=api_v3_business_search&utm_source=mUhtpg0LANTRd76OAeN1RQ&start=40:\n",
      "Scraped data from page 1\n",
      "Scraped data from page 2\n",
      "Scraped data from page 3\n",
      "Scraped data from page 4\n",
      "Scraped data from page 5\n"
     ]
    },
    {
     "name": "stderr",
     "output_type": "stream",
     "text": [
      "Scraping Restaurants:  69%|██████▉   | 177/255 [1:20:40<34:34, 26.59s/it]"
     ]
    },
    {
     "name": "stdout",
     "output_type": "stream",
     "text": [
      "\n",
      "Results fetched for URL https://www.yelp.com/biz/paesanos-sacramento?adjust_creative=mUhtpg0LANTRd76OAeN1RQ&utm_campaign=yelp_api_v3&utm_medium=api_v3_business_search&utm_source=mUhtpg0LANTRd76OAeN1RQ&start=40:\n",
      "Scraped data from page 1\n",
      "Scraped data from page 2\n",
      "Scraped data from page 3\n",
      "Scraped data from page 4\n",
      "Scraped data from page 5\n"
     ]
    },
    {
     "name": "stderr",
     "output_type": "stream",
     "text": [
      "Scraping Restaurants:  70%|██████▉   | 178/255 [1:21:06<33:50, 26.38s/it]"
     ]
    },
    {
     "name": "stdout",
     "output_type": "stream",
     "text": [
      "\n",
      "Results fetched for URL https://www.yelp.com/biz/tres-hermanas-sacramento-4?adjust_creative=mUhtpg0LANTRd76OAeN1RQ&utm_campaign=yelp_api_v3&utm_medium=api_v3_business_search&utm_source=mUhtpg0LANTRd76OAeN1RQ&start=40:\n",
      "Scraped data from page 1\n",
      "Scraped data from page 2\n",
      "Scraped data from page 3\n",
      "Scraped data from page 4\n",
      "Scraped data from page 5\n"
     ]
    },
    {
     "name": "stderr",
     "output_type": "stream",
     "text": [
      "Scraping Restaurants:  70%|███████   | 179/255 [1:21:34<34:00, 26.85s/it]"
     ]
    },
    {
     "name": "stdout",
     "output_type": "stream",
     "text": [
      "\n",
      "Results fetched for URL https://www.yelp.com/biz/yue-huang-sacramento-2?adjust_creative=mUhtpg0LANTRd76OAeN1RQ&utm_campaign=yelp_api_v3&utm_medium=api_v3_business_search&utm_source=mUhtpg0LANTRd76OAeN1RQ&start=40:\n",
      "Scraped data from page 1\n",
      "Scraped data from page 2\n",
      "Scraped data from page 3\n",
      "Scraped data from page 4\n",
      "Scraped data from page 5\n"
     ]
    },
    {
     "name": "stderr",
     "output_type": "stream",
     "text": [
      "Scraping Restaurants:  71%|███████   | 180/255 [1:22:01<33:48, 27.05s/it]"
     ]
    },
    {
     "name": "stdout",
     "output_type": "stream",
     "text": [
      "\n",
      "Results fetched for URL https://www.yelp.com/biz/ramen-house-ryujin-sacramento?adjust_creative=mUhtpg0LANTRd76OAeN1RQ&utm_campaign=yelp_api_v3&utm_medium=api_v3_business_search&utm_source=mUhtpg0LANTRd76OAeN1RQ&start=40:\n",
      "Scraped data from page 1\n",
      "Scraped data from page 2\n",
      "Scraped data from page 3\n",
      "Scraped data from page 4\n",
      "Scraped data from page 5\n"
     ]
    },
    {
     "name": "stderr",
     "output_type": "stream",
     "text": [
      "Scraping Restaurants:  71%|███████   | 181/255 [1:22:29<33:34, 27.22s/it]"
     ]
    },
    {
     "name": "stdout",
     "output_type": "stream",
     "text": [
      "\n",
      "Results fetched for URL https://www.yelp.com/biz/moti-mahal-kansas-city-2?adjust_creative=mUhtpg0LANTRd76OAeN1RQ&utm_campaign=yelp_api_v3&utm_medium=api_v3_business_search&utm_source=mUhtpg0LANTRd76OAeN1RQ&start=40:\n",
      "Scraped data from page 1\n",
      "Scraped data from page 2\n",
      "Scraped data from page 3\n",
      "Scraped data from page 4\n",
      "Scraped data from page 5\n"
     ]
    },
    {
     "name": "stderr",
     "output_type": "stream",
     "text": [
      "Scraping Restaurants:  71%|███████▏  | 182/255 [1:22:56<33:04, 27.19s/it]"
     ]
    },
    {
     "name": "stdout",
     "output_type": "stream",
     "text": [
      "\n",
      "Results fetched for URL https://www.yelp.com/biz/lidias-kansas-city?adjust_creative=mUhtpg0LANTRd76OAeN1RQ&utm_campaign=yelp_api_v3&utm_medium=api_v3_business_search&utm_source=mUhtpg0LANTRd76OAeN1RQ&start=40:\n",
      "Scraped data from page 1\n",
      "Scraped data from page 2\n",
      "Scraped data from page 3\n",
      "Scraped data from page 4\n",
      "Scraped data from page 5\n"
     ]
    },
    {
     "name": "stderr",
     "output_type": "stream",
     "text": [
      "Scraping Restaurants:  72%|███████▏  | 183/255 [1:23:21<31:59, 26.65s/it]"
     ]
    },
    {
     "name": "stdout",
     "output_type": "stream",
     "text": [
      "\n",
      "Results fetched for URL https://www.yelp.com/biz/mission-taco-joint-east-crossroads-kansas-city-3?adjust_creative=mUhtpg0LANTRd76OAeN1RQ&utm_campaign=yelp_api_v3&utm_medium=api_v3_business_search&utm_source=mUhtpg0LANTRd76OAeN1RQ&start=40:\n",
      "Scraped data from page 1\n",
      "Scraped data from page 2\n",
      "Scraped data from page 3\n",
      "Scraped data from page 4\n",
      "Scraped data from page 5\n"
     ]
    },
    {
     "name": "stderr",
     "output_type": "stream",
     "text": [
      "Scraping Restaurants:  72%|███████▏  | 184/255 [1:23:47<31:04, 26.27s/it]"
     ]
    },
    {
     "name": "stdout",
     "output_type": "stream",
     "text": [
      "\n",
      "Results fetched for URL https://www.yelp.com/biz/boru-asian-eatery-kansas-city?adjust_creative=mUhtpg0LANTRd76OAeN1RQ&utm_campaign=yelp_api_v3&utm_medium=api_v3_business_search&utm_source=mUhtpg0LANTRd76OAeN1RQ&start=40:\n",
      "Scraped data from page 1\n",
      "Scraped data from page 2\n",
      "Scraped data from page 3\n",
      "Scraped data from page 4\n",
      "Scraped data from page 5\n"
     ]
    },
    {
     "name": "stderr",
     "output_type": "stream",
     "text": [
      "Scraping Restaurants:  73%|███████▎  | 185/255 [1:24:14<30:52, 26.46s/it]"
     ]
    },
    {
     "name": "stdout",
     "output_type": "stream",
     "text": [
      "\n",
      "Results fetched for URL https://www.yelp.com/biz/blue-sushi-sake-grill-westwood?adjust_creative=mUhtpg0LANTRd76OAeN1RQ&utm_campaign=yelp_api_v3&utm_medium=api_v3_business_search&utm_source=mUhtpg0LANTRd76OAeN1RQ&start=40:\n",
      "Scraped data from page 1\n",
      "Scraped data from page 2\n",
      "Scraped data from page 3\n",
      "Scraped data from page 4\n",
      "Scraped data from page 5\n"
     ]
    },
    {
     "name": "stderr",
     "output_type": "stream",
     "text": [
      "Scraping Restaurants:  73%|███████▎  | 186/255 [1:24:39<30:08, 26.21s/it]"
     ]
    },
    {
     "name": "stdout",
     "output_type": "stream",
     "text": [
      "\n",
      "Results fetched for URL https://www.yelp.com/biz/india-restaurant-la-habra-la-habra-3?adjust_creative=mUhtpg0LANTRd76OAeN1RQ&utm_campaign=yelp_api_v3&utm_medium=api_v3_business_search&utm_source=mUhtpg0LANTRd76OAeN1RQ&start=40:\n",
      "Scraped data from page 1\n",
      "Scraped data from page 2\n",
      "Scraped data from page 3\n",
      "Scraped data from page 4\n",
      "Scraped data from page 5\n"
     ]
    },
    {
     "name": "stderr",
     "output_type": "stream",
     "text": [
      "Scraping Restaurants:  73%|███████▎  | 187/255 [1:25:06<30:00, 26.47s/it]"
     ]
    },
    {
     "name": "stdout",
     "output_type": "stream",
     "text": [
      "\n",
      "Results fetched for URL https://www.yelp.com/biz/spaghettini-seal-beach?adjust_creative=mUhtpg0LANTRd76OAeN1RQ&utm_campaign=yelp_api_v3&utm_medium=api_v3_business_search&utm_source=mUhtpg0LANTRd76OAeN1RQ&start=40:\n",
      "Scraped data from page 1\n",
      "Scraped data from page 2\n",
      "Scraped data from page 3\n",
      "Scraped data from page 4\n",
      "Scraped data from page 5\n"
     ]
    },
    {
     "name": "stderr",
     "output_type": "stream",
     "text": [
      "Scraping Restaurants:  74%|███████▎  | 188/255 [1:25:31<28:49, 25.82s/it]"
     ]
    },
    {
     "name": "stdout",
     "output_type": "stream",
     "text": [
      "\n",
      "Results fetched for URL https://www.yelp.com/biz/padre-long-beach-2?adjust_creative=mUhtpg0LANTRd76OAeN1RQ&utm_campaign=yelp_api_v3&utm_medium=api_v3_business_search&utm_source=mUhtpg0LANTRd76OAeN1RQ&start=40:\n",
      "Scraped data from page 1\n",
      "Scraped data from page 2\n",
      "Scraped data from page 3\n",
      "Scraped data from page 4\n",
      "Scraped data from page 5\n"
     ]
    },
    {
     "name": "stderr",
     "output_type": "stream",
     "text": [
      "Scraping Restaurants:  74%|███████▍  | 189/255 [1:26:00<29:31, 26.85s/it]"
     ]
    },
    {
     "name": "stdout",
     "output_type": "stream",
     "text": [
      "\n",
      "Results fetched for URL https://www.yelp.com/biz/nomad-asian-bistro-long-beach?adjust_creative=mUhtpg0LANTRd76OAeN1RQ&utm_campaign=yelp_api_v3&utm_medium=api_v3_business_search&utm_source=mUhtpg0LANTRd76OAeN1RQ&start=40:\n",
      "Scraped data from page 1\n",
      "Scraped data from page 2\n",
      "Scraped data from page 3\n",
      "Scraped data from page 4\n",
      "Scraped data from page 5\n"
     ]
    },
    {
     "name": "stderr",
     "output_type": "stream",
     "text": [
      "Scraping Restaurants:  75%|███████▍  | 190/255 [1:26:28<29:23, 27.14s/it]"
     ]
    },
    {
     "name": "stdout",
     "output_type": "stream",
     "text": [
      "\n",
      "Results fetched for URL https://www.yelp.com/biz/i-luv-sushi-lakewood?adjust_creative=mUhtpg0LANTRd76OAeN1RQ&utm_campaign=yelp_api_v3&utm_medium=api_v3_business_search&utm_source=mUhtpg0LANTRd76OAeN1RQ&start=40:\n",
      "Scraped data from page 1\n",
      "Scraped data from page 2\n",
      "Scraped data from page 3\n",
      "Scraped data from page 4\n",
      "Scraped data from page 5\n"
     ]
    },
    {
     "name": "stderr",
     "output_type": "stream",
     "text": [
      "Scraping Restaurants:  75%|███████▍  | 191/255 [1:26:55<29:06, 27.29s/it]"
     ]
    },
    {
     "name": "stdout",
     "output_type": "stream",
     "text": [
      "\n",
      "Results fetched for URL https://www.yelp.com/biz/india-oven-mesa?adjust_creative=mUhtpg0LANTRd76OAeN1RQ&utm_campaign=yelp_api_v3&utm_medium=api_v3_business_search&utm_source=mUhtpg0LANTRd76OAeN1RQ&start=40:\n",
      "Scraped data from page 1\n",
      "Scraped data from page 2\n",
      "Scraped data from page 3\n",
      "Scraped data from page 4\n",
      "Scraped data from page 5\n"
     ]
    },
    {
     "name": "stderr",
     "output_type": "stream",
     "text": [
      "Scraping Restaurants:  75%|███████▌  | 192/255 [1:27:21<28:15, 26.91s/it]"
     ]
    },
    {
     "name": "stdout",
     "output_type": "stream",
     "text": [
      "\n",
      "Results fetched for URL https://www.yelp.com/biz/red-white-and-brew-mesa?adjust_creative=mUhtpg0LANTRd76OAeN1RQ&utm_campaign=yelp_api_v3&utm_medium=api_v3_business_search&utm_source=mUhtpg0LANTRd76OAeN1RQ&start=40:\n",
      "Scraped data from page 1\n",
      "Scraped data from page 2\n",
      "Scraped data from page 3\n",
      "Scraped data from page 4\n",
      "Scraped data from page 5\n"
     ]
    },
    {
     "name": "stderr",
     "output_type": "stream",
     "text": [
      "Scraping Restaurants:  76%|███████▌  | 193/255 [1:27:48<27:35, 26.70s/it]"
     ]
    },
    {
     "name": "stdout",
     "output_type": "stream",
     "text": [
      "\n",
      "Results fetched for URL https://www.yelp.com/biz/joyride-taco-house-gilbert-4?adjust_creative=mUhtpg0LANTRd76OAeN1RQ&utm_campaign=yelp_api_v3&utm_medium=api_v3_business_search&utm_source=mUhtpg0LANTRd76OAeN1RQ&start=40:\n",
      "Scraped data from page 1\n",
      "Scraped data from page 2\n",
      "Scraped data from page 3\n",
      "Scraped data from page 4\n",
      "Scraped data from page 5\n"
     ]
    },
    {
     "name": "stderr",
     "output_type": "stream",
     "text": [
      "Scraping Restaurants:  76%|███████▌  | 194/255 [1:28:16<27:36, 27.15s/it]"
     ]
    },
    {
     "name": "stdout",
     "output_type": "stream",
     "text": [
      "\n",
      "Results fetched for URL https://www.yelp.com/biz/singing-pandas-asian-restaurant-and-bar-chandler?adjust_creative=mUhtpg0LANTRd76OAeN1RQ&utm_campaign=yelp_api_v3&utm_medium=api_v3_business_search&utm_source=mUhtpg0LANTRd76OAeN1RQ&start=40:\n",
      "Scraped data from page 1\n",
      "Scraped data from page 2\n",
      "Scraped data from page 3\n",
      "Scraped data from page 4\n",
      "Scraped data from page 5\n"
     ]
    },
    {
     "name": "stderr",
     "output_type": "stream",
     "text": [
      "Scraping Restaurants:  76%|███████▋  | 195/255 [1:28:44<27:26, 27.44s/it]"
     ]
    },
    {
     "name": "stdout",
     "output_type": "stream",
     "text": [
      "\n",
      "Results fetched for URL https://www.yelp.com/biz/osaka-japanese-steakhouse-mesa-3?adjust_creative=mUhtpg0LANTRd76OAeN1RQ&utm_campaign=yelp_api_v3&utm_medium=api_v3_business_search&utm_source=mUhtpg0LANTRd76OAeN1RQ&start=40:\n",
      "Scraped data from page 1\n",
      "Scraped data from page 2\n",
      "Scraped data from page 3\n",
      "Scraped data from page 4\n",
      "Scraped data from page 5\n"
     ]
    },
    {
     "name": "stderr",
     "output_type": "stream",
     "text": [
      "Scraping Restaurants:  77%|███████▋  | 196/255 [1:29:10<26:28, 26.93s/it]"
     ]
    },
    {
     "name": "stdout",
     "output_type": "stream",
     "text": [
      "\n",
      "Results fetched for URL https://www.yelp.com/biz/chai-pani-decatur-2?adjust_creative=mUhtpg0LANTRd76OAeN1RQ&utm_campaign=yelp_api_v3&utm_medium=api_v3_business_search&utm_source=mUhtpg0LANTRd76OAeN1RQ&start=40:\n",
      "Scraped data from page 1\n",
      "Scraped data from page 2\n",
      "Scraped data from page 3\n",
      "Scraped data from page 4\n",
      "Scraped data from page 5\n"
     ]
    },
    {
     "name": "stderr",
     "output_type": "stream",
     "text": [
      "Scraping Restaurants:  77%|███████▋  | 197/255 [1:29:38<26:28, 27.38s/it]"
     ]
    },
    {
     "name": "stdout",
     "output_type": "stream",
     "text": [
      "\n",
      "Results fetched for URL https://www.yelp.com/biz/amalfi-cucina-and-mercato-atlanta-4?adjust_creative=mUhtpg0LANTRd76OAeN1RQ&utm_campaign=yelp_api_v3&utm_medium=api_v3_business_search&utm_source=mUhtpg0LANTRd76OAeN1RQ&start=40:\n",
      "Scraped data from page 1\n",
      "Scraped data from page 2\n",
      "Scraped data from page 3\n",
      "Scraped data from page 4\n",
      "Scraped data from page 5\n"
     ]
    },
    {
     "name": "stderr",
     "output_type": "stream",
     "text": [
      "Scraping Restaurants:  78%|███████▊  | 198/255 [1:30:02<25:09, 26.48s/it]"
     ]
    },
    {
     "name": "stdout",
     "output_type": "stream",
     "text": [
      "\n",
      "Results fetched for URL https://www.yelp.com/biz/alma-cocina-atlanta-atlanta?adjust_creative=mUhtpg0LANTRd76OAeN1RQ&utm_campaign=yelp_api_v3&utm_medium=api_v3_business_search&utm_source=mUhtpg0LANTRd76OAeN1RQ&start=40:\n",
      "Scraped data from page 1\n",
      "Scraped data from page 2\n",
      "Scraped data from page 3\n",
      "Scraped data from page 4\n",
      "Scraped data from page 5\n"
     ]
    },
    {
     "name": "stderr",
     "output_type": "stream",
     "text": [
      "Scraping Restaurants:  78%|███████▊  | 199/255 [1:30:29<24:36, 26.37s/it]"
     ]
    },
    {
     "name": "stdout",
     "output_type": "stream",
     "text": [
      "\n",
      "Results fetched for URL https://www.yelp.com/biz/food-terminal-chamblee-2?adjust_creative=mUhtpg0LANTRd76OAeN1RQ&utm_campaign=yelp_api_v3&utm_medium=api_v3_business_search&utm_source=mUhtpg0LANTRd76OAeN1RQ&start=40:\n",
      "Scraped data from page 1\n",
      "Scraped data from page 2\n",
      "Scraped data from page 3\n",
      "Scraped data from page 4\n",
      "Scraped data from page 5\n"
     ]
    },
    {
     "name": "stderr",
     "output_type": "stream",
     "text": [
      "Scraping Restaurants:  78%|███████▊  | 200/255 [1:30:55<24:04, 26.27s/it]"
     ]
    },
    {
     "name": "stdout",
     "output_type": "stream",
     "text": [
      "\n",
      "Results fetched for URL https://www.yelp.com/biz/eight-sushi-lounge-atlanta?adjust_creative=mUhtpg0LANTRd76OAeN1RQ&utm_campaign=yelp_api_v3&utm_medium=api_v3_business_search&utm_source=mUhtpg0LANTRd76OAeN1RQ&start=40:\n",
      "Scraped data from page 1\n",
      "Scraped data from page 2\n",
      "Scraped data from page 3\n",
      "Scraped data from page 4\n",
      "Scraped data from page 5\n"
     ]
    },
    {
     "name": "stderr",
     "output_type": "stream",
     "text": [
      "Scraping Restaurants:  79%|███████▉  | 201/255 [1:31:24<24:24, 27.12s/it]"
     ]
    },
    {
     "name": "stdout",
     "output_type": "stream",
     "text": [
      "\n",
      "Results fetched for URL https://www.yelp.com/biz/little-nepal-indian-restaurant-and-bar-colorado-springs-6?adjust_creative=mUhtpg0LANTRd76OAeN1RQ&utm_campaign=yelp_api_v3&utm_medium=api_v3_business_search&utm_source=mUhtpg0LANTRd76OAeN1RQ&start=40:\n",
      "Scraped data from page 1\n",
      "Scraped data from page 2\n",
      "Scraped data from page 3\n",
      "Scraped data from page 4\n",
      "Scraped data from page 5\n"
     ]
    },
    {
     "name": "stderr",
     "output_type": "stream",
     "text": [
      "Scraping Restaurants:  79%|███████▉  | 202/255 [1:31:53<24:25, 27.65s/it]"
     ]
    },
    {
     "name": "stdout",
     "output_type": "stream",
     "text": [
      "\n",
      "Results fetched for URL https://www.yelp.com/biz/paravicinis-italian-bistro-colorado-springs-4?adjust_creative=mUhtpg0LANTRd76OAeN1RQ&utm_campaign=yelp_api_v3&utm_medium=api_v3_business_search&utm_source=mUhtpg0LANTRd76OAeN1RQ&start=40:\n",
      "Scraped data from page 1\n",
      "Scraped data from page 2\n",
      "Scraped data from page 3\n",
      "Scraped data from page 4\n",
      "Scraped data from page 5\n"
     ]
    },
    {
     "name": "stderr",
     "output_type": "stream",
     "text": [
      "Scraping Restaurants:  80%|███████▉  | 203/255 [1:32:16<22:57, 26.50s/it]"
     ]
    },
    {
     "name": "stdout",
     "output_type": "stream",
     "text": [
      "\n",
      "Results fetched for URL https://www.yelp.com/biz/crystal-park-cantina-manitou-springs?adjust_creative=mUhtpg0LANTRd76OAeN1RQ&utm_campaign=yelp_api_v3&utm_medium=api_v3_business_search&utm_source=mUhtpg0LANTRd76OAeN1RQ&start=40:\n",
      "Scraped data from page 1\n",
      "Scraped data from page 2\n",
      "Scraped data from page 3\n",
      "Scraped data from page 4\n",
      "Scraped data from page 5\n"
     ]
    },
    {
     "name": "stderr",
     "output_type": "stream",
     "text": [
      "Scraping Restaurants:  80%|████████  | 204/255 [1:32:42<22:23, 26.35s/it]"
     ]
    },
    {
     "name": "stdout",
     "output_type": "stream",
     "text": [
      "\n",
      "Results fetched for URL https://www.yelp.com/biz/yellow-mountain-tea-house-colorado-springs?adjust_creative=mUhtpg0LANTRd76OAeN1RQ&utm_campaign=yelp_api_v3&utm_medium=api_v3_business_search&utm_source=mUhtpg0LANTRd76OAeN1RQ&start=40:\n",
      "Scraped data from page 1\n",
      "Scraped data from page 2\n",
      "Scraped data from page 3\n",
      "Scraped data from page 4\n",
      "Scraped data from page 5\n"
     ]
    },
    {
     "name": "stderr",
     "output_type": "stream",
     "text": [
      "Scraping Restaurants:  80%|████████  | 205/255 [1:33:09<22:00, 26.40s/it]"
     ]
    },
    {
     "name": "stdout",
     "output_type": "stream",
     "text": [
      "\n",
      "Results fetched for URL https://www.yelp.com/biz/carlos-bistro-colorado-springs?adjust_creative=mUhtpg0LANTRd76OAeN1RQ&utm_campaign=yelp_api_v3&utm_medium=api_v3_business_search&utm_source=mUhtpg0LANTRd76OAeN1RQ&start=40:\n",
      "Scraped data from page 1\n",
      "Scraped data from page 2\n",
      "Scraped data from page 3\n",
      "Scraped data from page 4\n",
      "Scraped data from page 5\n"
     ]
    },
    {
     "name": "stderr",
     "output_type": "stream",
     "text": [
      "Scraping Restaurants:  81%|████████  | 206/255 [1:33:37<21:54, 26.83s/it]"
     ]
    },
    {
     "name": "stdout",
     "output_type": "stream",
     "text": [
      "\n",
      "Results fetched for URL https://www.yelp.com/biz/masala-bites-virginia-beach?adjust_creative=mUhtpg0LANTRd76OAeN1RQ&utm_campaign=yelp_api_v3&utm_medium=api_v3_business_search&utm_source=mUhtpg0LANTRd76OAeN1RQ&start=40:\n",
      "Scraped data from page 1\n",
      "Scraped data from page 2\n",
      "Scraped data from page 3\n",
      "Scraped data from page 4\n",
      "Scraped data from page 5\n"
     ]
    },
    {
     "name": "stderr",
     "output_type": "stream",
     "text": [
      "Scraping Restaurants:  81%|████████  | 207/255 [1:34:03<21:25, 26.79s/it]"
     ]
    },
    {
     "name": "stdout",
     "output_type": "stream",
     "text": [
      "\n",
      "Results fetched for URL https://www.yelp.com/biz/il-giardino-ristorante-virginia-beach?adjust_creative=mUhtpg0LANTRd76OAeN1RQ&utm_campaign=yelp_api_v3&utm_medium=api_v3_business_search&utm_source=mUhtpg0LANTRd76OAeN1RQ&start=40:\n",
      "Scraped data from page 1\n",
      "Scraped data from page 2\n",
      "Scraped data from page 3\n",
      "Scraped data from page 4\n",
      "Scraped data from page 5\n"
     ]
    },
    {
     "name": "stderr",
     "output_type": "stream",
     "text": [
      "Scraping Restaurants:  82%|████████▏ | 208/255 [1:34:32<21:25, 27.35s/it]"
     ]
    },
    {
     "name": "stdout",
     "output_type": "stream",
     "text": [
      "\n",
      "Results fetched for URL https://www.yelp.com/biz/pelons-baja-grill-virginia-beach?adjust_creative=mUhtpg0LANTRd76OAeN1RQ&utm_campaign=yelp_api_v3&utm_medium=api_v3_business_search&utm_source=mUhtpg0LANTRd76OAeN1RQ&start=40:\n",
      "Scraped data from page 1\n",
      "Scraped data from page 2\n",
      "Scraped data from page 3\n",
      "Scraped data from page 4\n",
      "Scraped data from page 5\n"
     ]
    },
    {
     "name": "stderr",
     "output_type": "stream",
     "text": [
      "Scraping Restaurants:  82%|████████▏ | 209/255 [1:34:57<20:18, 26.49s/it]"
     ]
    },
    {
     "name": "stdout",
     "output_type": "stream",
     "text": [
      "\n",
      "Results fetched for URL https://www.yelp.com/biz/judys-sichuan-cuisine-virginia-beach?adjust_creative=mUhtpg0LANTRd76OAeN1RQ&utm_campaign=yelp_api_v3&utm_medium=api_v3_business_search&utm_source=mUhtpg0LANTRd76OAeN1RQ&start=40:\n",
      "Scraped data from page 1\n",
      "Scraped data from page 2\n",
      "Scraped data from page 3\n",
      "Scraped data from page 4\n",
      "Scraped data from page 5\n"
     ]
    },
    {
     "name": "stderr",
     "output_type": "stream",
     "text": [
      "Scraping Restaurants:  82%|████████▏ | 210/255 [1:35:22<19:34, 26.09s/it]"
     ]
    },
    {
     "name": "stdout",
     "output_type": "stream",
     "text": [
      "\n",
      "Results fetched for URL https://www.yelp.com/biz/sakura-sushi-bar-japanese-restaurant-virginia-beach?adjust_creative=mUhtpg0LANTRd76OAeN1RQ&utm_campaign=yelp_api_v3&utm_medium=api_v3_business_search&utm_source=mUhtpg0LANTRd76OAeN1RQ&start=40:\n",
      "Scraped data from page 1\n",
      "Scraped data from page 2\n",
      "Scraped data from page 3\n",
      "Scraped data from page 4\n",
      "Scraped data from page 5\n"
     ]
    },
    {
     "name": "stderr",
     "output_type": "stream",
     "text": [
      "Scraping Restaurants:  83%|████████▎ | 211/255 [1:35:49<19:29, 26.59s/it]"
     ]
    },
    {
     "name": "stdout",
     "output_type": "stream",
     "text": [
      "\n",
      "Results fetched for URL https://www.yelp.com/biz/himalayan-range-nepali-restaurant-cary?adjust_creative=mUhtpg0LANTRd76OAeN1RQ&utm_campaign=yelp_api_v3&utm_medium=api_v3_business_search&utm_source=mUhtpg0LANTRd76OAeN1RQ&start=40:\n",
      "Scraped data from page 1\n",
      "Scraped data from page 2\n",
      "Scraped data from page 3\n",
      "Scraped data from page 4\n",
      "Scraped data from page 5\n"
     ]
    },
    {
     "name": "stderr",
     "output_type": "stream",
     "text": [
      "Scraping Restaurants:  83%|████████▎ | 212/255 [1:36:15<18:44, 26.15s/it]"
     ]
    },
    {
     "name": "stdout",
     "output_type": "stream",
     "text": [
      "\n",
      "Results fetched for URL https://www.yelp.com/biz/gravy-raleigh?adjust_creative=mUhtpg0LANTRd76OAeN1RQ&utm_campaign=yelp_api_v3&utm_medium=api_v3_business_search&utm_source=mUhtpg0LANTRd76OAeN1RQ&start=40:\n",
      "Scraped data from page 1\n",
      "Scraped data from page 2\n",
      "Scraped data from page 3\n",
      "Scraped data from page 4\n",
      "Scraped data from page 5\n"
     ]
    },
    {
     "name": "stderr",
     "output_type": "stream",
     "text": [
      "Scraping Restaurants:  84%|████████▎ | 213/255 [1:36:41<18:24, 26.30s/it]"
     ]
    },
    {
     "name": "stdout",
     "output_type": "stream",
     "text": [
      "\n",
      "Results fetched for URL https://www.yelp.com/biz/salt-and-lime-cabo-grill-raleigh?adjust_creative=mUhtpg0LANTRd76OAeN1RQ&utm_campaign=yelp_api_v3&utm_medium=api_v3_business_search&utm_source=mUhtpg0LANTRd76OAeN1RQ&start=40:\n",
      "Scraped data from page 1\n",
      "Scraped data from page 2\n",
      "Scraped data from page 3\n",
      "Scraped data from page 4\n",
      "Scraped data from page 5\n"
     ]
    },
    {
     "name": "stderr",
     "output_type": "stream",
     "text": [
      "Scraping Restaurants:  84%|████████▍ | 214/255 [1:37:08<17:59, 26.33s/it]"
     ]
    },
    {
     "name": "stdout",
     "output_type": "stream",
     "text": [
      "\n",
      "Results fetched for URL https://www.yelp.com/biz/brewery-bhavana-raleigh?adjust_creative=mUhtpg0LANTRd76OAeN1RQ&utm_campaign=yelp_api_v3&utm_medium=api_v3_business_search&utm_source=mUhtpg0LANTRd76OAeN1RQ&start=40:\n",
      "Scraped data from page 1\n",
      "Scraped data from page 2\n",
      "Scraped data from page 3\n",
      "Scraped data from page 4\n",
      "Scraped data from page 5\n"
     ]
    },
    {
     "name": "stderr",
     "output_type": "stream",
     "text": [
      "Scraping Restaurants:  84%|████████▍ | 215/255 [1:37:33<17:15, 25.90s/it]"
     ]
    },
    {
     "name": "stdout",
     "output_type": "stream",
     "text": [
      "\n",
      "Results fetched for URL https://www.yelp.com/biz/noodle-boulevard-cary-2?adjust_creative=mUhtpg0LANTRd76OAeN1RQ&utm_campaign=yelp_api_v3&utm_medium=api_v3_business_search&utm_source=mUhtpg0LANTRd76OAeN1RQ&start=40:\n",
      "Scraped data from page 1\n",
      "Scraped data from page 2\n",
      "Scraped data from page 3\n",
      "Scraped data from page 4\n",
      "Scraped data from page 5\n"
     ]
    },
    {
     "name": "stderr",
     "output_type": "stream",
     "text": [
      "Scraping Restaurants:  85%|████████▍ | 216/255 [1:37:59<16:59, 26.14s/it]"
     ]
    },
    {
     "name": "stdout",
     "output_type": "stream",
     "text": [
      "\n",
      "Results fetched for URL https://www.yelp.com/biz/jaipur-restaurant-and-brewing-omaha?adjust_creative=mUhtpg0LANTRd76OAeN1RQ&utm_campaign=yelp_api_v3&utm_medium=api_v3_business_search&utm_source=mUhtpg0LANTRd76OAeN1RQ&start=40:\n",
      "Scraped data from page 1\n",
      "Scraped data from page 2\n",
      "Scraped data from page 3\n",
      "Scraped data from page 4\n",
      "Scraped data from page 5\n"
     ]
    },
    {
     "name": "stderr",
     "output_type": "stream",
     "text": [
      "Scraping Restaurants:  85%|████████▌ | 217/255 [1:38:26<16:36, 26.22s/it]"
     ]
    },
    {
     "name": "stdout",
     "output_type": "stream",
     "text": [
      "\n",
      "Results fetched for URL https://www.yelp.com/biz/via-farina-omaha?adjust_creative=mUhtpg0LANTRd76OAeN1RQ&utm_campaign=yelp_api_v3&utm_medium=api_v3_business_search&utm_source=mUhtpg0LANTRd76OAeN1RQ&start=40:\n",
      "Scraped data from page 1\n",
      "Scraped data from page 2\n",
      "Scraped data from page 3\n",
      "Scraped data from page 4\n",
      "Scraped data from page 5\n"
     ]
    },
    {
     "name": "stderr",
     "output_type": "stream",
     "text": [
      "Scraping Restaurants:  85%|████████▌ | 218/255 [1:38:52<16:07, 26.14s/it]"
     ]
    },
    {
     "name": "stdout",
     "output_type": "stream",
     "text": [
      "\n",
      "Results fetched for URL https://www.yelp.com/biz/hook-and-lime-omaha?adjust_creative=mUhtpg0LANTRd76OAeN1RQ&utm_campaign=yelp_api_v3&utm_medium=api_v3_business_search&utm_source=mUhtpg0LANTRd76OAeN1RQ&start=40:\n",
      "Scraped data from page 1\n",
      "Scraped data from page 2\n",
      "Scraped data from page 3\n",
      "Scraped data from page 4\n",
      "Scraped data from page 5\n"
     ]
    },
    {
     "name": "stderr",
     "output_type": "stream",
     "text": [
      "Scraping Restaurants:  86%|████████▌ | 219/255 [1:39:18<15:45, 26.28s/it]"
     ]
    },
    {
     "name": "stdout",
     "output_type": "stream",
     "text": [
      "\n",
      "Results fetched for URL https://www.yelp.com/biz/three-happiness-express-omaha?adjust_creative=mUhtpg0LANTRd76OAeN1RQ&utm_campaign=yelp_api_v3&utm_medium=api_v3_business_search&utm_source=mUhtpg0LANTRd76OAeN1RQ&start=40:\n",
      "Scraped data from page 1\n",
      "Scraped data from page 2\n",
      "Scraped data from page 3\n",
      "Scraped data from page 4\n",
      "Scraped data from page 5\n"
     ]
    },
    {
     "name": "stderr",
     "output_type": "stream",
     "text": [
      "Scraping Restaurants:  86%|████████▋ | 220/255 [1:39:44<15:17, 26.20s/it]"
     ]
    },
    {
     "name": "stdout",
     "output_type": "stream",
     "text": [
      "\n",
      "Results fetched for URL https://www.yelp.com/biz/blue-sushi-sake-grill-omaha?adjust_creative=mUhtpg0LANTRd76OAeN1RQ&utm_campaign=yelp_api_v3&utm_medium=api_v3_business_search&utm_source=mUhtpg0LANTRd76OAeN1RQ&start=40:\n",
      "Scraped data from page 1\n",
      "Scraped data from page 2\n",
      "Scraped data from page 3\n",
      "Scraped data from page 4\n",
      "Scraped data from page 5\n"
     ]
    },
    {
     "name": "stderr",
     "output_type": "stream",
     "text": [
      "Scraping Restaurants:  87%|████████▋ | 221/255 [1:40:10<14:50, 26.20s/it]"
     ]
    },
    {
     "name": "stdout",
     "output_type": "stream",
     "text": [
      "\n",
      "Results fetched for URL https://www.yelp.com/biz/bombay-darbar-miami-3?adjust_creative=mUhtpg0LANTRd76OAeN1RQ&utm_campaign=yelp_api_v3&utm_medium=api_v3_business_search&utm_source=mUhtpg0LANTRd76OAeN1RQ&start=40:\n",
      "Scraped data from page 1\n",
      "Scraped data from page 2\n",
      "Scraped data from page 3\n",
      "Scraped data from page 4\n",
      "Scraped data from page 5\n"
     ]
    },
    {
     "name": "stderr",
     "output_type": "stream",
     "text": [
      "Scraping Restaurants:  87%|████████▋ | 222/255 [1:40:38<14:41, 26.70s/it]"
     ]
    },
    {
     "name": "stdout",
     "output_type": "stream",
     "text": [
      "\n",
      "Results fetched for URL https://www.yelp.com/biz/crazy-about-you-miami-3?adjust_creative=mUhtpg0LANTRd76OAeN1RQ&utm_campaign=yelp_api_v3&utm_medium=api_v3_business_search&utm_source=mUhtpg0LANTRd76OAeN1RQ&start=40:\n",
      "Scraped data from page 1\n",
      "Scraped data from page 2\n",
      "Scraped data from page 3\n",
      "Scraped data from page 4\n",
      "Scraped data from page 5\n"
     ]
    },
    {
     "name": "stderr",
     "output_type": "stream",
     "text": [
      "Scraping Restaurants:  87%|████████▋ | 223/255 [1:41:05<14:12, 26.63s/it]"
     ]
    },
    {
     "name": "stdout",
     "output_type": "stream",
     "text": [
      "\n",
      "Results fetched for URL https://www.yelp.com/biz/mi-rinconcito-mexicano-miami?adjust_creative=mUhtpg0LANTRd76OAeN1RQ&utm_campaign=yelp_api_v3&utm_medium=api_v3_business_search&utm_source=mUhtpg0LANTRd76OAeN1RQ&start=40:\n",
      "Scraped data from page 1\n",
      "Scraped data from page 2\n",
      "Scraped data from page 3\n",
      "Scraped data from page 4\n",
      "Scraped data from page 5\n"
     ]
    },
    {
     "name": "stderr",
     "output_type": "stream",
     "text": [
      "Scraping Restaurants:  88%|████████▊ | 224/255 [1:41:32<13:50, 26.78s/it]"
     ]
    },
    {
     "name": "stdout",
     "output_type": "stream",
     "text": [
      "\n",
      "Results fetched for URL https://www.yelp.com/biz/kon-chau-restaurant-miami?adjust_creative=mUhtpg0LANTRd76OAeN1RQ&utm_campaign=yelp_api_v3&utm_medium=api_v3_business_search&utm_source=mUhtpg0LANTRd76OAeN1RQ&start=40:\n",
      "Scraped data from page 1\n",
      "Scraped data from page 2\n",
      "Scraped data from page 3\n",
      "Scraped data from page 4\n",
      "Scraped data from page 5\n"
     ]
    },
    {
     "name": "stderr",
     "output_type": "stream",
     "text": [
      "Scraping Restaurants:  88%|████████▊ | 225/255 [1:41:58<13:19, 26.64s/it]"
     ]
    },
    {
     "name": "stdout",
     "output_type": "stream",
     "text": [
      "\n",
      "Results fetched for URL https://www.yelp.com/biz/gyu-kaku-japanese-bbq-miami?adjust_creative=mUhtpg0LANTRd76OAeN1RQ&utm_campaign=yelp_api_v3&utm_medium=api_v3_business_search&utm_source=mUhtpg0LANTRd76OAeN1RQ&start=40:\n",
      "Scraped data from page 1\n",
      "Scraped data from page 2\n",
      "Scraped data from page 3\n",
      "Scraped data from page 4\n",
      "Scraped data from page 5\n"
     ]
    },
    {
     "name": "stderr",
     "output_type": "stream",
     "text": [
      "Scraping Restaurants:  89%|████████▊ | 226/255 [1:42:25<12:53, 26.67s/it]"
     ]
    },
    {
     "name": "stdout",
     "output_type": "stream",
     "text": [
      "\n",
      "Results fetched for URL https://www.yelp.com/biz/viks-chaat-berkeley?adjust_creative=mUhtpg0LANTRd76OAeN1RQ&utm_campaign=yelp_api_v3&utm_medium=api_v3_business_search&utm_source=mUhtpg0LANTRd76OAeN1RQ&start=40:\n",
      "Scraped data from page 1\n",
      "Scraped data from page 2\n",
      "Scraped data from page 3\n",
      "Scraped data from page 4\n",
      "Scraped data from page 5\n"
     ]
    },
    {
     "name": "stderr",
     "output_type": "stream",
     "text": [
      "Scraping Restaurants:  89%|████████▉ | 227/255 [1:42:53<12:39, 27.14s/it]"
     ]
    },
    {
     "name": "stdout",
     "output_type": "stream",
     "text": [
      "\n",
      "Results fetched for URL https://www.yelp.com/biz/the-italian-homemade-company-san-francisco-8?adjust_creative=mUhtpg0LANTRd76OAeN1RQ&utm_campaign=yelp_api_v3&utm_medium=api_v3_business_search&utm_source=mUhtpg0LANTRd76OAeN1RQ&start=40:\n",
      "Scraped data from page 1\n",
      "Scraped data from page 2\n",
      "Scraped data from page 3\n",
      "Scraped data from page 4\n",
      "Scraped data from page 5\n"
     ]
    },
    {
     "name": "stderr",
     "output_type": "stream",
     "text": [
      "Scraping Restaurants:  89%|████████▉ | 228/255 [1:43:21<12:19, 27.39s/it]"
     ]
    },
    {
     "name": "stdout",
     "output_type": "stream",
     "text": [
      "\n",
      "Results fetched for URL https://www.yelp.com/biz/cholita-linda-oakland?adjust_creative=mUhtpg0LANTRd76OAeN1RQ&utm_campaign=yelp_api_v3&utm_medium=api_v3_business_search&utm_source=mUhtpg0LANTRd76OAeN1RQ&start=40:\n",
      "Scraped data from page 1\n",
      "Scraped data from page 2\n",
      "Scraped data from page 3\n",
      "Scraped data from page 4\n",
      "Scraped data from page 5\n"
     ]
    },
    {
     "name": "stderr",
     "output_type": "stream",
     "text": [
      "Scraping Restaurants:  90%|████████▉ | 229/255 [1:43:49<11:57, 27.61s/it]"
     ]
    },
    {
     "name": "stdout",
     "output_type": "stream",
     "text": [
      "\n",
      "Results fetched for URL https://www.yelp.com/biz/shandong-restaurant-oakland?adjust_creative=mUhtpg0LANTRd76OAeN1RQ&utm_campaign=yelp_api_v3&utm_medium=api_v3_business_search&utm_source=mUhtpg0LANTRd76OAeN1RQ&start=40:\n",
      "Scraped data from page 1\n",
      "Scraped data from page 2\n",
      "Scraped data from page 3\n",
      "Scraped data from page 4\n",
      "Scraped data from page 5\n"
     ]
    },
    {
     "name": "stderr",
     "output_type": "stream",
     "text": [
      "Scraping Restaurants:  90%|█████████ | 230/255 [1:44:16<11:21, 27.24s/it]"
     ]
    },
    {
     "name": "stdout",
     "output_type": "stream",
     "text": [
      "\n",
      "Results fetched for URL https://www.yelp.com/biz/marufuku-ramen-oakland-oakland-5?adjust_creative=mUhtpg0LANTRd76OAeN1RQ&utm_campaign=yelp_api_v3&utm_medium=api_v3_business_search&utm_source=mUhtpg0LANTRd76OAeN1RQ&start=40:\n",
      "Scraped data from page 1\n",
      "Scraped data from page 2\n",
      "Scraped data from page 3\n",
      "Scraped data from page 4\n",
      "Scraped data from page 5\n"
     ]
    },
    {
     "name": "stderr",
     "output_type": "stream",
     "text": [
      "Scraping Restaurants:  91%|█████████ | 231/255 [1:44:44<11:02, 27.59s/it]"
     ]
    },
    {
     "name": "stdout",
     "output_type": "stream",
     "text": [
      "\n",
      "Results fetched for URL https://www.yelp.com/biz/gorkha-palace-minneapolis?adjust_creative=mUhtpg0LANTRd76OAeN1RQ&utm_campaign=yelp_api_v3&utm_medium=api_v3_business_search&utm_source=mUhtpg0LANTRd76OAeN1RQ&start=40:\n",
      "Scraped data from page 1\n",
      "Scraped data from page 2\n",
      "Scraped data from page 3\n",
      "Scraped data from page 4\n",
      "Scraped data from page 5\n"
     ]
    },
    {
     "name": "stderr",
     "output_type": "stream",
     "text": [
      "Scraping Restaurants:  91%|█████████ | 232/255 [1:45:11<10:31, 27.46s/it]"
     ]
    },
    {
     "name": "stdout",
     "output_type": "stream",
     "text": [
      "\n",
      "Results fetched for URL https://www.yelp.com/biz/bar-la-grassa-minneapolis?adjust_creative=mUhtpg0LANTRd76OAeN1RQ&utm_campaign=yelp_api_v3&utm_medium=api_v3_business_search&utm_source=mUhtpg0LANTRd76OAeN1RQ&start=40:\n",
      "Scraped data from page 1\n",
      "Scraped data from page 2\n",
      "Scraped data from page 3\n",
      "Scraped data from page 4\n",
      "Scraped data from page 5\n"
     ]
    },
    {
     "name": "stderr",
     "output_type": "stream",
     "text": [
      "Scraping Restaurants:  91%|█████████▏| 233/255 [1:45:38<10:01, 27.33s/it]"
     ]
    },
    {
     "name": "stdout",
     "output_type": "stream",
     "text": [
      "\n",
      "Results fetched for URL https://www.yelp.com/biz/sea-salt-eatery-minneapolis?adjust_creative=mUhtpg0LANTRd76OAeN1RQ&utm_campaign=yelp_api_v3&utm_medium=api_v3_business_search&utm_source=mUhtpg0LANTRd76OAeN1RQ&start=40:\n",
      "Scraped data from page 1\n",
      "Scraped data from page 2\n",
      "Scraped data from page 3\n",
      "Scraped data from page 4\n",
      "Scraped data from page 5\n"
     ]
    },
    {
     "name": "stderr",
     "output_type": "stream",
     "text": [
      "Scraping Restaurants:  92%|█████████▏| 234/255 [1:46:03<09:16, 26.52s/it]"
     ]
    },
    {
     "name": "stdout",
     "output_type": "stream",
     "text": [
      "\n",
      "Results fetched for URL https://www.yelp.com/biz/shuang-cheng-restaurant-minneapolis?adjust_creative=mUhtpg0LANTRd76OAeN1RQ&utm_campaign=yelp_api_v3&utm_medium=api_v3_business_search&utm_source=mUhtpg0LANTRd76OAeN1RQ&start=40:\n",
      "Scraped data from page 1\n",
      "Scraped data from page 2\n",
      "Scraped data from page 3\n",
      "Scraped data from page 4\n",
      "Scraped data from page 5\n"
     ]
    },
    {
     "name": "stderr",
     "output_type": "stream",
     "text": [
      "Scraping Restaurants:  92%|█████████▏| 235/255 [1:46:30<08:55, 26.79s/it]"
     ]
    },
    {
     "name": "stdout",
     "output_type": "stream",
     "text": [
      "\n",
      "Results fetched for URL https://www.yelp.com/biz/wakame-sushi-and-asian-bistro-minneapolis?adjust_creative=mUhtpg0LANTRd76OAeN1RQ&utm_campaign=yelp_api_v3&utm_medium=api_v3_business_search&utm_source=mUhtpg0LANTRd76OAeN1RQ&start=40:\n",
      "Scraped data from page 1\n",
      "Scraped data from page 2\n",
      "Scraped data from page 3\n",
      "Scraped data from page 4\n",
      "Scraped data from page 5\n"
     ]
    },
    {
     "name": "stderr",
     "output_type": "stream",
     "text": [
      "Scraping Restaurants:  93%|█████████▎| 236/255 [1:46:57<08:30, 26.88s/it]"
     ]
    },
    {
     "name": "stdout",
     "output_type": "stream",
     "text": [
      "\n",
      "Results fetched for URL https://www.yelp.com/biz/india-palace-restaurant-tulsa?adjust_creative=mUhtpg0LANTRd76OAeN1RQ&utm_campaign=yelp_api_v3&utm_medium=api_v3_business_search&utm_source=mUhtpg0LANTRd76OAeN1RQ&start=40:\n",
      "Scraped data from page 1\n",
      "Scraped data from page 2\n",
      "Scraped data from page 3\n",
      "Scraped data from page 4\n",
      "Scraped data from page 5\n"
     ]
    },
    {
     "name": "stderr",
     "output_type": "stream",
     "text": [
      "Scraping Restaurants:  93%|█████████▎| 237/255 [1:47:25<08:09, 27.21s/it]"
     ]
    },
    {
     "name": "stdout",
     "output_type": "stream",
     "text": [
      "\n",
      "Results fetched for URL https://www.yelp.com/biz/andolinis-pizzeria-cherry-street-tulsa-2?adjust_creative=mUhtpg0LANTRd76OAeN1RQ&utm_campaign=yelp_api_v3&utm_medium=api_v3_business_search&utm_source=mUhtpg0LANTRd76OAeN1RQ&start=40:\n",
      "Scraped data from page 1\n",
      "Scraped data from page 2\n",
      "Scraped data from page 3\n",
      "Scraped data from page 4\n",
      "Scraped data from page 5\n"
     ]
    },
    {
     "name": "stderr",
     "output_type": "stream",
     "text": [
      "Scraping Restaurants:  93%|█████████▎| 238/255 [1:47:51<07:35, 26.81s/it]"
     ]
    },
    {
     "name": "stdout",
     "output_type": "stream",
     "text": [
      "\n",
      "Results fetched for URL https://www.yelp.com/biz/mother-road-market-tulsa?adjust_creative=mUhtpg0LANTRd76OAeN1RQ&utm_campaign=yelp_api_v3&utm_medium=api_v3_business_search&utm_source=mUhtpg0LANTRd76OAeN1RQ&start=40:\n",
      "Scraped data from page 1\n",
      "Scraped data from page 2\n",
      "Scraped data from page 3\n",
      "Scraped data from page 4\n",
      "Scraped data from page 5\n"
     ]
    },
    {
     "name": "stderr",
     "output_type": "stream",
     "text": [
      "Scraping Restaurants:  94%|█████████▎| 239/255 [1:48:16<07:00, 26.26s/it]"
     ]
    },
    {
     "name": "stdout",
     "output_type": "stream",
     "text": [
      "\n",
      "Results fetched for URL https://www.yelp.com/biz/mandarin-taste-tulsa-4?adjust_creative=mUhtpg0LANTRd76OAeN1RQ&utm_campaign=yelp_api_v3&utm_medium=api_v3_business_search&utm_source=mUhtpg0LANTRd76OAeN1RQ&start=40:\n",
      "Scraped data from page 1\n",
      "Scraped data from page 2\n",
      "Scraped data from page 3\n",
      "Scraped data from page 4\n",
      "Scraped data from page 5\n"
     ]
    },
    {
     "name": "stderr",
     "output_type": "stream",
     "text": [
      "Scraping Restaurants:  94%|█████████▍| 240/255 [1:48:45<06:47, 27.14s/it]"
     ]
    },
    {
     "name": "stdout",
     "output_type": "stream",
     "text": [
      "\n",
      "Results fetched for URL https://www.yelp.com/biz/jinya-ramen-bar-tulsa-tulsa?adjust_creative=mUhtpg0LANTRd76OAeN1RQ&utm_campaign=yelp_api_v3&utm_medium=api_v3_business_search&utm_source=mUhtpg0LANTRd76OAeN1RQ&start=40:\n",
      "Scraped data from page 1\n",
      "Scraped data from page 2\n",
      "Scraped data from page 3\n",
      "Scraped data from page 4\n",
      "Scraped data from page 5\n"
     ]
    },
    {
     "name": "stderr",
     "output_type": "stream",
     "text": [
      "Scraping Restaurants:  95%|█████████▍| 241/255 [1:49:13<06:20, 27.20s/it]"
     ]
    },
    {
     "name": "stdout",
     "output_type": "stream",
     "text": [
      "\n",
      "Results fetched for URL https://www.yelp.com/biz/passage-to-india-wichita?adjust_creative=mUhtpg0LANTRd76OAeN1RQ&utm_campaign=yelp_api_v3&utm_medium=api_v3_business_search&utm_source=mUhtpg0LANTRd76OAeN1RQ&start=40:\n",
      "Scraped data from page 1\n",
      "Scraped data from page 2\n",
      "Scraped data from page 3\n",
      "Scraped data from page 4\n",
      "Scraped data from page 5\n"
     ]
    },
    {
     "name": "stderr",
     "output_type": "stream",
     "text": [
      "Scraping Restaurants:  95%|█████████▍| 242/255 [1:49:39<05:49, 26.85s/it]"
     ]
    },
    {
     "name": "stdout",
     "output_type": "stream",
     "text": [
      "\n",
      "Results fetched for URL https://www.yelp.com/biz/bella-vita-bistro-wichita-2?adjust_creative=mUhtpg0LANTRd76OAeN1RQ&utm_campaign=yelp_api_v3&utm_medium=api_v3_business_search&utm_source=mUhtpg0LANTRd76OAeN1RQ&start=40:\n",
      "Scraped data from page 1\n",
      "Scraped data from page 2\n",
      "Scraped data from page 3\n",
      "Scraped data from page 4\n",
      "Scraped data from page 5\n"
     ]
    },
    {
     "name": "stderr",
     "output_type": "stream",
     "text": [
      "Scraping Restaurants:  95%|█████████▌| 243/255 [1:50:04<05:16, 26.35s/it]"
     ]
    },
    {
     "name": "stdout",
     "output_type": "stream",
     "text": [
      "\n",
      "Results fetched for URL https://www.yelp.com/biz/river-city-brewing-wichita-4?adjust_creative=mUhtpg0LANTRd76OAeN1RQ&utm_campaign=yelp_api_v3&utm_medium=api_v3_business_search&utm_source=mUhtpg0LANTRd76OAeN1RQ&start=40:\n",
      "Scraped data from page 1\n",
      "Scraped data from page 2\n",
      "Scraped data from page 3\n",
      "Scraped data from page 4\n",
      "Scraped data from page 5\n"
     ]
    },
    {
     "name": "stderr",
     "output_type": "stream",
     "text": [
      "Scraping Restaurants:  96%|█████████▌| 244/255 [1:50:31<04:52, 26.56s/it]"
     ]
    },
    {
     "name": "stdout",
     "output_type": "stream",
     "text": [
      "\n",
      "Results fetched for URL https://www.yelp.com/biz/p-f-changs-wichita-3?adjust_creative=mUhtpg0LANTRd76OAeN1RQ&utm_campaign=yelp_api_v3&utm_medium=api_v3_business_search&utm_source=mUhtpg0LANTRd76OAeN1RQ&start=40:\n",
      "Scraped data from page 1\n",
      "Scraped data from page 2\n",
      "Scraped data from page 3\n",
      "Scraped data from page 4\n",
      "Scraped data from page 5\n"
     ]
    },
    {
     "name": "stderr",
     "output_type": "stream",
     "text": [
      "Scraping Restaurants:  96%|█████████▌| 245/255 [1:50:57<04:23, 26.33s/it]"
     ]
    },
    {
     "name": "stdout",
     "output_type": "stream",
     "text": [
      "\n",
      "Results fetched for URL https://www.yelp.com/biz/yokohama-ramen-joint-wichita?adjust_creative=mUhtpg0LANTRd76OAeN1RQ&utm_campaign=yelp_api_v3&utm_medium=api_v3_business_search&utm_source=mUhtpg0LANTRd76OAeN1RQ&start=40:\n",
      "Scraped data from page 1\n",
      "Scraped data from page 2\n",
      "Scraped data from page 3\n",
      "Scraped data from page 4\n",
      "Scraped data from page 5\n"
     ]
    },
    {
     "name": "stderr",
     "output_type": "stream",
     "text": [
      "Scraping Restaurants:  96%|█████████▋| 246/255 [1:51:22<03:53, 25.93s/it]"
     ]
    },
    {
     "name": "stdout",
     "output_type": "stream",
     "text": [
      "\n",
      "Results fetched for URL https://www.yelp.com/biz/nirvana-indian-cuisine-new-orleans?adjust_creative=mUhtpg0LANTRd76OAeN1RQ&utm_campaign=yelp_api_v3&utm_medium=api_v3_business_search&utm_source=mUhtpg0LANTRd76OAeN1RQ&start=40:\n",
      "Scraped data from page 1\n",
      "Scraped data from page 2\n",
      "Scraped data from page 3\n",
      "Scraped data from page 4\n",
      "Scraped data from page 5\n"
     ]
    },
    {
     "name": "stderr",
     "output_type": "stream",
     "text": [
      "Scraping Restaurants:  97%|█████████▋| 247/255 [1:51:47<03:25, 25.71s/it]"
     ]
    },
    {
     "name": "stdout",
     "output_type": "stream",
     "text": [
      "\n",
      "Results fetched for URL https://www.yelp.com/biz/domenica-new-orleans?adjust_creative=mUhtpg0LANTRd76OAeN1RQ&utm_campaign=yelp_api_v3&utm_medium=api_v3_business_search&utm_source=mUhtpg0LANTRd76OAeN1RQ&start=40:\n",
      "Scraped data from page 1\n",
      "Scraped data from page 2\n",
      "Scraped data from page 3\n",
      "Scraped data from page 4\n",
      "Scraped data from page 5\n"
     ]
    },
    {
     "name": "stderr",
     "output_type": "stream",
     "text": [
      "Scraping Restaurants:  97%|█████████▋| 248/255 [1:52:16<03:06, 26.60s/it]"
     ]
    },
    {
     "name": "stdout",
     "output_type": "stream",
     "text": [
      "\n",
      "Results fetched for URL https://www.yelp.com/biz/the-rum-house-new-orleans?adjust_creative=mUhtpg0LANTRd76OAeN1RQ&utm_campaign=yelp_api_v3&utm_medium=api_v3_business_search&utm_source=mUhtpg0LANTRd76OAeN1RQ&start=40:\n",
      "Scraped data from page 1\n",
      "Scraped data from page 2\n",
      "Scraped data from page 3\n",
      "Scraped data from page 4\n",
      "Scraped data from page 5\n"
     ]
    },
    {
     "name": "stderr",
     "output_type": "stream",
     "text": [
      "Scraping Restaurants:  98%|█████████▊| 249/255 [1:52:44<02:41, 26.99s/it]"
     ]
    },
    {
     "name": "stdout",
     "output_type": "stream",
     "text": [
      "\n",
      "Results fetched for URL https://www.yelp.com/biz/maypop-restaurant-new-orleans?adjust_creative=mUhtpg0LANTRd76OAeN1RQ&utm_campaign=yelp_api_v3&utm_medium=api_v3_business_search&utm_source=mUhtpg0LANTRd76OAeN1RQ&start=40:\n",
      "Scraped data from page 1\n",
      "Scraped data from page 2\n",
      "Scraped data from page 3\n",
      "Scraped data from page 4\n",
      "Scraped data from page 5\n"
     ]
    },
    {
     "name": "stderr",
     "output_type": "stream",
     "text": [
      "Scraping Restaurants:  98%|█████████▊| 250/255 [1:53:09<02:13, 26.64s/it]"
     ]
    },
    {
     "name": "stdout",
     "output_type": "stream",
     "text": [
      "\n",
      "Results fetched for URL https://www.yelp.com/biz/hoshun-restaurant-new-orleans?adjust_creative=mUhtpg0LANTRd76OAeN1RQ&utm_campaign=yelp_api_v3&utm_medium=api_v3_business_search&utm_source=mUhtpg0LANTRd76OAeN1RQ&start=40:\n",
      "Scraped data from page 1\n",
      "Scraped data from page 2\n",
      "Scraped data from page 3\n",
      "Scraped data from page 4\n",
      "Scraped data from page 5\n"
     ]
    },
    {
     "name": "stderr",
     "output_type": "stream",
     "text": [
      "Scraping Restaurants:  98%|█████████▊| 251/255 [1:53:37<01:47, 26.83s/it]"
     ]
    },
    {
     "name": "stdout",
     "output_type": "stream",
     "text": [
      "\n",
      "Results fetched for URL https://www.yelp.com/biz/india-grill-arlington-2?adjust_creative=mUhtpg0LANTRd76OAeN1RQ&utm_campaign=yelp_api_v3&utm_medium=api_v3_business_search&utm_source=mUhtpg0LANTRd76OAeN1RQ&start=40:\n",
      "Scraped data from page 1\n",
      "Scraped data from page 2\n",
      "Scraped data from page 3\n",
      "Scraped data from page 4\n",
      "Scraped data from page 5\n"
     ]
    },
    {
     "name": "stderr",
     "output_type": "stream",
     "text": [
      "Scraping Restaurants:  99%|█████████▉| 252/255 [1:54:05<01:21, 27.14s/it]"
     ]
    },
    {
     "name": "stdout",
     "output_type": "stream",
     "text": [
      "\n",
      "Results fetched for URL https://www.yelp.com/biz/italian-cafe-irving?adjust_creative=mUhtpg0LANTRd76OAeN1RQ&utm_campaign=yelp_api_v3&utm_medium=api_v3_business_search&utm_source=mUhtpg0LANTRd76OAeN1RQ&start=40:\n",
      "Scraped data from page 1\n",
      "Scraped data from page 2\n",
      "Scraped data from page 3\n",
      "Scraped data from page 4\n",
      "Scraped data from page 5\n"
     ]
    },
    {
     "name": "stderr",
     "output_type": "stream",
     "text": [
      "Scraping Restaurants:  99%|█████████▉| 253/255 [1:54:30<00:53, 26.60s/it]"
     ]
    },
    {
     "name": "stdout",
     "output_type": "stream",
     "text": [
      "\n",
      "Results fetched for URL https://www.yelp.com/biz/hugos-invitados-irving?adjust_creative=mUhtpg0LANTRd76OAeN1RQ&utm_campaign=yelp_api_v3&utm_medium=api_v3_business_search&utm_source=mUhtpg0LANTRd76OAeN1RQ&start=40:\n",
      "Scraped data from page 1\n",
      "Scraped data from page 2\n",
      "Scraped data from page 3\n",
      "Scraped data from page 4\n",
      "Scraped data from page 5\n"
     ]
    },
    {
     "name": "stderr",
     "output_type": "stream",
     "text": [
      "Scraping Restaurants: 100%|█████████▉| 254/255 [1:54:55<00:26, 26.13s/it]"
     ]
    },
    {
     "name": "stdout",
     "output_type": "stream",
     "text": [
      "\n",
      "Results fetched for URL https://www.yelp.com/biz/bethany-boba-tea-and-cafe-arlington?adjust_creative=mUhtpg0LANTRd76OAeN1RQ&utm_campaign=yelp_api_v3&utm_medium=api_v3_business_search&utm_source=mUhtpg0LANTRd76OAeN1RQ&start=40:\n",
      "Scraped data from page 1\n",
      "Scraped data from page 2\n",
      "Scraped data from page 3\n",
      "Scraped data from page 4\n",
      "Scraped data from page 5\n"
     ]
    },
    {
     "name": "stderr",
     "output_type": "stream",
     "text": [
      "Scraping Restaurants: 100%|██████████| 255/255 [1:55:22<00:00, 27.15s/it]"
     ]
    },
    {
     "name": "stdout",
     "output_type": "stream",
     "text": [
      "\n",
      "Results fetched for URL https://www.yelp.com/biz/mr-max-irving?adjust_creative=mUhtpg0LANTRd76OAeN1RQ&utm_campaign=yelp_api_v3&utm_medium=api_v3_business_search&utm_source=mUhtpg0LANTRd76OAeN1RQ&start=40:\n"
     ]
    },
    {
     "name": "stderr",
     "output_type": "stream",
     "text": [
      "\n"
     ]
    }
   ],
   "source": [
    "# Loop through each restaurant URL\n",
    "all_data = []\n",
    "for url in tqdm(restaurant_urls, desc=\"Scraping Restaurants\"):\n",
    "    num_pages = 5\n",
    "\n",
    "    # Initialize the driver\n",
    "    driver.set_page_load_timeout(20)\n",
    "    try:\n",
    "        driver.get(url)\n",
    "    except TimeoutException:\n",
    "        driver.execute_script(\"window.stop();\")\n",
    "\n",
    "    # Loop through each page for the current restaurant URL\n",
    "    for page_number in range(1, num_pages + 1):\n",
    "        scrape_result = scrape_page(url)\n",
    "        print(f\"Scraped data from page {page_number}\")\n",
    "        time.sleep(1)  # Simulate scraping time\n",
    "        all_data.extend(scrape_result)\n",
    "\n",
    "        # Navigate to the next page\n",
    "        navigate_to_next_page(driver)\n",
    "        url = driver.current_url\n",
    "\n",
    "    print(f\"\\nResults fetched for URL {url}:\")\n",
    "\n",
    "# Quit the driver after scraping all URLs\n",
    "driver.quit()"
   ]
  },
  {
   "cell_type": "code",
   "execution_count": 31,
   "metadata": {},
   "outputs": [
    {
     "name": "stderr",
     "output_type": "stream",
     "text": [
      "Scraping Restaurants:   0%|          | 0/255 [00:00<?, ?it/s]"
     ]
    },
    {
     "name": "stdout",
     "output_type": "stream",
     "text": [
      "Scraped data from page 1\n",
      "Scraped data from page 2\n",
      "Scraped data from page 3\n",
      "Scraped data from page 4\n",
      "Scraped data from page 5\n"
     ]
    },
    {
     "name": "stderr",
     "output_type": "stream",
     "text": [
      "Scraping Restaurants:   0%|          | 1/255 [00:28<2:00:27, 28.46s/it]"
     ]
    },
    {
     "name": "stdout",
     "output_type": "stream",
     "text": [
      "\n",
      "Results fetched for URL https://www.yelp.com/biz/taco-mahal-new-york?adjust_creative=mUhtpg0LANTRd76OAeN1RQ&utm_campaign=yelp_api_v3&utm_medium=api_v3_business_search&utm_source=mUhtpg0LANTRd76OAeN1RQ&start=40:\n",
      "Scraped data from page 1\n",
      "Scraped data from page 2\n",
      "Scraped data from page 3\n",
      "Scraped data from page 4\n",
      "Scraped data from page 5\n"
     ]
    },
    {
     "name": "stderr",
     "output_type": "stream",
     "text": [
      "Scraping Restaurants:   1%|          | 2/255 [00:58<2:04:12, 29.46s/it]"
     ]
    },
    {
     "name": "stdout",
     "output_type": "stream",
     "text": [
      "\n",
      "Results fetched for URL https://www.yelp.com/biz/olio-e-pi%C3%B9-new-york-7?adjust_creative=mUhtpg0LANTRd76OAeN1RQ&utm_campaign=yelp_api_v3&utm_medium=api_v3_business_search&utm_source=mUhtpg0LANTRd76OAeN1RQ&start=40:\n",
      "Scraped data from page 1\n",
      "Scraped data from page 2\n",
      "Scraped data from page 3\n",
      "Scraped data from page 4\n",
      "Scraped data from page 5\n"
     ]
    },
    {
     "name": "stderr",
     "output_type": "stream",
     "text": [
      "Scraping Restaurants:   1%|          | 3/255 [01:25<1:58:34, 28.23s/it]"
     ]
    },
    {
     "name": "stdout",
     "output_type": "stream",
     "text": [
      "\n",
      "Results fetched for URL https://www.yelp.com/biz/cafe-habana-new-york-4?adjust_creative=mUhtpg0LANTRd76OAeN1RQ&utm_campaign=yelp_api_v3&utm_medium=api_v3_business_search&utm_source=mUhtpg0LANTRd76OAeN1RQ&start=40:\n",
      "Scraped data from page 1\n",
      "Scraped data from page 2\n",
      "Scraped data from page 3\n",
      "Scraped data from page 4\n",
      "Scraped data from page 5\n"
     ]
    },
    {
     "name": "stderr",
     "output_type": "stream",
     "text": [
      "Scraping Restaurants:   2%|▏         | 4/255 [01:53<1:57:14, 28.02s/it]"
     ]
    },
    {
     "name": "stdout",
     "output_type": "stream",
     "text": [
      "\n",
      "Results fetched for URL https://www.yelp.com/biz/joes-shanghai-new-york-2?adjust_creative=mUhtpg0LANTRd76OAeN1RQ&utm_campaign=yelp_api_v3&utm_medium=api_v3_business_search&utm_source=mUhtpg0LANTRd76OAeN1RQ&start=40:\n",
      "Scraped data from page 1\n",
      "Scraped data from page 2\n",
      "Scraped data from page 3\n",
      "Scraped data from page 4\n",
      "Scraped data from page 5\n"
     ]
    },
    {
     "name": "stderr",
     "output_type": "stream",
     "text": [
      "Scraping Restaurants:   2%|▏         | 5/255 [02:19<1:54:03, 27.37s/it]"
     ]
    },
    {
     "name": "stdout",
     "output_type": "stream",
     "text": [
      "\n",
      "Results fetched for URL https://www.yelp.com/biz/raku-new-york-7?adjust_creative=mUhtpg0LANTRd76OAeN1RQ&utm_campaign=yelp_api_v3&utm_medium=api_v3_business_search&utm_source=mUhtpg0LANTRd76OAeN1RQ&start=40:\n",
      "Scraped data from page 1\n",
      "Scraped data from page 2\n",
      "Scraped data from page 3\n",
      "Scraped data from page 4\n",
      "Scraped data from page 5\n"
     ]
    },
    {
     "name": "stderr",
     "output_type": "stream",
     "text": [
      "Scraping Restaurants:   2%|▏         | 6/255 [02:47<1:54:15, 27.53s/it]"
     ]
    },
    {
     "name": "stdout",
     "output_type": "stream",
     "text": [
      "\n",
      "Results fetched for URL https://www.yelp.com/biz/himalayan-yak-jackson-heights?adjust_creative=mUhtpg0LANTRd76OAeN1RQ&utm_campaign=yelp_api_v3&utm_medium=api_v3_business_search&utm_source=mUhtpg0LANTRd76OAeN1RQ&start=40:\n",
      "Scraped data from page 1\n",
      "Scraped data from page 2\n",
      "Scraped data from page 3\n",
      "Scraped data from page 4\n",
      "Scraped data from page 5\n"
     ]
    },
    {
     "name": "stderr",
     "output_type": "stream",
     "text": [
      "Scraping Restaurants:   3%|▎         | 7/255 [03:16<1:55:52, 28.03s/it]"
     ]
    },
    {
     "name": "stdout",
     "output_type": "stream",
     "text": [
      "\n",
      "Results fetched for URL https://www.yelp.com/biz/trattoria-l-incontro-astoria-6?adjust_creative=mUhtpg0LANTRd76OAeN1RQ&utm_campaign=yelp_api_v3&utm_medium=api_v3_business_search&utm_source=mUhtpg0LANTRd76OAeN1RQ&start=40:\n",
      "Scraped data from page 1\n",
      "Scraped data from page 2\n",
      "Scraped data from page 3\n",
      "Scraped data from page 4\n",
      "Scraped data from page 5\n"
     ]
    },
    {
     "name": "stderr",
     "output_type": "stream",
     "text": [
      "Scraping Restaurants:   3%|▎         | 8/255 [03:44<1:55:35, 28.08s/it]"
     ]
    },
    {
     "name": "stdout",
     "output_type": "stream",
     "text": [
      "\n",
      "Results fetched for URL https://www.yelp.com/biz/casa-enrique-long-island-city?adjust_creative=mUhtpg0LANTRd76OAeN1RQ&utm_campaign=yelp_api_v3&utm_medium=api_v3_business_search&utm_source=mUhtpg0LANTRd76OAeN1RQ&start=40:\n",
      "Scraped data from page 1\n",
      "Scraped data from page 2\n",
      "Scraped data from page 3\n",
      "Scraped data from page 4\n",
      "Scraped data from page 5\n"
     ]
    },
    {
     "name": "stderr",
     "output_type": "stream",
     "text": [
      "Scraping Restaurants:   4%|▎         | 9/255 [04:14<1:57:08, 28.57s/it]"
     ]
    },
    {
     "name": "stdout",
     "output_type": "stream",
     "text": [
      "\n",
      "Results fetched for URL https://www.yelp.com/biz/haidilao-hot-pot-flushing-flushing?adjust_creative=mUhtpg0LANTRd76OAeN1RQ&utm_campaign=yelp_api_v3&utm_medium=api_v3_business_search&utm_source=mUhtpg0LANTRd76OAeN1RQ&start=40:\n",
      "Scraped data from page 1\n",
      "Scraped data from page 2\n",
      "Scraped data from page 3\n",
      "Scraped data from page 4\n",
      "Scraped data from page 5\n"
     ]
    },
    {
     "name": "stderr",
     "output_type": "stream",
     "text": [
      "Scraping Restaurants:   4%|▍         | 10/255 [04:43<1:57:48, 28.85s/it]"
     ]
    },
    {
     "name": "stdout",
     "output_type": "stream",
     "text": [
      "\n",
      "Results fetched for URL https://www.yelp.com/biz/akino-elmhurst?adjust_creative=mUhtpg0LANTRd76OAeN1RQ&utm_campaign=yelp_api_v3&utm_medium=api_v3_business_search&utm_source=mUhtpg0LANTRd76OAeN1RQ&start=40:\n",
      "Scraped data from page 1\n",
      "Scraped data from page 2\n",
      "Scraped data from page 3\n",
      "Scraped data from page 4\n",
      "Scraped data from page 5\n"
     ]
    },
    {
     "name": "stderr",
     "output_type": "stream",
     "text": [
      "Scraping Restaurants:   4%|▍         | 11/255 [05:09<1:54:19, 28.11s/it]"
     ]
    },
    {
     "name": "stdout",
     "output_type": "stream",
     "text": [
      "\n",
      "Results fetched for URL https://www.yelp.com/biz/anarkali-indian-restaurant-los-angeles?adjust_creative=mUhtpg0LANTRd76OAeN1RQ&utm_campaign=yelp_api_v3&utm_medium=api_v3_business_search&utm_source=mUhtpg0LANTRd76OAeN1RQ&start=40:\n",
      "Scraped data from page 1\n",
      "Scraped data from page 2\n",
      "Scraped data from page 3\n",
      "Scraped data from page 4\n",
      "Scraped data from page 5\n"
     ]
    },
    {
     "name": "stderr",
     "output_type": "stream",
     "text": [
      "Scraping Restaurants:   5%|▍         | 12/255 [05:40<1:56:51, 28.85s/it]"
     ]
    },
    {
     "name": "stdout",
     "output_type": "stream",
     "text": [
      "\n",
      "Results fetched for URL https://www.yelp.com/biz/bottega-louie-los-angeles?adjust_creative=mUhtpg0LANTRd76OAeN1RQ&utm_campaign=yelp_api_v3&utm_medium=api_v3_business_search&utm_source=mUhtpg0LANTRd76OAeN1RQ&start=40:\n",
      "Scraped data from page 1\n",
      "Scraped data from page 2\n",
      "Scraped data from page 3\n",
      "Scraped data from page 4\n",
      "Scraped data from page 5\n"
     ]
    },
    {
     "name": "stderr",
     "output_type": "stream",
     "text": [
      "Scraping Restaurants:   5%|▌         | 13/255 [06:09<1:56:27, 28.87s/it]"
     ]
    },
    {
     "name": "stdout",
     "output_type": "stream",
     "text": [
      "\n",
      "Results fetched for URL https://www.yelp.com/biz/toca-madera-los-angeles-los-angeles?adjust_creative=mUhtpg0LANTRd76OAeN1RQ&utm_campaign=yelp_api_v3&utm_medium=api_v3_business_search&utm_source=mUhtpg0LANTRd76OAeN1RQ&start=40:\n",
      "Scraped data from page 1\n",
      "Scraped data from page 2\n",
      "Scraped data from page 3\n",
      "Scraped data from page 4\n",
      "Scraped data from page 5\n"
     ]
    },
    {
     "name": "stderr",
     "output_type": "stream",
     "text": [
      "Scraping Restaurants:   5%|▌         | 14/255 [06:38<1:56:25, 28.99s/it]"
     ]
    },
    {
     "name": "stdout",
     "output_type": "stream",
     "text": [
      "\n",
      "Results fetched for URL https://www.yelp.com/biz/bao-dim-sum-house-los-angeles?adjust_creative=mUhtpg0LANTRd76OAeN1RQ&utm_campaign=yelp_api_v3&utm_medium=api_v3_business_search&utm_source=mUhtpg0LANTRd76OAeN1RQ&start=40:\n",
      "Scraped data from page 1\n",
      "Scraped data from page 2\n",
      "Scraped data from page 3\n",
      "Scraped data from page 4\n",
      "Scraped data from page 5\n"
     ]
    },
    {
     "name": "stderr",
     "output_type": "stream",
     "text": [
      "Scraping Restaurants:   6%|▌         | 15/255 [07:06<1:54:36, 28.65s/it]"
     ]
    },
    {
     "name": "stdout",
     "output_type": "stream",
     "text": [
      "\n",
      "Results fetched for URL https://www.yelp.com/biz/slurpin-ramen-bar-la-los-angeles-2?adjust_creative=mUhtpg0LANTRd76OAeN1RQ&utm_campaign=yelp_api_v3&utm_medium=api_v3_business_search&utm_source=mUhtpg0LANTRd76OAeN1RQ&start=40:\n",
      "Scraped data from page 1\n",
      "Scraped data from page 2\n",
      "Scraped data from page 3\n",
      "Scraped data from page 4\n",
      "Scraped data from page 5\n"
     ]
    },
    {
     "name": "stderr",
     "output_type": "stream",
     "text": [
      "Scraping Restaurants:   6%|▋         | 16/255 [07:32<1:50:30, 27.74s/it]"
     ]
    },
    {
     "name": "stdout",
     "output_type": "stream",
     "text": [
      "\n",
      "Results fetched for URL https://www.yelp.com/biz/pakwan-restaurant-16th-street-san-francisco?adjust_creative=mUhtpg0LANTRd76OAeN1RQ&utm_campaign=yelp_api_v3&utm_medium=api_v3_business_search&utm_source=mUhtpg0LANTRd76OAeN1RQ&start=40:\n",
      "Scraped data from page 1\n",
      "Scraped data from page 2\n",
      "Scraped data from page 3\n",
      "Scraped data from page 4\n",
      "Scraped data from page 5\n"
     ]
    },
    {
     "name": "stderr",
     "output_type": "stream",
     "text": [
      "Scraping Restaurants:   7%|▋         | 17/255 [08:15<2:09:08, 32.56s/it]"
     ]
    },
    {
     "name": "stdout",
     "output_type": "stream",
     "text": [
      "\n",
      "Results fetched for URL https://www.yelp.com/biz/sotto-mare-san-francisco-4?adjust_creative=mUhtpg0LANTRd76OAeN1RQ&utm_campaign=yelp_api_v3&utm_medium=api_v3_business_search&utm_source=mUhtpg0LANTRd76OAeN1RQ&start=40:\n",
      "Scraped data from page 1\n",
      "Scraped data from page 2\n",
      "Scraped data from page 3\n",
      "Scraped data from page 4\n",
      "Scraped data from page 5\n"
     ]
    },
    {
     "name": "stderr",
     "output_type": "stream",
     "text": [
      "Scraping Restaurants:   7%|▋         | 18/255 [08:45<2:05:13, 31.70s/it]"
     ]
    },
    {
     "name": "stdout",
     "output_type": "stream",
     "text": [
      "\n",
      "Results fetched for URL https://www.yelp.com/biz/el-farolito-san-francisco-2?adjust_creative=mUhtpg0LANTRd76OAeN1RQ&utm_campaign=yelp_api_v3&utm_medium=api_v3_business_search&utm_source=mUhtpg0LANTRd76OAeN1RQ&start=40:\n",
      "Scraped data from page 1\n",
      "Scraped data from page 2\n",
      "Scraped data from page 3\n",
      "Scraped data from page 4\n",
      "Scraped data from page 5\n"
     ]
    },
    {
     "name": "stderr",
     "output_type": "stream",
     "text": [
      "Scraping Restaurants:   7%|▋         | 19/255 [09:19<2:07:39, 32.46s/it]"
     ]
    },
    {
     "name": "stdout",
     "output_type": "stream",
     "text": [
      "\n",
      "Results fetched for URL https://www.yelp.com/biz/san-tung-san-francisco-2?adjust_creative=mUhtpg0LANTRd76OAeN1RQ&utm_campaign=yelp_api_v3&utm_medium=api_v3_business_search&utm_source=mUhtpg0LANTRd76OAeN1RQ&start=40:\n",
      "Scraped data from page 1\n",
      "Scraped data from page 2\n",
      "Scraped data from page 3\n",
      "Scraped data from page 4\n",
      "Scraped data from page 5\n"
     ]
    },
    {
     "name": "stderr",
     "output_type": "stream",
     "text": [
      "Scraping Restaurants:   8%|▊         | 20/255 [09:48<2:02:27, 31.26s/it]"
     ]
    },
    {
     "name": "stdout",
     "output_type": "stream",
     "text": [
      "\n",
      "Results fetched for URL https://www.yelp.com/biz/marufuku-ramen-san-francisco-5?adjust_creative=mUhtpg0LANTRd76OAeN1RQ&utm_campaign=yelp_api_v3&utm_medium=api_v3_business_search&utm_source=mUhtpg0LANTRd76OAeN1RQ&start=40:\n",
      "Scraped data from page 1\n",
      "Scraped data from page 2\n",
      "Scraped data from page 3\n",
      "Scraped data from page 4\n",
      "Scraped data from page 5\n"
     ]
    },
    {
     "name": "stderr",
     "output_type": "stream",
     "text": [
      "Scraping Restaurants:   8%|▊         | 21/255 [10:19<2:01:16, 31.10s/it]"
     ]
    },
    {
     "name": "stdout",
     "output_type": "stream",
     "text": [
      "\n",
      "Results fetched for URL https://www.yelp.com/biz/cumin-chicago?adjust_creative=mUhtpg0LANTRd76OAeN1RQ&utm_campaign=yelp_api_v3&utm_medium=api_v3_business_search&utm_source=mUhtpg0LANTRd76OAeN1RQ&start=40:\n",
      "Scraped data from page 1\n",
      "Scraped data from page 2\n",
      "Scraped data from page 3\n",
      "Scraped data from page 4\n",
      "Scraped data from page 5\n"
     ]
    },
    {
     "name": "stderr",
     "output_type": "stream",
     "text": [
      "Scraping Restaurants:   9%|▊         | 22/255 [10:52<2:03:15, 31.74s/it]"
     ]
    },
    {
     "name": "stdout",
     "output_type": "stream",
     "text": [
      "\n",
      "Results fetched for URL https://www.yelp.com/biz/eataly-chicago-chicago-6?adjust_creative=mUhtpg0LANTRd76OAeN1RQ&utm_campaign=yelp_api_v3&utm_medium=api_v3_business_search&utm_source=mUhtpg0LANTRd76OAeN1RQ&start=40:\n",
      "Scraped data from page 1\n",
      "Scraped data from page 2\n",
      "Scraped data from page 3\n",
      "Scraped data from page 4\n",
      "Scraped data from page 5\n"
     ]
    },
    {
     "name": "stderr",
     "output_type": "stream",
     "text": [
      "Scraping Restaurants:   9%|▉         | 23/255 [12:06<2:51:38, 44.39s/it]"
     ]
    },
    {
     "name": "stdout",
     "output_type": "stream",
     "text": [
      "\n",
      "Results fetched for URL https://www.yelp.com/biz/del-seoul-chicago?adjust_creative=mUhtpg0LANTRd76OAeN1RQ&utm_campaign=yelp_api_v3&utm_medium=api_v3_business_search&utm_source=mUhtpg0LANTRd76OAeN1RQ&start=40:\n",
      "Scraped data from page 1\n",
      "Scraped data from page 2\n",
      "Scraped data from page 3\n",
      "Scraped data from page 4\n",
      "Timed out waiting for the button to be present.\n",
      "Scraped data from page 5\n",
      "Timed out waiting for the button to be present.\n",
      "\n",
      "Results fetched for URL https://www.yelp.com/biz/minghin-cuisine-chicago-3?adjust_creative=mUhtpg0LANTRd76OAeN1RQ&utm_campaign=yelp_api_v3&utm_medium=api_v3_business_search&utm_source=mUhtpg0LANTRd76OAeN1RQ&start=20:\n"
     ]
    },
    {
     "name": "stderr",
     "output_type": "stream",
     "text": [
      "Scraping Restaurants:   9%|▉         | 24/255 [13:45<3:53:51, 60.74s/it]"
     ]
    },
    {
     "name": "stdout",
     "output_type": "stream",
     "text": [
      "Scraped data from page 1\n",
      "Timed out waiting for the button to be present.\n",
      "Scraped data from page 2\n",
      "Timed out waiting for the button to be present.\n",
      "Scraped data from page 3\n",
      "Timed out waiting for the button to be present.\n",
      "Scraped data from page 4\n",
      "Timed out waiting for the button to be present.\n",
      "Scraped data from page 5\n"
     ]
    },
    {
     "name": "stderr",
     "output_type": "stream",
     "text": [
      "Scraping Restaurants:  10%|▉         | 25/255 [15:50<5:07:47, 80.30s/it]"
     ]
    },
    {
     "name": "stdout",
     "output_type": "stream",
     "text": [
      "Timed out waiting for the button to be present.\n",
      "\n",
      "Results fetched for URL https://www.yelp.com/biz/ramen-san-chicago?adjust_creative=mUhtpg0LANTRd76OAeN1RQ&utm_campaign=yelp_api_v3&utm_medium=api_v3_business_search&utm_source=mUhtpg0LANTRd76OAeN1RQ:\n",
      "Scraped data from page 1\n",
      "Timed out waiting for the button to be present.\n",
      "Scraped data from page 2\n",
      "Scraped data from page 3\n",
      "Scraped data from page 4\n",
      "Scraped data from page 5\n"
     ]
    },
    {
     "name": "stderr",
     "output_type": "stream",
     "text": [
      "Scraping Restaurants:  10%|█         | 26/255 [16:43<4:35:08, 72.09s/it]"
     ]
    },
    {
     "name": "stdout",
     "output_type": "stream",
     "text": [
      "\n",
      "Results fetched for URL https://www.yelp.com/biz/pondicheri-houston?adjust_creative=mUhtpg0LANTRd76OAeN1RQ&utm_campaign=yelp_api_v3&utm_medium=api_v3_business_search&utm_source=mUhtpg0LANTRd76OAeN1RQ&start=30:\n",
      "Scraped data from page 1\n",
      "Scraped data from page 2\n",
      "Scraped data from page 3\n",
      "Scraped data from page 4\n",
      "Scraped data from page 5\n"
     ]
    },
    {
     "name": "stderr",
     "output_type": "stream",
     "text": [
      "Scraping Restaurants:  11%|█         | 27/255 [17:14<3:46:05, 59.50s/it]"
     ]
    },
    {
     "name": "stdout",
     "output_type": "stream",
     "text": [
      "\n",
      "Results fetched for URL https://www.yelp.com/biz/north-italia-houston?adjust_creative=mUhtpg0LANTRd76OAeN1RQ&utm_campaign=yelp_api_v3&utm_medium=api_v3_business_search&utm_source=mUhtpg0LANTRd76OAeN1RQ&start=40:\n",
      "Scraped data from page 1\n",
      "Scraped data from page 2\n",
      "Scraped data from page 3\n",
      "Scraped data from page 4\n",
      "Scraped data from page 5\n"
     ]
    },
    {
     "name": "stderr",
     "output_type": "stream",
     "text": [
      "Scraping Restaurants:  11%|█         | 28/255 [17:46<3:14:51, 51.50s/it]"
     ]
    },
    {
     "name": "stdout",
     "output_type": "stream",
     "text": [
      "\n",
      "Results fetched for URL https://www.yelp.com/biz/la-calle-tacos-houston-16?adjust_creative=mUhtpg0LANTRd76OAeN1RQ&utm_campaign=yelp_api_v3&utm_medium=api_v3_business_search&utm_source=mUhtpg0LANTRd76OAeN1RQ&start=40:\n",
      "Scraped data from page 1\n",
      "Scraped data from page 2\n",
      "Scraped data from page 3\n",
      "Scraped data from page 4\n",
      "Scraped data from page 5\n"
     ]
    },
    {
     "name": "stderr",
     "output_type": "stream",
     "text": [
      "Scraping Restaurants:  11%|█▏        | 29/255 [18:23<2:56:55, 46.97s/it]"
     ]
    },
    {
     "name": "stdout",
     "output_type": "stream",
     "text": [
      "\n",
      "Results fetched for URL https://www.yelp.com/biz/fat-bao-houston?adjust_creative=mUhtpg0LANTRd76OAeN1RQ&utm_campaign=yelp_api_v3&utm_medium=api_v3_business_search&utm_source=mUhtpg0LANTRd76OAeN1RQ&start=40:\n",
      "Scraped data from page 1\n",
      "Scraped data from page 2\n",
      "Scraped data from page 3\n",
      "Scraped data from page 4\n",
      "Scraped data from page 5\n"
     ]
    },
    {
     "name": "stderr",
     "output_type": "stream",
     "text": [
      "Scraping Restaurants:  12%|█▏        | 30/255 [18:52<2:36:31, 41.74s/it]"
     ]
    },
    {
     "name": "stdout",
     "output_type": "stream",
     "text": [
      "\n",
      "Results fetched for URL https://www.yelp.com/biz/jinya-ramen-bar-houston-houston?adjust_creative=mUhtpg0LANTRd76OAeN1RQ&utm_campaign=yelp_api_v3&utm_medium=api_v3_business_search&utm_source=mUhtpg0LANTRd76OAeN1RQ&start=40:\n",
      "Scraped data from page 1\n",
      "Scraped data from page 2\n",
      "Scraped data from page 3\n",
      "Scraped data from page 4\n",
      "Scraped data from page 5\n"
     ]
    },
    {
     "name": "stderr",
     "output_type": "stream",
     "text": [
      "Scraping Restaurants:  12%|█▏        | 31/255 [19:30<2:31:17, 40.52s/it]"
     ]
    },
    {
     "name": "stdout",
     "output_type": "stream",
     "text": [
      "\n",
      "Results fetched for URL https://www.yelp.com/biz/veda-modern-indian-bistro-philadelphia-3?adjust_creative=mUhtpg0LANTRd76OAeN1RQ&utm_campaign=yelp_api_v3&utm_medium=api_v3_business_search&utm_source=mUhtpg0LANTRd76OAeN1RQ&start=40:\n",
      "Scraped data from page 1\n",
      "Scraped data from page 2\n",
      "Scraped data from page 3\n",
      "Scraped data from page 4\n",
      "Scraped data from page 5\n"
     ]
    },
    {
     "name": "stderr",
     "output_type": "stream",
     "text": [
      "Scraping Restaurants:  13%|█▎        | 32/255 [20:02<2:21:37, 38.10s/it]"
     ]
    },
    {
     "name": "stdout",
     "output_type": "stream",
     "text": [
      "\n",
      "Results fetched for URL https://www.yelp.com/biz/barbuzzo-philadelphia?adjust_creative=mUhtpg0LANTRd76OAeN1RQ&utm_campaign=yelp_api_v3&utm_medium=api_v3_business_search&utm_source=mUhtpg0LANTRd76OAeN1RQ&start=40:\n",
      "Scraped data from page 1\n",
      "Scraped data from page 2\n",
      "Scraped data from page 3\n",
      "Scraped data from page 4\n",
      "Scraped data from page 5\n"
     ]
    },
    {
     "name": "stderr",
     "output_type": "stream",
     "text": [
      "Scraping Restaurants:  13%|█▎        | 33/255 [20:49<2:30:06, 40.57s/it]"
     ]
    },
    {
     "name": "stdout",
     "output_type": "stream",
     "text": [
      "Timed out waiting for the button to be present.\n",
      "\n",
      "Results fetched for URL https://www.yelp.com/biz/el-vez-philadelphia?adjust_creative=mUhtpg0LANTRd76OAeN1RQ&utm_campaign=yelp_api_v3&utm_medium=api_v3_business_search&utm_source=mUhtpg0LANTRd76OAeN1RQ&start=30:\n",
      "Scraped data from page 1\n",
      "Scraped data from page 2\n",
      "Scraped data from page 3\n",
      "Scraped data from page 4\n",
      "Scraped data from page 5\n"
     ]
    },
    {
     "name": "stderr",
     "output_type": "stream",
     "text": [
      "Scraping Restaurants:  13%|█▎        | 34/255 [21:22<2:20:53, 38.25s/it]"
     ]
    },
    {
     "name": "stdout",
     "output_type": "stream",
     "text": [
      "\n",
      "Results fetched for URL https://www.yelp.com/biz/dim-sum-garden-philadelphia?adjust_creative=mUhtpg0LANTRd76OAeN1RQ&utm_campaign=yelp_api_v3&utm_medium=api_v3_business_search&utm_source=mUhtpg0LANTRd76OAeN1RQ&start=40:\n",
      "Scraped data from page 1\n",
      "Scraped data from page 2\n",
      "Scraped data from page 3\n",
      "Scraped data from page 4\n",
      "Scraped data from page 5\n"
     ]
    },
    {
     "name": "stderr",
     "output_type": "stream",
     "text": [
      "Scraping Restaurants:  14%|█▎        | 35/255 [21:58<2:18:12, 37.69s/it]"
     ]
    },
    {
     "name": "stdout",
     "output_type": "stream",
     "text": [
      "\n",
      "Results fetched for URL https://www.yelp.com/biz/morimoto-philadelphia?adjust_creative=mUhtpg0LANTRd76OAeN1RQ&utm_campaign=yelp_api_v3&utm_medium=api_v3_business_search&utm_source=mUhtpg0LANTRd76OAeN1RQ&start=40:\n",
      "Scraped data from page 1\n",
      "Scraped data from page 2\n",
      "Scraped data from page 3\n",
      "Scraped data from page 4\n",
      "Scraped data from page 5\n"
     ]
    },
    {
     "name": "stderr",
     "output_type": "stream",
     "text": [
      "Scraping Restaurants:  14%|█▍        | 36/255 [22:29<2:10:38, 35.79s/it]"
     ]
    },
    {
     "name": "stdout",
     "output_type": "stream",
     "text": [
      "\n",
      "Results fetched for URL https://www.yelp.com/biz/india-palace-phoenix-3?adjust_creative=mUhtpg0LANTRd76OAeN1RQ&utm_campaign=yelp_api_v3&utm_medium=api_v3_business_search&utm_source=mUhtpg0LANTRd76OAeN1RQ&start=40:\n",
      "Scraped data from page 1\n",
      "Scraped data from page 2\n",
      "Scraped data from page 3\n",
      "Scraped data from page 4\n",
      "Scraped data from page 5\n"
     ]
    },
    {
     "name": "stderr",
     "output_type": "stream",
     "text": [
      "Scraping Restaurants:  15%|█▍        | 37/255 [23:01<2:05:32, 34.55s/it]"
     ]
    },
    {
     "name": "stdout",
     "output_type": "stream",
     "text": [
      "\n",
      "Results fetched for URL https://www.yelp.com/biz/the-sicilian-butcher-phoenix-3?adjust_creative=mUhtpg0LANTRd76OAeN1RQ&utm_campaign=yelp_api_v3&utm_medium=api_v3_business_search&utm_source=mUhtpg0LANTRd76OAeN1RQ&start=40:\n",
      "Scraped data from page 1\n",
      "Scraped data from page 2\n",
      "Scraped data from page 3\n",
      "Scraped data from page 4\n",
      "Scraped data from page 5\n"
     ]
    },
    {
     "name": "stderr",
     "output_type": "stream",
     "text": [
      "Scraping Restaurants:  15%|█▍        | 38/255 [23:33<2:02:30, 33.87s/it]"
     ]
    },
    {
     "name": "stdout",
     "output_type": "stream",
     "text": [
      "\n",
      "Results fetched for URL https://www.yelp.com/biz/chino-bandido-phoenix-3?adjust_creative=mUhtpg0LANTRd76OAeN1RQ&utm_campaign=yelp_api_v3&utm_medium=api_v3_business_search&utm_source=mUhtpg0LANTRd76OAeN1RQ&start=40:\n",
      "Scraped data from page 1\n",
      "Scraped data from page 2\n",
      "Scraped data from page 3\n",
      "Scraped data from page 4\n",
      "Scraped data from page 5\n"
     ]
    },
    {
     "name": "stderr",
     "output_type": "stream",
     "text": [
      "Scraping Restaurants:  15%|█▌        | 39/255 [24:07<2:02:03, 33.90s/it]"
     ]
    },
    {
     "name": "stdout",
     "output_type": "stream",
     "text": [
      "\n",
      "Results fetched for URL https://www.yelp.com/biz/george-and-sons-asian-cuisine-phoenix?adjust_creative=mUhtpg0LANTRd76OAeN1RQ&utm_campaign=yelp_api_v3&utm_medium=api_v3_business_search&utm_source=mUhtpg0LANTRd76OAeN1RQ&start=40:\n",
      "Scraped data from page 1\n",
      "Scraped data from page 2\n",
      "Scraped data from page 3\n",
      "Scraped data from page 4\n",
      "Scraped data from page 5\n"
     ]
    },
    {
     "name": "stderr",
     "output_type": "stream",
     "text": [
      "Scraping Restaurants:  16%|█▌        | 40/255 [24:41<2:00:42, 33.69s/it]"
     ]
    },
    {
     "name": "stdout",
     "output_type": "stream",
     "text": [
      "\n",
      "Results fetched for URL https://www.yelp.com/biz/yutaka-japanese-restaurant-phoenix?adjust_creative=mUhtpg0LANTRd76OAeN1RQ&utm_campaign=yelp_api_v3&utm_medium=api_v3_business_search&utm_source=mUhtpg0LANTRd76OAeN1RQ&start=40:\n",
      "Scraped data from page 1\n",
      "Scraped data from page 2\n",
      "Scraped data from page 3\n",
      "Scraped data from page 4\n",
      "Scraped data from page 5\n"
     ]
    },
    {
     "name": "stderr",
     "output_type": "stream",
     "text": [
      "Scraping Restaurants:  16%|█▌        | 41/255 [25:18<2:03:56, 34.75s/it]"
     ]
    },
    {
     "name": "stdout",
     "output_type": "stream",
     "text": [
      "\n",
      "Results fetched for URL https://www.yelp.com/biz/india-palace-san-antonio?adjust_creative=mUhtpg0LANTRd76OAeN1RQ&utm_campaign=yelp_api_v3&utm_medium=api_v3_business_search&utm_source=mUhtpg0LANTRd76OAeN1RQ&start=40:\n",
      "Scraped data from page 1\n",
      "Scraped data from page 2\n",
      "Scraped data from page 3\n",
      "Scraped data from page 4\n",
      "Scraped data from page 5\n"
     ]
    },
    {
     "name": "stderr",
     "output_type": "stream",
     "text": [
      "Scraping Restaurants:  16%|█▋        | 42/255 [25:51<2:01:57, 34.35s/it]"
     ]
    },
    {
     "name": "stdout",
     "output_type": "stream",
     "text": [
      "\n",
      "Results fetched for URL https://www.yelp.com/biz/dough-pizzeria-napoletana-san-antonio?adjust_creative=mUhtpg0LANTRd76OAeN1RQ&utm_campaign=yelp_api_v3&utm_medium=api_v3_business_search&utm_source=mUhtpg0LANTRd76OAeN1RQ&start=40:\n",
      "Scraped data from page 1\n",
      "Scraped data from page 2\n",
      "Scraped data from page 3\n",
      "Scraped data from page 4\n",
      "Scraped data from page 5\n"
     ]
    },
    {
     "name": "stderr",
     "output_type": "stream",
     "text": [
      "Scraping Restaurants:  17%|█▋        | 43/255 [26:25<2:00:56, 34.23s/it]"
     ]
    },
    {
     "name": "stdout",
     "output_type": "stream",
     "text": [
      "\n",
      "Results fetched for URL https://www.yelp.com/biz/rosarios-comidamex-and-bar-san-antonio-2?adjust_creative=mUhtpg0LANTRd76OAeN1RQ&utm_campaign=yelp_api_v3&utm_medium=api_v3_business_search&utm_source=mUhtpg0LANTRd76OAeN1RQ&start=40:\n",
      "Scraped data from page 1\n",
      "Scraped data from page 2\n",
      "Scraped data from page 3\n",
      "Scraped data from page 4\n",
      "Scraped data from page 5\n"
     ]
    },
    {
     "name": "stderr",
     "output_type": "stream",
     "text": [
      "Scraping Restaurants:  17%|█▋        | 44/255 [26:58<1:59:07, 33.87s/it]"
     ]
    },
    {
     "name": "stdout",
     "output_type": "stream",
     "text": [
      "\n",
      "Results fetched for URL https://www.yelp.com/biz/kung-fu-noodle-%E5%8A%9F%E5%A4%AB%E9%9D%A2%E9%A6%86-san-antonio?adjust_creative=mUhtpg0LANTRd76OAeN1RQ&utm_campaign=yelp_api_v3&utm_medium=api_v3_business_search&utm_source=mUhtpg0LANTRd76OAeN1RQ&start=40:\n",
      "Scraped data from page 1\n",
      "Scraped data from page 2\n",
      "Scraped data from page 3\n",
      "Scraped data from page 4\n",
      "Scraped data from page 5\n"
     ]
    },
    {
     "name": "stderr",
     "output_type": "stream",
     "text": [
      "Scraping Restaurants:  18%|█▊        | 45/255 [27:34<2:00:57, 34.56s/it]"
     ]
    },
    {
     "name": "stdout",
     "output_type": "stream",
     "text": [
      "\n",
      "Results fetched for URL https://www.yelp.com/biz/wild-goji-restaurant-and-bar-san-antonio-3?adjust_creative=mUhtpg0LANTRd76OAeN1RQ&utm_campaign=yelp_api_v3&utm_medium=api_v3_business_search&utm_source=mUhtpg0LANTRd76OAeN1RQ&start=40:\n",
      "Scraped data from page 1\n",
      "Scraped data from page 2\n",
      "Scraped data from page 3\n",
      "Scraped data from page 4\n",
      "Scraped data from page 5\n"
     ]
    },
    {
     "name": "stderr",
     "output_type": "stream",
     "text": [
      "Scraping Restaurants:  18%|█▊        | 46/255 [28:05<1:56:12, 33.36s/it]"
     ]
    },
    {
     "name": "stdout",
     "output_type": "stream",
     "text": [
      "\n",
      "Results fetched for URL https://www.yelp.com/biz/tandoori-hut-san-diego-3?adjust_creative=mUhtpg0LANTRd76OAeN1RQ&utm_campaign=yelp_api_v3&utm_medium=api_v3_business_search&utm_source=mUhtpg0LANTRd76OAeN1RQ&start=40:\n",
      "Scraped data from page 1\n",
      "Scraped data from page 2\n",
      "Scraped data from page 3\n",
      "Scraped data from page 4\n",
      "Scraped data from page 5\n"
     ]
    },
    {
     "name": "stderr",
     "output_type": "stream",
     "text": [
      "Scraping Restaurants:  18%|█▊        | 47/255 [28:36<1:52:54, 32.57s/it]"
     ]
    },
    {
     "name": "stdout",
     "output_type": "stream",
     "text": [
      "\n",
      "Results fetched for URL https://www.yelp.com/biz/cucina-urbana-san-diego-4?adjust_creative=mUhtpg0LANTRd76OAeN1RQ&utm_campaign=yelp_api_v3&utm_medium=api_v3_business_search&utm_source=mUhtpg0LANTRd76OAeN1RQ&start=40:\n",
      "Scraped data from page 1\n",
      "Scraped data from page 2\n",
      "Scraped data from page 3\n",
      "Scraped data from page 4\n",
      "Scraped data from page 5\n"
     ]
    },
    {
     "name": "stderr",
     "output_type": "stream",
     "text": [
      "Scraping Restaurants:  19%|█▉        | 48/255 [29:02<1:45:40, 30.63s/it]"
     ]
    },
    {
     "name": "stdout",
     "output_type": "stream",
     "text": [
      "\n",
      "Results fetched for URL https://www.yelp.com/biz/coasterra-san-diego?adjust_creative=mUhtpg0LANTRd76OAeN1RQ&utm_campaign=yelp_api_v3&utm_medium=api_v3_business_search&utm_source=mUhtpg0LANTRd76OAeN1RQ&start=40:\n",
      "Scraped data from page 1\n",
      "Scraped data from page 2\n",
      "Scraped data from page 3\n",
      "Scraped data from page 4\n",
      "Scraped data from page 5\n"
     ]
    },
    {
     "name": "stderr",
     "output_type": "stream",
     "text": [
      "Scraping Restaurants:  19%|█▉        | 49/255 [29:32<1:45:08, 30.62s/it]"
     ]
    },
    {
     "name": "stdout",
     "output_type": "stream",
     "text": [
      "\n",
      "Results fetched for URL https://www.yelp.com/biz/steamy-piggy-san-diego-2?adjust_creative=mUhtpg0LANTRd76OAeN1RQ&utm_campaign=yelp_api_v3&utm_medium=api_v3_business_search&utm_source=mUhtpg0LANTRd76OAeN1RQ&start=40:\n",
      "Scraped data from page 1\n",
      "Scraped data from page 2\n",
      "Scraped data from page 3\n",
      "Scraped data from page 4\n",
      "Scraped data from page 5\n"
     ]
    },
    {
     "name": "stderr",
     "output_type": "stream",
     "text": [
      "Scraping Restaurants:  20%|█▉        | 50/255 [30:07<1:49:12, 31.96s/it]"
     ]
    },
    {
     "name": "stdout",
     "output_type": "stream",
     "text": [
      "\n",
      "Results fetched for URL https://www.yelp.com/biz/steamy-piggy-san-diego-2?adjust_creative=mUhtpg0LANTRd76OAeN1RQ&utm_campaign=yelp_api_v3&utm_medium=api_v3_business_search&utm_source=mUhtpg0LANTRd76OAeN1RQ&start=40:\n",
      "Scraped data from page 1\n",
      "Scraped data from page 2\n",
      "Scraped data from page 3\n",
      "Scraped data from page 4\n",
      "Scraped data from page 5\n"
     ]
    },
    {
     "name": "stderr",
     "output_type": "stream",
     "text": [
      "Scraping Restaurants:  20%|██        | 51/255 [30:38<1:47:36, 31.65s/it]"
     ]
    },
    {
     "name": "stdout",
     "output_type": "stream",
     "text": [
      "\n",
      "Results fetched for URL https://www.yelp.com/biz/roti-grill-dallas?adjust_creative=mUhtpg0LANTRd76OAeN1RQ&utm_campaign=yelp_api_v3&utm_medium=api_v3_business_search&utm_source=mUhtpg0LANTRd76OAeN1RQ&start=40:\n",
      "Scraped data from page 1\n",
      "Scraped data from page 2\n",
      "Scraped data from page 3\n",
      "Scraped data from page 4\n",
      "Scraped data from page 5\n"
     ]
    },
    {
     "name": "stderr",
     "output_type": "stream",
     "text": [
      "Scraping Restaurants:  20%|██        | 52/255 [31:07<1:44:29, 30.88s/it]"
     ]
    },
    {
     "name": "stdout",
     "output_type": "stream",
     "text": [
      "\n",
      "Results fetched for URL https://www.yelp.com/biz/monarch-dallas-2?adjust_creative=mUhtpg0LANTRd76OAeN1RQ&utm_campaign=yelp_api_v3&utm_medium=api_v3_business_search&utm_source=mUhtpg0LANTRd76OAeN1RQ&start=40:\n",
      "Scraped data from page 1\n",
      "Scraped data from page 2\n",
      "Scraped data from page 3\n",
      "Scraped data from page 4\n",
      "Scraped data from page 5\n"
     ]
    },
    {
     "name": "stderr",
     "output_type": "stream",
     "text": [
      "Scraping Restaurants:  21%|██        | 53/255 [31:36<1:41:43, 30.21s/it]"
     ]
    },
    {
     "name": "stdout",
     "output_type": "stream",
     "text": [
      "\n",
      "Results fetched for URL https://www.yelp.com/biz/meso-maya-comida-y-copas-dallas-4?adjust_creative=mUhtpg0LANTRd76OAeN1RQ&utm_campaign=yelp_api_v3&utm_medium=api_v3_business_search&utm_source=mUhtpg0LANTRd76OAeN1RQ&start=40:\n",
      "Scraped data from page 1\n",
      "Scraped data from page 2\n",
      "Scraped data from page 3\n",
      "Scraped data from page 4\n",
      "Scraped data from page 5\n"
     ]
    },
    {
     "name": "stderr",
     "output_type": "stream",
     "text": [
      "Scraping Restaurants:  21%|██        | 54/255 [32:27<2:01:40, 36.32s/it]"
     ]
    },
    {
     "name": "stdout",
     "output_type": "stream",
     "text": [
      "\n",
      "Results fetched for URL https://www.yelp.com/biz/monkey-king-noodle-dallas?adjust_creative=mUhtpg0LANTRd76OAeN1RQ&utm_campaign=yelp_api_v3&utm_medium=api_v3_business_search&utm_source=mUhtpg0LANTRd76OAeN1RQ&start=40:\n",
      "Scraped data from page 1\n",
      "Scraped data from page 2\n",
      "Scraped data from page 3\n",
      "Scraped data from page 4\n",
      "Scraped data from page 5\n"
     ]
    },
    {
     "name": "stderr",
     "output_type": "stream",
     "text": [
      "Scraping Restaurants:  22%|██▏       | 55/255 [32:59<1:57:01, 35.11s/it]"
     ]
    },
    {
     "name": "stdout",
     "output_type": "stream",
     "text": [
      "\n",
      "Results fetched for URL https://www.yelp.com/biz/uchi-dallas-5?adjust_creative=mUhtpg0LANTRd76OAeN1RQ&utm_campaign=yelp_api_v3&utm_medium=api_v3_business_search&utm_source=mUhtpg0LANTRd76OAeN1RQ&start=40:\n",
      "Scraped data from page 1\n",
      "Scraped data from page 2\n",
      "Scraped data from page 3\n",
      "Scraped data from page 4\n",
      "Scraped data from page 5\n"
     ]
    },
    {
     "name": "stderr",
     "output_type": "stream",
     "text": [
      "Scraping Restaurants:  22%|██▏       | 56/255 [33:31<1:53:30, 34.22s/it]"
     ]
    },
    {
     "name": "stdout",
     "output_type": "stream",
     "text": [
      "\n",
      "Results fetched for URL https://www.yelp.com/biz/sam-and-curry-san-jose?adjust_creative=mUhtpg0LANTRd76OAeN1RQ&utm_campaign=yelp_api_v3&utm_medium=api_v3_business_search&utm_source=mUhtpg0LANTRd76OAeN1RQ&start=40:\n",
      "Scraped data from page 1\n",
      "Scraped data from page 2\n",
      "Scraped data from page 3\n",
      "Scraped data from page 4\n",
      "Scraped data from page 5\n"
     ]
    },
    {
     "name": "stderr",
     "output_type": "stream",
     "text": [
      "Scraping Restaurants:  22%|██▏       | 57/255 [34:01<1:48:53, 33.00s/it]"
     ]
    },
    {
     "name": "stdout",
     "output_type": "stream",
     "text": [
      "\n",
      "Results fetched for URL https://www.yelp.com/biz/original-joes-san-jose-san-jose-4?adjust_creative=mUhtpg0LANTRd76OAeN1RQ&utm_campaign=yelp_api_v3&utm_medium=api_v3_business_search&utm_source=mUhtpg0LANTRd76OAeN1RQ&start=40:\n",
      "Scraped data from page 1\n",
      "Scraped data from page 2\n",
      "Scraped data from page 3\n",
      "Scraped data from page 4\n",
      "Scraped data from page 5\n"
     ]
    },
    {
     "name": "stderr",
     "output_type": "stream",
     "text": [
      "Scraping Restaurants:  23%|██▎       | 58/255 [34:31<1:45:40, 32.19s/it]"
     ]
    },
    {
     "name": "stdout",
     "output_type": "stream",
     "text": [
      "\n",
      "Results fetched for URL https://www.yelp.com/biz/luna-mexican-kitchen-the-alameda-san-jose?adjust_creative=mUhtpg0LANTRd76OAeN1RQ&utm_campaign=yelp_api_v3&utm_medium=api_v3_business_search&utm_source=mUhtpg0LANTRd76OAeN1RQ&start=40:\n",
      "Scraped data from page 1\n",
      "Scraped data from page 2\n",
      "Scraped data from page 3\n",
      "Scraped data from page 4\n",
      "Scraped data from page 5\n"
     ]
    },
    {
     "name": "stderr",
     "output_type": "stream",
     "text": [
      "Scraping Restaurants:  23%|██▎       | 59/255 [34:59<1:41:01, 30.93s/it]"
     ]
    },
    {
     "name": "stdout",
     "output_type": "stream",
     "text": [
      "\n",
      "Results fetched for URL https://www.yelp.com/biz/paiks-noodle-santa-clara-10?adjust_creative=mUhtpg0LANTRd76OAeN1RQ&utm_campaign=yelp_api_v3&utm_medium=api_v3_business_search&utm_source=mUhtpg0LANTRd76OAeN1RQ&start=40:\n",
      "Scraped data from page 1\n",
      "Scraped data from page 2\n",
      "Scraped data from page 3\n",
      "Scraped data from page 4\n",
      "Scraped data from page 5\n"
     ]
    },
    {
     "name": "stderr",
     "output_type": "stream",
     "text": [
      "Scraping Restaurants:  24%|██▎       | 60/255 [35:29<1:38:47, 30.40s/it]"
     ]
    },
    {
     "name": "stdout",
     "output_type": "stream",
     "text": [
      "\n",
      "Results fetched for URL https://www.yelp.com/biz/ramen-nagi-santa-clara?adjust_creative=mUhtpg0LANTRd76OAeN1RQ&utm_campaign=yelp_api_v3&utm_medium=api_v3_business_search&utm_source=mUhtpg0LANTRd76OAeN1RQ&start=40:\n",
      "Scraped data from page 1\n",
      "Scraped data from page 2\n",
      "Scraped data from page 3\n",
      "Scraped data from page 4\n",
      "Scraped data from page 5\n"
     ]
    },
    {
     "name": "stderr",
     "output_type": "stream",
     "text": [
      "Scraping Restaurants:  24%|██▍       | 61/255 [35:56<1:35:38, 29.58s/it]"
     ]
    },
    {
     "name": "stdout",
     "output_type": "stream",
     "text": [
      "\n",
      "Results fetched for URL https://www.yelp.com/biz/clay-pit-austin?adjust_creative=mUhtpg0LANTRd76OAeN1RQ&utm_campaign=yelp_api_v3&utm_medium=api_v3_business_search&utm_source=mUhtpg0LANTRd76OAeN1RQ&start=40:\n",
      "Scraped data from page 1\n",
      "Scraped data from page 2\n",
      "Scraped data from page 3\n",
      "Scraped data from page 4\n",
      "Scraped data from page 5\n"
     ]
    },
    {
     "name": "stderr",
     "output_type": "stream",
     "text": [
      "Scraping Restaurants:  24%|██▍       | 62/255 [36:23<1:32:42, 28.82s/it]"
     ]
    },
    {
     "name": "stdout",
     "output_type": "stream",
     "text": [
      "\n",
      "Results fetched for URL https://www.yelp.com/biz/red-ash-austin?adjust_creative=mUhtpg0LANTRd76OAeN1RQ&utm_campaign=yelp_api_v3&utm_medium=api_v3_business_search&utm_source=mUhtpg0LANTRd76OAeN1RQ&start=40:\n",
      "Scraped data from page 1\n",
      "Scraped data from page 2\n",
      "Scraped data from page 3\n",
      "Scraped data from page 4\n",
      "Scraped data from page 5\n"
     ]
    },
    {
     "name": "stderr",
     "output_type": "stream",
     "text": [
      "Scraping Restaurants:  25%|██▍       | 63/255 [36:52<1:32:03, 28.77s/it]"
     ]
    },
    {
     "name": "stdout",
     "output_type": "stream",
     "text": [
      "\n",
      "Results fetched for URL https://www.yelp.com/biz/juan-in-a-million-austin-2?adjust_creative=mUhtpg0LANTRd76OAeN1RQ&utm_campaign=yelp_api_v3&utm_medium=api_v3_business_search&utm_source=mUhtpg0LANTRd76OAeN1RQ&start=40:\n",
      "Scraped data from page 1\n",
      "Scraped data from page 2\n",
      "Scraped data from page 3\n",
      "Scraped data from page 4\n",
      "Scraped data from page 5\n"
     ]
    },
    {
     "name": "stderr",
     "output_type": "stream",
     "text": [
      "Scraping Restaurants:  25%|██▌       | 64/255 [37:27<1:37:58, 30.78s/it]"
     ]
    },
    {
     "name": "stdout",
     "output_type": "stream",
     "text": [
      "\n",
      "Results fetched for URL https://www.yelp.com/biz/1618-asian-fusion-austin?adjust_creative=mUhtpg0LANTRd76OAeN1RQ&utm_campaign=yelp_api_v3&utm_medium=api_v3_business_search&utm_source=mUhtpg0LANTRd76OAeN1RQ&start=40:\n",
      "Scraped data from page 1\n",
      "Scraped data from page 2\n",
      "Scraped data from page 3\n",
      "Scraped data from page 4\n",
      "Scraped data from page 5\n"
     ]
    },
    {
     "name": "stderr",
     "output_type": "stream",
     "text": [
      "Scraping Restaurants:  25%|██▌       | 65/255 [37:56<1:35:26, 30.14s/it]"
     ]
    },
    {
     "name": "stdout",
     "output_type": "stream",
     "text": [
      "\n",
      "Results fetched for URL https://www.yelp.com/biz/lucky-robot-austin?adjust_creative=mUhtpg0LANTRd76OAeN1RQ&utm_campaign=yelp_api_v3&utm_medium=api_v3_business_search&utm_source=mUhtpg0LANTRd76OAeN1RQ&start=40:\n",
      "Scraped data from page 1\n",
      "Scraped data from page 2\n",
      "Scraped data from page 3\n",
      "Scraped data from page 4\n",
      "Scraped data from page 5\n"
     ]
    },
    {
     "name": "stderr",
     "output_type": "stream",
     "text": [
      "Scraping Restaurants:  26%|██▌       | 66/255 [38:23<1:32:00, 29.21s/it]"
     ]
    },
    {
     "name": "stdout",
     "output_type": "stream",
     "text": [
      "\n",
      "Results fetched for URL https://www.yelp.com/biz/5th-element-jacksonville?adjust_creative=mUhtpg0LANTRd76OAeN1RQ&utm_campaign=yelp_api_v3&utm_medium=api_v3_business_search&utm_source=mUhtpg0LANTRd76OAeN1RQ&start=40:\n",
      "Scraped data from page 1\n",
      "Scraped data from page 2\n",
      "Scraped data from page 3\n",
      "Scraped data from page 4\n",
      "Scraped data from page 5\n"
     ]
    },
    {
     "name": "stderr",
     "output_type": "stream",
     "text": [
      "Scraping Restaurants:  26%|██▋       | 67/255 [38:50<1:28:53, 28.37s/it]"
     ]
    },
    {
     "name": "stdout",
     "output_type": "stream",
     "text": [
      "\n",
      "Results fetched for URL https://www.yelp.com/biz/carmines-pie-house-jacksonville?adjust_creative=mUhtpg0LANTRd76OAeN1RQ&utm_campaign=yelp_api_v3&utm_medium=api_v3_business_search&utm_source=mUhtpg0LANTRd76OAeN1RQ&start=40:\n",
      "Scraped data from page 1\n",
      "Scraped data from page 2\n",
      "Scraped data from page 3\n",
      "Scraped data from page 4\n",
      "Scraped data from page 5\n"
     ]
    },
    {
     "name": "stderr",
     "output_type": "stream",
     "text": [
      "Scraping Restaurants:  27%|██▋       | 68/255 [39:18<1:28:16, 28.32s/it]"
     ]
    },
    {
     "name": "stdout",
     "output_type": "stream",
     "text": [
      "\n",
      "Results fetched for URL https://www.yelp.com/biz/burrito-gallery-downtown-jacksonville-3?adjust_creative=mUhtpg0LANTRd76OAeN1RQ&utm_campaign=yelp_api_v3&utm_medium=api_v3_business_search&utm_source=mUhtpg0LANTRd76OAeN1RQ&start=40:\n",
      "Scraped data from page 1\n",
      "Scraped data from page 2\n",
      "Scraped data from page 3\n",
      "Scraped data from page 4\n",
      "Scraped data from page 5\n"
     ]
    },
    {
     "name": "stderr",
     "output_type": "stream",
     "text": [
      "Scraping Restaurants:  27%|██▋       | 69/255 [39:46<1:27:48, 28.32s/it]"
     ]
    },
    {
     "name": "stdout",
     "output_type": "stream",
     "text": [
      "\n",
      "Results fetched for URL https://www.yelp.com/biz/timwah-dim-sum-restaurant-jacksonville?adjust_creative=mUhtpg0LANTRd76OAeN1RQ&utm_campaign=yelp_api_v3&utm_medium=api_v3_business_search&utm_source=mUhtpg0LANTRd76OAeN1RQ&start=40:\n",
      "Scraped data from page 1\n",
      "Scraped data from page 2\n",
      "Scraped data from page 3\n",
      "Scraped data from page 4\n",
      "Scraped data from page 5\n"
     ]
    },
    {
     "name": "stderr",
     "output_type": "stream",
     "text": [
      "Scraping Restaurants:  27%|██▋       | 70/255 [40:15<1:27:33, 28.40s/it]"
     ]
    },
    {
     "name": "stdout",
     "output_type": "stream",
     "text": [
      "\n",
      "Results fetched for URL https://www.yelp.com/biz/domu-jacksonville?adjust_creative=mUhtpg0LANTRd76OAeN1RQ&utm_campaign=yelp_api_v3&utm_medium=api_v3_business_search&utm_source=mUhtpg0LANTRd76OAeN1RQ&start=40:\n",
      "Scraped data from page 1\n",
      "Scraped data from page 2\n",
      "Scraped data from page 3\n",
      "Scraped data from page 4\n",
      "Scraped data from page 5\n"
     ]
    },
    {
     "name": "stderr",
     "output_type": "stream",
     "text": [
      "Scraping Restaurants:  28%|██▊       | 71/255 [40:40<1:24:38, 27.60s/it]"
     ]
    },
    {
     "name": "stdout",
     "output_type": "stream",
     "text": [
      "\n",
      "Results fetched for URL https://www.yelp.com/biz/chapati-indianapolis-2?adjust_creative=mUhtpg0LANTRd76OAeN1RQ&utm_campaign=yelp_api_v3&utm_medium=api_v3_business_search&utm_source=mUhtpg0LANTRd76OAeN1RQ&start=40:\n",
      "Scraped data from page 1\n",
      "Scraped data from page 2\n",
      "Scraped data from page 3\n",
      "Scraped data from page 4\n",
      "Scraped data from page 5\n"
     ]
    },
    {
     "name": "stderr",
     "output_type": "stream",
     "text": [
      "Scraping Restaurants:  28%|██▊       | 72/255 [41:10<1:25:54, 28.17s/it]"
     ]
    },
    {
     "name": "stdout",
     "output_type": "stream",
     "text": [
      "\n",
      "Results fetched for URL https://www.yelp.com/biz/mama-carollas-indianapolis?adjust_creative=mUhtpg0LANTRd76OAeN1RQ&utm_campaign=yelp_api_v3&utm_medium=api_v3_business_search&utm_source=mUhtpg0LANTRd76OAeN1RQ&start=40:\n",
      "Scraped data from page 1\n",
      "Scraped data from page 2\n",
      "Scraped data from page 3\n",
      "Scraped data from page 4\n",
      "Scraped data from page 5\n"
     ]
    },
    {
     "name": "stderr",
     "output_type": "stream",
     "text": [
      "Scraping Restaurants:  29%|██▊       | 73/255 [41:38<1:25:10, 28.08s/it]"
     ]
    },
    {
     "name": "stdout",
     "output_type": "stream",
     "text": [
      "\n",
      "Results fetched for URL https://www.yelp.com/biz/nada-indianapolis?adjust_creative=mUhtpg0LANTRd76OAeN1RQ&utm_campaign=yelp_api_v3&utm_medium=api_v3_business_search&utm_source=mUhtpg0LANTRd76OAeN1RQ&start=40:\n",
      "Scraped data from page 1\n",
      "Scraped data from page 2\n",
      "Scraped data from page 3\n",
      "Scraped data from page 4\n",
      "Scraped data from page 5\n"
     ]
    },
    {
     "name": "stderr",
     "output_type": "stream",
     "text": [
      "Scraping Restaurants:  29%|██▉       | 74/255 [42:05<1:23:57, 27.83s/it]"
     ]
    },
    {
     "name": "stdout",
     "output_type": "stream",
     "text": [
      "\n",
      "Results fetched for URL https://www.yelp.com/biz/p-f-changs-indianapolis-4?adjust_creative=mUhtpg0LANTRd76OAeN1RQ&utm_campaign=yelp_api_v3&utm_medium=api_v3_business_search&utm_source=mUhtpg0LANTRd76OAeN1RQ&start=40:\n",
      "Scraped data from page 1\n",
      "Scraped data from page 2\n",
      "Scraped data from page 3\n",
      "Scraped data from page 4\n",
      "Scraped data from page 5\n"
     ]
    },
    {
     "name": "stderr",
     "output_type": "stream",
     "text": [
      "Scraping Restaurants:  29%|██▉       | 75/255 [42:31<1:22:09, 27.39s/it]"
     ]
    },
    {
     "name": "stdout",
     "output_type": "stream",
     "text": [
      "\n",
      "Results fetched for URL https://www.yelp.com/biz/ramen-ray-indianapolis?adjust_creative=mUhtpg0LANTRd76OAeN1RQ&utm_campaign=yelp_api_v3&utm_medium=api_v3_business_search&utm_source=mUhtpg0LANTRd76OAeN1RQ&start=40:\n",
      "Scraped data from page 1\n",
      "Scraped data from page 2\n",
      "Scraped data from page 3\n",
      "Scraped data from page 4\n",
      "Scraped data from page 5\n"
     ]
    },
    {
     "name": "stderr",
     "output_type": "stream",
     "text": [
      "Scraping Restaurants:  30%|██▉       | 76/255 [43:01<1:23:37, 28.03s/it]"
     ]
    },
    {
     "name": "stdout",
     "output_type": "stream",
     "text": [
      "\n",
      "Results fetched for URL https://www.yelp.com/biz/aab-india-restaurant-columbus-3?adjust_creative=mUhtpg0LANTRd76OAeN1RQ&utm_campaign=yelp_api_v3&utm_medium=api_v3_business_search&utm_source=mUhtpg0LANTRd76OAeN1RQ&start=40:\n",
      "Scraped data from page 1\n",
      "Scraped data from page 2\n",
      "Scraped data from page 3\n",
      "Scraped data from page 4\n",
      "Scraped data from page 5\n"
     ]
    },
    {
     "name": "stderr",
     "output_type": "stream",
     "text": [
      "Scraping Restaurants:  30%|███       | 77/255 [43:29<1:23:36, 28.18s/it]"
     ]
    },
    {
     "name": "stdout",
     "output_type": "stream",
     "text": [
      "\n",
      "Results fetched for URL https://www.yelp.com/biz/marcellas-columbus-7?adjust_creative=mUhtpg0LANTRd76OAeN1RQ&utm_campaign=yelp_api_v3&utm_medium=api_v3_business_search&utm_source=mUhtpg0LANTRd76OAeN1RQ&start=40:\n",
      "Scraped data from page 1\n",
      "Scraped data from page 2\n",
      "Scraped data from page 3\n",
      "Scraped data from page 4\n",
      "Scraped data from page 5\n"
     ]
    },
    {
     "name": "stderr",
     "output_type": "stream",
     "text": [
      "Scraping Restaurants:  31%|███       | 78/255 [43:58<1:23:10, 28.20s/it]"
     ]
    },
    {
     "name": "stdout",
     "output_type": "stream",
     "text": [
      "\n",
      "Results fetched for URL https://www.yelp.com/biz/los-guachos-taqueria-columbus?adjust_creative=mUhtpg0LANTRd76OAeN1RQ&utm_campaign=yelp_api_v3&utm_medium=api_v3_business_search&utm_source=mUhtpg0LANTRd76OAeN1RQ&start=40:\n",
      "Scraped data from page 1\n",
      "Scraped data from page 2\n",
      "Scraped data from page 3\n",
      "Scraped data from page 4\n",
      "Scraped data from page 5\n"
     ]
    },
    {
     "name": "stderr",
     "output_type": "stream",
     "text": [
      "Scraping Restaurants:  31%|███       | 79/255 [44:27<1:23:42, 28.54s/it]"
     ]
    },
    {
     "name": "stdout",
     "output_type": "stream",
     "text": [
      "\n",
      "Results fetched for URL https://www.yelp.com/biz/tais-asian-bistro-columbus?adjust_creative=mUhtpg0LANTRd76OAeN1RQ&utm_campaign=yelp_api_v3&utm_medium=api_v3_business_search&utm_source=mUhtpg0LANTRd76OAeN1RQ&start=40:\n",
      "Scraped data from page 1\n",
      "Scraped data from page 2\n",
      "Scraped data from page 3\n",
      "Scraped data from page 4\n",
      "Scraped data from page 5\n"
     ]
    },
    {
     "name": "stderr",
     "output_type": "stream",
     "text": [
      "Scraping Restaurants:  31%|███▏      | 80/255 [44:55<1:22:45, 28.37s/it]"
     ]
    },
    {
     "name": "stdout",
     "output_type": "stream",
     "text": [
      "\n",
      "Results fetched for URL https://www.yelp.com/biz/akai-hana-columbus?adjust_creative=mUhtpg0LANTRd76OAeN1RQ&utm_campaign=yelp_api_v3&utm_medium=api_v3_business_search&utm_source=mUhtpg0LANTRd76OAeN1RQ&start=40:\n",
      "Scraped data from page 1\n",
      "Scraped data from page 2\n",
      "Scraped data from page 3\n",
      "Scraped data from page 4\n",
      "Scraped data from page 5\n"
     ]
    },
    {
     "name": "stderr",
     "output_type": "stream",
     "text": [
      "Scraping Restaurants:  32%|███▏      | 81/255 [45:23<1:22:15, 28.36s/it]"
     ]
    },
    {
     "name": "stdout",
     "output_type": "stream",
     "text": [
      "\n",
      "Results fetched for URL https://www.yelp.com/biz/indian-kitchen-cuisine-of-india-haltom-city-4?adjust_creative=mUhtpg0LANTRd76OAeN1RQ&utm_campaign=yelp_api_v3&utm_medium=api_v3_business_search&utm_source=mUhtpg0LANTRd76OAeN1RQ&start=40:\n",
      "Scraped data from page 1\n",
      "Scraped data from page 2\n",
      "Scraped data from page 3\n",
      "Scraped data from page 4\n",
      "Scraped data from page 5\n"
     ]
    },
    {
     "name": "stderr",
     "output_type": "stream",
     "text": [
      "Scraping Restaurants:  32%|███▏      | 82/255 [45:51<1:21:19, 28.21s/it]"
     ]
    },
    {
     "name": "stdout",
     "output_type": "stream",
     "text": [
      "\n",
      "Results fetched for URL https://www.yelp.com/biz/cane-rosso-fort-worth?adjust_creative=mUhtpg0LANTRd76OAeN1RQ&utm_campaign=yelp_api_v3&utm_medium=api_v3_business_search&utm_source=mUhtpg0LANTRd76OAeN1RQ&start=40:\n",
      "Scraped data from page 1\n",
      "Scraped data from page 2\n",
      "Scraped data from page 3\n",
      "Scraped data from page 4\n",
      "Scraped data from page 5\n"
     ]
    },
    {
     "name": "stderr",
     "output_type": "stream",
     "text": [
      "Scraping Restaurants:  33%|███▎      | 83/255 [46:18<1:19:34, 27.76s/it]"
     ]
    },
    {
     "name": "stdout",
     "output_type": "stream",
     "text": [
      "\n",
      "Results fetched for URL https://www.yelp.com/biz/joe-t-garcias-fort-worth?adjust_creative=mUhtpg0LANTRd76OAeN1RQ&utm_campaign=yelp_api_v3&utm_medium=api_v3_business_search&utm_source=mUhtpg0LANTRd76OAeN1RQ&start=40:\n",
      "Scraped data from page 1\n",
      "Scraped data from page 2\n",
      "Scraped data from page 3\n",
      "Scraped data from page 4\n",
      "Scraped data from page 5\n"
     ]
    },
    {
     "name": "stderr",
     "output_type": "stream",
     "text": [
      "Scraping Restaurants:  33%|███▎      | 84/255 [46:48<1:21:20, 28.54s/it]"
     ]
    },
    {
     "name": "stdout",
     "output_type": "stream",
     "text": [
      "\n",
      "Results fetched for URL https://www.yelp.com/biz/my-lan-restaurant-haltom-city-3?adjust_creative=mUhtpg0LANTRd76OAeN1RQ&utm_campaign=yelp_api_v3&utm_medium=api_v3_business_search&utm_source=mUhtpg0LANTRd76OAeN1RQ&start=40:\n",
      "Scraped data from page 1\n",
      "Scraped data from page 2\n",
      "Scraped data from page 3\n",
      "Scraped data from page 4\n",
      "Scraped data from page 5\n"
     ]
    },
    {
     "name": "stderr",
     "output_type": "stream",
     "text": [
      "Scraping Restaurants:  33%|███▎      | 85/255 [47:18<1:21:30, 28.77s/it]"
     ]
    },
    {
     "name": "stdout",
     "output_type": "stream",
     "text": [
      "\n",
      "Results fetched for URL https://www.yelp.com/biz/blue-sushi-sake-grill-fort-worth?adjust_creative=mUhtpg0LANTRd76OAeN1RQ&utm_campaign=yelp_api_v3&utm_medium=api_v3_business_search&utm_source=mUhtpg0LANTRd76OAeN1RQ&start=40:\n",
      "Scraped data from page 1\n",
      "Scraped data from page 2\n",
      "Scraped data from page 3\n",
      "Scraped data from page 4\n",
      "Scraped data from page 5\n"
     ]
    },
    {
     "name": "stderr",
     "output_type": "stream",
     "text": [
      "Scraping Restaurants:  34%|███▎      | 86/255 [47:47<1:21:10, 28.82s/it]"
     ]
    },
    {
     "name": "stdout",
     "output_type": "stream",
     "text": [
      "\n",
      "Results fetched for URL https://www.yelp.com/biz/copper-modern-indian-cuisine-charlotte?adjust_creative=mUhtpg0LANTRd76OAeN1RQ&utm_campaign=yelp_api_v3&utm_medium=api_v3_business_search&utm_source=mUhtpg0LANTRd76OAeN1RQ&start=40:\n",
      "Scraped data from page 1\n",
      "Scraped data from page 2\n",
      "Scraped data from page 3\n",
      "Scraped data from page 4\n",
      "Scraped data from page 5\n"
     ]
    },
    {
     "name": "stderr",
     "output_type": "stream",
     "text": [
      "Scraping Restaurants:  34%|███▍      | 87/255 [48:15<1:20:09, 28.63s/it]"
     ]
    },
    {
     "name": "stdout",
     "output_type": "stream",
     "text": [
      "\n",
      "Results fetched for URL https://www.yelp.com/biz/mama-ricottas-charlotte-16?adjust_creative=mUhtpg0LANTRd76OAeN1RQ&utm_campaign=yelp_api_v3&utm_medium=api_v3_business_search&utm_source=mUhtpg0LANTRd76OAeN1RQ&start=40:\n",
      "Scraped data from page 1\n",
      "Scraped data from page 2\n",
      "Scraped data from page 3\n",
      "Scraped data from page 4\n",
      "Scraped data from page 5\n"
     ]
    },
    {
     "name": "stderr",
     "output_type": "stream",
     "text": [
      "Scraping Restaurants:  35%|███▍      | 88/255 [48:43<1:19:14, 28.47s/it]"
     ]
    },
    {
     "name": "stdout",
     "output_type": "stream",
     "text": [
      "\n",
      "Results fetched for URL https://www.yelp.com/biz/cabo-fish-taco-charlotte?adjust_creative=mUhtpg0LANTRd76OAeN1RQ&utm_campaign=yelp_api_v3&utm_medium=api_v3_business_search&utm_source=mUhtpg0LANTRd76OAeN1RQ&start=40:\n",
      "Scraped data from page 1\n",
      "Scraped data from page 2\n",
      "Scraped data from page 3\n",
      "Scraped data from page 4\n",
      "Scraped data from page 5\n"
     ]
    },
    {
     "name": "stderr",
     "output_type": "stream",
     "text": [
      "Scraping Restaurants:  35%|███▍      | 89/255 [49:11<1:18:56, 28.53s/it]"
     ]
    },
    {
     "name": "stdout",
     "output_type": "stream",
     "text": [
      "\n",
      "Results fetched for URL https://www.yelp.com/biz/the-dumpling-lady-charlotte?adjust_creative=mUhtpg0LANTRd76OAeN1RQ&utm_campaign=yelp_api_v3&utm_medium=api_v3_business_search&utm_source=mUhtpg0LANTRd76OAeN1RQ&start=40:\n",
      "Scraped data from page 1\n",
      "Scraped data from page 2\n",
      "Scraped data from page 3\n",
      "Scraped data from page 4\n",
      "Scraped data from page 5\n"
     ]
    },
    {
     "name": "stderr",
     "output_type": "stream",
     "text": [
      "Scraping Restaurants:  35%|███▌      | 90/255 [49:41<1:19:32, 28.93s/it]"
     ]
    },
    {
     "name": "stdout",
     "output_type": "stream",
     "text": [
      "\n",
      "Results fetched for URL https://www.yelp.com/biz/futo-buta-charlotte-3?adjust_creative=mUhtpg0LANTRd76OAeN1RQ&utm_campaign=yelp_api_v3&utm_medium=api_v3_business_search&utm_source=mUhtpg0LANTRd76OAeN1RQ&start=40:\n",
      "Scraped data from page 1\n",
      "Scraped data from page 2\n",
      "Scraped data from page 3\n",
      "Scraped data from page 4\n",
      "Scraped data from page 5\n"
     ]
    },
    {
     "name": "stderr",
     "output_type": "stream",
     "text": [
      "Scraping Restaurants:  36%|███▌      | 91/255 [50:12<1:20:21, 29.40s/it]"
     ]
    },
    {
     "name": "stdout",
     "output_type": "stream",
     "text": [
      "\n",
      "Results fetched for URL https://www.yelp.com/biz/nirmals-seattle?adjust_creative=mUhtpg0LANTRd76OAeN1RQ&utm_campaign=yelp_api_v3&utm_medium=api_v3_business_search&utm_source=mUhtpg0LANTRd76OAeN1RQ&start=40:\n",
      "Scraped data from page 1\n",
      "Scraped data from page 2\n",
      "Scraped data from page 3\n",
      "Scraped data from page 4\n",
      "Scraped data from page 5\n"
     ]
    },
    {
     "name": "stderr",
     "output_type": "stream",
     "text": [
      "Scraping Restaurants:  36%|███▌      | 92/255 [50:44<1:22:29, 30.37s/it]"
     ]
    },
    {
     "name": "stdout",
     "output_type": "stream",
     "text": [
      "\n",
      "Results fetched for URL https://www.yelp.com/biz/the-pink-door-seattle-4?adjust_creative=mUhtpg0LANTRd76OAeN1RQ&utm_campaign=yelp_api_v3&utm_medium=api_v3_business_search&utm_source=mUhtpg0LANTRd76OAeN1RQ&start=40:\n",
      "Scraped data from page 1\n",
      "Scraped data from page 2\n",
      "Scraped data from page 3\n",
      "Scraped data from page 4\n",
      "Scraped data from page 5\n"
     ]
    },
    {
     "name": "stderr",
     "output_type": "stream",
     "text": [
      "Scraping Restaurants:  36%|███▋      | 93/255 [51:15<1:21:57, 30.35s/it]"
     ]
    },
    {
     "name": "stdout",
     "output_type": "stream",
     "text": [
      "\n",
      "Results fetched for URL https://www.yelp.com/biz/tacos-chukis-seattle?adjust_creative=mUhtpg0LANTRd76OAeN1RQ&utm_campaign=yelp_api_v3&utm_medium=api_v3_business_search&utm_source=mUhtpg0LANTRd76OAeN1RQ&start=40:\n",
      "Scraped data from page 1\n",
      "Scraped data from page 2\n",
      "Scraped data from page 3\n",
      "Scraped data from page 4\n",
      "Scraped data from page 5\n"
     ]
    },
    {
     "name": "stderr",
     "output_type": "stream",
     "text": [
      "Scraping Restaurants:  37%|███▋      | 94/255 [51:42<1:19:19, 29.56s/it]"
     ]
    },
    {
     "name": "stdout",
     "output_type": "stream",
     "text": [
      "\n",
      "Results fetched for URL https://www.yelp.com/biz/din-tai-fung-seattle-14?adjust_creative=mUhtpg0LANTRd76OAeN1RQ&utm_campaign=yelp_api_v3&utm_medium=api_v3_business_search&utm_source=mUhtpg0LANTRd76OAeN1RQ&start=40:\n",
      "Scraped data from page 1\n",
      "Scraped data from page 2\n",
      "Scraped data from page 3\n",
      "Scraped data from page 4\n",
      "Scraped data from page 5\n"
     ]
    },
    {
     "name": "stderr",
     "output_type": "stream",
     "text": [
      "Scraping Restaurants:  37%|███▋      | 95/255 [52:09<1:16:43, 28.77s/it]"
     ]
    },
    {
     "name": "stdout",
     "output_type": "stream",
     "text": [
      "\n",
      "Results fetched for URL https://www.yelp.com/biz/japonessa-sushi-cocina-seattle?adjust_creative=mUhtpg0LANTRd76OAeN1RQ&utm_campaign=yelp_api_v3&utm_medium=api_v3_business_search&utm_source=mUhtpg0LANTRd76OAeN1RQ&start=40:\n",
      "Scraped data from page 1\n",
      "Scraped data from page 2\n",
      "Scraped data from page 3\n",
      "Scraped data from page 4\n",
      "Scraped data from page 5\n"
     ]
    },
    {
     "name": "stderr",
     "output_type": "stream",
     "text": [
      "Scraping Restaurants:  38%|███▊      | 96/255 [52:37<1:15:38, 28.55s/it]"
     ]
    },
    {
     "name": "stdout",
     "output_type": "stream",
     "text": [
      "\n",
      "Results fetched for URL https://www.yelp.com/biz/little-india-restaurant-and-bar-denver-10?adjust_creative=mUhtpg0LANTRd76OAeN1RQ&utm_campaign=yelp_api_v3&utm_medium=api_v3_business_search&utm_source=mUhtpg0LANTRd76OAeN1RQ&start=40:\n",
      "Scraped data from page 1\n",
      "Scraped data from page 2\n",
      "Scraped data from page 3\n",
      "Scraped data from page 4\n",
      "Scraped data from page 5\n"
     ]
    },
    {
     "name": "stderr",
     "output_type": "stream",
     "text": [
      "Scraping Restaurants:  38%|███▊      | 97/255 [53:05<1:14:34, 28.32s/it]"
     ]
    },
    {
     "name": "stdout",
     "output_type": "stream",
     "text": [
      "\n",
      "Results fetched for URL https://www.yelp.com/biz/osteria-marco-denver?adjust_creative=mUhtpg0LANTRd76OAeN1RQ&utm_campaign=yelp_api_v3&utm_medium=api_v3_business_search&utm_source=mUhtpg0LANTRd76OAeN1RQ&start=40:\n",
      "Scraped data from page 1\n",
      "Scraped data from page 2\n",
      "Scraped data from page 3\n",
      "Scraped data from page 4\n",
      "Scraped data from page 5\n"
     ]
    },
    {
     "name": "stderr",
     "output_type": "stream",
     "text": [
      "Scraping Restaurants:  38%|███▊      | 98/255 [53:33<1:13:58, 28.27s/it]"
     ]
    },
    {
     "name": "stdout",
     "output_type": "stream",
     "text": [
      "\n",
      "Results fetched for URL https://www.yelp.com/biz/la-loma-denver-denver?adjust_creative=mUhtpg0LANTRd76OAeN1RQ&utm_campaign=yelp_api_v3&utm_medium=api_v3_business_search&utm_source=mUhtpg0LANTRd76OAeN1RQ&start=40:\n",
      "Scraped data from page 1\n",
      "Scraped data from page 2\n",
      "Scraped data from page 3\n",
      "Scraped data from page 4\n",
      "Scraped data from page 5\n"
     ]
    },
    {
     "name": "stderr",
     "output_type": "stream",
     "text": [
      "Scraping Restaurants:  39%|███▉      | 99/255 [54:02<1:14:07, 28.51s/it]"
     ]
    },
    {
     "name": "stdout",
     "output_type": "stream",
     "text": [
      "\n",
      "Results fetched for URL https://www.yelp.com/biz/star-kitchen-denver?adjust_creative=mUhtpg0LANTRd76OAeN1RQ&utm_campaign=yelp_api_v3&utm_medium=api_v3_business_search&utm_source=mUhtpg0LANTRd76OAeN1RQ&start=40:\n",
      "Scraped data from page 1\n",
      "Scraped data from page 2\n",
      "Scraped data from page 3\n",
      "Scraped data from page 4\n",
      "Scraped data from page 5\n"
     ]
    },
    {
     "name": "stderr",
     "output_type": "stream",
     "text": [
      "Scraping Restaurants:  39%|███▉      | 100/255 [54:34<1:16:14, 29.52s/it]"
     ]
    },
    {
     "name": "stdout",
     "output_type": "stream",
     "text": [
      "\n",
      "Results fetched for URL https://www.yelp.com/biz/uncle-denver?adjust_creative=mUhtpg0LANTRd76OAeN1RQ&utm_campaign=yelp_api_v3&utm_medium=api_v3_business_search&utm_source=mUhtpg0LANTRd76OAeN1RQ&start=40:\n",
      "Scraped data from page 1\n",
      "Scraped data from page 2\n",
      "Scraped data from page 3\n",
      "Scraped data from page 4\n",
      "Scraped data from page 5\n"
     ]
    },
    {
     "name": "stderr",
     "output_type": "stream",
     "text": [
      "Scraping Restaurants:  40%|███▉      | 101/255 [55:02<1:14:41, 29.10s/it]"
     ]
    },
    {
     "name": "stdout",
     "output_type": "stream",
     "text": [
      "\n",
      "Results fetched for URL https://www.yelp.com/biz/india-palace-el-paso?adjust_creative=mUhtpg0LANTRd76OAeN1RQ&utm_campaign=yelp_api_v3&utm_medium=api_v3_business_search&utm_source=mUhtpg0LANTRd76OAeN1RQ&start=40:\n",
      "Scraped data from page 1\n",
      "Scraped data from page 2\n",
      "Scraped data from page 3\n",
      "Scraped data from page 4\n",
      "Scraped data from page 5\n"
     ]
    },
    {
     "name": "stderr",
     "output_type": "stream",
     "text": [
      "Scraping Restaurants:  40%|████      | 102/255 [55:31<1:13:47, 28.94s/it]"
     ]
    },
    {
     "name": "stdout",
     "output_type": "stream",
     "text": [
      "\n",
      "Results fetched for URL https://www.yelp.com/biz/trattoria-bella-sera-el-paso?adjust_creative=mUhtpg0LANTRd76OAeN1RQ&utm_campaign=yelp_api_v3&utm_medium=api_v3_business_search&utm_source=mUhtpg0LANTRd76OAeN1RQ&start=40:\n",
      "Scraped data from page 1\n",
      "Scraped data from page 2\n",
      "Scraped data from page 3\n",
      "Scraped data from page 4\n",
      "Scraped data from page 5\n"
     ]
    },
    {
     "name": "stderr",
     "output_type": "stream",
     "text": [
      "Scraping Restaurants:  40%|████      | 103/255 [55:59<1:12:24, 28.58s/it]"
     ]
    },
    {
     "name": "stdout",
     "output_type": "stream",
     "text": [
      "\n",
      "Results fetched for URL https://www.yelp.com/biz/l-and-j-cafe-el-paso?adjust_creative=mUhtpg0LANTRd76OAeN1RQ&utm_campaign=yelp_api_v3&utm_medium=api_v3_business_search&utm_source=mUhtpg0LANTRd76OAeN1RQ&start=40:\n",
      "Scraped data from page 1\n",
      "Scraped data from page 2\n",
      "Scraped data from page 3\n",
      "Scraped data from page 4\n",
      "Scraped data from page 5\n"
     ]
    },
    {
     "name": "stderr",
     "output_type": "stream",
     "text": [
      "Scraping Restaurants:  41%|████      | 104/255 [56:28<1:12:35, 28.85s/it]"
     ]
    },
    {
     "name": "stdout",
     "output_type": "stream",
     "text": [
      "\n",
      "Results fetched for URL https://www.yelp.com/biz/noodles-and-dumplings-el-paso?adjust_creative=mUhtpg0LANTRd76OAeN1RQ&utm_campaign=yelp_api_v3&utm_medium=api_v3_business_search&utm_source=mUhtpg0LANTRd76OAeN1RQ&start=40:\n",
      "Scraped data from page 1\n",
      "Scraped data from page 2\n",
      "Scraped data from page 3\n",
      "Scraped data from page 4\n",
      "Scraped data from page 5\n"
     ]
    },
    {
     "name": "stderr",
     "output_type": "stream",
     "text": [
      "Scraping Restaurants:  41%|████      | 105/255 [56:57<1:11:48, 28.72s/it]"
     ]
    },
    {
     "name": "stdout",
     "output_type": "stream",
     "text": [
      "\n",
      "Results fetched for URL https://www.yelp.com/biz/sushi-garden-el-paso?adjust_creative=mUhtpg0LANTRd76OAeN1RQ&utm_campaign=yelp_api_v3&utm_medium=api_v3_business_search&utm_source=mUhtpg0LANTRd76OAeN1RQ&start=40:\n",
      "Scraped data from page 1\n",
      "Scraped data from page 2\n",
      "Scraped data from page 3\n",
      "Scraped data from page 4\n",
      "Scraped data from page 5\n"
     ]
    },
    {
     "name": "stderr",
     "output_type": "stream",
     "text": [
      "Scraping Restaurants:  42%|████▏     | 106/255 [57:23<1:09:22, 27.94s/it]"
     ]
    },
    {
     "name": "stdout",
     "output_type": "stream",
     "text": [
      "\n",
      "Results fetched for URL https://www.yelp.com/biz/aladdin-sweets-and-cafe-hamtramck?adjust_creative=mUhtpg0LANTRd76OAeN1RQ&utm_campaign=yelp_api_v3&utm_medium=api_v3_business_search&utm_source=mUhtpg0LANTRd76OAeN1RQ&start=40:\n",
      "Scraped data from page 1\n",
      "Scraped data from page 2\n",
      "Scraped data from page 3\n",
      "Scraped data from page 4\n",
      "Scraped data from page 5\n"
     ]
    },
    {
     "name": "stderr",
     "output_type": "stream",
     "text": [
      "Scraping Restaurants:  42%|████▏     | 107/255 [57:50<1:08:28, 27.76s/it]"
     ]
    },
    {
     "name": "stdout",
     "output_type": "stream",
     "text": [
      "\n",
      "Results fetched for URL https://www.yelp.com/biz/supino-pizzeria-detroit?adjust_creative=mUhtpg0LANTRd76OAeN1RQ&utm_campaign=yelp_api_v3&utm_medium=api_v3_business_search&utm_source=mUhtpg0LANTRd76OAeN1RQ&start=40:\n",
      "Scraped data from page 1\n",
      "Scraped data from page 2\n",
      "Scraped data from page 3\n",
      "Scraped data from page 4\n",
      "Scraped data from page 5\n"
     ]
    },
    {
     "name": "stderr",
     "output_type": "stream",
     "text": [
      "Scraping Restaurants:  42%|████▏     | 108/255 [58:18<1:08:19, 27.89s/it]"
     ]
    },
    {
     "name": "stdout",
     "output_type": "stream",
     "text": [
      "\n",
      "Results fetched for URL https://www.yelp.com/biz/bakersfield-detroit?adjust_creative=mUhtpg0LANTRd76OAeN1RQ&utm_campaign=yelp_api_v3&utm_medium=api_v3_business_search&utm_source=mUhtpg0LANTRd76OAeN1RQ&start=40:\n",
      "Scraped data from page 1\n",
      "Scraped data from page 2\n",
      "Scraped data from page 3\n",
      "Scraped data from page 4\n",
      "Scraped data from page 5\n"
     ]
    },
    {
     "name": "stderr",
     "output_type": "stream",
     "text": [
      "Scraping Restaurants:  43%|████▎     | 109/255 [58:48<1:08:55, 28.32s/it]"
     ]
    },
    {
     "name": "stdout",
     "output_type": "stream",
     "text": [
      "\n",
      "Results fetched for URL https://www.yelp.com/biz/johnny-noodle-king-detroit?adjust_creative=mUhtpg0LANTRd76OAeN1RQ&utm_campaign=yelp_api_v3&utm_medium=api_v3_business_search&utm_source=mUhtpg0LANTRd76OAeN1RQ&start=40:\n",
      "Scraped data from page 1\n",
      "Scraped data from page 2\n",
      "Scraped data from page 3\n",
      "Scraped data from page 4\n",
      "Scraped data from page 5\n"
     ]
    },
    {
     "name": "stderr",
     "output_type": "stream",
     "text": [
      "Scraping Restaurants:  43%|████▎     | 110/255 [59:15<1:07:35, 27.97s/it]"
     ]
    },
    {
     "name": "stdout",
     "output_type": "stream",
     "text": [
      "\n",
      "Results fetched for URL https://www.yelp.com/biz/johnny-noodle-king-detroit?adjust_creative=mUhtpg0LANTRd76OAeN1RQ&utm_campaign=yelp_api_v3&utm_medium=api_v3_business_search&utm_source=mUhtpg0LANTRd76OAeN1RQ&start=40:\n",
      "Scraped data from page 1\n",
      "Scraped data from page 2\n",
      "Scraped data from page 3\n",
      "Scraped data from page 4\n",
      "Scraped data from page 5\n"
     ]
    },
    {
     "name": "stderr",
     "output_type": "stream",
     "text": [
      "Scraping Restaurants:  44%|████▎     | 111/255 [59:44<1:07:46, 28.24s/it]"
     ]
    },
    {
     "name": "stdout",
     "output_type": "stream",
     "text": [
      "\n",
      "Results fetched for URL https://www.yelp.com/biz/rasika-washington?adjust_creative=mUhtpg0LANTRd76OAeN1RQ&utm_campaign=yelp_api_v3&utm_medium=api_v3_business_search&utm_source=mUhtpg0LANTRd76OAeN1RQ&start=40:\n",
      "Scraped data from page 1\n",
      "Scraped data from page 2\n",
      "Scraped data from page 3\n",
      "Scraped data from page 4\n",
      "Scraped data from page 5\n"
     ]
    },
    {
     "name": "stderr",
     "output_type": "stream",
     "text": [
      "Scraping Restaurants:  44%|████▍     | 112/255 [1:00:16<1:10:10, 29.44s/it]"
     ]
    },
    {
     "name": "stdout",
     "output_type": "stream",
     "text": [
      "\n",
      "Results fetched for URL https://www.yelp.com/biz/il-canale-washington-2?adjust_creative=mUhtpg0LANTRd76OAeN1RQ&utm_campaign=yelp_api_v3&utm_medium=api_v3_business_search&utm_source=mUhtpg0LANTRd76OAeN1RQ&start=40:\n",
      "Scraped data from page 1\n",
      "Scraped data from page 2\n",
      "Scraped data from page 3\n",
      "Scraped data from page 4\n",
      "Scraped data from page 5\n"
     ]
    },
    {
     "name": "stderr",
     "output_type": "stream",
     "text": [
      "Scraping Restaurants:  44%|████▍     | 113/255 [1:00:44<1:08:50, 29.09s/it]"
     ]
    },
    {
     "name": "stdout",
     "output_type": "stream",
     "text": [
      "\n",
      "Results fetched for URL https://www.yelp.com/biz/district-taco-washington-6?adjust_creative=mUhtpg0LANTRd76OAeN1RQ&utm_campaign=yelp_api_v3&utm_medium=api_v3_business_search&utm_source=mUhtpg0LANTRd76OAeN1RQ&start=40:\n",
      "Scraped data from page 1\n",
      "Scraped data from page 2\n",
      "Scraped data from page 3\n",
      "Scraped data from page 4\n",
      "Scraped data from page 5\n"
     ]
    },
    {
     "name": "stderr",
     "output_type": "stream",
     "text": [
      "Scraping Restaurants:  45%|████▍     | 114/255 [1:01:12<1:07:46, 28.84s/it]"
     ]
    },
    {
     "name": "stdout",
     "output_type": "stream",
     "text": [
      "\n",
      "Results fetched for URL https://www.yelp.com/biz/da-hong-pao-washington?adjust_creative=mUhtpg0LANTRd76OAeN1RQ&utm_campaign=yelp_api_v3&utm_medium=api_v3_business_search&utm_source=mUhtpg0LANTRd76OAeN1RQ&start=40:\n",
      "Scraped data from page 1\n",
      "Scraped data from page 2\n",
      "Scraped data from page 3\n",
      "Scraped data from page 4\n",
      "Scraped data from page 5\n"
     ]
    },
    {
     "name": "stderr",
     "output_type": "stream",
     "text": [
      "Scraping Restaurants:  45%|████▌     | 115/255 [1:01:43<1:08:44, 29.46s/it]"
     ]
    },
    {
     "name": "stdout",
     "output_type": "stream",
     "text": [
      "\n",
      "Results fetched for URL https://www.yelp.com/biz/daikaya-ramen-shop-washington-2?adjust_creative=mUhtpg0LANTRd76OAeN1RQ&utm_campaign=yelp_api_v3&utm_medium=api_v3_business_search&utm_source=mUhtpg0LANTRd76OAeN1RQ&start=40:\n",
      "Scraped data from page 1\n",
      "Scraped data from page 2\n",
      "Scraped data from page 3\n",
      "Scraped data from page 4\n",
      "Scraped data from page 5\n"
     ]
    },
    {
     "name": "stderr",
     "output_type": "stream",
     "text": [
      "Scraping Restaurants:  45%|████▌     | 116/255 [1:02:12<1:07:44, 29.24s/it]"
     ]
    },
    {
     "name": "stdout",
     "output_type": "stream",
     "text": [
      "\n",
      "Results fetched for URL https://www.yelp.com/biz/punjabi-dhaba-cambridge?adjust_creative=mUhtpg0LANTRd76OAeN1RQ&utm_campaign=yelp_api_v3&utm_medium=api_v3_business_search&utm_source=mUhtpg0LANTRd76OAeN1RQ&start=40:\n",
      "Scraped data from page 1\n",
      "Scraped data from page 2\n",
      "Scraped data from page 3\n",
      "Scraped data from page 4\n",
      "Scraped data from page 5\n"
     ]
    },
    {
     "name": "stderr",
     "output_type": "stream",
     "text": [
      "Scraping Restaurants:  46%|████▌     | 117/255 [1:02:43<1:08:24, 29.74s/it]"
     ]
    },
    {
     "name": "stdout",
     "output_type": "stream",
     "text": [
      "\n",
      "Results fetched for URL https://www.yelp.com/biz/giacomos-ristorante-boston-boston?adjust_creative=mUhtpg0LANTRd76OAeN1RQ&utm_campaign=yelp_api_v3&utm_medium=api_v3_business_search&utm_source=mUhtpg0LANTRd76OAeN1RQ&start=40:\n",
      "Scraped data from page 1\n",
      "Scraped data from page 2\n",
      "Scraped data from page 3\n",
      "Scraped data from page 4\n",
      "Scraped data from page 5\n"
     ]
    },
    {
     "name": "stderr",
     "output_type": "stream",
     "text": [
      "Scraping Restaurants:  46%|████▋     | 118/255 [1:03:11<1:06:53, 29.30s/it]"
     ]
    },
    {
     "name": "stdout",
     "output_type": "stream",
     "text": [
      "\n",
      "Results fetched for URL https://www.yelp.com/biz/lolita-cocina-and-tequila-bar-boston-4?adjust_creative=mUhtpg0LANTRd76OAeN1RQ&utm_campaign=yelp_api_v3&utm_medium=api_v3_business_search&utm_source=mUhtpg0LANTRd76OAeN1RQ&start=40:\n",
      "Scraped data from page 1\n",
      "Scraped data from page 2\n",
      "Scraped data from page 3\n",
      "Scraped data from page 4\n",
      "Scraped data from page 5\n"
     ]
    },
    {
     "name": "stderr",
     "output_type": "stream",
     "text": [
      "Scraping Restaurants:  47%|████▋     | 119/255 [1:03:39<1:05:08, 28.74s/it]"
     ]
    },
    {
     "name": "stdout",
     "output_type": "stream",
     "text": [
      "\n",
      "Results fetched for URL https://www.yelp.com/biz/q-restaurant-boston?adjust_creative=mUhtpg0LANTRd76OAeN1RQ&utm_campaign=yelp_api_v3&utm_medium=api_v3_business_search&utm_source=mUhtpg0LANTRd76OAeN1RQ&start=40:\n",
      "Scraped data from page 1\n",
      "Scraped data from page 2\n",
      "Scraped data from page 3\n",
      "Scraped data from page 4\n",
      "Scraped data from page 5\n"
     ]
    },
    {
     "name": "stderr",
     "output_type": "stream",
     "text": [
      "Scraping Restaurants:  47%|████▋     | 120/255 [1:04:07<1:04:17, 28.58s/it]"
     ]
    },
    {
     "name": "stdout",
     "output_type": "stream",
     "text": [
      "\n",
      "Results fetched for URL https://www.yelp.com/biz/douzo-boston?adjust_creative=mUhtpg0LANTRd76OAeN1RQ&utm_campaign=yelp_api_v3&utm_medium=api_v3_business_search&utm_source=mUhtpg0LANTRd76OAeN1RQ&start=40:\n",
      "Scraped data from page 1\n",
      "Scraped data from page 2\n",
      "Scraped data from page 3\n",
      "Scraped data from page 4\n",
      "Scraped data from page 5\n"
     ]
    },
    {
     "name": "stderr",
     "output_type": "stream",
     "text": [
      "Scraping Restaurants:  47%|████▋     | 121/255 [1:04:33<1:02:26, 27.96s/it]"
     ]
    },
    {
     "name": "stdout",
     "output_type": "stream",
     "text": [
      "\n",
      "Results fetched for URL https://www.yelp.com/biz/india-palace-memphis?adjust_creative=mUhtpg0LANTRd76OAeN1RQ&utm_campaign=yelp_api_v3&utm_medium=api_v3_business_search&utm_source=mUhtpg0LANTRd76OAeN1RQ&start=40:\n",
      "Scraped data from page 1\n",
      "Scraped data from page 2\n",
      "Scraped data from page 3\n",
      "Scraped data from page 4\n",
      "Scraped data from page 5\n"
     ]
    },
    {
     "name": "stderr",
     "output_type": "stream",
     "text": [
      "Scraping Restaurants:  48%|████▊     | 122/255 [1:05:02<1:02:38, 28.26s/it]"
     ]
    },
    {
     "name": "stdout",
     "output_type": "stream",
     "text": [
      "\n",
      "Results fetched for URL https://www.yelp.com/biz/aldos-pizza-pies-downtown-memphis?adjust_creative=mUhtpg0LANTRd76OAeN1RQ&utm_campaign=yelp_api_v3&utm_medium=api_v3_business_search&utm_source=mUhtpg0LANTRd76OAeN1RQ&start=40:\n",
      "Scraped data from page 1\n",
      "Scraped data from page 2\n",
      "Scraped data from page 3\n",
      "Scraped data from page 4\n",
      "Scraped data from page 5\n"
     ]
    },
    {
     "name": "stderr",
     "output_type": "stream",
     "text": [
      "Scraping Restaurants:  48%|████▊     | 123/255 [1:05:31<1:02:27, 28.39s/it]"
     ]
    },
    {
     "name": "stdout",
     "output_type": "stream",
     "text": [
      "\n",
      "Results fetched for URL https://www.yelp.com/biz/elwoods-shack-memphis?adjust_creative=mUhtpg0LANTRd76OAeN1RQ&utm_campaign=yelp_api_v3&utm_medium=api_v3_business_search&utm_source=mUhtpg0LANTRd76OAeN1RQ&start=40:\n",
      "Scraped data from page 1\n",
      "Scraped data from page 2\n",
      "Scraped data from page 3\n",
      "Scraped data from page 4\n",
      "Scraped data from page 5\n"
     ]
    },
    {
     "name": "stderr",
     "output_type": "stream",
     "text": [
      "Scraping Restaurants:  49%|████▊     | 124/255 [1:05:59<1:02:00, 28.40s/it]"
     ]
    },
    {
     "name": "stdout",
     "output_type": "stream",
     "text": [
      "\n",
      "Results fetched for URL https://www.yelp.com/biz/mulan-asian-bistro-memphis?adjust_creative=mUhtpg0LANTRd76OAeN1RQ&utm_campaign=yelp_api_v3&utm_medium=api_v3_business_search&utm_source=mUhtpg0LANTRd76OAeN1RQ&start=40:\n",
      "Scraped data from page 1\n",
      "Scraped data from page 2\n",
      "Scraped data from page 3\n",
      "Scraped data from page 4\n",
      "Scraped data from page 5\n"
     ]
    },
    {
     "name": "stderr",
     "output_type": "stream",
     "text": [
      "Scraping Restaurants:  49%|████▉     | 125/255 [1:06:28<1:01:18, 28.29s/it]"
     ]
    },
    {
     "name": "stdout",
     "output_type": "stream",
     "text": [
      "\n",
      "Results fetched for URL https://www.yelp.com/biz/robata-ramen-and-yakitori-bar-memphis?adjust_creative=mUhtpg0LANTRd76OAeN1RQ&utm_campaign=yelp_api_v3&utm_medium=api_v3_business_search&utm_source=mUhtpg0LANTRd76OAeN1RQ&start=40:\n",
      "Scraped data from page 1\n",
      "Scraped data from page 2\n",
      "Scraped data from page 3\n",
      "Scraped data from page 4\n",
      "Scraped data from page 5\n"
     ]
    },
    {
     "name": "stderr",
     "output_type": "stream",
     "text": [
      "Scraping Restaurants:  49%|████▉     | 126/255 [1:06:58<1:02:13, 28.94s/it]"
     ]
    },
    {
     "name": "stdout",
     "output_type": "stream",
     "text": [
      "\n",
      "Results fetched for URL https://www.yelp.com/biz/chauhan-ale-and-masala-house-nashville?adjust_creative=mUhtpg0LANTRd76OAeN1RQ&utm_campaign=yelp_api_v3&utm_medium=api_v3_business_search&utm_source=mUhtpg0LANTRd76OAeN1RQ&start=40:\n",
      "Scraped data from page 1\n",
      "Scraped data from page 2\n",
      "Scraped data from page 3\n",
      "Scraped data from page 4\n",
      "Scraped data from page 5\n"
     ]
    },
    {
     "name": "stderr",
     "output_type": "stream",
     "text": [
      "Scraping Restaurants:  50%|████▉     | 127/255 [1:07:26<1:00:59, 28.59s/it]"
     ]
    },
    {
     "name": "stdout",
     "output_type": "stream",
     "text": [
      "\n",
      "Results fetched for URL https://www.yelp.com/biz/city-house-nashville?adjust_creative=mUhtpg0LANTRd76OAeN1RQ&utm_campaign=yelp_api_v3&utm_medium=api_v3_business_search&utm_source=mUhtpg0LANTRd76OAeN1RQ&start=40:\n",
      "Scraped data from page 1\n",
      "Scraped data from page 2\n",
      "Scraped data from page 3\n",
      "Scraped data from page 4\n",
      "Scraped data from page 5\n"
     ]
    },
    {
     "name": "stderr",
     "output_type": "stream",
     "text": [
      "Scraping Restaurants:  50%|█████     | 128/255 [1:07:59<1:03:18, 29.91s/it]"
     ]
    },
    {
     "name": "stdout",
     "output_type": "stream",
     "text": [
      "\n",
      "Results fetched for URL https://www.yelp.com/biz/bartaco-nashville-nashville?adjust_creative=mUhtpg0LANTRd76OAeN1RQ&utm_campaign=yelp_api_v3&utm_medium=api_v3_business_search&utm_source=mUhtpg0LANTRd76OAeN1RQ&start=40:\n",
      "Scraped data from page 1\n",
      "Timed out waiting for the button to be present.\n",
      "Scraped data from page 2\n",
      "Timed out waiting for the button to be present.\n",
      "Scraped data from page 3\n",
      "Timed out waiting for the button to be present.\n",
      "Scraped data from page 4\n",
      "Timed out waiting for the button to be present.\n",
      "Scraped data from page 5\n"
     ]
    },
    {
     "name": "stderr",
     "output_type": "stream",
     "text": [
      "Scraping Restaurants:  51%|█████     | 129/255 [1:09:33<1:43:30, 49.29s/it]"
     ]
    },
    {
     "name": "stdout",
     "output_type": "stream",
     "text": [
      "Timed out waiting for the button to be present.\n",
      "\n",
      "Results fetched for URL https://www.yelp.com/biz/the-smiling-elephant-nashville?adjust_creative=mUhtpg0LANTRd76OAeN1RQ&utm_campaign=yelp_api_v3&utm_medium=api_v3_business_search&utm_source=mUhtpg0LANTRd76OAeN1RQ:\n",
      "Scraped data from page 1\n",
      "Scraped data from page 2\n",
      "Scraped data from page 3\n",
      "Scraped data from page 4\n",
      "Scraped data from page 5\n"
     ]
    },
    {
     "name": "stderr",
     "output_type": "stream",
     "text": [
      "Scraping Restaurants:  51%|█████     | 130/255 [1:10:05<1:31:51, 44.09s/it]"
     ]
    },
    {
     "name": "stdout",
     "output_type": "stream",
     "text": [
      "\n",
      "Results fetched for URL https://www.yelp.com/biz/two-ten-jack-nashville?adjust_creative=mUhtpg0LANTRd76OAeN1RQ&utm_campaign=yelp_api_v3&utm_medium=api_v3_business_search&utm_source=mUhtpg0LANTRd76OAeN1RQ&start=40:\n",
      "Scraped data from page 1\n",
      "Scraped data from page 2\n",
      "Scraped data from page 3\n",
      "Scraped data from page 4\n",
      "Scraped data from page 5\n"
     ]
    },
    {
     "name": "stderr",
     "output_type": "stream",
     "text": [
      "Scraping Restaurants:  51%|█████▏    | 131/255 [1:10:36<1:22:52, 40.10s/it]"
     ]
    },
    {
     "name": "stdout",
     "output_type": "stream",
     "text": [
      "\n",
      "Results fetched for URL https://www.yelp.com/biz/bollywood-theater-portland?adjust_creative=mUhtpg0LANTRd76OAeN1RQ&utm_campaign=yelp_api_v3&utm_medium=api_v3_business_search&utm_source=mUhtpg0LANTRd76OAeN1RQ&start=40:\n",
      "Scraped data from page 1\n",
      "Scraped data from page 2\n",
      "Scraped data from page 3\n",
      "Scraped data from page 4\n",
      "Scraped data from page 5\n"
     ]
    },
    {
     "name": "stderr",
     "output_type": "stream",
     "text": [
      "Scraping Restaurants:  52%|█████▏    | 132/255 [1:11:06<1:15:53, 37.02s/it]"
     ]
    },
    {
     "name": "stdout",
     "output_type": "stream",
     "text": [
      "\n",
      "Results fetched for URL https://www.yelp.com/biz/grassa-portland?adjust_creative=mUhtpg0LANTRd76OAeN1RQ&utm_campaign=yelp_api_v3&utm_medium=api_v3_business_search&utm_source=mUhtpg0LANTRd76OAeN1RQ&start=40:\n",
      "Scraped data from page 1\n",
      "Scraped data from page 2\n",
      "Scraped data from page 3\n",
      "Scraped data from page 4\n",
      "Scraped data from page 5\n"
     ]
    },
    {
     "name": "stderr",
     "output_type": "stream",
     "text": [
      "Scraping Restaurants:  52%|█████▏    | 133/255 [1:11:40<1:13:50, 36.32s/it]"
     ]
    },
    {
     "name": "stdout",
     "output_type": "stream",
     "text": [
      "\n",
      "Results fetched for URL https://www.yelp.com/biz/g%C3%BCero-portland?adjust_creative=mUhtpg0LANTRd76OAeN1RQ&utm_campaign=yelp_api_v3&utm_medium=api_v3_business_search&utm_source=mUhtpg0LANTRd76OAeN1RQ&start=40:\n",
      "Scraped data from page 1\n",
      "Scraped data from page 2\n",
      "Scraped data from page 3\n",
      "Scraped data from page 4\n",
      "Scraped data from page 5\n"
     ]
    },
    {
     "name": "stderr",
     "output_type": "stream",
     "text": [
      "Scraping Restaurants:  53%|█████▎    | 134/255 [1:12:16<1:12:28, 35.94s/it]"
     ]
    },
    {
     "name": "stdout",
     "output_type": "stream",
     "text": [
      "\n",
      "Results fetched for URL https://www.yelp.com/biz/duck-house-chinese-restaurant-portland?adjust_creative=mUhtpg0LANTRd76OAeN1RQ&utm_campaign=yelp_api_v3&utm_medium=api_v3_business_search&utm_source=mUhtpg0LANTRd76OAeN1RQ&start=40:\n",
      "Scraped data from page 1\n",
      "Scraped data from page 2\n",
      "Scraped data from page 3\n",
      "Scraped data from page 4\n",
      "Scraped data from page 5\n"
     ]
    },
    {
     "name": "stderr",
     "output_type": "stream",
     "text": [
      "Scraping Restaurants:  53%|█████▎    | 135/255 [1:12:45<1:07:59, 34.00s/it]"
     ]
    },
    {
     "name": "stdout",
     "output_type": "stream",
     "text": [
      "\n",
      "Results fetched for URL https://www.yelp.com/biz/afuri-izakaya-portland?adjust_creative=mUhtpg0LANTRd76OAeN1RQ&utm_campaign=yelp_api_v3&utm_medium=api_v3_business_search&utm_source=mUhtpg0LANTRd76OAeN1RQ&start=40:\n",
      "Scraped data from page 1\n",
      "Scraped data from page 2\n",
      "Scraped data from page 3\n",
      "Scraped data from page 4\n",
      "Scraped data from page 5\n"
     ]
    },
    {
     "name": "stderr",
     "output_type": "stream",
     "text": [
      "Scraping Restaurants:  53%|█████▎    | 136/255 [1:13:18<1:06:36, 33.59s/it]"
     ]
    },
    {
     "name": "stdout",
     "output_type": "stream",
     "text": [
      "\n",
      "Results fetched for URL https://www.yelp.com/biz/sheesh-mahal-oklahoma-city?adjust_creative=mUhtpg0LANTRd76OAeN1RQ&utm_campaign=yelp_api_v3&utm_medium=api_v3_business_search&utm_source=mUhtpg0LANTRd76OAeN1RQ&start=40:\n",
      "Scraped data from page 1\n",
      "Scraped data from page 2\n",
      "Scraped data from page 3\n",
      "Scraped data from page 4\n",
      "Scraped data from page 5\n"
     ]
    },
    {
     "name": "stderr",
     "output_type": "stream",
     "text": [
      "Scraping Restaurants:  54%|█████▎    | 137/255 [1:13:52<1:06:32, 33.83s/it]"
     ]
    },
    {
     "name": "stdout",
     "output_type": "stream",
     "text": [
      "\n",
      "Results fetched for URL https://www.yelp.com/biz/picasso-on-paseo-oklahoma-city?adjust_creative=mUhtpg0LANTRd76OAeN1RQ&utm_campaign=yelp_api_v3&utm_medium=api_v3_business_search&utm_source=mUhtpg0LANTRd76OAeN1RQ&start=40:\n",
      "Scraped data from page 1\n",
      "Scraped data from page 2\n",
      "Scraped data from page 3\n",
      "Scraped data from page 4\n",
      "Scraped data from page 5\n"
     ]
    },
    {
     "name": "stderr",
     "output_type": "stream",
     "text": [
      "Scraping Restaurants:  54%|█████▍    | 138/255 [1:14:37<1:12:28, 37.17s/it]"
     ]
    },
    {
     "name": "stdout",
     "output_type": "stream",
     "text": [
      "\n",
      "Results fetched for URL https://www.yelp.com/biz/barrios-fine-mexican-dishes-oklahoma-city?adjust_creative=mUhtpg0LANTRd76OAeN1RQ&utm_campaign=yelp_api_v3&utm_medium=api_v3_business_search&utm_source=mUhtpg0LANTRd76OAeN1RQ&start=40:\n",
      "Scraped data from page 1\n",
      "Scraped data from page 2\n",
      "Scraped data from page 3\n",
      "Scraped data from page 4\n",
      "Scraped data from page 5\n"
     ]
    },
    {
     "name": "stderr",
     "output_type": "stream",
     "text": [
      "Scraping Restaurants:  55%|█████▍    | 139/255 [1:15:11<1:10:00, 36.21s/it]"
     ]
    },
    {
     "name": "stdout",
     "output_type": "stream",
     "text": [
      "\n",
      "Results fetched for URL https://www.yelp.com/biz/grand-house-asian-bistro-oklahoma-city?adjust_creative=mUhtpg0LANTRd76OAeN1RQ&utm_campaign=yelp_api_v3&utm_medium=api_v3_business_search&utm_source=mUhtpg0LANTRd76OAeN1RQ&start=40:\n",
      "Scraped data from page 1\n",
      "Scraped data from page 2\n",
      "Scraped data from page 3\n",
      "Scraped data from page 4\n",
      "Scraped data from page 5\n"
     ]
    },
    {
     "name": "stderr",
     "output_type": "stream",
     "text": [
      "Scraping Restaurants:  55%|█████▍    | 140/255 [1:15:39<1:04:40, 33.75s/it]"
     ]
    },
    {
     "name": "stdout",
     "output_type": "stream",
     "text": [
      "\n",
      "Results fetched for URL https://www.yelp.com/biz/tamashii-ramen-oklahoma-city?adjust_creative=mUhtpg0LANTRd76OAeN1RQ&utm_campaign=yelp_api_v3&utm_medium=api_v3_business_search&utm_source=mUhtpg0LANTRd76OAeN1RQ&start=40:\n",
      "Scraped data from page 1\n",
      "Scraped data from page 2\n",
      "Scraped data from page 3\n",
      "Scraped data from page 4\n",
      "Scraped data from page 5\n"
     ]
    },
    {
     "name": "stderr",
     "output_type": "stream",
     "text": [
      "Scraping Restaurants:  55%|█████▌    | 141/255 [1:16:08<1:01:28, 32.36s/it]"
     ]
    },
    {
     "name": "stdout",
     "output_type": "stream",
     "text": [
      "\n",
      "Results fetched for URL https://www.yelp.com/biz/mt-everest-indias-cuisine-las-vegas-2?adjust_creative=mUhtpg0LANTRd76OAeN1RQ&utm_campaign=yelp_api_v3&utm_medium=api_v3_business_search&utm_source=mUhtpg0LANTRd76OAeN1RQ&start=40:\n",
      "Scraped data from page 1\n",
      "Scraped data from page 2\n",
      "Scraped data from page 3\n",
      "Scraped data from page 4\n",
      "Scraped data from page 5\n"
     ]
    },
    {
     "name": "stderr",
     "output_type": "stream",
     "text": [
      "Scraping Restaurants:  56%|█████▌    | 142/255 [1:16:36<58:27, 31.04s/it]  "
     ]
    },
    {
     "name": "stdout",
     "output_type": "stream",
     "text": [
      "\n",
      "Results fetched for URL https://www.yelp.com/biz/buddy-vs-ristorante-las-vegas-3?adjust_creative=mUhtpg0LANTRd76OAeN1RQ&utm_campaign=yelp_api_v3&utm_medium=api_v3_business_search&utm_source=mUhtpg0LANTRd76OAeN1RQ&start=40:\n",
      "Scraped data from page 1\n",
      "Scraped data from page 2\n",
      "Scraped data from page 3\n",
      "Scraped data from page 4\n",
      "Scraped data from page 5\n"
     ]
    },
    {
     "name": "stderr",
     "output_type": "stream",
     "text": [
      "Scraping Restaurants:  56%|█████▌    | 143/255 [1:17:06<57:06, 30.59s/it]"
     ]
    },
    {
     "name": "stdout",
     "output_type": "stream",
     "text": [
      "\n",
      "Results fetched for URL https://www.yelp.com/biz/nacho-daddy-las-vegas-7?adjust_creative=mUhtpg0LANTRd76OAeN1RQ&utm_campaign=yelp_api_v3&utm_medium=api_v3_business_search&utm_source=mUhtpg0LANTRd76OAeN1RQ&start=40:\n",
      "Scraped data from page 1\n",
      "Scraped data from page 2\n",
      "Scraped data from page 3\n",
      "Scraped data from page 4\n",
      "Scraped data from page 5\n"
     ]
    },
    {
     "name": "stderr",
     "output_type": "stream",
     "text": [
      "Scraping Restaurants:  56%|█████▋    | 144/255 [1:17:36<56:19, 30.44s/it]"
     ]
    },
    {
     "name": "stdout",
     "output_type": "stream",
     "text": [
      "\n",
      "Results fetched for URL https://www.yelp.com/biz/shang-artisan-noodle-las-vegas-8?adjust_creative=mUhtpg0LANTRd76OAeN1RQ&utm_campaign=yelp_api_v3&utm_medium=api_v3_business_search&utm_source=mUhtpg0LANTRd76OAeN1RQ&start=40:\n",
      "Scraped data from page 1\n",
      "Scraped data from page 2\n",
      "Scraped data from page 3\n",
      "Scraped data from page 4\n",
      "Scraped data from page 5\n"
     ]
    },
    {
     "name": "stderr",
     "output_type": "stream",
     "text": [
      "Scraping Restaurants:  57%|█████▋    | 145/255 [1:18:05<55:24, 30.23s/it]"
     ]
    },
    {
     "name": "stdout",
     "output_type": "stream",
     "text": [
      "\n",
      "Results fetched for URL https://www.yelp.com/biz/gangnam-asian-bbq-dining-las-vegas-2?adjust_creative=mUhtpg0LANTRd76OAeN1RQ&utm_campaign=yelp_api_v3&utm_medium=api_v3_business_search&utm_source=mUhtpg0LANTRd76OAeN1RQ&start=40:\n",
      "Scraped data from page 1\n",
      "Scraped data from page 2\n",
      "Scraped data from page 3\n",
      "Scraped data from page 4\n",
      "Scraped data from page 5\n"
     ]
    },
    {
     "name": "stderr",
     "output_type": "stream",
     "text": [
      "Scraping Restaurants:  57%|█████▋    | 146/255 [1:18:34<54:11, 29.83s/it]"
     ]
    },
    {
     "name": "stdout",
     "output_type": "stream",
     "text": [
      "\n",
      "Results fetched for URL https://www.yelp.com/biz/namaste-baltimore-baltimore?adjust_creative=mUhtpg0LANTRd76OAeN1RQ&utm_campaign=yelp_api_v3&utm_medium=api_v3_business_search&utm_source=mUhtpg0LANTRd76OAeN1RQ&start=40:\n",
      "Scraped data from page 1\n",
      "Scraped data from page 2\n",
      "Scraped data from page 3\n",
      "Scraped data from page 4\n",
      "Scraped data from page 5\n"
     ]
    },
    {
     "name": "stderr",
     "output_type": "stream",
     "text": [
      "Scraping Restaurants:  58%|█████▊    | 147/255 [1:19:03<53:07, 29.52s/it]"
     ]
    },
    {
     "name": "stdout",
     "output_type": "stream",
     "text": [
      "\n",
      "Results fetched for URL https://www.yelp.com/biz/amiccis-baltimore?adjust_creative=mUhtpg0LANTRd76OAeN1RQ&utm_campaign=yelp_api_v3&utm_medium=api_v3_business_search&utm_source=mUhtpg0LANTRd76OAeN1RQ&start=40:\n",
      "Scraped data from page 1\n",
      "Scraped data from page 2\n",
      "Scraped data from page 3\n",
      "Scraped data from page 4\n",
      "Scraped data from page 5\n"
     ]
    },
    {
     "name": "stderr",
     "output_type": "stream",
     "text": [
      "Scraping Restaurants:  58%|█████▊    | 148/255 [1:19:33<52:35, 29.49s/it]"
     ]
    },
    {
     "name": "stdout",
     "output_type": "stream",
     "text": [
      "\n",
      "Results fetched for URL https://www.yelp.com/biz/clavel-baltimore?adjust_creative=mUhtpg0LANTRd76OAeN1RQ&utm_campaign=yelp_api_v3&utm_medium=api_v3_business_search&utm_source=mUhtpg0LANTRd76OAeN1RQ&start=40:\n",
      "Scraped data from page 1\n",
      "Scraped data from page 2\n",
      "Scraped data from page 3\n",
      "Scraped data from page 4\n",
      "Scraped data from page 5\n"
     ]
    },
    {
     "name": "stderr",
     "output_type": "stream",
     "text": [
      "Scraping Restaurants:  58%|█████▊    | 149/255 [1:20:01<51:24, 29.10s/it]"
     ]
    },
    {
     "name": "stdout",
     "output_type": "stream",
     "text": [
      "\n",
      "Results fetched for URL https://www.yelp.com/biz/ja-kum-sung-glen-burnie?adjust_creative=mUhtpg0LANTRd76OAeN1RQ&utm_campaign=yelp_api_v3&utm_medium=api_v3_business_search&utm_source=mUhtpg0LANTRd76OAeN1RQ&start=40:\n",
      "Scraped data from page 1\n",
      "Scraped data from page 2\n",
      "Scraped data from page 3\n",
      "Scraped data from page 4\n",
      "Scraped data from page 5\n"
     ]
    },
    {
     "name": "stderr",
     "output_type": "stream",
     "text": [
      "Scraping Restaurants:  59%|█████▉    | 150/255 [1:20:29<50:39, 28.95s/it]"
     ]
    },
    {
     "name": "stdout",
     "output_type": "stream",
     "text": [
      "\n",
      "Results fetched for URL https://www.yelp.com/biz/shoyou-sushi-baltimore?adjust_creative=mUhtpg0LANTRd76OAeN1RQ&utm_campaign=yelp_api_v3&utm_medium=api_v3_business_search&utm_source=mUhtpg0LANTRd76OAeN1RQ&start=40:\n",
      "Scraped data from page 1\n",
      "Scraped data from page 2\n",
      "Scraped data from page 3\n",
      "Scraped data from page 4\n",
      "Scraped data from page 5\n"
     ]
    },
    {
     "name": "stderr",
     "output_type": "stream",
     "text": [
      "Scraping Restaurants:  59%|█████▉    | 151/255 [1:20:59<50:28, 29.12s/it]"
     ]
    },
    {
     "name": "stdout",
     "output_type": "stream",
     "text": [
      "\n",
      "Results fetched for URL https://www.yelp.com/biz/shalimar-indian-restaurant-louisville?adjust_creative=mUhtpg0LANTRd76OAeN1RQ&utm_campaign=yelp_api_v3&utm_medium=api_v3_business_search&utm_source=mUhtpg0LANTRd76OAeN1RQ&start=40:\n",
      "Scraped data from page 1\n",
      "Scraped data from page 2\n",
      "Scraped data from page 3\n",
      "Scraped data from page 4\n",
      "Scraped data from page 5\n"
     ]
    },
    {
     "name": "stderr",
     "output_type": "stream",
     "text": [
      "Scraping Restaurants:  60%|█████▉    | 152/255 [1:21:24<47:50, 27.87s/it]"
     ]
    },
    {
     "name": "stdout",
     "output_type": "stream",
     "text": [
      "\n",
      "Results fetched for URL https://www.yelp.com/biz/the-old-spaghetti-factory-louisville?adjust_creative=mUhtpg0LANTRd76OAeN1RQ&utm_campaign=yelp_api_v3&utm_medium=api_v3_business_search&utm_source=mUhtpg0LANTRd76OAeN1RQ&start=40:\n",
      "Scraped data from page 1\n",
      "Scraped data from page 2\n",
      "Scraped data from page 3\n",
      "Scraped data from page 4\n",
      "Scraped data from page 5\n"
     ]
    },
    {
     "name": "stderr",
     "output_type": "stream",
     "text": [
      "Scraping Restaurants:  60%|██████    | 153/255 [1:21:52<47:43, 28.07s/it]"
     ]
    },
    {
     "name": "stdout",
     "output_type": "stream",
     "text": [
      "\n",
      "Results fetched for URL https://www.yelp.com/biz/mayan-cafe-louisville?adjust_creative=mUhtpg0LANTRd76OAeN1RQ&utm_campaign=yelp_api_v3&utm_medium=api_v3_business_search&utm_source=mUhtpg0LANTRd76OAeN1RQ&start=40:\n",
      "Scraped data from page 1\n",
      "Scraped data from page 2\n",
      "Scraped data from page 3\n",
      "Scraped data from page 4\n",
      "Scraped data from page 5\n"
     ]
    },
    {
     "name": "stderr",
     "output_type": "stream",
     "text": [
      "Scraping Restaurants:  60%|██████    | 154/255 [1:22:19<46:40, 27.73s/it]"
     ]
    },
    {
     "name": "stdout",
     "output_type": "stream",
     "text": [
      "\n",
      "Results fetched for URL https://www.yelp.com/biz/simply-thai-louisville?adjust_creative=mUhtpg0LANTRd76OAeN1RQ&utm_campaign=yelp_api_v3&utm_medium=api_v3_business_search&utm_source=mUhtpg0LANTRd76OAeN1RQ&start=40:\n",
      "Scraped data from page 1\n",
      "Scraped data from page 2\n",
      "Scraped data from page 3\n",
      "Scraped data from page 4\n",
      "Scraped data from page 5\n"
     ]
    },
    {
     "name": "stderr",
     "output_type": "stream",
     "text": [
      "Scraping Restaurants:  61%|██████    | 155/255 [1:22:48<46:51, 28.12s/it]"
     ]
    },
    {
     "name": "stdout",
     "output_type": "stream",
     "text": [
      "\n",
      "Results fetched for URL https://www.yelp.com/biz/dragon-kings-daughter-louisville?adjust_creative=mUhtpg0LANTRd76OAeN1RQ&utm_campaign=yelp_api_v3&utm_medium=api_v3_business_search&utm_source=mUhtpg0LANTRd76OAeN1RQ&start=40:\n",
      "Scraped data from page 1\n",
      "Scraped data from page 2\n",
      "Scraped data from page 3\n",
      "Scraped data from page 4\n",
      "Scraped data from page 5\n"
     ]
    },
    {
     "name": "stderr",
     "output_type": "stream",
     "text": [
      "Scraping Restaurants:  61%|██████    | 156/255 [1:23:20<47:57, 29.06s/it]"
     ]
    },
    {
     "name": "stdout",
     "output_type": "stream",
     "text": [
      "\n",
      "Results fetched for URL https://www.yelp.com/biz/india-garden-wauwatosa?adjust_creative=mUhtpg0LANTRd76OAeN1RQ&utm_campaign=yelp_api_v3&utm_medium=api_v3_business_search&utm_source=mUhtpg0LANTRd76OAeN1RQ&start=40:\n",
      "Scraped data from page 1\n",
      "Scraped data from page 2\n",
      "Scraped data from page 3\n",
      "Scraped data from page 4\n",
      "Scraped data from page 5\n"
     ]
    },
    {
     "name": "stderr",
     "output_type": "stream",
     "text": [
      "Scraping Restaurants:  62%|██████▏   | 157/255 [1:23:48<46:59, 28.77s/it]"
     ]
    },
    {
     "name": "stdout",
     "output_type": "stream",
     "text": [
      "\n",
      "Results fetched for URL https://www.yelp.com/biz/onesto-milwaukee?adjust_creative=mUhtpg0LANTRd76OAeN1RQ&utm_campaign=yelp_api_v3&utm_medium=api_v3_business_search&utm_source=mUhtpg0LANTRd76OAeN1RQ&start=40:\n",
      "Scraped data from page 1\n",
      "Scraped data from page 2\n",
      "Scraped data from page 3\n",
      "Scraped data from page 4\n",
      "Scraped data from page 5\n"
     ]
    },
    {
     "name": "stderr",
     "output_type": "stream",
     "text": [
      "Scraping Restaurants:  62%|██████▏   | 158/255 [1:24:16<46:11, 28.57s/it]"
     ]
    },
    {
     "name": "stdout",
     "output_type": "stream",
     "text": [
      "\n",
      "Results fetched for URL https://www.yelp.com/biz/caf%C3%A9-coraz%C3%B3n-milwaukee-3?adjust_creative=mUhtpg0LANTRd76OAeN1RQ&utm_campaign=yelp_api_v3&utm_medium=api_v3_business_search&utm_source=mUhtpg0LANTRd76OAeN1RQ&start=40:\n",
      "Scraped data from page 1\n",
      "Scraped data from page 2\n",
      "Scraped data from page 3\n",
      "Scraped data from page 4\n",
      "Scraped data from page 5\n"
     ]
    },
    {
     "name": "stderr",
     "output_type": "stream",
     "text": [
      "Scraping Restaurants:  62%|██████▏   | 159/255 [1:24:43<45:13, 28.27s/it]"
     ]
    },
    {
     "name": "stdout",
     "output_type": "stream",
     "text": [
      "\n",
      "Results fetched for URL https://www.yelp.com/biz/dandan-milwaukee?adjust_creative=mUhtpg0LANTRd76OAeN1RQ&utm_campaign=yelp_api_v3&utm_medium=api_v3_business_search&utm_source=mUhtpg0LANTRd76OAeN1RQ&start=40:\n",
      "Scraped data from page 1\n",
      "Scraped data from page 2\n",
      "Scraped data from page 3\n",
      "Scraped data from page 4\n",
      "Scraped data from page 5\n"
     ]
    },
    {
     "name": "stderr",
     "output_type": "stream",
     "text": [
      "Scraping Restaurants:  63%|██████▎   | 160/255 [1:25:13<45:26, 28.70s/it]"
     ]
    },
    {
     "name": "stdout",
     "output_type": "stream",
     "text": [
      "\n",
      "Results fetched for URL https://www.yelp.com/biz/kyoto-greenfield?adjust_creative=mUhtpg0LANTRd76OAeN1RQ&utm_campaign=yelp_api_v3&utm_medium=api_v3_business_search&utm_source=mUhtpg0LANTRd76OAeN1RQ&start=40:\n",
      "Scraped data from page 1\n",
      "Scraped data from page 2\n",
      "Scraped data from page 3\n",
      "Scraped data from page 4\n",
      "Scraped data from page 5\n"
     ]
    },
    {
     "name": "stderr",
     "output_type": "stream",
     "text": [
      "Scraping Restaurants:  63%|██████▎   | 161/255 [1:25:39<43:37, 27.84s/it]"
     ]
    },
    {
     "name": "stdout",
     "output_type": "stream",
     "text": [
      "\n",
      "Results fetched for URL https://www.yelp.com/biz/curry-leaf-albuquerque?adjust_creative=mUhtpg0LANTRd76OAeN1RQ&utm_campaign=yelp_api_v3&utm_medium=api_v3_business_search&utm_source=mUhtpg0LANTRd76OAeN1RQ&start=40:\n",
      "Scraped data from page 1\n",
      "Scraped data from page 2\n",
      "Scraped data from page 3\n",
      "Scraped data from page 4\n",
      "Scraped data from page 5\n"
     ]
    },
    {
     "name": "stderr",
     "output_type": "stream",
     "text": [
      "Scraping Restaurants:  64%|██████▎   | 162/255 [1:26:07<43:27, 28.04s/it]"
     ]
    },
    {
     "name": "stdout",
     "output_type": "stream",
     "text": [
      "\n",
      "Results fetched for URL https://www.yelp.com/biz/farina-pizzeria-and-wine-bar-albuquerque-2?adjust_creative=mUhtpg0LANTRd76OAeN1RQ&utm_campaign=yelp_api_v3&utm_medium=api_v3_business_search&utm_source=mUhtpg0LANTRd76OAeN1RQ&start=40:\n",
      "Scraped data from page 1\n",
      "Scraped data from page 2\n",
      "Scraped data from page 3\n",
      "Scraped data from page 4\n",
      "Scraped data from page 5\n"
     ]
    },
    {
     "name": "stderr",
     "output_type": "stream",
     "text": [
      "Scraping Restaurants:  64%|██████▍   | 163/255 [1:26:32<41:35, 27.13s/it]"
     ]
    },
    {
     "name": "stdout",
     "output_type": "stream",
     "text": [
      "\n",
      "Results fetched for URL https://www.yelp.com/biz/the-original-cocina-azul-mountain-albuquerque?adjust_creative=mUhtpg0LANTRd76OAeN1RQ&utm_campaign=yelp_api_v3&utm_medium=api_v3_business_search&utm_source=mUhtpg0LANTRd76OAeN1RQ&start=40:\n",
      "Scraped data from page 1\n",
      "Scraped data from page 2\n",
      "Scraped data from page 3\n",
      "Scraped data from page 4\n",
      "Scraped data from page 5\n"
     ]
    },
    {
     "name": "stderr",
     "output_type": "stream",
     "text": [
      "Scraping Restaurants:  64%|██████▍   | 164/255 [1:27:02<42:10, 27.81s/it]"
     ]
    },
    {
     "name": "stdout",
     "output_type": "stream",
     "text": [
      "\n",
      "Results fetched for URL https://www.yelp.com/biz/fan-tang-albuquerque?adjust_creative=mUhtpg0LANTRd76OAeN1RQ&utm_campaign=yelp_api_v3&utm_medium=api_v3_business_search&utm_source=mUhtpg0LANTRd76OAeN1RQ&start=40:\n",
      "Scraped data from page 1\n",
      "Scraped data from page 2\n",
      "Scraped data from page 3\n",
      "Scraped data from page 4\n",
      "Scraped data from page 5\n"
     ]
    },
    {
     "name": "stderr",
     "output_type": "stream",
     "text": [
      "Scraping Restaurants:  65%|██████▍   | 165/255 [1:27:27<40:41, 27.12s/it]"
     ]
    },
    {
     "name": "stdout",
     "output_type": "stream",
     "text": [
      "\n",
      "Results fetched for URL https://www.yelp.com/biz/o-ramen-and-curry-house-albuquerque?adjust_creative=mUhtpg0LANTRd76OAeN1RQ&utm_campaign=yelp_api_v3&utm_medium=api_v3_business_search&utm_source=mUhtpg0LANTRd76OAeN1RQ&start=40:\n",
      "Scraped data from page 1\n",
      "Scraped data from page 2\n",
      "Scraped data from page 3\n",
      "Scraped data from page 4\n",
      "Scraped data from page 5\n"
     ]
    },
    {
     "name": "stderr",
     "output_type": "stream",
     "text": [
      "Scraping Restaurants:  65%|██████▌   | 166/255 [1:27:57<41:25, 27.93s/it]"
     ]
    },
    {
     "name": "stdout",
     "output_type": "stream",
     "text": [
      "\n",
      "Results fetched for URL https://www.yelp.com/biz/saffron-indian-bistro-oro-valley?adjust_creative=mUhtpg0LANTRd76OAeN1RQ&utm_campaign=yelp_api_v3&utm_medium=api_v3_business_search&utm_source=mUhtpg0LANTRd76OAeN1RQ&start=40:\n",
      "Scraped data from page 1\n",
      "Scraped data from page 2\n",
      "Scraped data from page 3\n",
      "Scraped data from page 4\n",
      "Scraped data from page 5\n"
     ]
    },
    {
     "name": "stderr",
     "output_type": "stream",
     "text": [
      "Scraping Restaurants:  65%|██████▌   | 167/255 [1:28:23<40:15, 27.44s/it]"
     ]
    },
    {
     "name": "stdout",
     "output_type": "stream",
     "text": [
      "\n",
      "Results fetched for URL https://www.yelp.com/biz/north-italia-tucson?adjust_creative=mUhtpg0LANTRd76OAeN1RQ&utm_campaign=yelp_api_v3&utm_medium=api_v3_business_search&utm_source=mUhtpg0LANTRd76OAeN1RQ&start=40:\n",
      "Scraped data from page 1\n",
      "Scraped data from page 2\n",
      "Scraped data from page 3\n",
      "Scraped data from page 4\n",
      "Scraped data from page 5\n"
     ]
    },
    {
     "name": "stderr",
     "output_type": "stream",
     "text": [
      "Scraping Restaurants:  66%|██████▌   | 168/255 [1:28:51<40:03, 27.63s/it]"
     ]
    },
    {
     "name": "stdout",
     "output_type": "stream",
     "text": [
      "\n",
      "Results fetched for URL https://www.yelp.com/biz/charro-steak-and-del-rey-tucson?adjust_creative=mUhtpg0LANTRd76OAeN1RQ&utm_campaign=yelp_api_v3&utm_medium=api_v3_business_search&utm_source=mUhtpg0LANTRd76OAeN1RQ&start=40:\n",
      "Scraped data from page 1\n",
      "Scraped data from page 2\n",
      "Scraped data from page 3\n",
      "Scraped data from page 4\n",
      "Scraped data from page 5\n"
     ]
    },
    {
     "name": "stderr",
     "output_type": "stream",
     "text": [
      "Scraping Restaurants:  66%|██████▋   | 169/255 [1:29:19<39:44, 27.72s/it]"
     ]
    },
    {
     "name": "stdout",
     "output_type": "stream",
     "text": [
      "\n",
      "Results fetched for URL https://www.yelp.com/biz/jun-dynasty-chinese-restaurant-tucson-2?adjust_creative=mUhtpg0LANTRd76OAeN1RQ&utm_campaign=yelp_api_v3&utm_medium=api_v3_business_search&utm_source=mUhtpg0LANTRd76OAeN1RQ&start=40:\n",
      "Scraped data from page 1\n",
      "Scraped data from page 2\n",
      "Scraped data from page 3\n",
      "Scraped data from page 4\n",
      "Scraped data from page 5\n"
     ]
    },
    {
     "name": "stderr",
     "output_type": "stream",
     "text": [
      "Scraping Restaurants:  67%|██████▋   | 170/255 [1:29:45<38:31, 27.19s/it]"
     ]
    },
    {
     "name": "stdout",
     "output_type": "stream",
     "text": [
      "\n",
      "Results fetched for URL https://www.yelp.com/biz/obon-sushi-bar-ramen-tucson-2?adjust_creative=mUhtpg0LANTRd76OAeN1RQ&utm_campaign=yelp_api_v3&utm_medium=api_v3_business_search&utm_source=mUhtpg0LANTRd76OAeN1RQ&start=40:\n",
      "Scraped data from page 1\n",
      "Scraped data from page 2\n",
      "Scraped data from page 3\n",
      "Scraped data from page 4\n",
      "Scraped data from page 5\n"
     ]
    },
    {
     "name": "stderr",
     "output_type": "stream",
     "text": [
      "Scraping Restaurants:  67%|██████▋   | 171/255 [1:30:13<38:14, 27.32s/it]"
     ]
    },
    {
     "name": "stdout",
     "output_type": "stream",
     "text": [
      "\n",
      "Results fetched for URL https://www.yelp.com/biz/indian-kebab-palace-fresno?adjust_creative=mUhtpg0LANTRd76OAeN1RQ&utm_campaign=yelp_api_v3&utm_medium=api_v3_business_search&utm_source=mUhtpg0LANTRd76OAeN1RQ&start=40:\n",
      "Scraped data from page 1\n",
      "Scraped data from page 2\n",
      "Scraped data from page 3\n",
      "Scraped data from page 4\n",
      "Scraped data from page 5\n"
     ]
    },
    {
     "name": "stderr",
     "output_type": "stream",
     "text": [
      "Scraping Restaurants:  67%|██████▋   | 172/255 [1:30:40<37:44, 27.28s/it]"
     ]
    },
    {
     "name": "stdout",
     "output_type": "stream",
     "text": [
      "\n",
      "Results fetched for URL https://www.yelp.com/biz/the-annex-kitchen-fresno-2?adjust_creative=mUhtpg0LANTRd76OAeN1RQ&utm_campaign=yelp_api_v3&utm_medium=api_v3_business_search&utm_source=mUhtpg0LANTRd76OAeN1RQ&start=40:\n",
      "Scraped data from page 1\n",
      "Scraped data from page 2\n",
      "Scraped data from page 3\n",
      "Scraped data from page 4\n",
      "Scraped data from page 5\n"
     ]
    },
    {
     "name": "stderr",
     "output_type": "stream",
     "text": [
      "Scraping Restaurants:  68%|██████▊   | 173/255 [1:31:07<37:02, 27.11s/it]"
     ]
    },
    {
     "name": "stdout",
     "output_type": "stream",
     "text": [
      "\n",
      "Results fetched for URL https://www.yelp.com/biz/el-patio-restaurant-fresno?adjust_creative=mUhtpg0LANTRd76OAeN1RQ&utm_campaign=yelp_api_v3&utm_medium=api_v3_business_search&utm_source=mUhtpg0LANTRd76OAeN1RQ&start=40:\n",
      "Scraped data from page 1\n",
      "Scraped data from page 2\n",
      "Scraped data from page 3\n",
      "Scraped data from page 4\n",
      "Scraped data from page 5\n"
     ]
    },
    {
     "name": "stderr",
     "output_type": "stream",
     "text": [
      "Scraping Restaurants:  68%|██████▊   | 174/255 [1:31:36<37:15, 27.60s/it]"
     ]
    },
    {
     "name": "stdout",
     "output_type": "stream",
     "text": [
      "\n",
      "Results fetched for URL https://www.yelp.com/biz/noodle-q-home-style-fresh-noodles-fresno-3?adjust_creative=mUhtpg0LANTRd76OAeN1RQ&utm_campaign=yelp_api_v3&utm_medium=api_v3_business_search&utm_source=mUhtpg0LANTRd76OAeN1RQ&start=40:\n",
      "Scraped data from page 1\n",
      "Scraped data from page 2\n",
      "Scraped data from page 3\n",
      "Scraped data from page 4\n",
      "Scraped data from page 5\n"
     ]
    },
    {
     "name": "stderr",
     "output_type": "stream",
     "text": [
      "Scraping Restaurants:  69%|██████▊   | 175/255 [1:32:05<37:33, 28.17s/it]"
     ]
    },
    {
     "name": "stdout",
     "output_type": "stream",
     "text": [
      "\n",
      "Results fetched for URL https://www.yelp.com/biz/hino-oishi-fresno?adjust_creative=mUhtpg0LANTRd76OAeN1RQ&utm_campaign=yelp_api_v3&utm_medium=api_v3_business_search&utm_source=mUhtpg0LANTRd76OAeN1RQ&start=40:\n",
      "Scraped data from page 1\n",
      "Scraped data from page 2\n",
      "Scraped data from page 3\n",
      "Scraped data from page 4\n",
      "Scraped data from page 5\n"
     ]
    },
    {
     "name": "stderr",
     "output_type": "stream",
     "text": [
      "Scraping Restaurants:  69%|██████▉   | 176/255 [1:32:31<36:19, 27.58s/it]"
     ]
    },
    {
     "name": "stdout",
     "output_type": "stream",
     "text": [
      "\n",
      "Results fetched for URL https://www.yelp.com/biz/bombay-bar-and-grill-sacramento?adjust_creative=mUhtpg0LANTRd76OAeN1RQ&utm_campaign=yelp_api_v3&utm_medium=api_v3_business_search&utm_source=mUhtpg0LANTRd76OAeN1RQ&start=40:\n",
      "Scraped data from page 1\n",
      "Scraped data from page 2\n",
      "Scraped data from page 3\n",
      "Scraped data from page 4\n",
      "Scraped data from page 5\n"
     ]
    },
    {
     "name": "stderr",
     "output_type": "stream",
     "text": [
      "Scraping Restaurants:  69%|██████▉   | 177/255 [1:32:58<35:28, 27.28s/it]"
     ]
    },
    {
     "name": "stdout",
     "output_type": "stream",
     "text": [
      "\n",
      "Results fetched for URL https://www.yelp.com/biz/paesanos-sacramento?adjust_creative=mUhtpg0LANTRd76OAeN1RQ&utm_campaign=yelp_api_v3&utm_medium=api_v3_business_search&utm_source=mUhtpg0LANTRd76OAeN1RQ&start=40:\n",
      "Scraped data from page 1\n",
      "Scraped data from page 2\n",
      "Scraped data from page 3\n",
      "Scraped data from page 4\n",
      "Scraped data from page 5\n"
     ]
    },
    {
     "name": "stderr",
     "output_type": "stream",
     "text": [
      "Scraping Restaurants:  70%|██████▉   | 178/255 [1:33:25<34:57, 27.24s/it]"
     ]
    },
    {
     "name": "stdout",
     "output_type": "stream",
     "text": [
      "\n",
      "Results fetched for URL https://www.yelp.com/biz/tres-hermanas-sacramento-4?adjust_creative=mUhtpg0LANTRd76OAeN1RQ&utm_campaign=yelp_api_v3&utm_medium=api_v3_business_search&utm_source=mUhtpg0LANTRd76OAeN1RQ&start=40:\n",
      "Scraped data from page 1\n",
      "Scraped data from page 2\n",
      "Scraped data from page 3\n",
      "Scraped data from page 4\n",
      "Scraped data from page 5\n"
     ]
    },
    {
     "name": "stderr",
     "output_type": "stream",
     "text": [
      "Scraping Restaurants:  70%|███████   | 179/255 [1:33:54<35:16, 27.85s/it]"
     ]
    },
    {
     "name": "stdout",
     "output_type": "stream",
     "text": [
      "\n",
      "Results fetched for URL https://www.yelp.com/biz/yue-huang-sacramento-2?adjust_creative=mUhtpg0LANTRd76OAeN1RQ&utm_campaign=yelp_api_v3&utm_medium=api_v3_business_search&utm_source=mUhtpg0LANTRd76OAeN1RQ&start=40:\n",
      "Scraped data from page 1\n",
      "Scraped data from page 2\n",
      "Scraped data from page 3\n",
      "Scraped data from page 4\n",
      "Scraped data from page 5\n"
     ]
    },
    {
     "name": "stderr",
     "output_type": "stream",
     "text": [
      "Scraping Restaurants:  71%|███████   | 180/255 [1:34:25<36:01, 28.81s/it]"
     ]
    },
    {
     "name": "stdout",
     "output_type": "stream",
     "text": [
      "\n",
      "Results fetched for URL https://www.yelp.com/biz/ramen-house-ryujin-sacramento?adjust_creative=mUhtpg0LANTRd76OAeN1RQ&utm_campaign=yelp_api_v3&utm_medium=api_v3_business_search&utm_source=mUhtpg0LANTRd76OAeN1RQ&start=40:\n",
      "Scraped data from page 1\n",
      "Scraped data from page 2\n",
      "Scraped data from page 3\n",
      "Scraped data from page 4\n",
      "Scraped data from page 5\n"
     ]
    },
    {
     "name": "stderr",
     "output_type": "stream",
     "text": [
      "Scraping Restaurants:  71%|███████   | 181/255 [1:34:54<35:23, 28.70s/it]"
     ]
    },
    {
     "name": "stdout",
     "output_type": "stream",
     "text": [
      "\n",
      "Results fetched for URL https://www.yelp.com/biz/moti-mahal-kansas-city-2?adjust_creative=mUhtpg0LANTRd76OAeN1RQ&utm_campaign=yelp_api_v3&utm_medium=api_v3_business_search&utm_source=mUhtpg0LANTRd76OAeN1RQ&start=40:\n",
      "Scraped data from page 1\n",
      "Scraped data from page 2\n",
      "Scraped data from page 3\n",
      "Scraped data from page 4\n",
      "Scraped data from page 5\n"
     ]
    },
    {
     "name": "stderr",
     "output_type": "stream",
     "text": [
      "Scraping Restaurants:  71%|███████▏  | 182/255 [1:35:20<34:02, 27.97s/it]"
     ]
    },
    {
     "name": "stdout",
     "output_type": "stream",
     "text": [
      "\n",
      "Results fetched for URL https://www.yelp.com/biz/lidias-kansas-city?adjust_creative=mUhtpg0LANTRd76OAeN1RQ&utm_campaign=yelp_api_v3&utm_medium=api_v3_business_search&utm_source=mUhtpg0LANTRd76OAeN1RQ&start=40:\n",
      "Scraped data from page 1\n",
      "Scraped data from page 2\n",
      "Scraped data from page 3\n",
      "Scraped data from page 4\n",
      "Scraped data from page 5\n"
     ]
    },
    {
     "name": "stderr",
     "output_type": "stream",
     "text": [
      "Scraping Restaurants:  72%|███████▏  | 183/255 [1:35:53<35:21, 29.47s/it]"
     ]
    },
    {
     "name": "stdout",
     "output_type": "stream",
     "text": [
      "\n",
      "Results fetched for URL https://www.yelp.com/biz/mission-taco-joint-east-crossroads-kansas-city-3?adjust_creative=mUhtpg0LANTRd76OAeN1RQ&utm_campaign=yelp_api_v3&utm_medium=api_v3_business_search&utm_source=mUhtpg0LANTRd76OAeN1RQ&start=40:\n",
      "Scraped data from page 1\n",
      "Timed out waiting for the button to be present.\n",
      "Scraped data from page 2\n",
      "Timed out waiting for the button to be present.\n",
      "Scraped data from page 3\n",
      "Timed out waiting for the button to be present.\n",
      "Scraped data from page 4\n",
      "Timed out waiting for the button to be present.\n",
      "Scraped data from page 5\n"
     ]
    },
    {
     "name": "stderr",
     "output_type": "stream",
     "text": [
      "Scraping Restaurants:  72%|███████▏  | 184/255 [1:37:24<56:50, 48.03s/it]"
     ]
    },
    {
     "name": "stdout",
     "output_type": "stream",
     "text": [
      "Timed out waiting for the button to be present.\n",
      "\n",
      "Results fetched for URL https://www.yelp.com/biz/boru-asian-eatery-kansas-city?adjust_creative=mUhtpg0LANTRd76OAeN1RQ&utm_campaign=yelp_api_v3&utm_medium=api_v3_business_search&utm_source=mUhtpg0LANTRd76OAeN1RQ:\n",
      "Scraped data from page 1\n",
      "Scraped data from page 2\n",
      "Scraped data from page 3\n",
      "Scraped data from page 4\n",
      "Scraped data from page 5\n"
     ]
    },
    {
     "name": "stderr",
     "output_type": "stream",
     "text": [
      "Scraping Restaurants:  73%|███████▎  | 185/255 [1:37:52<49:00, 42.00s/it]"
     ]
    },
    {
     "name": "stdout",
     "output_type": "stream",
     "text": [
      "\n",
      "Results fetched for URL https://www.yelp.com/biz/blue-sushi-sake-grill-westwood?adjust_creative=mUhtpg0LANTRd76OAeN1RQ&utm_campaign=yelp_api_v3&utm_medium=api_v3_business_search&utm_source=mUhtpg0LANTRd76OAeN1RQ&start=40:\n",
      "Scraped data from page 1\n",
      "Scraped data from page 2\n",
      "Scraped data from page 3\n",
      "Scraped data from page 4\n",
      "Scraped data from page 5\n"
     ]
    },
    {
     "name": "stderr",
     "output_type": "stream",
     "text": [
      "Scraping Restaurants:  73%|███████▎  | 186/255 [1:38:21<43:44, 38.04s/it]"
     ]
    },
    {
     "name": "stdout",
     "output_type": "stream",
     "text": [
      "\n",
      "Results fetched for URL https://www.yelp.com/biz/india-restaurant-la-habra-la-habra-3?adjust_creative=mUhtpg0LANTRd76OAeN1RQ&utm_campaign=yelp_api_v3&utm_medium=api_v3_business_search&utm_source=mUhtpg0LANTRd76OAeN1RQ&start=40:\n",
      "Scraped data from page 1\n",
      "Scraped data from page 2\n",
      "Scraped data from page 3\n",
      "Scraped data from page 4\n",
      "Scraped data from page 5\n"
     ]
    },
    {
     "name": "stderr",
     "output_type": "stream",
     "text": [
      "Scraping Restaurants:  73%|███████▎  | 187/255 [1:38:47<39:07, 34.52s/it]"
     ]
    },
    {
     "name": "stdout",
     "output_type": "stream",
     "text": [
      "\n",
      "Results fetched for URL https://www.yelp.com/biz/spaghettini-seal-beach?adjust_creative=mUhtpg0LANTRd76OAeN1RQ&utm_campaign=yelp_api_v3&utm_medium=api_v3_business_search&utm_source=mUhtpg0LANTRd76OAeN1RQ&start=40:\n",
      "Scraped data from page 1\n",
      "Scraped data from page 2\n",
      "Scraped data from page 3\n",
      "Scraped data from page 4\n",
      "Scraped data from page 5\n"
     ]
    },
    {
     "name": "stderr",
     "output_type": "stream",
     "text": [
      "Scraping Restaurants:  74%|███████▎  | 188/255 [1:39:13<35:34, 31.85s/it]"
     ]
    },
    {
     "name": "stdout",
     "output_type": "stream",
     "text": [
      "\n",
      "Results fetched for URL https://www.yelp.com/biz/padre-long-beach-2?adjust_creative=mUhtpg0LANTRd76OAeN1RQ&utm_campaign=yelp_api_v3&utm_medium=api_v3_business_search&utm_source=mUhtpg0LANTRd76OAeN1RQ&start=40:\n",
      "Scraped data from page 1\n",
      "Scraped data from page 2\n",
      "Scraped data from page 3\n",
      "Scraped data from page 4\n",
      "Scraped data from page 5\n"
     ]
    },
    {
     "name": "stderr",
     "output_type": "stream",
     "text": [
      "Scraping Restaurants:  74%|███████▍  | 189/255 [1:39:45<35:01, 31.84s/it]"
     ]
    },
    {
     "name": "stdout",
     "output_type": "stream",
     "text": [
      "\n",
      "Results fetched for URL https://www.yelp.com/biz/nomad-asian-bistro-long-beach?adjust_creative=mUhtpg0LANTRd76OAeN1RQ&utm_campaign=yelp_api_v3&utm_medium=api_v3_business_search&utm_source=mUhtpg0LANTRd76OAeN1RQ&start=40:\n",
      "Scraped data from page 1\n",
      "Scraped data from page 2\n",
      "Scraped data from page 3\n",
      "Scraped data from page 4\n",
      "Scraped data from page 5\n"
     ]
    },
    {
     "name": "stderr",
     "output_type": "stream",
     "text": [
      "Scraping Restaurants:  75%|███████▍  | 190/255 [1:40:13<33:11, 30.64s/it]"
     ]
    },
    {
     "name": "stdout",
     "output_type": "stream",
     "text": [
      "\n",
      "Results fetched for URL https://www.yelp.com/biz/i-luv-sushi-lakewood?adjust_creative=mUhtpg0LANTRd76OAeN1RQ&utm_campaign=yelp_api_v3&utm_medium=api_v3_business_search&utm_source=mUhtpg0LANTRd76OAeN1RQ&start=40:\n",
      "Scraped data from page 1\n",
      "Scraped data from page 2\n",
      "Scraped data from page 3\n",
      "Scraped data from page 4\n",
      "Scraped data from page 5\n"
     ]
    },
    {
     "name": "stderr",
     "output_type": "stream",
     "text": [
      "Scraping Restaurants:  75%|███████▍  | 191/255 [1:40:39<31:18, 29.35s/it]"
     ]
    },
    {
     "name": "stdout",
     "output_type": "stream",
     "text": [
      "\n",
      "Results fetched for URL https://www.yelp.com/biz/india-oven-mesa?adjust_creative=mUhtpg0LANTRd76OAeN1RQ&utm_campaign=yelp_api_v3&utm_medium=api_v3_business_search&utm_source=mUhtpg0LANTRd76OAeN1RQ&start=40:\n",
      "Scraped data from page 1\n",
      "Scraped data from page 2\n",
      "Scraped data from page 3\n",
      "Scraped data from page 4\n",
      "Scraped data from page 5\n"
     ]
    },
    {
     "name": "stderr",
     "output_type": "stream",
     "text": [
      "Scraping Restaurants:  75%|███████▌  | 192/255 [1:41:06<29:54, 28.48s/it]"
     ]
    },
    {
     "name": "stdout",
     "output_type": "stream",
     "text": [
      "\n",
      "Results fetched for URL https://www.yelp.com/biz/red-white-and-brew-mesa?adjust_creative=mUhtpg0LANTRd76OAeN1RQ&utm_campaign=yelp_api_v3&utm_medium=api_v3_business_search&utm_source=mUhtpg0LANTRd76OAeN1RQ&start=40:\n",
      "Scraped data from page 1\n",
      "Scraped data from page 2\n",
      "Scraped data from page 3\n",
      "Scraped data from page 4\n",
      "Scraped data from page 5\n"
     ]
    },
    {
     "name": "stderr",
     "output_type": "stream",
     "text": [
      "Scraping Restaurants:  76%|███████▌  | 193/255 [1:41:30<28:19, 27.41s/it]"
     ]
    },
    {
     "name": "stdout",
     "output_type": "stream",
     "text": [
      "\n",
      "Results fetched for URL https://www.yelp.com/biz/joyride-taco-house-gilbert-4?adjust_creative=mUhtpg0LANTRd76OAeN1RQ&utm_campaign=yelp_api_v3&utm_medium=api_v3_business_search&utm_source=mUhtpg0LANTRd76OAeN1RQ&start=40:\n",
      "Scraped data from page 1\n",
      "Scraped data from page 2\n",
      "Scraped data from page 3\n",
      "Scraped data from page 4\n",
      "Scraped data from page 5\n"
     ]
    },
    {
     "name": "stderr",
     "output_type": "stream",
     "text": [
      "Scraping Restaurants:  76%|███████▌  | 194/255 [1:41:59<28:13, 27.76s/it]"
     ]
    },
    {
     "name": "stdout",
     "output_type": "stream",
     "text": [
      "\n",
      "Results fetched for URL https://www.yelp.com/biz/singing-pandas-asian-restaurant-and-bar-chandler?adjust_creative=mUhtpg0LANTRd76OAeN1RQ&utm_campaign=yelp_api_v3&utm_medium=api_v3_business_search&utm_source=mUhtpg0LANTRd76OAeN1RQ&start=40:\n",
      "Scraped data from page 1\n",
      "Scraped data from page 2\n",
      "Scraped data from page 3\n",
      "Scraped data from page 4\n",
      "Scraped data from page 5\n"
     ]
    },
    {
     "name": "stderr",
     "output_type": "stream",
     "text": [
      "Scraping Restaurants:  76%|███████▋  | 195/255 [1:42:25<27:20, 27.34s/it]"
     ]
    },
    {
     "name": "stdout",
     "output_type": "stream",
     "text": [
      "\n",
      "Results fetched for URL https://www.yelp.com/biz/osaka-japanese-steakhouse-mesa-3?adjust_creative=mUhtpg0LANTRd76OAeN1RQ&utm_campaign=yelp_api_v3&utm_medium=api_v3_business_search&utm_source=mUhtpg0LANTRd76OAeN1RQ&start=40:\n",
      "Scraped data from page 1\n",
      "Scraped data from page 2\n",
      "Scraped data from page 3\n",
      "Scraped data from page 4\n",
      "Scraped data from page 5\n"
     ]
    },
    {
     "name": "stderr",
     "output_type": "stream",
     "text": [
      "Scraping Restaurants:  77%|███████▋  | 196/255 [1:42:53<26:57, 27.42s/it]"
     ]
    },
    {
     "name": "stdout",
     "output_type": "stream",
     "text": [
      "\n",
      "Results fetched for URL https://www.yelp.com/biz/chai-pani-decatur-2?adjust_creative=mUhtpg0LANTRd76OAeN1RQ&utm_campaign=yelp_api_v3&utm_medium=api_v3_business_search&utm_source=mUhtpg0LANTRd76OAeN1RQ&start=40:\n",
      "Scraped data from page 1\n",
      "Scraped data from page 2\n",
      "Scraped data from page 3\n",
      "Scraped data from page 4\n",
      "Scraped data from page 5\n"
     ]
    },
    {
     "name": "stderr",
     "output_type": "stream",
     "text": [
      "Scraping Restaurants:  77%|███████▋  | 197/255 [1:43:23<27:23, 28.34s/it]"
     ]
    },
    {
     "name": "stdout",
     "output_type": "stream",
     "text": [
      "\n",
      "Results fetched for URL https://www.yelp.com/biz/amalfi-cucina-and-mercato-atlanta-4?adjust_creative=mUhtpg0LANTRd76OAeN1RQ&utm_campaign=yelp_api_v3&utm_medium=api_v3_business_search&utm_source=mUhtpg0LANTRd76OAeN1RQ&start=40:\n",
      "Scraped data from page 1\n",
      "Scraped data from page 2\n",
      "Scraped data from page 3\n",
      "Scraped data from page 4\n",
      "Scraped data from page 5\n"
     ]
    },
    {
     "name": "stderr",
     "output_type": "stream",
     "text": [
      "Scraping Restaurants:  78%|███████▊  | 198/255 [1:43:55<27:58, 29.44s/it]"
     ]
    },
    {
     "name": "stdout",
     "output_type": "stream",
     "text": [
      "\n",
      "Results fetched for URL https://www.yelp.com/biz/alma-cocina-atlanta-atlanta?adjust_creative=mUhtpg0LANTRd76OAeN1RQ&utm_campaign=yelp_api_v3&utm_medium=api_v3_business_search&utm_source=mUhtpg0LANTRd76OAeN1RQ&start=40:\n",
      "Scraped data from page 1\n",
      "Scraped data from page 2\n",
      "Scraped data from page 3\n",
      "Scraped data from page 4\n",
      "Scraped data from page 5\n"
     ]
    },
    {
     "name": "stderr",
     "output_type": "stream",
     "text": [
      "Scraping Restaurants:  78%|███████▊  | 199/255 [1:44:28<28:19, 30.34s/it]"
     ]
    },
    {
     "name": "stdout",
     "output_type": "stream",
     "text": [
      "\n",
      "Results fetched for URL https://www.yelp.com/biz/food-terminal-chamblee-2?adjust_creative=mUhtpg0LANTRd76OAeN1RQ&utm_campaign=yelp_api_v3&utm_medium=api_v3_business_search&utm_source=mUhtpg0LANTRd76OAeN1RQ&start=40:\n",
      "Scraped data from page 1\n",
      "Scraped data from page 2\n",
      "Scraped data from page 3\n",
      "Scraped data from page 4\n",
      "Scraped data from page 5\n"
     ]
    },
    {
     "name": "stderr",
     "output_type": "stream",
     "text": [
      "Scraping Restaurants:  78%|███████▊  | 200/255 [1:44:59<28:07, 30.69s/it]"
     ]
    },
    {
     "name": "stdout",
     "output_type": "stream",
     "text": [
      "\n",
      "Results fetched for URL https://www.yelp.com/biz/eight-sushi-lounge-atlanta?adjust_creative=mUhtpg0LANTRd76OAeN1RQ&utm_campaign=yelp_api_v3&utm_medium=api_v3_business_search&utm_source=mUhtpg0LANTRd76OAeN1RQ&start=40:\n",
      "Scraped data from page 1\n",
      "Scraped data from page 2\n",
      "Scraped data from page 3\n",
      "Scraped data from page 4\n",
      "Scraped data from page 5\n"
     ]
    },
    {
     "name": "stderr",
     "output_type": "stream",
     "text": [
      "Scraping Restaurants:  79%|███████▉  | 201/255 [1:45:38<29:51, 33.17s/it]"
     ]
    },
    {
     "name": "stdout",
     "output_type": "stream",
     "text": [
      "\n",
      "Results fetched for URL https://www.yelp.com/biz/little-nepal-indian-restaurant-and-bar-colorado-springs-6?adjust_creative=mUhtpg0LANTRd76OAeN1RQ&utm_campaign=yelp_api_v3&utm_medium=api_v3_business_search&utm_source=mUhtpg0LANTRd76OAeN1RQ&start=40:\n",
      "Scraped data from page 1\n",
      "Scraped data from page 2\n",
      "Scraped data from page 3\n",
      "Scraped data from page 4\n",
      "Scraped data from page 5\n"
     ]
    },
    {
     "name": "stderr",
     "output_type": "stream",
     "text": [
      "Scraping Restaurants:  79%|███████▉  | 202/255 [1:46:14<29:55, 33.88s/it]"
     ]
    },
    {
     "name": "stdout",
     "output_type": "stream",
     "text": [
      "\n",
      "Results fetched for URL https://www.yelp.com/biz/paravicinis-italian-bistro-colorado-springs-4?adjust_creative=mUhtpg0LANTRd76OAeN1RQ&utm_campaign=yelp_api_v3&utm_medium=api_v3_business_search&utm_source=mUhtpg0LANTRd76OAeN1RQ&start=40:\n",
      "Scraped data from page 1\n",
      "Scraped data from page 2\n",
      "Scraped data from page 3\n",
      "Scraped data from page 4\n",
      "Scraped data from page 5\n"
     ]
    },
    {
     "name": "stderr",
     "output_type": "stream",
     "text": [
      "Scraping Restaurants:  80%|███████▉  | 203/255 [1:46:47<29:12, 33.71s/it]"
     ]
    },
    {
     "name": "stdout",
     "output_type": "stream",
     "text": [
      "\n",
      "Results fetched for URL https://www.yelp.com/biz/crystal-park-cantina-manitou-springs?adjust_creative=mUhtpg0LANTRd76OAeN1RQ&utm_campaign=yelp_api_v3&utm_medium=api_v3_business_search&utm_source=mUhtpg0LANTRd76OAeN1RQ&start=40:\n",
      "Scraped data from page 1\n",
      "Scraped data from page 2\n",
      "Scraped data from page 3\n",
      "Scraped data from page 4\n",
      "Scraped data from page 5\n"
     ]
    },
    {
     "name": "stderr",
     "output_type": "stream",
     "text": [
      "Scraping Restaurants:  80%|████████  | 204/255 [1:47:21<28:38, 33.71s/it]"
     ]
    },
    {
     "name": "stdout",
     "output_type": "stream",
     "text": [
      "\n",
      "Results fetched for URL https://www.yelp.com/biz/yellow-mountain-tea-house-colorado-springs?adjust_creative=mUhtpg0LANTRd76OAeN1RQ&utm_campaign=yelp_api_v3&utm_medium=api_v3_business_search&utm_source=mUhtpg0LANTRd76OAeN1RQ&start=40:\n",
      "Scraped data from page 1\n",
      "Scraped data from page 2\n",
      "Scraped data from page 3\n",
      "Scraped data from page 4\n",
      "Scraped data from page 5\n"
     ]
    },
    {
     "name": "stderr",
     "output_type": "stream",
     "text": [
      "Scraping Restaurants:  80%|████████  | 205/255 [1:47:55<28:07, 33.74s/it]"
     ]
    },
    {
     "name": "stdout",
     "output_type": "stream",
     "text": [
      "\n",
      "Results fetched for URL https://www.yelp.com/biz/carlos-bistro-colorado-springs?adjust_creative=mUhtpg0LANTRd76OAeN1RQ&utm_campaign=yelp_api_v3&utm_medium=api_v3_business_search&utm_source=mUhtpg0LANTRd76OAeN1RQ&start=40:\n",
      "Scraped data from page 1\n",
      "Scraped data from page 2\n",
      "Scraped data from page 3\n",
      "Scraped data from page 4\n",
      "Scraped data from page 5\n"
     ]
    },
    {
     "name": "stderr",
     "output_type": "stream",
     "text": [
      "Scraping Restaurants:  81%|████████  | 206/255 [1:48:22<25:56, 31.76s/it]"
     ]
    },
    {
     "name": "stdout",
     "output_type": "stream",
     "text": [
      "\n",
      "Results fetched for URL https://www.yelp.com/biz/masala-bites-virginia-beach?adjust_creative=mUhtpg0LANTRd76OAeN1RQ&utm_campaign=yelp_api_v3&utm_medium=api_v3_business_search&utm_source=mUhtpg0LANTRd76OAeN1RQ&start=40:\n",
      "Scraped data from page 1\n",
      "Scraped data from page 2\n",
      "Scraped data from page 3\n",
      "Scraped data from page 4\n",
      "Scraped data from page 5\n"
     ]
    },
    {
     "name": "stderr",
     "output_type": "stream",
     "text": [
      "Scraping Restaurants:  81%|████████  | 207/255 [1:48:48<24:05, 30.11s/it]"
     ]
    },
    {
     "name": "stdout",
     "output_type": "stream",
     "text": [
      "\n",
      "Results fetched for URL https://www.yelp.com/biz/il-giardino-ristorante-virginia-beach?adjust_creative=mUhtpg0LANTRd76OAeN1RQ&utm_campaign=yelp_api_v3&utm_medium=api_v3_business_search&utm_source=mUhtpg0LANTRd76OAeN1RQ&start=40:\n",
      "Scraped data from page 1\n",
      "Scraped data from page 2\n",
      "Scraped data from page 3\n",
      "Scraped data from page 4\n",
      "Scraped data from page 5\n"
     ]
    },
    {
     "name": "stderr",
     "output_type": "stream",
     "text": [
      "Scraping Restaurants:  82%|████████▏ | 208/255 [1:49:19<23:42, 30.26s/it]"
     ]
    },
    {
     "name": "stdout",
     "output_type": "stream",
     "text": [
      "\n",
      "Results fetched for URL https://www.yelp.com/biz/pelons-baja-grill-virginia-beach?adjust_creative=mUhtpg0LANTRd76OAeN1RQ&utm_campaign=yelp_api_v3&utm_medium=api_v3_business_search&utm_source=mUhtpg0LANTRd76OAeN1RQ&start=40:\n",
      "Scraped data from page 1\n",
      "Scraped data from page 2\n",
      "Scraped data from page 3\n",
      "Scraped data from page 4\n",
      "Scraped data from page 5\n"
     ]
    },
    {
     "name": "stderr",
     "output_type": "stream",
     "text": [
      "Scraping Restaurants:  82%|████████▏ | 209/255 [1:49:48<23:00, 30.02s/it]"
     ]
    },
    {
     "name": "stdout",
     "output_type": "stream",
     "text": [
      "\n",
      "Results fetched for URL https://www.yelp.com/biz/judys-sichuan-cuisine-virginia-beach?adjust_creative=mUhtpg0LANTRd76OAeN1RQ&utm_campaign=yelp_api_v3&utm_medium=api_v3_business_search&utm_source=mUhtpg0LANTRd76OAeN1RQ&start=40:\n",
      "Scraped data from page 1\n",
      "Scraped data from page 2\n",
      "Scraped data from page 3\n",
      "Scraped data from page 4\n",
      "Scraped data from page 5\n"
     ]
    },
    {
     "name": "stderr",
     "output_type": "stream",
     "text": [
      "Scraping Restaurants:  82%|████████▏ | 210/255 [1:50:15<21:43, 28.98s/it]"
     ]
    },
    {
     "name": "stdout",
     "output_type": "stream",
     "text": [
      "\n",
      "Results fetched for URL https://www.yelp.com/biz/sakura-sushi-bar-japanese-restaurant-virginia-beach?adjust_creative=mUhtpg0LANTRd76OAeN1RQ&utm_campaign=yelp_api_v3&utm_medium=api_v3_business_search&utm_source=mUhtpg0LANTRd76OAeN1RQ&start=40:\n",
      "Scraped data from page 1\n",
      "Scraped data from page 2\n",
      "Scraped data from page 3\n",
      "Scraped data from page 4\n",
      "Scraped data from page 5\n"
     ]
    },
    {
     "name": "stderr",
     "output_type": "stream",
     "text": [
      "Scraping Restaurants:  83%|████████▎ | 211/255 [1:50:42<20:58, 28.60s/it]"
     ]
    },
    {
     "name": "stdout",
     "output_type": "stream",
     "text": [
      "\n",
      "Results fetched for URL https://www.yelp.com/biz/himalayan-range-nepali-restaurant-cary?adjust_creative=mUhtpg0LANTRd76OAeN1RQ&utm_campaign=yelp_api_v3&utm_medium=api_v3_business_search&utm_source=mUhtpg0LANTRd76OAeN1RQ&start=40:\n",
      "Scraped data from page 1\n",
      "Scraped data from page 2\n",
      "Scraped data from page 3\n",
      "Scraped data from page 4\n",
      "Scraped data from page 5\n"
     ]
    },
    {
     "name": "stderr",
     "output_type": "stream",
     "text": [
      "Scraping Restaurants:  83%|████████▎ | 212/255 [1:51:11<20:34, 28.71s/it]"
     ]
    },
    {
     "name": "stdout",
     "output_type": "stream",
     "text": [
      "\n",
      "Results fetched for URL https://www.yelp.com/biz/gravy-raleigh?adjust_creative=mUhtpg0LANTRd76OAeN1RQ&utm_campaign=yelp_api_v3&utm_medium=api_v3_business_search&utm_source=mUhtpg0LANTRd76OAeN1RQ&start=40:\n",
      "Scraped data from page 1\n",
      "Scraped data from page 2\n",
      "Scraped data from page 3\n",
      "Scraped data from page 4\n",
      "Scraped data from page 5\n"
     ]
    },
    {
     "name": "stderr",
     "output_type": "stream",
     "text": [
      "Scraping Restaurants:  84%|████████▎ | 213/255 [1:51:38<19:34, 27.96s/it]"
     ]
    },
    {
     "name": "stdout",
     "output_type": "stream",
     "text": [
      "\n",
      "Results fetched for URL https://www.yelp.com/biz/salt-and-lime-cabo-grill-raleigh?adjust_creative=mUhtpg0LANTRd76OAeN1RQ&utm_campaign=yelp_api_v3&utm_medium=api_v3_business_search&utm_source=mUhtpg0LANTRd76OAeN1RQ&start=40:\n",
      "Scraped data from page 1\n",
      "Scraped data from page 2\n",
      "Scraped data from page 3\n",
      "Scraped data from page 4\n",
      "Scraped data from page 5\n"
     ]
    },
    {
     "name": "stderr",
     "output_type": "stream",
     "text": [
      "Scraping Restaurants:  84%|████████▍ | 214/255 [1:52:09<19:45, 28.91s/it]"
     ]
    },
    {
     "name": "stdout",
     "output_type": "stream",
     "text": [
      "\n",
      "Results fetched for URL https://www.yelp.com/biz/brewery-bhavana-raleigh?adjust_creative=mUhtpg0LANTRd76OAeN1RQ&utm_campaign=yelp_api_v3&utm_medium=api_v3_business_search&utm_source=mUhtpg0LANTRd76OAeN1RQ&start=40:\n",
      "Scraped data from page 1\n",
      "Scraped data from page 2\n",
      "Scraped data from page 3\n",
      "Scraped data from page 4\n",
      "Scraped data from page 5\n"
     ]
    },
    {
     "name": "stderr",
     "output_type": "stream",
     "text": [
      "Scraping Restaurants:  84%|████████▍ | 215/255 [1:52:36<18:58, 28.46s/it]"
     ]
    },
    {
     "name": "stdout",
     "output_type": "stream",
     "text": [
      "\n",
      "Results fetched for URL https://www.yelp.com/biz/noodle-boulevard-cary-2?adjust_creative=mUhtpg0LANTRd76OAeN1RQ&utm_campaign=yelp_api_v3&utm_medium=api_v3_business_search&utm_source=mUhtpg0LANTRd76OAeN1RQ&start=40:\n",
      "Scraped data from page 1\n",
      "Scraped data from page 2\n",
      "Scraped data from page 3\n",
      "Scraped data from page 4\n",
      "Scraped data from page 5\n"
     ]
    },
    {
     "name": "stderr",
     "output_type": "stream",
     "text": [
      "Scraping Restaurants:  85%|████████▍ | 216/255 [1:53:04<18:19, 28.20s/it]"
     ]
    },
    {
     "name": "stdout",
     "output_type": "stream",
     "text": [
      "\n",
      "Results fetched for URL https://www.yelp.com/biz/jaipur-restaurant-and-brewing-omaha?adjust_creative=mUhtpg0LANTRd76OAeN1RQ&utm_campaign=yelp_api_v3&utm_medium=api_v3_business_search&utm_source=mUhtpg0LANTRd76OAeN1RQ&start=40:\n",
      "Scraped data from page 1\n",
      "Scraped data from page 2\n",
      "Scraped data from page 3\n",
      "Scraped data from page 4\n",
      "Scraped data from page 5\n"
     ]
    },
    {
     "name": "stderr",
     "output_type": "stream",
     "text": [
      "Scraping Restaurants:  85%|████████▌ | 217/255 [1:53:31<17:35, 27.77s/it]"
     ]
    },
    {
     "name": "stdout",
     "output_type": "stream",
     "text": [
      "\n",
      "Results fetched for URL https://www.yelp.com/biz/via-farina-omaha?adjust_creative=mUhtpg0LANTRd76OAeN1RQ&utm_campaign=yelp_api_v3&utm_medium=api_v3_business_search&utm_source=mUhtpg0LANTRd76OAeN1RQ&start=40:\n",
      "Scraped data from page 1\n",
      "Scraped data from page 2\n",
      "Scraped data from page 3\n",
      "Scraped data from page 4\n",
      "Scraped data from page 5\n"
     ]
    },
    {
     "name": "stderr",
     "output_type": "stream",
     "text": [
      "Scraping Restaurants:  85%|████████▌ | 218/255 [1:53:57<16:50, 27.31s/it]"
     ]
    },
    {
     "name": "stdout",
     "output_type": "stream",
     "text": [
      "\n",
      "Results fetched for URL https://www.yelp.com/biz/hook-and-lime-omaha?adjust_creative=mUhtpg0LANTRd76OAeN1RQ&utm_campaign=yelp_api_v3&utm_medium=api_v3_business_search&utm_source=mUhtpg0LANTRd76OAeN1RQ&start=40:\n",
      "Scraped data from page 1\n",
      "Scraped data from page 2\n",
      "Scraped data from page 3\n",
      "Scraped data from page 4\n",
      "Scraped data from page 5\n"
     ]
    },
    {
     "name": "stderr",
     "output_type": "stream",
     "text": [
      "Scraping Restaurants:  86%|████████▌ | 219/255 [1:54:23<16:14, 27.07s/it]"
     ]
    },
    {
     "name": "stdout",
     "output_type": "stream",
     "text": [
      "\n",
      "Results fetched for URL https://www.yelp.com/biz/three-happiness-express-omaha?adjust_creative=mUhtpg0LANTRd76OAeN1RQ&utm_campaign=yelp_api_v3&utm_medium=api_v3_business_search&utm_source=mUhtpg0LANTRd76OAeN1RQ&start=40:\n",
      "Scraped data from page 1\n",
      "Scraped data from page 2\n",
      "Scraped data from page 3\n",
      "Scraped data from page 4\n",
      "Scraped data from page 5\n"
     ]
    },
    {
     "name": "stderr",
     "output_type": "stream",
     "text": [
      "Scraping Restaurants:  86%|████████▋ | 220/255 [1:54:52<16:06, 27.61s/it]"
     ]
    },
    {
     "name": "stdout",
     "output_type": "stream",
     "text": [
      "\n",
      "Results fetched for URL https://www.yelp.com/biz/blue-sushi-sake-grill-omaha?adjust_creative=mUhtpg0LANTRd76OAeN1RQ&utm_campaign=yelp_api_v3&utm_medium=api_v3_business_search&utm_source=mUhtpg0LANTRd76OAeN1RQ&start=40:\n",
      "Scraped data from page 1\n",
      "Scraped data from page 2\n",
      "Scraped data from page 3\n",
      "Scraped data from page 4\n",
      "Scraped data from page 5\n"
     ]
    },
    {
     "name": "stderr",
     "output_type": "stream",
     "text": [
      "Scraping Restaurants:  87%|████████▋ | 221/255 [1:55:20<15:42, 27.72s/it]"
     ]
    },
    {
     "name": "stdout",
     "output_type": "stream",
     "text": [
      "\n",
      "Results fetched for URL https://www.yelp.com/biz/bombay-darbar-miami-3?adjust_creative=mUhtpg0LANTRd76OAeN1RQ&utm_campaign=yelp_api_v3&utm_medium=api_v3_business_search&utm_source=mUhtpg0LANTRd76OAeN1RQ&start=40:\n",
      "Scraped data from page 1\n",
      "Scraped data from page 2\n",
      "Scraped data from page 3\n",
      "Scraped data from page 4\n",
      "Scraped data from page 5\n"
     ]
    },
    {
     "name": "stderr",
     "output_type": "stream",
     "text": [
      "Scraping Restaurants:  87%|████████▋ | 222/255 [1:55:52<15:53, 28.89s/it]"
     ]
    },
    {
     "name": "stdout",
     "output_type": "stream",
     "text": [
      "\n",
      "Results fetched for URL https://www.yelp.com/biz/crazy-about-you-miami-3?adjust_creative=mUhtpg0LANTRd76OAeN1RQ&utm_campaign=yelp_api_v3&utm_medium=api_v3_business_search&utm_source=mUhtpg0LANTRd76OAeN1RQ&start=40:\n",
      "Scraped data from page 1\n",
      "Scraped data from page 2\n",
      "Scraped data from page 3\n",
      "Scraped data from page 4\n",
      "Scraped data from page 5\n"
     ]
    },
    {
     "name": "stderr",
     "output_type": "stream",
     "text": [
      "Scraping Restaurants:  87%|████████▋ | 223/255 [1:56:20<15:21, 28.81s/it]"
     ]
    },
    {
     "name": "stdout",
     "output_type": "stream",
     "text": [
      "\n",
      "Results fetched for URL https://www.yelp.com/biz/mi-rinconcito-mexicano-miami?adjust_creative=mUhtpg0LANTRd76OAeN1RQ&utm_campaign=yelp_api_v3&utm_medium=api_v3_business_search&utm_source=mUhtpg0LANTRd76OAeN1RQ&start=40:\n",
      "Scraped data from page 1\n",
      "Scraped data from page 2\n",
      "Scraped data from page 3\n",
      "Scraped data from page 4\n",
      "Scraped data from page 5\n"
     ]
    },
    {
     "name": "stderr",
     "output_type": "stream",
     "text": [
      "Scraping Restaurants:  88%|████████▊ | 224/255 [1:56:48<14:40, 28.42s/it]"
     ]
    },
    {
     "name": "stdout",
     "output_type": "stream",
     "text": [
      "\n",
      "Results fetched for URL https://www.yelp.com/biz/kon-chau-restaurant-miami?adjust_creative=mUhtpg0LANTRd76OAeN1RQ&utm_campaign=yelp_api_v3&utm_medium=api_v3_business_search&utm_source=mUhtpg0LANTRd76OAeN1RQ&start=40:\n",
      "Scraped data from page 1\n",
      "Scraped data from page 2\n",
      "Scraped data from page 3\n",
      "Scraped data from page 4\n",
      "Scraped data from page 5\n"
     ]
    },
    {
     "name": "stderr",
     "output_type": "stream",
     "text": [
      "Scraping Restaurants:  88%|████████▊ | 225/255 [1:57:13<13:43, 27.44s/it]"
     ]
    },
    {
     "name": "stdout",
     "output_type": "stream",
     "text": [
      "\n",
      "Results fetched for URL https://www.yelp.com/biz/gyu-kaku-japanese-bbq-miami?adjust_creative=mUhtpg0LANTRd76OAeN1RQ&utm_campaign=yelp_api_v3&utm_medium=api_v3_business_search&utm_source=mUhtpg0LANTRd76OAeN1RQ&start=40:\n",
      "Scraped data from page 1\n",
      "Scraped data from page 2\n",
      "Scraped data from page 3\n",
      "Scraped data from page 4\n",
      "Scraped data from page 5\n"
     ]
    },
    {
     "name": "stderr",
     "output_type": "stream",
     "text": [
      "Scraping Restaurants:  89%|████████▊ | 226/255 [1:57:40<13:15, 27.44s/it]"
     ]
    },
    {
     "name": "stdout",
     "output_type": "stream",
     "text": [
      "\n",
      "Results fetched for URL https://www.yelp.com/biz/viks-chaat-berkeley?adjust_creative=mUhtpg0LANTRd76OAeN1RQ&utm_campaign=yelp_api_v3&utm_medium=api_v3_business_search&utm_source=mUhtpg0LANTRd76OAeN1RQ&start=40:\n",
      "Scraped data from page 1\n",
      "Scraped data from page 2\n",
      "Scraped data from page 3\n",
      "Scraped data from page 4\n",
      "Scraped data from page 5\n"
     ]
    },
    {
     "name": "stderr",
     "output_type": "stream",
     "text": [
      "Scraping Restaurants:  89%|████████▉ | 227/255 [1:58:10<13:02, 27.96s/it]"
     ]
    },
    {
     "name": "stdout",
     "output_type": "stream",
     "text": [
      "\n",
      "Results fetched for URL https://www.yelp.com/biz/the-italian-homemade-company-san-francisco-8?adjust_creative=mUhtpg0LANTRd76OAeN1RQ&utm_campaign=yelp_api_v3&utm_medium=api_v3_business_search&utm_source=mUhtpg0LANTRd76OAeN1RQ&start=40:\n",
      "Scraped data from page 1\n",
      "Scraped data from page 2\n",
      "Scraped data from page 3\n",
      "Scraped data from page 4\n",
      "Scraped data from page 5\n"
     ]
    },
    {
     "name": "stderr",
     "output_type": "stream",
     "text": [
      "Scraping Restaurants:  89%|████████▉ | 228/255 [1:58:38<12:36, 28.04s/it]"
     ]
    },
    {
     "name": "stdout",
     "output_type": "stream",
     "text": [
      "\n",
      "Results fetched for URL https://www.yelp.com/biz/cholita-linda-oakland?adjust_creative=mUhtpg0LANTRd76OAeN1RQ&utm_campaign=yelp_api_v3&utm_medium=api_v3_business_search&utm_source=mUhtpg0LANTRd76OAeN1RQ&start=40:\n",
      "Scraped data from page 1\n",
      "Scraped data from page 2\n",
      "Scraped data from page 3\n",
      "Scraped data from page 4\n",
      "Scraped data from page 5\n"
     ]
    },
    {
     "name": "stderr",
     "output_type": "stream",
     "text": [
      "Scraping Restaurants:  90%|████████▉ | 229/255 [1:59:08<12:22, 28.56s/it]"
     ]
    },
    {
     "name": "stdout",
     "output_type": "stream",
     "text": [
      "\n",
      "Results fetched for URL https://www.yelp.com/biz/shandong-restaurant-oakland?adjust_creative=mUhtpg0LANTRd76OAeN1RQ&utm_campaign=yelp_api_v3&utm_medium=api_v3_business_search&utm_source=mUhtpg0LANTRd76OAeN1RQ&start=40:\n",
      "Scraped data from page 1\n",
      "Scraped data from page 2\n",
      "Scraped data from page 3\n",
      "Scraped data from page 4\n",
      "Scraped data from page 5\n"
     ]
    },
    {
     "name": "stderr",
     "output_type": "stream",
     "text": [
      "Scraping Restaurants:  90%|█████████ | 230/255 [1:59:33<11:32, 27.71s/it]"
     ]
    },
    {
     "name": "stdout",
     "output_type": "stream",
     "text": [
      "\n",
      "Results fetched for URL https://www.yelp.com/biz/marufuku-ramen-oakland-oakland-5?adjust_creative=mUhtpg0LANTRd76OAeN1RQ&utm_campaign=yelp_api_v3&utm_medium=api_v3_business_search&utm_source=mUhtpg0LANTRd76OAeN1RQ&start=40:\n",
      "Scraped data from page 1\n",
      "Scraped data from page 2\n",
      "Scraped data from page 3\n",
      "Scraped data from page 4\n",
      "Scraped data from page 5\n"
     ]
    },
    {
     "name": "stderr",
     "output_type": "stream",
     "text": [
      "Scraping Restaurants:  91%|█████████ | 231/255 [2:00:00<10:55, 27.33s/it]"
     ]
    },
    {
     "name": "stdout",
     "output_type": "stream",
     "text": [
      "\n",
      "Results fetched for URL https://www.yelp.com/biz/gorkha-palace-minneapolis?adjust_creative=mUhtpg0LANTRd76OAeN1RQ&utm_campaign=yelp_api_v3&utm_medium=api_v3_business_search&utm_source=mUhtpg0LANTRd76OAeN1RQ&start=40:\n",
      "Scraped data from page 1\n",
      "Scraped data from page 2\n",
      "Scraped data from page 3\n",
      "Scraped data from page 4\n",
      "Scraped data from page 5\n"
     ]
    },
    {
     "name": "stderr",
     "output_type": "stream",
     "text": [
      "Scraping Restaurants:  91%|█████████ | 232/255 [2:00:26<10:22, 27.06s/it]"
     ]
    },
    {
     "name": "stdout",
     "output_type": "stream",
     "text": [
      "\n",
      "Results fetched for URL https://www.yelp.com/biz/bar-la-grassa-minneapolis?adjust_creative=mUhtpg0LANTRd76OAeN1RQ&utm_campaign=yelp_api_v3&utm_medium=api_v3_business_search&utm_source=mUhtpg0LANTRd76OAeN1RQ&start=40:\n",
      "Scraped data from page 1\n",
      "Scraped data from page 2\n",
      "Scraped data from page 3\n",
      "Scraped data from page 4\n",
      "Scraped data from page 5\n"
     ]
    },
    {
     "name": "stderr",
     "output_type": "stream",
     "text": [
      "Scraping Restaurants:  91%|█████████▏| 233/255 [2:00:57<10:20, 28.21s/it]"
     ]
    },
    {
     "name": "stdout",
     "output_type": "stream",
     "text": [
      "\n",
      "Results fetched for URL https://www.yelp.com/biz/sea-salt-eatery-minneapolis?adjust_creative=mUhtpg0LANTRd76OAeN1RQ&utm_campaign=yelp_api_v3&utm_medium=api_v3_business_search&utm_source=mUhtpg0LANTRd76OAeN1RQ&start=40:\n",
      "Scraped data from page 1\n",
      "Scraped data from page 2\n",
      "Scraped data from page 3\n",
      "Scraped data from page 4\n",
      "Scraped data from page 5\n"
     ]
    },
    {
     "name": "stderr",
     "output_type": "stream",
     "text": [
      "Scraping Restaurants:  92%|█████████▏| 234/255 [2:01:22<09:31, 27.20s/it]"
     ]
    },
    {
     "name": "stdout",
     "output_type": "stream",
     "text": [
      "\n",
      "Results fetched for URL https://www.yelp.com/biz/shuang-cheng-restaurant-minneapolis?adjust_creative=mUhtpg0LANTRd76OAeN1RQ&utm_campaign=yelp_api_v3&utm_medium=api_v3_business_search&utm_source=mUhtpg0LANTRd76OAeN1RQ&start=40:\n",
      "Scraped data from page 1\n",
      "Scraped data from page 2\n",
      "Scraped data from page 3\n",
      "Scraped data from page 4\n",
      "Scraped data from page 5\n"
     ]
    },
    {
     "name": "stderr",
     "output_type": "stream",
     "text": [
      "Scraping Restaurants:  92%|█████████▏| 235/255 [2:01:49<09:05, 27.25s/it]"
     ]
    },
    {
     "name": "stdout",
     "output_type": "stream",
     "text": [
      "\n",
      "Results fetched for URL https://www.yelp.com/biz/wakame-sushi-and-asian-bistro-minneapolis?adjust_creative=mUhtpg0LANTRd76OAeN1RQ&utm_campaign=yelp_api_v3&utm_medium=api_v3_business_search&utm_source=mUhtpg0LANTRd76OAeN1RQ&start=40:\n",
      "Scraped data from page 1\n",
      "Scraped data from page 2\n",
      "Scraped data from page 3\n",
      "Scraped data from page 4\n",
      "Scraped data from page 5\n"
     ]
    },
    {
     "name": "stderr",
     "output_type": "stream",
     "text": [
      "Scraping Restaurants:  93%|█████████▎| 236/255 [2:02:16<08:31, 26.94s/it]"
     ]
    },
    {
     "name": "stdout",
     "output_type": "stream",
     "text": [
      "\n",
      "Results fetched for URL https://www.yelp.com/biz/india-palace-restaurant-tulsa?adjust_creative=mUhtpg0LANTRd76OAeN1RQ&utm_campaign=yelp_api_v3&utm_medium=api_v3_business_search&utm_source=mUhtpg0LANTRd76OAeN1RQ&start=40:\n",
      "Scraped data from page 1\n",
      "Scraped data from page 2\n",
      "Scraped data from page 3\n",
      "Scraped data from page 4\n",
      "Scraped data from page 5\n"
     ]
    },
    {
     "name": "stderr",
     "output_type": "stream",
     "text": [
      "Scraping Restaurants:  93%|█████████▎| 237/255 [2:02:44<08:13, 27.44s/it]"
     ]
    },
    {
     "name": "stdout",
     "output_type": "stream",
     "text": [
      "\n",
      "Results fetched for URL https://www.yelp.com/biz/andolinis-pizzeria-cherry-street-tulsa-2?adjust_creative=mUhtpg0LANTRd76OAeN1RQ&utm_campaign=yelp_api_v3&utm_medium=api_v3_business_search&utm_source=mUhtpg0LANTRd76OAeN1RQ&start=40:\n",
      "Scraped data from page 1\n",
      "Scraped data from page 2\n",
      "Scraped data from page 3\n",
      "Scraped data from page 4\n",
      "Scraped data from page 5\n"
     ]
    },
    {
     "name": "stderr",
     "output_type": "stream",
     "text": [
      "Scraping Restaurants:  93%|█████████▎| 238/255 [2:03:11<07:41, 27.13s/it]"
     ]
    },
    {
     "name": "stdout",
     "output_type": "stream",
     "text": [
      "\n",
      "Results fetched for URL https://www.yelp.com/biz/mother-road-market-tulsa?adjust_creative=mUhtpg0LANTRd76OAeN1RQ&utm_campaign=yelp_api_v3&utm_medium=api_v3_business_search&utm_source=mUhtpg0LANTRd76OAeN1RQ&start=40:\n",
      "Scraped data from page 1\n",
      "Scraped data from page 2\n",
      "Scraped data from page 3\n",
      "Scraped data from page 4\n",
      "Scraped data from page 5\n"
     ]
    },
    {
     "name": "stderr",
     "output_type": "stream",
     "text": [
      "Scraping Restaurants:  94%|█████████▎| 239/255 [2:03:37<07:09, 26.85s/it]"
     ]
    },
    {
     "name": "stdout",
     "output_type": "stream",
     "text": [
      "\n",
      "Results fetched for URL https://www.yelp.com/biz/mandarin-taste-tulsa-4?adjust_creative=mUhtpg0LANTRd76OAeN1RQ&utm_campaign=yelp_api_v3&utm_medium=api_v3_business_search&utm_source=mUhtpg0LANTRd76OAeN1RQ&start=40:\n",
      "Scraped data from page 1\n",
      "Scraped data from page 2\n",
      "Scraped data from page 3\n",
      "Scraped data from page 4\n",
      "Scraped data from page 5\n"
     ]
    },
    {
     "name": "stderr",
     "output_type": "stream",
     "text": [
      "Scraping Restaurants:  94%|█████████▍| 240/255 [2:04:05<06:49, 27.31s/it]"
     ]
    },
    {
     "name": "stdout",
     "output_type": "stream",
     "text": [
      "\n",
      "Results fetched for URL https://www.yelp.com/biz/jinya-ramen-bar-tulsa-tulsa?adjust_creative=mUhtpg0LANTRd76OAeN1RQ&utm_campaign=yelp_api_v3&utm_medium=api_v3_business_search&utm_source=mUhtpg0LANTRd76OAeN1RQ&start=40:\n",
      "Scraped data from page 1\n",
      "Scraped data from page 2\n",
      "Scraped data from page 3\n",
      "Scraped data from page 4\n",
      "Scraped data from page 5\n"
     ]
    },
    {
     "name": "stderr",
     "output_type": "stream",
     "text": [
      "Scraping Restaurants:  95%|█████████▍| 241/255 [2:04:37<06:41, 28.71s/it]"
     ]
    },
    {
     "name": "stdout",
     "output_type": "stream",
     "text": [
      "\n",
      "Results fetched for URL https://www.yelp.com/biz/passage-to-india-wichita?adjust_creative=mUhtpg0LANTRd76OAeN1RQ&utm_campaign=yelp_api_v3&utm_medium=api_v3_business_search&utm_source=mUhtpg0LANTRd76OAeN1RQ&start=40:\n",
      "Scraped data from page 1\n",
      "Scraped data from page 2\n",
      "Scraped data from page 3\n",
      "Scraped data from page 4\n",
      "Scraped data from page 5\n"
     ]
    },
    {
     "name": "stderr",
     "output_type": "stream",
     "text": [
      "Scraping Restaurants:  95%|█████████▍| 242/255 [2:05:14<06:45, 31.17s/it]"
     ]
    },
    {
     "name": "stdout",
     "output_type": "stream",
     "text": [
      "\n",
      "Results fetched for URL https://www.yelp.com/biz/bella-vita-bistro-wichita-2?adjust_creative=mUhtpg0LANTRd76OAeN1RQ&utm_campaign=yelp_api_v3&utm_medium=api_v3_business_search&utm_source=mUhtpg0LANTRd76OAeN1RQ&start=40:\n",
      "Scraped data from page 1\n",
      "Scraped data from page 2\n",
      "Scraped data from page 3\n",
      "Scraped data from page 4\n",
      "Scraped data from page 5\n"
     ]
    },
    {
     "name": "stderr",
     "output_type": "stream",
     "text": [
      "Scraping Restaurants:  95%|█████████▌| 243/255 [2:05:42<06:03, 30.27s/it]"
     ]
    },
    {
     "name": "stdout",
     "output_type": "stream",
     "text": [
      "\n",
      "Results fetched for URL https://www.yelp.com/biz/river-city-brewing-wichita-4?adjust_creative=mUhtpg0LANTRd76OAeN1RQ&utm_campaign=yelp_api_v3&utm_medium=api_v3_business_search&utm_source=mUhtpg0LANTRd76OAeN1RQ&start=40:\n",
      "Scraped data from page 1\n",
      "Scraped data from page 2\n",
      "Scraped data from page 3\n",
      "Scraped data from page 4\n",
      "Scraped data from page 5\n"
     ]
    },
    {
     "name": "stderr",
     "output_type": "stream",
     "text": [
      "Scraping Restaurants:  96%|█████████▌| 244/255 [2:06:21<06:01, 32.87s/it]"
     ]
    },
    {
     "name": "stdout",
     "output_type": "stream",
     "text": [
      "\n",
      "Results fetched for URL https://www.yelp.com/biz/p-f-changs-wichita-3?adjust_creative=mUhtpg0LANTRd76OAeN1RQ&utm_campaign=yelp_api_v3&utm_medium=api_v3_business_search&utm_source=mUhtpg0LANTRd76OAeN1RQ&start=40:\n",
      "Scraped data from page 1\n",
      "Scraped data from page 2\n",
      "Scraped data from page 3\n",
      "Scraped data from page 4\n",
      "Scraped data from page 5\n"
     ]
    },
    {
     "name": "stderr",
     "output_type": "stream",
     "text": [
      "Scraping Restaurants:  96%|█████████▌| 245/255 [2:06:53<05:25, 32.59s/it]"
     ]
    },
    {
     "name": "stdout",
     "output_type": "stream",
     "text": [
      "\n",
      "Results fetched for URL https://www.yelp.com/biz/yokohama-ramen-joint-wichita?adjust_creative=mUhtpg0LANTRd76OAeN1RQ&utm_campaign=yelp_api_v3&utm_medium=api_v3_business_search&utm_source=mUhtpg0LANTRd76OAeN1RQ&start=40:\n",
      "Scraped data from page 1\n",
      "Scraped data from page 2\n",
      "Scraped data from page 3\n",
      "Scraped data from page 4\n",
      "Scraped data from page 5\n"
     ]
    },
    {
     "name": "stderr",
     "output_type": "stream",
     "text": [
      "Scraping Restaurants:  96%|█████████▋| 246/255 [2:07:26<04:54, 32.72s/it]"
     ]
    },
    {
     "name": "stdout",
     "output_type": "stream",
     "text": [
      "\n",
      "Results fetched for URL https://www.yelp.com/biz/nirvana-indian-cuisine-new-orleans?adjust_creative=mUhtpg0LANTRd76OAeN1RQ&utm_campaign=yelp_api_v3&utm_medium=api_v3_business_search&utm_source=mUhtpg0LANTRd76OAeN1RQ&start=40:\n",
      "Scraped data from page 1\n",
      "Scraped data from page 2\n",
      "Scraped data from page 3\n",
      "Scraped data from page 4\n",
      "Scraped data from page 5\n"
     ]
    },
    {
     "name": "stderr",
     "output_type": "stream",
     "text": [
      "Scraping Restaurants:  97%|█████████▋| 247/255 [2:07:55<04:12, 31.50s/it]"
     ]
    },
    {
     "name": "stdout",
     "output_type": "stream",
     "text": [
      "\n",
      "Results fetched for URL https://www.yelp.com/biz/domenica-new-orleans?adjust_creative=mUhtpg0LANTRd76OAeN1RQ&utm_campaign=yelp_api_v3&utm_medium=api_v3_business_search&utm_source=mUhtpg0LANTRd76OAeN1RQ&start=40:\n",
      "Scraped data from page 1\n",
      "Scraped data from page 2\n",
      "Scraped data from page 3\n",
      "Scraped data from page 4\n",
      "Scraped data from page 5\n"
     ]
    },
    {
     "name": "stderr",
     "output_type": "stream",
     "text": [
      "Scraping Restaurants:  97%|█████████▋| 248/255 [2:08:24<03:35, 30.76s/it]"
     ]
    },
    {
     "name": "stdout",
     "output_type": "stream",
     "text": [
      "\n",
      "Results fetched for URL https://www.yelp.com/biz/the-rum-house-new-orleans?adjust_creative=mUhtpg0LANTRd76OAeN1RQ&utm_campaign=yelp_api_v3&utm_medium=api_v3_business_search&utm_source=mUhtpg0LANTRd76OAeN1RQ&start=40:\n",
      "Scraped data from page 1\n",
      "Scraped data from page 2\n",
      "Scraped data from page 3\n",
      "Scraped data from page 4\n",
      "Scraped data from page 5\n"
     ]
    },
    {
     "name": "stderr",
     "output_type": "stream",
     "text": [
      "Scraping Restaurants:  98%|█████████▊| 249/255 [2:08:50<02:57, 29.52s/it]"
     ]
    },
    {
     "name": "stdout",
     "output_type": "stream",
     "text": [
      "\n",
      "Results fetched for URL https://www.yelp.com/biz/maypop-restaurant-new-orleans?adjust_creative=mUhtpg0LANTRd76OAeN1RQ&utm_campaign=yelp_api_v3&utm_medium=api_v3_business_search&utm_source=mUhtpg0LANTRd76OAeN1RQ&start=40:\n",
      "Scraped data from page 1\n",
      "Scraped data from page 2\n",
      "Scraped data from page 3\n",
      "Scraped data from page 4\n",
      "Scraped data from page 5\n"
     ]
    },
    {
     "name": "stderr",
     "output_type": "stream",
     "text": [
      "Scraping Restaurants:  98%|█████████▊| 250/255 [2:09:19<02:26, 29.23s/it]"
     ]
    },
    {
     "name": "stdout",
     "output_type": "stream",
     "text": [
      "\n",
      "Results fetched for URL https://www.yelp.com/biz/hoshun-restaurant-new-orleans?adjust_creative=mUhtpg0LANTRd76OAeN1RQ&utm_campaign=yelp_api_v3&utm_medium=api_v3_business_search&utm_source=mUhtpg0LANTRd76OAeN1RQ&start=40:\n",
      "Scraped data from page 1\n",
      "Scraped data from page 2\n",
      "Scraped data from page 3\n",
      "Scraped data from page 4\n",
      "Scraped data from page 5\n"
     ]
    },
    {
     "name": "stderr",
     "output_type": "stream",
     "text": [
      "Scraping Restaurants:  98%|█████████▊| 251/255 [2:09:47<01:55, 28.88s/it]"
     ]
    },
    {
     "name": "stdout",
     "output_type": "stream",
     "text": [
      "\n",
      "Results fetched for URL https://www.yelp.com/biz/india-grill-arlington-2?adjust_creative=mUhtpg0LANTRd76OAeN1RQ&utm_campaign=yelp_api_v3&utm_medium=api_v3_business_search&utm_source=mUhtpg0LANTRd76OAeN1RQ&start=40:\n",
      "Scraped data from page 1\n",
      "Scraped data from page 2\n",
      "Scraped data from page 3\n",
      "Scraped data from page 4\n",
      "Scraped data from page 5\n"
     ]
    },
    {
     "name": "stderr",
     "output_type": "stream",
     "text": [
      "Scraping Restaurants:  99%|█████████▉| 252/255 [2:10:21<01:31, 30.51s/it]"
     ]
    },
    {
     "name": "stdout",
     "output_type": "stream",
     "text": [
      "\n",
      "Results fetched for URL https://www.yelp.com/biz/italian-cafe-irving?adjust_creative=mUhtpg0LANTRd76OAeN1RQ&utm_campaign=yelp_api_v3&utm_medium=api_v3_business_search&utm_source=mUhtpg0LANTRd76OAeN1RQ&start=40:\n",
      "Scraped data from page 1\n",
      "Scraped data from page 2\n",
      "Scraped data from page 3\n",
      "Scraped data from page 4\n",
      "Scraped data from page 5\n"
     ]
    },
    {
     "name": "stderr",
     "output_type": "stream",
     "text": [
      "Scraping Restaurants:  99%|█████████▉| 253/255 [2:10:50<01:00, 30.01s/it]"
     ]
    },
    {
     "name": "stdout",
     "output_type": "stream",
     "text": [
      "\n",
      "Results fetched for URL https://www.yelp.com/biz/hugos-invitados-irving?adjust_creative=mUhtpg0LANTRd76OAeN1RQ&utm_campaign=yelp_api_v3&utm_medium=api_v3_business_search&utm_source=mUhtpg0LANTRd76OAeN1RQ&start=40:\n",
      "Scraped data from page 1\n",
      "Scraped data from page 2\n",
      "Scraped data from page 3\n",
      "Scraped data from page 4\n",
      "Scraped data from page 5\n"
     ]
    },
    {
     "name": "stderr",
     "output_type": "stream",
     "text": [
      "Scraping Restaurants: 100%|█████████▉| 254/255 [2:11:18<00:29, 29.26s/it]"
     ]
    },
    {
     "name": "stdout",
     "output_type": "stream",
     "text": [
      "\n",
      "Results fetched for URL https://www.yelp.com/biz/bethany-boba-tea-and-cafe-arlington?adjust_creative=mUhtpg0LANTRd76OAeN1RQ&utm_campaign=yelp_api_v3&utm_medium=api_v3_business_search&utm_source=mUhtpg0LANTRd76OAeN1RQ&start=40:\n",
      "Scraped data from page 1\n",
      "Scraped data from page 2\n",
      "Scraped data from page 3\n",
      "Scraped data from page 4\n",
      "Scraped data from page 5\n"
     ]
    },
    {
     "name": "stderr",
     "output_type": "stream",
     "text": [
      "Scraping Restaurants: 100%|██████████| 255/255 [2:11:49<00:00, 31.02s/it]"
     ]
    },
    {
     "name": "stdout",
     "output_type": "stream",
     "text": [
      "\n",
      "Results fetched for URL https://www.yelp.com/biz/mr-max-irving?adjust_creative=mUhtpg0LANTRd76OAeN1RQ&utm_campaign=yelp_api_v3&utm_medium=api_v3_business_search&utm_source=mUhtpg0LANTRd76OAeN1RQ&start=40:\n"
     ]
    },
    {
     "name": "stderr",
     "output_type": "stream",
     "text": [
      "\n"
     ]
    }
   ],
   "source": [
    "# Loop through each row in the DataFrame\n",
    "all_data = []\n",
    "for index, row in tqdm(links_and_ids.iterrows(), total=len(links_and_ids), desc=\"Scraping Restaurants\"):\n",
    "    url = row['url']\n",
    "    business_id = row['id']\n",
    "\n",
    "    # Initialize the driver\n",
    "    driver.set_page_load_timeout(20)\n",
    "    try:\n",
    "        driver.get(url)\n",
    "    except TimeoutException:\n",
    "        driver.execute_script(\"window.stop();\")\n",
    "\n",
    "\n",
    "    num_pages = 5\n",
    "\n",
    "    # Loop through each page for the current restaurant URL\n",
    "    for page_number in range(1, num_pages + 1):\n",
    "        scrape_result = scrape_page(url, business_id)\n",
    "        print(f\"Scraped data from page {page_number}\")\n",
    "        time.sleep(1)  # Simulate scraping time\n",
    "        all_data.extend(scrape_result)\n",
    "\n",
    "        # Navigate to the next page\n",
    "        navigate_to_next_page(driver)\n",
    "        url = driver.current_url\n",
    "\n",
    "    print(f\"\\nResults fetched for URL {url}:\")\n",
    "\n",
    "# Quit the driver after scraping all URLs\n",
    "driver.quit()"
   ]
  },
  {
   "cell_type": "code",
   "execution_count": 29,
   "metadata": {},
   "outputs": [],
   "source": [
    "driver.quit()"
   ]
  },
  {
   "cell_type": "markdown",
   "metadata": {},
   "source": [
    "Code for Mulithreading"
   ]
  },
  {
   "cell_type": "code",
   "execution_count": 1,
   "metadata": {},
   "outputs": [],
   "source": [
    "# # Function to scrape a single page\n",
    "# def scrape_single_page(url, driver):\n",
    "#     scrape_result = scrape_page(driver, url)\n",
    "#     time.sleep(1)  # Simulate scraping time\n",
    "#     return scrape_result\n",
    "\n",
    "# # Function to scrape all pages for a restaurant URL\n",
    "# def scrape_all_pages(url, num_pages):\n",
    "#     all_data_ = []\n",
    "#     # Install or update ChromeDriver\n",
    "#     ChromeDriverManager().install()\n",
    "#     # Now you can use the webdriver\n",
    "#     local_driver = webdriver.Chrome()\n",
    "#     # local_driver = webdriver.Chrome(executable_path='/path/to/chromedriver')  # Replace with your actual path\n",
    "\n",
    "#     local_driver.set_page_load_timeout(20)\n",
    "\n",
    "#     try:\n",
    "#         local_driver.get(url)\n",
    "#     except TimeoutException:\n",
    "#         local_driver.execute_script(\"window.stop();\")\n",
    "\n",
    "#     for page_number in range(1, num_pages + 1):\n",
    "#         scrape_result = scrape_single_page(url, local_driver)\n",
    "#         print(f\"Scraped data from page {page_number}\")\n",
    "#         all_data_.extend(scrape_result)\n",
    "\n",
    "#         # Navigate to the next page\n",
    "#         navigate_to_next_page(local_driver)\n",
    "#         url = local_driver.current_url\n",
    "\n",
    "#     print(f\"\\nResults fetched for URL {url}:\")\n",
    "\n",
    "#     # Quit the local driver before exiting the function\n",
    "#     local_driver.quit()\n",
    "\n",
    "#     return all_data_\n",
    "\n",
    "# # Loop through each restaurant URL concurrently\n",
    "# all_data__ = []\n",
    "# num_pages = 5\n",
    "\n",
    "# with concurrent.futures.ThreadPoolExecutor(max_workers=5) as executor:\n",
    "#     futures = [executor.submit(scrape_all_pages, url, num_pages) for url in restaurant_urls]\n",
    "\n",
    "#     # tqdm is used to display a progress bar\n",
    "#     for future in tqdm(concurrent.futures.as_completed(futures), total=len(restaurant_urls), desc=\"Scraping Restaurants\"):\n",
    "#         try:\n",
    "#             result = future.result()\n",
    "#             all_data__.extend(result)\n",
    "#         except Exception as e:\n",
    "#             print(f\"Error: {e}\")\n",
    "\n",
    "# # No need to quit the driver here since it's already done in each thread"
   ]
  },
  {
   "cell_type": "code",
   "execution_count": 14,
   "metadata": {},
   "outputs": [],
   "source": [
    "# import concurrent.futures\n",
    "# from tqdm import tqdm\n",
    "\n",
    "# # Function to scrape a single page\n",
    "# def scrape_single_page(url):\n",
    "#     scrape_result = scrape_page(url)\n",
    "#     time.sleep(1)  # Simulate scraping time\n",
    "#     return scrape_result\n",
    "\n",
    "# # Function to scrape all pages for a restaurant URL\n",
    "# def scrape_all_pages(url, num_pages):\n",
    "#     all_data_ = []\n",
    "#     driver.set_page_load_timeout(20)\n",
    "\n",
    "#     try:\n",
    "#         driver.get(url)\n",
    "#     except TimeoutException:\n",
    "#         driver.execute_script(\"window.stop();\")\n",
    "\n",
    "#     for page_number in range(1, num_pages + 1):\n",
    "#         scrape_result = scrape_single_page(url)\n",
    "#         print(f\"Scraped data from page {page_number}\")\n",
    "#         all_data_.extend(scrape_result)\n",
    "\n",
    "#         # Navigate to the next page\n",
    "#         navigate_to_next_page(driver)\n",
    "#         url = driver.current_url\n",
    "\n",
    "#     print(f\"\\nResults fetched for URL {url}:\")\n",
    "#     return all_data_\n",
    "\n",
    "# # Loop through each restaurant URL concurrently\n",
    "# all_data__ = []\n",
    "# num_pages = 5\n",
    "\n",
    "# with concurrent.futures.ThreadPoolExecutor(max_workers=5) as executor:\n",
    "#     futures = [executor.submit(scrape_all_pages, url, num_pages) for url in restaurant_urls]\n",
    "\n",
    "#     # tqdm is used to display a progress bar\n",
    "#     for future in tqdm(concurrent.futures.as_completed(futures), total=len(restaurant_urls), desc=\"Scraping Restaurants\"):\n",
    "#         try:\n",
    "#             result = future.result()\n",
    "#             all_data__.extend(result)\n",
    "#         except Exception as e:\n",
    "#             print(f\"Error: {e}\")\n",
    "\n",
    "# # Quit the driver after scraping all URLs\n",
    "# driver.quit()"
   ]
  },
  {
   "cell_type": "markdown",
   "metadata": {},
   "source": [
    "This is the data for reviews of restaurants without the business_ids appended for every review "
   ]
  },
  {
   "cell_type": "code",
   "execution_count": 14,
   "metadata": {},
   "outputs": [
    {
     "name": "stdout",
     "output_type": "stream",
     "text": [
      "Data has been successfully written to reviews_data.json\n"
     ]
    }
   ],
   "source": [
    "# Write the data to the JSON file\n",
    "\n",
    "json_file_path = 'reviews_data.json'\n",
    "\n",
    "with open(json_file_path, 'w', encoding='utf-8') as json_file:\n",
    "    json.dump(all_data, json_file, ensure_ascii=False, indent=2)\n",
    "\n",
    "print(f'Data has been successfully written to {json_file_path}')"
   ]
  },
  {
   "cell_type": "code",
   "execution_count": 15,
   "metadata": {},
   "outputs": [],
   "source": [
    "json_file_path = 'reviews_data.json'\n",
    "\n",
    "# Read data from the JSON file\n",
    "with open(json_file_path, 'r', encoding='utf-8') as json_file:\n",
    "    data = json.load(json_file)"
   ]
  },
  {
   "cell_type": "code",
   "execution_count": 16,
   "metadata": {},
   "outputs": [],
   "source": [
    "df = pd.DataFrame(data)"
   ]
  },
  {
   "cell_type": "code",
   "execution_count": 17,
   "metadata": {},
   "outputs": [
    {
     "data": {
      "text/html": [
       "<div>\n",
       "<style scoped>\n",
       "    .dataframe tbody tr th:only-of-type {\n",
       "        vertical-align: middle;\n",
       "    }\n",
       "\n",
       "    .dataframe tbody tr th {\n",
       "        vertical-align: top;\n",
       "    }\n",
       "\n",
       "    .dataframe thead th {\n",
       "        text-align: right;\n",
       "    }\n",
       "</style>\n",
       "<table border=\"1\" class=\"dataframe\">\n",
       "  <thead>\n",
       "    <tr style=\"text-align: right;\">\n",
       "      <th></th>\n",
       "      <th>Date</th>\n",
       "      <th>Review Text</th>\n",
       "      <th>Rating</th>\n",
       "    </tr>\n",
       "  </thead>\n",
       "  <tbody>\n",
       "    <tr>\n",
       "      <th>0</th>\n",
       "      <td>Mar 3, 2024</td>\n",
       "      <td>Taco Mahal was a very unique experience. I've ...</td>\n",
       "      <td>5 star rating</td>\n",
       "    </tr>\n",
       "    <tr>\n",
       "      <th>1</th>\n",
       "      <td>Feb 19, 2024</td>\n",
       "      <td>1/1 Ambience; 1.5/2 Food + Beverages; 1/1 Serv...</td>\n",
       "      <td>5 star rating</td>\n",
       "    </tr>\n",
       "    <tr>\n",
       "      <th>2</th>\n",
       "      <td>Feb 4, 2024</td>\n",
       "      <td>delicious indian food and fast!! we ordered:- ...</td>\n",
       "      <td>5 star rating</td>\n",
       "    </tr>\n",
       "    <tr>\n",
       "      <th>3</th>\n",
       "      <td>Jan 28, 2024</td>\n",
       "      <td>For those that know my reviews if there is any...</td>\n",
       "      <td>4 star rating</td>\n",
       "    </tr>\n",
       "    <tr>\n",
       "      <th>4</th>\n",
       "      <td>Mar 10, 2024</td>\n",
       "      <td>We stopped by for a \"life-changing taco\" as pa...</td>\n",
       "      <td>5 star rating</td>\n",
       "    </tr>\n",
       "    <tr>\n",
       "      <th>...</th>\n",
       "      <td>...</td>\n",
       "      <td>...</td>\n",
       "      <td>...</td>\n",
       "    </tr>\n",
       "    <tr>\n",
       "      <th>11965</th>\n",
       "      <td>Jun 14, 2023</td>\n",
       "      <td>Once you step into Mr Max, it feels as if you ...</td>\n",
       "      <td>5 star rating</td>\n",
       "    </tr>\n",
       "    <tr>\n",
       "      <th>11966</th>\n",
       "      <td>Jan 21, 2023</td>\n",
       "      <td>The restaurant setting is amazing. There is ei...</td>\n",
       "      <td>5 star rating</td>\n",
       "    </tr>\n",
       "    <tr>\n",
       "      <th>11967</th>\n",
       "      <td>Jan 26, 2024</td>\n",
       "      <td>Best restaurant in all of Dallas! I've been he...</td>\n",
       "      <td>5 star rating</td>\n",
       "    </tr>\n",
       "    <tr>\n",
       "      <th>11968</th>\n",
       "      <td>Dec 17, 2023</td>\n",
       "      <td>Limited seatings a total hole in a wall type o...</td>\n",
       "      <td>5 star rating</td>\n",
       "    </tr>\n",
       "    <tr>\n",
       "      <th>11969</th>\n",
       "      <td>Feb 29, 2024</td>\n",
       "      <td>love this place. the only thing that's annoyin...</td>\n",
       "      <td>5 star rating</td>\n",
       "    </tr>\n",
       "  </tbody>\n",
       "</table>\n",
       "<p>11970 rows × 3 columns</p>\n",
       "</div>"
      ],
      "text/plain": [
       "               Date                                        Review Text  \\\n",
       "0       Mar 3, 2024  Taco Mahal was a very unique experience. I've ...   \n",
       "1      Feb 19, 2024  1/1 Ambience; 1.5/2 Food + Beverages; 1/1 Serv...   \n",
       "2       Feb 4, 2024  delicious indian food and fast!! we ordered:- ...   \n",
       "3      Jan 28, 2024  For those that know my reviews if there is any...   \n",
       "4      Mar 10, 2024  We stopped by for a \"life-changing taco\" as pa...   \n",
       "...             ...                                                ...   \n",
       "11965  Jun 14, 2023  Once you step into Mr Max, it feels as if you ...   \n",
       "11966  Jan 21, 2023  The restaurant setting is amazing. There is ei...   \n",
       "11967  Jan 26, 2024  Best restaurant in all of Dallas! I've been he...   \n",
       "11968  Dec 17, 2023  Limited seatings a total hole in a wall type o...   \n",
       "11969  Feb 29, 2024  love this place. the only thing that's annoyin...   \n",
       "\n",
       "              Rating  \n",
       "0      5 star rating  \n",
       "1      5 star rating  \n",
       "2      5 star rating  \n",
       "3      4 star rating  \n",
       "4      5 star rating  \n",
       "...              ...  \n",
       "11965  5 star rating  \n",
       "11966  5 star rating  \n",
       "11967  5 star rating  \n",
       "11968  5 star rating  \n",
       "11969  5 star rating  \n",
       "\n",
       "[11970 rows x 3 columns]"
      ]
     },
     "execution_count": 17,
     "metadata": {},
     "output_type": "execute_result"
    }
   ],
   "source": [
    "df"
   ]
  },
  {
   "cell_type": "markdown",
   "metadata": {},
   "source": [
    "This is the data for reviews of restaurants with the business_ids appended for every review "
   ]
  },
  {
   "cell_type": "code",
   "execution_count": 32,
   "metadata": {},
   "outputs": [
    {
     "name": "stdout",
     "output_type": "stream",
     "text": [
      "Data has been successfully written to final_reviews_data.json\n"
     ]
    }
   ],
   "source": [
    "\n",
    "json_file_path = 'final_reviews_data.json'\n",
    "\n",
    "# Write the data to the JSON file\n",
    "with open(json_file_path, 'w', encoding='utf-8') as json_file:\n",
    "    json.dump(all_data, json_file, ensure_ascii=False, indent=2)\n",
    "\n",
    "print(f'Data has been successfully written to {json_file_path}')"
   ]
  },
  {
   "cell_type": "code",
   "execution_count": 33,
   "metadata": {},
   "outputs": [],
   "source": [
    "json_file_path = 'final_reviews_data.json'\n",
    "\n",
    "# Read data from the JSON file\n",
    "with open(json_file_path, 'r', encoding='utf-8') as json_file:\n",
    "    data = json.load(json_file)"
   ]
  },
  {
   "cell_type": "code",
   "execution_count": 34,
   "metadata": {},
   "outputs": [],
   "source": [
    "df = pd.DataFrame(data)"
   ]
  },
  {
   "cell_type": "code",
   "execution_count": 35,
   "metadata": {},
   "outputs": [
    {
     "data": {
      "text/html": [
       "<div>\n",
       "<style scoped>\n",
       "    .dataframe tbody tr th:only-of-type {\n",
       "        vertical-align: middle;\n",
       "    }\n",
       "\n",
       "    .dataframe tbody tr th {\n",
       "        vertical-align: top;\n",
       "    }\n",
       "\n",
       "    .dataframe thead th {\n",
       "        text-align: right;\n",
       "    }\n",
       "</style>\n",
       "<table border=\"1\" class=\"dataframe\">\n",
       "  <thead>\n",
       "    <tr style=\"text-align: right;\">\n",
       "      <th></th>\n",
       "      <th>Date</th>\n",
       "      <th>Review Text</th>\n",
       "      <th>Rating</th>\n",
       "      <th>Business ID</th>\n",
       "    </tr>\n",
       "  </thead>\n",
       "  <tbody>\n",
       "    <tr>\n",
       "      <th>0</th>\n",
       "      <td>Mar 3, 2024</td>\n",
       "      <td>Taco Mahal was a very unique experience. I've ...</td>\n",
       "      <td>5 star rating</td>\n",
       "      <td>SP4bvMvxel_UPdof_er3HA</td>\n",
       "    </tr>\n",
       "    <tr>\n",
       "      <th>1</th>\n",
       "      <td>Feb 19, 2024</td>\n",
       "      <td>1/1 Ambience; 1.5/2 Food + Beverages; 1/1 Serv...</td>\n",
       "      <td>5 star rating</td>\n",
       "      <td>SP4bvMvxel_UPdof_er3HA</td>\n",
       "    </tr>\n",
       "    <tr>\n",
       "      <th>2</th>\n",
       "      <td>Feb 4, 2024</td>\n",
       "      <td>delicious indian food and fast!! we ordered:- ...</td>\n",
       "      <td>5 star rating</td>\n",
       "      <td>SP4bvMvxel_UPdof_er3HA</td>\n",
       "    </tr>\n",
       "    <tr>\n",
       "      <th>3</th>\n",
       "      <td>Mar 10, 2024</td>\n",
       "      <td>We stopped by for a \"life-changing taco\" as pa...</td>\n",
       "      <td>5 star rating</td>\n",
       "      <td>SP4bvMvxel_UPdof_er3HA</td>\n",
       "    </tr>\n",
       "    <tr>\n",
       "      <th>4</th>\n",
       "      <td>Jan 28, 2024</td>\n",
       "      <td>For those that know my reviews if there is any...</td>\n",
       "      <td>4 star rating</td>\n",
       "      <td>SP4bvMvxel_UPdof_er3HA</td>\n",
       "    </tr>\n",
       "    <tr>\n",
       "      <th>...</th>\n",
       "      <td>...</td>\n",
       "      <td>...</td>\n",
       "      <td>...</td>\n",
       "      <td>...</td>\n",
       "    </tr>\n",
       "    <tr>\n",
       "      <th>11945</th>\n",
       "      <td>Jun 14, 2023</td>\n",
       "      <td>Once you step into Mr Max, it feels as if you ...</td>\n",
       "      <td>5 star rating</td>\n",
       "      <td>P0VziPp_DuKBol_YNKLqSw</td>\n",
       "    </tr>\n",
       "    <tr>\n",
       "      <th>11946</th>\n",
       "      <td>Jan 21, 2023</td>\n",
       "      <td>The restaurant setting is amazing. There is ei...</td>\n",
       "      <td>5 star rating</td>\n",
       "      <td>P0VziPp_DuKBol_YNKLqSw</td>\n",
       "    </tr>\n",
       "    <tr>\n",
       "      <th>11947</th>\n",
       "      <td>Jan 26, 2024</td>\n",
       "      <td>Best restaurant in all of Dallas! I've been he...</td>\n",
       "      <td>5 star rating</td>\n",
       "      <td>P0VziPp_DuKBol_YNKLqSw</td>\n",
       "    </tr>\n",
       "    <tr>\n",
       "      <th>11948</th>\n",
       "      <td>Dec 17, 2023</td>\n",
       "      <td>Limited seatings a total hole in a wall type o...</td>\n",
       "      <td>5 star rating</td>\n",
       "      <td>P0VziPp_DuKBol_YNKLqSw</td>\n",
       "    </tr>\n",
       "    <tr>\n",
       "      <th>11949</th>\n",
       "      <td>Feb 29, 2024</td>\n",
       "      <td>love this place. the only thing that's annoyin...</td>\n",
       "      <td>5 star rating</td>\n",
       "      <td>P0VziPp_DuKBol_YNKLqSw</td>\n",
       "    </tr>\n",
       "  </tbody>\n",
       "</table>\n",
       "<p>11950 rows × 4 columns</p>\n",
       "</div>"
      ],
      "text/plain": [
       "               Date                                        Review Text  \\\n",
       "0       Mar 3, 2024  Taco Mahal was a very unique experience. I've ...   \n",
       "1      Feb 19, 2024  1/1 Ambience; 1.5/2 Food + Beverages; 1/1 Serv...   \n",
       "2       Feb 4, 2024  delicious indian food and fast!! we ordered:- ...   \n",
       "3      Mar 10, 2024  We stopped by for a \"life-changing taco\" as pa...   \n",
       "4      Jan 28, 2024  For those that know my reviews if there is any...   \n",
       "...             ...                                                ...   \n",
       "11945  Jun 14, 2023  Once you step into Mr Max, it feels as if you ...   \n",
       "11946  Jan 21, 2023  The restaurant setting is amazing. There is ei...   \n",
       "11947  Jan 26, 2024  Best restaurant in all of Dallas! I've been he...   \n",
       "11948  Dec 17, 2023  Limited seatings a total hole in a wall type o...   \n",
       "11949  Feb 29, 2024  love this place. the only thing that's annoyin...   \n",
       "\n",
       "              Rating             Business ID  \n",
       "0      5 star rating  SP4bvMvxel_UPdof_er3HA  \n",
       "1      5 star rating  SP4bvMvxel_UPdof_er3HA  \n",
       "2      5 star rating  SP4bvMvxel_UPdof_er3HA  \n",
       "3      5 star rating  SP4bvMvxel_UPdof_er3HA  \n",
       "4      4 star rating  SP4bvMvxel_UPdof_er3HA  \n",
       "...              ...                     ...  \n",
       "11945  5 star rating  P0VziPp_DuKBol_YNKLqSw  \n",
       "11946  5 star rating  P0VziPp_DuKBol_YNKLqSw  \n",
       "11947  5 star rating  P0VziPp_DuKBol_YNKLqSw  \n",
       "11948  5 star rating  P0VziPp_DuKBol_YNKLqSw  \n",
       "11949  5 star rating  P0VziPp_DuKBol_YNKLqSw  \n",
       "\n",
       "[11950 rows x 4 columns]"
      ]
     },
     "execution_count": 35,
     "metadata": {},
     "output_type": "execute_result"
    }
   ],
   "source": [
    "df"
   ]
  }
 ],
 "metadata": {
  "kernelspec": {
   "display_name": "Python 3",
   "language": "python",
   "name": "python3"
  },
  "language_info": {
   "codemirror_mode": {
    "name": "ipython",
    "version": 3
   },
   "file_extension": ".py",
   "mimetype": "text/x-python",
   "name": "python",
   "nbconvert_exporter": "python",
   "pygments_lexer": "ipython3",
   "version": "3.9.6"
  }
 },
 "nbformat": 4,
 "nbformat_minor": 2
}
