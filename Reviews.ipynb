{
 "cells": [
  {
   "cell_type": "code",
   "execution_count": 1,
   "metadata": {},
   "outputs": [
    {
     "name": "stderr",
     "output_type": "stream",
     "text": [
      "/Users/apoorvashete/Library/Python/3.9/lib/python/site-packages/urllib3/__init__.py:34: NotOpenSSLWarning: urllib3 v2 only supports OpenSSL 1.1.1+, currently the 'ssl' module is compiled with 'LibreSSL 2.8.3'. See: https://github.com/urllib3/urllib3/issues/3020\n",
      "  warnings.warn(\n",
      "/var/folders/pb/hj9rp74j56v0kk3cp85ryzkr0000gn/T/ipykernel_27091/222825045.py:2: DeprecationWarning: \n",
      "Pyarrow will become a required dependency of pandas in the next major release of pandas (pandas 3.0),\n",
      "(to allow more performant data types, such as the Arrow string type, and better interoperability with other libraries)\n",
      "but was not found to be installed on your system.\n",
      "If this would cause problems for you,\n",
      "please provide us feedback at https://github.com/pandas-dev/pandas/issues/54466\n",
      "        \n",
      "  import pandas as pd\n"
     ]
    }
   ],
   "source": [
    "import requests\n",
    "import pandas as pd"
   ]
  },
  {
   "cell_type": "code",
   "execution_count": 36,
   "metadata": {},
   "outputs": [],
   "source": [
    "\n",
    "def fetch_reviews_and_create_df(business_id_or_alias, api_key):\n",
    "    url = f\"https://api.yelp.com/v3/businesses/{business_id_or_alias}/reviews\"\n",
    "    headers = {\"Authorization\": f\"Bearer {api_key}\"}\n",
    "    params = {\"sort_by\": \"newest_first\"}\n",
    "\n",
    "    try:\n",
    "        response = requests.get(url, headers=headers, params=params)\n",
    "        response.raise_for_status()  \n",
    "\n",
    "        reviews = response.json()['reviews']\n",
    "        reviews_df = pd.DataFrame([{\n",
    "            'business_id': business_id_or_alias,  \n",
    "            'user_id': review['user']['id'],\n",
    "            'name': review['user']['name'],\n",
    "            'timestamp': review['time_created'],\n",
    "            'rating': review['rating'],\n",
    "            'text': review['text']\n",
    "        } for review in reviews])\n",
    "\n",
    "        return reviews_df\n",
    "\n",
    "    except requests.RequestException as e:\n",
    "        print(f\"Request error for {business_id_or_alias}: {e}\")\n",
    "        return pd.DataFrame(columns=['business_id', 'user_id', 'name', 'timestamp', 'rating', 'text']) \n",
    "    \n",
    "    except Exception as e:\n",
    "        print(f\"General error for {business_id_or_alias}: {e}\")\n",
    "        return pd.DataFrame(columns=['business_id', 'user_id', 'name', 'timestamp', 'rating', 'text'])  \n",
    "\n",
    "\n",
    "\n"
   ]
  },
  {
   "cell_type": "code",
   "execution_count": 9,
   "metadata": {},
   "outputs": [],
   "source": [
    "# def fetch_all_reviews(business_id_or_alias, api_key):\n",
    "#     url = f\"https://api.yelp.com/v3/businesses/{business_id_or_alias}/reviews\"\n",
    "#     headers = {\"Authorization\": f\"Bearer {api_key}\"}\n",
    "#     params = {\"sort_by\": \"newest\", \"limit\": 20}  # Adjust the limit as needed\n",
    "\n",
    "#     all_reviews = []\n",
    "\n",
    "#     try:\n",
    "#         while True:\n",
    "#             response = requests.get(url, headers=headers, params=params)\n",
    "#             response.raise_for_status()\n",
    "\n",
    "#             reviews = response.json().get('reviews', [])\n",
    "#             if not reviews:\n",
    "#                 break  # No more reviews\n",
    "\n",
    "#             all_reviews.extend(reviews)\n",
    "\n",
    "#             # Check if there are more reviews to fetch\n",
    "#             if 'next' in response.links:\n",
    "#                 url = response.links['next']['url']\n",
    "#             else:\n",
    "#                 break\n",
    "\n",
    "#         reviews_df = pd.DataFrame([{\n",
    "#             'business_id': business_id_or_alias,  \n",
    "#             'user_id': review['user']['id'],\n",
    "#             'name': review['user']['name'],\n",
    "#             'timestamp': review['time_created'],\n",
    "#             'rating': review['rating'],\n",
    "#             'text': review['text']\n",
    "#         } for review in all_reviews])\n",
    "\n",
    "#         return reviews_df\n",
    "\n",
    "#     except requests.RequestException as e:\n",
    "#         print(f\"Request error for {business_id_or_alias}: {e}\")\n",
    "#         return pd.DataFrame(columns=['business_id', 'user_id', 'name', 'timestamp', 'rating', 'text'])\n",
    "\n",
    "#     except Exception as e:\n",
    "#         print(f\"General error for {business_id_or_alias}: {e}\")\n",
    "#         return pd.DataFrame(columns=['business_id', 'user_id', 'name', 'timestamp', 'rating', 'text'])\n"
   ]
  },
  {
   "cell_type": "code",
   "execution_count": 8,
   "metadata": {},
   "outputs": [
    {
     "data": {
      "text/html": [
       "<div>\n",
       "<style scoped>\n",
       "    .dataframe tbody tr th:only-of-type {\n",
       "        vertical-align: middle;\n",
       "    }\n",
       "\n",
       "    .dataframe tbody tr th {\n",
       "        vertical-align: top;\n",
       "    }\n",
       "\n",
       "    .dataframe thead th {\n",
       "        text-align: right;\n",
       "    }\n",
       "</style>\n",
       "<table border=\"1\" class=\"dataframe\">\n",
       "  <thead>\n",
       "    <tr style=\"text-align: right;\">\n",
       "      <th></th>\n",
       "      <th>business_id</th>\n",
       "      <th>user_id</th>\n",
       "      <th>name</th>\n",
       "      <th>timestamp</th>\n",
       "      <th>rating</th>\n",
       "      <th>text</th>\n",
       "    </tr>\n",
       "  </thead>\n",
       "  <tbody>\n",
       "    <tr>\n",
       "      <th>0</th>\n",
       "      <td>P0VziPp_DuKBol_YNKLqSw</td>\n",
       "      <td>pVQ5hn7U4U2zmyHJY__cPQ</td>\n",
       "      <td>Eric A.</td>\n",
       "      <td>2024-01-29 15:45:42</td>\n",
       "      <td>5</td>\n",
       "      <td>Excellent food atmosphere and experience would...</td>\n",
       "    </tr>\n",
       "    <tr>\n",
       "      <th>1</th>\n",
       "      <td>P0VziPp_DuKBol_YNKLqSw</td>\n",
       "      <td>VVVAobfACVVyYHfdImnBSQ</td>\n",
       "      <td>Nuzhat B.</td>\n",
       "      <td>2024-01-25 09:42:39</td>\n",
       "      <td>5</td>\n",
       "      <td>Tiny restaurant in a mixed neighborhood of Irv...</td>\n",
       "    </tr>\n",
       "    <tr>\n",
       "      <th>2</th>\n",
       "      <td>P0VziPp_DuKBol_YNKLqSw</td>\n",
       "      <td>hT5o8CE_zgR5nFu3mY8iMw</td>\n",
       "      <td>Hikari N.</td>\n",
       "      <td>2024-01-16 21:56:53</td>\n",
       "      <td>5</td>\n",
       "      <td>This place transports me right back to Japan!\\...</td>\n",
       "    </tr>\n",
       "  </tbody>\n",
       "</table>\n",
       "</div>"
      ],
      "text/plain": [
       "              business_id                 user_id       name  \\\n",
       "0  P0VziPp_DuKBol_YNKLqSw  pVQ5hn7U4U2zmyHJY__cPQ    Eric A.   \n",
       "1  P0VziPp_DuKBol_YNKLqSw  VVVAobfACVVyYHfdImnBSQ  Nuzhat B.   \n",
       "2  P0VziPp_DuKBol_YNKLqSw  hT5o8CE_zgR5nFu3mY8iMw  Hikari N.   \n",
       "\n",
       "             timestamp  rating  \\\n",
       "0  2024-01-29 15:45:42       5   \n",
       "1  2024-01-25 09:42:39       5   \n",
       "2  2024-01-16 21:56:53       5   \n",
       "\n",
       "                                                text  \n",
       "0  Excellent food atmosphere and experience would...  \n",
       "1  Tiny restaurant in a mixed neighborhood of Irv...  \n",
       "2  This place transports me right back to Japan!\\...  "
      ]
     },
     "execution_count": 8,
     "metadata": {},
     "output_type": "execute_result"
    }
   ],
   "source": [
    "\n",
    "API_KEY = \"yZYWXZg3aPLaumNf6XA7HxgxUpEAhHxUQA46Y2sWRuWrF413ZwMDUQal4M1ICY92_kREdURbth-wgP10_isL72XguvHfwlMejJxID6pw8e8IWsQcYBEVQ-3ALjfuZXYx\"\n",
    "business_id_or_alias = \"P0VziPp_DuKBol_YNKLqSw\"\n",
    "\n",
    "# Fetch reviews and print the DataFrame\n",
    "reviews_df = fetch_reviews_and_create_df(business_id_or_alias, API_KEY)\n",
    "reviews_df"
   ]
  },
  {
   "cell_type": "code",
   "execution_count": 40,
   "metadata": {},
   "outputs": [],
   "source": [
    "file_path = '/Users/sofiya/STA220FinalProject-Yelp/restaurants_data/popular_restaurants.csv'\n",
    "\n",
    "df = pd.read_csv(file_path)\n",
    "\n",
    "all_reviews_df = pd.DataFrame()\n",
    "for restaurant_id in df['id']:\n",
    "    reviews_df = fetch_reviews_and_create_df(restaurant_id, API_KEY)  # Use the global API_KEY\n",
    "    if not reviews_df.empty:\n",
    "        all_reviews_df = pd.concat([all_reviews_df, reviews_df], ignore_index=True)"
   ]
  },
  {
   "cell_type": "code",
   "execution_count": 41,
   "metadata": {},
   "outputs": [],
   "source": [
    "output_file_path = '/Users/sofiya/STA220FinalProject-Yelp/restaurants_data/Reviews_Popular_restaurants.csv'\n",
    "all_reviews_df.to_csv(output_file_path, index=False)"
   ]
  },
  {
   "cell_type": "code",
   "execution_count": null,
   "metadata": {},
   "outputs": [],
   "source": []
  },
  {
   "cell_type": "code",
   "execution_count": null,
   "metadata": {},
   "outputs": [],
   "source": []
  }
 ],
 "metadata": {
  "interpreter": {
   "hash": "4a45ddd67a4022a6a39e6d574a1c5b44cf6bce136c95b1cc384f7c253fb7f29a"
  },
  "kernelspec": {
   "display_name": "Python 3.9.7 64-bit ('base': conda)",
   "language": "python",
   "name": "python3"
  },
  "language_info": {
   "codemirror_mode": {
    "name": "ipython",
    "version": 3
   },
   "file_extension": ".py",
   "mimetype": "text/x-python",
   "name": "python",
   "nbconvert_exporter": "python",
   "pygments_lexer": "ipython3",
   "version": "3.9.6"
  },
  "orig_nbformat": 4
 },
 "nbformat": 4,
 "nbformat_minor": 2
}
