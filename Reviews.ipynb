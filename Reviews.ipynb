{
 "cells": [
  {
   "cell_type": "code",
   "execution_count": 10,
   "metadata": {},
   "outputs": [],
   "source": [
    "import requests\n",
    "import pandas as pd\n",
    "\n",
    "def fetch_reviews_and_create_df(business_id_or_alias, api_key):\n",
    "    url = f\"https://api.yelp.com/v3/businesses/{business_id_or_alias}/reviews\"\n",
    "    headers = {\"Authorization\": f\"Bearer {api_key}\"}\n",
    "    params = {\"sort_by\": \"newest_first\"}  \n",
    "\n",
    "    response = requests.get(url, headers=headers, params=params)\n",
    "    \n",
    "    if response.status_code == 200:\n",
    "\n",
    "        reviews_data = response.json()['reviews']\n",
    "        \n",
    "        reviews_df = pd.DataFrame([{\n",
    "            'user_id': review['user']['id'],\n",
    "            'name': review['user']['name'],\n",
    "            'timestamp': review['time_created'],\n",
    "            'rating': review['rating'],\n",
    "            'text': review['text']\n",
    "        } for review in reviews_data])\n",
    "        \n",
    "        return reviews_df\n",
    "    else:\n",
    "\n",
    "        error_message = response.json().get('error', {}).get('description', 'Unknown Error')\n",
    "        return f\"Error fetching reviews: {error_message}\"\n",
    "\n"
   ]
  },
  {
   "cell_type": "code",
   "execution_count": 12,
   "metadata": {},
   "outputs": [
    {
     "data": {
      "text/html": [
       "<div>\n",
       "<style scoped>\n",
       "    .dataframe tbody tr th:only-of-type {\n",
       "        vertical-align: middle;\n",
       "    }\n",
       "\n",
       "    .dataframe tbody tr th {\n",
       "        vertical-align: top;\n",
       "    }\n",
       "\n",
       "    .dataframe thead th {\n",
       "        text-align: right;\n",
       "    }\n",
       "</style>\n",
       "<table border=\"1\" class=\"dataframe\">\n",
       "  <thead>\n",
       "    <tr style=\"text-align: right;\">\n",
       "      <th></th>\n",
       "      <th>user_id</th>\n",
       "      <th>name</th>\n",
       "      <th>timestamp</th>\n",
       "      <th>rating</th>\n",
       "      <th>text</th>\n",
       "    </tr>\n",
       "  </thead>\n",
       "  <tbody>\n",
       "    <tr>\n",
       "      <th>0</th>\n",
       "      <td>gL0s_G5tTG3hIG0BUG9vMw</td>\n",
       "      <td>Kendall C.</td>\n",
       "      <td>2024-02-21 17:42:21</td>\n",
       "      <td>5</td>\n",
       "      <td>Food was very good and a great price! Has a li...</td>\n",
       "    </tr>\n",
       "    <tr>\n",
       "      <th>1</th>\n",
       "      <td>MJ8Z1BU4DllgBGC0jGLspw</td>\n",
       "      <td>Dipesh P.</td>\n",
       "      <td>2024-02-09 20:54:06</td>\n",
       "      <td>5</td>\n",
       "      <td>Stopped by after a show at hyenas at around 9:...</td>\n",
       "    </tr>\n",
       "    <tr>\n",
       "      <th>2</th>\n",
       "      <td>-_ofrlMYjyKjUcWeLf-6mA</td>\n",
       "      <td>TheTraveling F.</td>\n",
       "      <td>2024-02-09 12:24:26</td>\n",
       "      <td>2</td>\n",
       "      <td>Don't be fooled by influencer's social media r...</td>\n",
       "    </tr>\n",
       "  </tbody>\n",
       "</table>\n",
       "</div>"
      ],
      "text/plain": [
       "                  user_id             name            timestamp  rating  \\\n",
       "0  gL0s_G5tTG3hIG0BUG9vMw       Kendall C.  2024-02-21 17:42:21       5   \n",
       "1  MJ8Z1BU4DllgBGC0jGLspw        Dipesh P.  2024-02-09 20:54:06       5   \n",
       "2  -_ofrlMYjyKjUcWeLf-6mA  TheTraveling F.  2024-02-09 12:24:26       2   \n",
       "\n",
       "                                                text  \n",
       "0  Food was very good and a great price! Has a li...  \n",
       "1  Stopped by after a show at hyenas at around 9:...  \n",
       "2  Don't be fooled by influencer's social media r...  "
      ]
     },
     "execution_count": 12,
     "metadata": {},
     "output_type": "execute_result"
    }
   ],
   "source": [
    "\n",
    "api_key = \"PTpO-BcpF4fwHmlN7Is8kh5EeT45zP_SNoLghn4LGMVDVYpQ2TcCJIYcQm41aBsLgxqWgkyHRkqGwelnm7eyjP91JyDA0twwzSJIBWvTCE1ba0gjJVXMPmvoLOXsZXYx\"\n",
    "business_id_or_alias = \"WjXn4gGCyH_gJIdyf7E9WA\"\n",
    "\n",
    "# Fetch reviews and print the DataFrame\n",
    "reviews_df = fetch_reviews_and_create_df(business_id_or_alias, api_key)\n",
    "reviews_df"
   ]
  }
 ],
 "metadata": {
  "interpreter": {
   "hash": "4a45ddd67a4022a6a39e6d574a1c5b44cf6bce136c95b1cc384f7c253fb7f29a"
  },
  "kernelspec": {
   "display_name": "Python 3.9.7 64-bit ('base': conda)",
   "language": "python",
   "name": "python3"
  },
  "language_info": {
   "codemirror_mode": {
    "name": "ipython",
    "version": 3
   },
   "file_extension": ".py",
   "mimetype": "text/x-python",
   "name": "python",
   "nbconvert_exporter": "python",
   "pygments_lexer": "ipython3",
   "version": "3.9.7"
  },
  "orig_nbformat": 4
 },
 "nbformat": 4,
 "nbformat_minor": 2
}
