{
 "cells": [
  {
   "cell_type": "code",
   "execution_count": 36,
   "metadata": {},
   "outputs": [],
   "source": [
    "import requests\n",
    "import pandas as pd\n",
    "\n",
    "def fetch_reviews_and_create_df(business_id_or_alias, api_key):\n",
    "    url = f\"https://api.yelp.com/v3/businesses/{business_id_or_alias}/reviews\"\n",
    "    headers = {\"Authorization\": f\"Bearer {api_key}\"}\n",
    "    params = {\"sort_by\": \"newest_first\"}\n",
    "\n",
    "    try:\n",
    "        response = requests.get(url, headers=headers, params=params)\n",
    "        response.raise_for_status()  \n",
    "\n",
    "        reviews = response.json()['reviews']\n",
    "        reviews_df = pd.DataFrame([{\n",
    "            'business_id': business_id_or_alias,  \n",
    "            'user_id': review['user']['id'],\n",
    "            'name': review['user']['name'],\n",
    "            'timestamp': review['time_created'],\n",
    "            'rating': review['rating'],\n",
    "            'text': review['text']\n",
    "        } for review in reviews])\n",
    "\n",
    "        return reviews_df\n",
    "\n",
    "    except requests.RequestException as e:\n",
    "        print(f\"Request error for {business_id_or_alias}: {e}\")\n",
    "        return pd.DataFrame(columns=['business_id', 'user_id', 'name', 'timestamp', 'rating', 'text']) \n",
    "    \n",
    "    except Exception as e:\n",
    "        print(f\"General error for {business_id_or_alias}: {e}\")\n",
    "        return pd.DataFrame(columns=['business_id', 'user_id', 'name', 'timestamp', 'rating', 'text'])  \n",
    "\n",
    "\n",
    "\n"
   ]
  },
  {
   "cell_type": "code",
   "execution_count": 39,
   "metadata": {},
   "outputs": [
    {
     "data": {
      "text/html": [
       "<div>\n",
       "<style scoped>\n",
       "    .dataframe tbody tr th:only-of-type {\n",
       "        vertical-align: middle;\n",
       "    }\n",
       "\n",
       "    .dataframe tbody tr th {\n",
       "        vertical-align: top;\n",
       "    }\n",
       "\n",
       "    .dataframe thead th {\n",
       "        text-align: right;\n",
       "    }\n",
       "</style>\n",
       "<table border=\"1\" class=\"dataframe\">\n",
       "  <thead>\n",
       "    <tr style=\"text-align: right;\">\n",
       "      <th></th>\n",
       "      <th>business_id</th>\n",
       "      <th>user_id</th>\n",
       "      <th>name</th>\n",
       "      <th>timestamp</th>\n",
       "      <th>rating</th>\n",
       "      <th>text</th>\n",
       "    </tr>\n",
       "  </thead>\n",
       "  <tbody>\n",
       "    <tr>\n",
       "      <th>0</th>\n",
       "      <td>WjXn4gGCyH_gJIdyf7E9WA</td>\n",
       "      <td>gL0s_G5tTG3hIG0BUG9vMw</td>\n",
       "      <td>Kendall C.</td>\n",
       "      <td>2024-02-21 17:42:21</td>\n",
       "      <td>5</td>\n",
       "      <td>Food was very good and a great price! Has a li...</td>\n",
       "    </tr>\n",
       "    <tr>\n",
       "      <th>1</th>\n",
       "      <td>WjXn4gGCyH_gJIdyf7E9WA</td>\n",
       "      <td>MJ8Z1BU4DllgBGC0jGLspw</td>\n",
       "      <td>Dipesh P.</td>\n",
       "      <td>2024-02-09 20:54:06</td>\n",
       "      <td>5</td>\n",
       "      <td>Stopped by after a show at hyenas at around 9:...</td>\n",
       "    </tr>\n",
       "    <tr>\n",
       "      <th>2</th>\n",
       "      <td>WjXn4gGCyH_gJIdyf7E9WA</td>\n",
       "      <td>-_ofrlMYjyKjUcWeLf-6mA</td>\n",
       "      <td>TheTraveling F.</td>\n",
       "      <td>2024-02-09 12:24:26</td>\n",
       "      <td>2</td>\n",
       "      <td>Don't be fooled by influencer's social media r...</td>\n",
       "    </tr>\n",
       "  </tbody>\n",
       "</table>\n",
       "</div>"
      ],
      "text/plain": [
       "              business_id                 user_id             name  \\\n",
       "0  WjXn4gGCyH_gJIdyf7E9WA  gL0s_G5tTG3hIG0BUG9vMw       Kendall C.   \n",
       "1  WjXn4gGCyH_gJIdyf7E9WA  MJ8Z1BU4DllgBGC0jGLspw        Dipesh P.   \n",
       "2  WjXn4gGCyH_gJIdyf7E9WA  -_ofrlMYjyKjUcWeLf-6mA  TheTraveling F.   \n",
       "\n",
       "             timestamp  rating  \\\n",
       "0  2024-02-21 17:42:21       5   \n",
       "1  2024-02-09 20:54:06       5   \n",
       "2  2024-02-09 12:24:26       2   \n",
       "\n",
       "                                                text  \n",
       "0  Food was very good and a great price! Has a li...  \n",
       "1  Stopped by after a show at hyenas at around 9:...  \n",
       "2  Don't be fooled by influencer's social media r...  "
      ]
     },
     "execution_count": 39,
     "metadata": {},
     "output_type": "execute_result"
    }
   ],
   "source": [
    "\n",
    "API_KEY = \"yZYWXZg3aPLaumNf6XA7HxgxUpEAhHxUQA46Y2sWRuWrF413ZwMDUQal4M1ICY92_kREdURbth-wgP10_isL72XguvHfwlMejJxID6pw8e8IWsQcYBEVQ-3ALjfuZXYx\"\n",
    "business_id_or_alias = \"WjXn4gGCyH_gJIdyf7E9WA\"\n",
    "\n",
    "# Fetch reviews and print the DataFrame\n",
    "reviews_df = fetch_reviews_and_create_df(business_id_or_alias, API_KEY)\n",
    "reviews_df"
   ]
  },
  {
   "cell_type": "code",
   "execution_count": 40,
   "metadata": {},
   "outputs": [],
   "source": [
    "file_path = '/Users/sofiya/STA220FinalProject-Yelp/restaurants_data/popular_restaurants.csv'\n",
    "\n",
    "df = pd.read_csv(file_path)\n",
    "\n",
    "all_reviews_df = pd.DataFrame()\n",
    "for restaurant_id in df['id']:\n",
    "    reviews_df = fetch_reviews_and_create_df(restaurant_id, API_KEY)  # Use the global API_KEY\n",
    "    if not reviews_df.empty:\n",
    "        all_reviews_df = pd.concat([all_reviews_df, reviews_df], ignore_index=True)"
   ]
  },
  {
   "cell_type": "code",
   "execution_count": 41,
   "metadata": {},
   "outputs": [],
   "source": [
    "output_file_path = '/Users/sofiya/STA220FinalProject-Yelp/restaurants_data/Reviews_Popular_restaurants.csv'\n",
    "all_reviews_df.to_csv(output_file_path, index=False)"
   ]
  }
 ],
 "metadata": {
  "interpreter": {
   "hash": "4a45ddd67a4022a6a39e6d574a1c5b44cf6bce136c95b1cc384f7c253fb7f29a"
  },
  "kernelspec": {
   "display_name": "Python 3.9.7 64-bit ('base': conda)",
   "language": "python",
   "name": "python3"
  },
  "language_info": {
   "codemirror_mode": {
    "name": "ipython",
    "version": 3
   },
   "file_extension": ".py",
   "mimetype": "text/x-python",
   "name": "python",
   "nbconvert_exporter": "python",
   "pygments_lexer": "ipython3",
   "version": "3.9.7"
  },
  "orig_nbformat": 4
 },
 "nbformat": 4,
 "nbformat_minor": 2
}
